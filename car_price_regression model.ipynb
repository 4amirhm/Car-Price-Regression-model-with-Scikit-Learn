{
 "cells": [
  {
   "cell_type": "markdown",
   "metadata": {},
   "source": [
    "***\n",
    "-------\n",
    "# <span style='color:Purple'> Car Price Regression model with Scikit-Learn </span>\n",
    "\n",
    "***\n",
    "-------\n"
   ]
  },
  {
   "cell_type": "markdown",
   "metadata": {},
   "source": [
    "## 1.Dataset"
   ]
  },
  {
   "cell_type": "code",
   "execution_count": 77,
   "metadata": {},
   "outputs": [],
   "source": [
    "#importing libraris\n",
    "import pandas as pd\n",
    "import numpy as np\n",
    "import matplotlib.pyplot as plt\n",
    "import seaborn as sns\n",
    "import plotly.express as px\n",
    "from sklearn.model_selection import train_test_split\n",
    "from sklearn.linear_model import LinearRegression\n",
    "from sklearn import metrics\n",
    "from sklearn.model_selection import KFold\n",
    "from sklearn.model_selection import cross_val_score\n",
    "from sklearn import preprocessing\n",
    "from sklearn.preprocessing import MinMaxScaler\n",
    "import warnings \n",
    "warnings.filterwarnings('ignore')"
   ]
  },
  {
   "cell_type": "code",
   "execution_count": 2,
   "metadata": {},
   "outputs": [],
   "source": [
    "plt.style.use('seaborn')"
   ]
  },
  {
   "cell_type": "code",
   "execution_count": 3,
   "metadata": {},
   "outputs": [
    {
     "data": {
      "text/html": [
       "<div>\n",
       "<style scoped>\n",
       "    .dataframe tbody tr th:only-of-type {\n",
       "        vertical-align: middle;\n",
       "    }\n",
       "\n",
       "    .dataframe tbody tr th {\n",
       "        vertical-align: top;\n",
       "    }\n",
       "\n",
       "    .dataframe thead th {\n",
       "        text-align: right;\n",
       "    }\n",
       "</style>\n",
       "<table border=\"1\" class=\"dataframe\">\n",
       "  <thead>\n",
       "    <tr style=\"text-align: right;\">\n",
       "      <th></th>\n",
       "      <th>Car_Name</th>\n",
       "      <th>Year</th>\n",
       "      <th>Selling_Price</th>\n",
       "      <th>Present_Price</th>\n",
       "      <th>Kms_Driven</th>\n",
       "      <th>Fuel_Type</th>\n",
       "      <th>Seller_Type</th>\n",
       "      <th>Transmission</th>\n",
       "      <th>Owner</th>\n",
       "    </tr>\n",
       "  </thead>\n",
       "  <tbody>\n",
       "    <tr>\n",
       "      <th>0</th>\n",
       "      <td>ritz</td>\n",
       "      <td>2014</td>\n",
       "      <td>3.35</td>\n",
       "      <td>5.59</td>\n",
       "      <td>27000</td>\n",
       "      <td>Petrol</td>\n",
       "      <td>Dealer</td>\n",
       "      <td>Manual</td>\n",
       "      <td>0</td>\n",
       "    </tr>\n",
       "    <tr>\n",
       "      <th>1</th>\n",
       "      <td>sx4</td>\n",
       "      <td>2013</td>\n",
       "      <td>4.75</td>\n",
       "      <td>9.54</td>\n",
       "      <td>43000</td>\n",
       "      <td>Diesel</td>\n",
       "      <td>Dealer</td>\n",
       "      <td>Manual</td>\n",
       "      <td>0</td>\n",
       "    </tr>\n",
       "    <tr>\n",
       "      <th>2</th>\n",
       "      <td>ciaz</td>\n",
       "      <td>2017</td>\n",
       "      <td>7.25</td>\n",
       "      <td>9.85</td>\n",
       "      <td>6900</td>\n",
       "      <td>Petrol</td>\n",
       "      <td>Dealer</td>\n",
       "      <td>Manual</td>\n",
       "      <td>0</td>\n",
       "    </tr>\n",
       "    <tr>\n",
       "      <th>3</th>\n",
       "      <td>wagon r</td>\n",
       "      <td>2011</td>\n",
       "      <td>2.85</td>\n",
       "      <td>4.15</td>\n",
       "      <td>5200</td>\n",
       "      <td>Petrol</td>\n",
       "      <td>Dealer</td>\n",
       "      <td>Manual</td>\n",
       "      <td>0</td>\n",
       "    </tr>\n",
       "    <tr>\n",
       "      <th>4</th>\n",
       "      <td>swift</td>\n",
       "      <td>2014</td>\n",
       "      <td>4.60</td>\n",
       "      <td>6.87</td>\n",
       "      <td>42450</td>\n",
       "      <td>Diesel</td>\n",
       "      <td>Dealer</td>\n",
       "      <td>Manual</td>\n",
       "      <td>0</td>\n",
       "    </tr>\n",
       "    <tr>\n",
       "      <th>...</th>\n",
       "      <td>...</td>\n",
       "      <td>...</td>\n",
       "      <td>...</td>\n",
       "      <td>...</td>\n",
       "      <td>...</td>\n",
       "      <td>...</td>\n",
       "      <td>...</td>\n",
       "      <td>...</td>\n",
       "      <td>...</td>\n",
       "    </tr>\n",
       "    <tr>\n",
       "      <th>296</th>\n",
       "      <td>city</td>\n",
       "      <td>2016</td>\n",
       "      <td>9.50</td>\n",
       "      <td>11.60</td>\n",
       "      <td>33988</td>\n",
       "      <td>Diesel</td>\n",
       "      <td>Dealer</td>\n",
       "      <td>Manual</td>\n",
       "      <td>0</td>\n",
       "    </tr>\n",
       "    <tr>\n",
       "      <th>297</th>\n",
       "      <td>brio</td>\n",
       "      <td>2015</td>\n",
       "      <td>4.00</td>\n",
       "      <td>5.90</td>\n",
       "      <td>60000</td>\n",
       "      <td>Petrol</td>\n",
       "      <td>Dealer</td>\n",
       "      <td>Manual</td>\n",
       "      <td>0</td>\n",
       "    </tr>\n",
       "    <tr>\n",
       "      <th>298</th>\n",
       "      <td>city</td>\n",
       "      <td>2009</td>\n",
       "      <td>3.35</td>\n",
       "      <td>11.00</td>\n",
       "      <td>87934</td>\n",
       "      <td>Petrol</td>\n",
       "      <td>Dealer</td>\n",
       "      <td>Manual</td>\n",
       "      <td>0</td>\n",
       "    </tr>\n",
       "    <tr>\n",
       "      <th>299</th>\n",
       "      <td>city</td>\n",
       "      <td>2017</td>\n",
       "      <td>11.50</td>\n",
       "      <td>12.50</td>\n",
       "      <td>9000</td>\n",
       "      <td>Diesel</td>\n",
       "      <td>Dealer</td>\n",
       "      <td>Manual</td>\n",
       "      <td>0</td>\n",
       "    </tr>\n",
       "    <tr>\n",
       "      <th>300</th>\n",
       "      <td>brio</td>\n",
       "      <td>2016</td>\n",
       "      <td>5.30</td>\n",
       "      <td>5.90</td>\n",
       "      <td>5464</td>\n",
       "      <td>Petrol</td>\n",
       "      <td>Dealer</td>\n",
       "      <td>Manual</td>\n",
       "      <td>0</td>\n",
       "    </tr>\n",
       "  </tbody>\n",
       "</table>\n",
       "<p>301 rows × 9 columns</p>\n",
       "</div>"
      ],
      "text/plain": [
       "    Car_Name  Year  Selling_Price  Present_Price  Kms_Driven Fuel_Type  \\\n",
       "0       ritz  2014           3.35           5.59       27000    Petrol   \n",
       "1        sx4  2013           4.75           9.54       43000    Diesel   \n",
       "2       ciaz  2017           7.25           9.85        6900    Petrol   \n",
       "3    wagon r  2011           2.85           4.15        5200    Petrol   \n",
       "4      swift  2014           4.60           6.87       42450    Diesel   \n",
       "..       ...   ...            ...            ...         ...       ...   \n",
       "296     city  2016           9.50          11.60       33988    Diesel   \n",
       "297     brio  2015           4.00           5.90       60000    Petrol   \n",
       "298     city  2009           3.35          11.00       87934    Petrol   \n",
       "299     city  2017          11.50          12.50        9000    Diesel   \n",
       "300     brio  2016           5.30           5.90        5464    Petrol   \n",
       "\n",
       "    Seller_Type Transmission  Owner  \n",
       "0        Dealer       Manual      0  \n",
       "1        Dealer       Manual      0  \n",
       "2        Dealer       Manual      0  \n",
       "3        Dealer       Manual      0  \n",
       "4        Dealer       Manual      0  \n",
       "..          ...          ...    ...  \n",
       "296      Dealer       Manual      0  \n",
       "297      Dealer       Manual      0  \n",
       "298      Dealer       Manual      0  \n",
       "299      Dealer       Manual      0  \n",
       "300      Dealer       Manual      0  \n",
       "\n",
       "[301 rows x 9 columns]"
      ]
     },
     "execution_count": 3,
     "metadata": {},
     "output_type": "execute_result"
    }
   ],
   "source": [
    "#importing dataset\n",
    "Data = pd.read_csv(\"cardata.csv\")\n",
    "#converting data to a pandas dataframe\n",
    "df = pd.DataFrame(Data)\n",
    "#calling dataframe(df)\n",
    "df"
   ]
  },
  {
   "cell_type": "markdown",
   "metadata": {},
   "source": [
    "In this project we have a 301 * 9 dataset. this dataset is about cars and we are going to clean, analyze and try to make a model for it.\n",
    "_____\n",
    "Columns:\n",
    "1. Car_Name: Name of the car\n",
    "2. Year: year of the car when it was bought\n",
    "3. Selling Price: Price at which the car is being sold (target)\n",
    "4. Kms Driven:Number of kilometers the car is driven\n",
    "5. Fuel Type: Fuel of the car\n",
    "6. Seller Type: Seller Type\n",
    "7. Transmission: Gear transmission of the car\n",
    "8. Owner: Number of previous owners of the \n",
    "9. Present Price: Car price at the moment"
   ]
  },
  {
   "cell_type": "code",
   "execution_count": 4,
   "metadata": {},
   "outputs": [
    {
     "data": {
      "text/html": [
       "<div>\n",
       "<style scoped>\n",
       "    .dataframe tbody tr th:only-of-type {\n",
       "        vertical-align: middle;\n",
       "    }\n",
       "\n",
       "    .dataframe tbody tr th {\n",
       "        vertical-align: top;\n",
       "    }\n",
       "\n",
       "    .dataframe thead th {\n",
       "        text-align: right;\n",
       "    }\n",
       "</style>\n",
       "<table border=\"1\" class=\"dataframe\">\n",
       "  <thead>\n",
       "    <tr style=\"text-align: right;\">\n",
       "      <th></th>\n",
       "      <th>Car_Name</th>\n",
       "      <th>Year</th>\n",
       "      <th>Selling_Price</th>\n",
       "      <th>Present_Price</th>\n",
       "      <th>Kms_Driven</th>\n",
       "      <th>Fuel_Type</th>\n",
       "      <th>Seller_Type</th>\n",
       "      <th>Transmission</th>\n",
       "      <th>Owner</th>\n",
       "    </tr>\n",
       "  </thead>\n",
       "  <tbody>\n",
       "    <tr>\n",
       "      <th>count</th>\n",
       "      <td>301</td>\n",
       "      <td>301.000000</td>\n",
       "      <td>301.000000</td>\n",
       "      <td>301.000000</td>\n",
       "      <td>301.000000</td>\n",
       "      <td>301</td>\n",
       "      <td>301</td>\n",
       "      <td>301</td>\n",
       "      <td>301.000000</td>\n",
       "    </tr>\n",
       "    <tr>\n",
       "      <th>unique</th>\n",
       "      <td>98</td>\n",
       "      <td>NaN</td>\n",
       "      <td>NaN</td>\n",
       "      <td>NaN</td>\n",
       "      <td>NaN</td>\n",
       "      <td>3</td>\n",
       "      <td>2</td>\n",
       "      <td>2</td>\n",
       "      <td>NaN</td>\n",
       "    </tr>\n",
       "    <tr>\n",
       "      <th>top</th>\n",
       "      <td>city</td>\n",
       "      <td>NaN</td>\n",
       "      <td>NaN</td>\n",
       "      <td>NaN</td>\n",
       "      <td>NaN</td>\n",
       "      <td>Petrol</td>\n",
       "      <td>Dealer</td>\n",
       "      <td>Manual</td>\n",
       "      <td>NaN</td>\n",
       "    </tr>\n",
       "    <tr>\n",
       "      <th>freq</th>\n",
       "      <td>26</td>\n",
       "      <td>NaN</td>\n",
       "      <td>NaN</td>\n",
       "      <td>NaN</td>\n",
       "      <td>NaN</td>\n",
       "      <td>239</td>\n",
       "      <td>195</td>\n",
       "      <td>261</td>\n",
       "      <td>NaN</td>\n",
       "    </tr>\n",
       "    <tr>\n",
       "      <th>mean</th>\n",
       "      <td>NaN</td>\n",
       "      <td>2013.627907</td>\n",
       "      <td>4.661296</td>\n",
       "      <td>7.628472</td>\n",
       "      <td>36947.205980</td>\n",
       "      <td>NaN</td>\n",
       "      <td>NaN</td>\n",
       "      <td>NaN</td>\n",
       "      <td>0.043189</td>\n",
       "    </tr>\n",
       "    <tr>\n",
       "      <th>std</th>\n",
       "      <td>NaN</td>\n",
       "      <td>2.891554</td>\n",
       "      <td>5.082812</td>\n",
       "      <td>8.644115</td>\n",
       "      <td>38886.883882</td>\n",
       "      <td>NaN</td>\n",
       "      <td>NaN</td>\n",
       "      <td>NaN</td>\n",
       "      <td>0.247915</td>\n",
       "    </tr>\n",
       "    <tr>\n",
       "      <th>min</th>\n",
       "      <td>NaN</td>\n",
       "      <td>2003.000000</td>\n",
       "      <td>0.100000</td>\n",
       "      <td>0.320000</td>\n",
       "      <td>500.000000</td>\n",
       "      <td>NaN</td>\n",
       "      <td>NaN</td>\n",
       "      <td>NaN</td>\n",
       "      <td>0.000000</td>\n",
       "    </tr>\n",
       "    <tr>\n",
       "      <th>25%</th>\n",
       "      <td>NaN</td>\n",
       "      <td>2012.000000</td>\n",
       "      <td>0.900000</td>\n",
       "      <td>1.200000</td>\n",
       "      <td>15000.000000</td>\n",
       "      <td>NaN</td>\n",
       "      <td>NaN</td>\n",
       "      <td>NaN</td>\n",
       "      <td>0.000000</td>\n",
       "    </tr>\n",
       "    <tr>\n",
       "      <th>50%</th>\n",
       "      <td>NaN</td>\n",
       "      <td>2014.000000</td>\n",
       "      <td>3.600000</td>\n",
       "      <td>6.400000</td>\n",
       "      <td>32000.000000</td>\n",
       "      <td>NaN</td>\n",
       "      <td>NaN</td>\n",
       "      <td>NaN</td>\n",
       "      <td>0.000000</td>\n",
       "    </tr>\n",
       "    <tr>\n",
       "      <th>75%</th>\n",
       "      <td>NaN</td>\n",
       "      <td>2016.000000</td>\n",
       "      <td>6.000000</td>\n",
       "      <td>9.900000</td>\n",
       "      <td>48767.000000</td>\n",
       "      <td>NaN</td>\n",
       "      <td>NaN</td>\n",
       "      <td>NaN</td>\n",
       "      <td>0.000000</td>\n",
       "    </tr>\n",
       "    <tr>\n",
       "      <th>max</th>\n",
       "      <td>NaN</td>\n",
       "      <td>2018.000000</td>\n",
       "      <td>35.000000</td>\n",
       "      <td>92.600000</td>\n",
       "      <td>500000.000000</td>\n",
       "      <td>NaN</td>\n",
       "      <td>NaN</td>\n",
       "      <td>NaN</td>\n",
       "      <td>3.000000</td>\n",
       "    </tr>\n",
       "  </tbody>\n",
       "</table>\n",
       "</div>"
      ],
      "text/plain": [
       "       Car_Name         Year  Selling_Price  Present_Price     Kms_Driven  \\\n",
       "count       301   301.000000     301.000000     301.000000     301.000000   \n",
       "unique       98          NaN            NaN            NaN            NaN   \n",
       "top        city          NaN            NaN            NaN            NaN   \n",
       "freq         26          NaN            NaN            NaN            NaN   \n",
       "mean        NaN  2013.627907       4.661296       7.628472   36947.205980   \n",
       "std         NaN     2.891554       5.082812       8.644115   38886.883882   \n",
       "min         NaN  2003.000000       0.100000       0.320000     500.000000   \n",
       "25%         NaN  2012.000000       0.900000       1.200000   15000.000000   \n",
       "50%         NaN  2014.000000       3.600000       6.400000   32000.000000   \n",
       "75%         NaN  2016.000000       6.000000       9.900000   48767.000000   \n",
       "max         NaN  2018.000000      35.000000      92.600000  500000.000000   \n",
       "\n",
       "       Fuel_Type Seller_Type Transmission       Owner  \n",
       "count        301         301          301  301.000000  \n",
       "unique         3           2            2         NaN  \n",
       "top       Petrol      Dealer       Manual         NaN  \n",
       "freq         239         195          261         NaN  \n",
       "mean         NaN         NaN          NaN    0.043189  \n",
       "std          NaN         NaN          NaN    0.247915  \n",
       "min          NaN         NaN          NaN    0.000000  \n",
       "25%          NaN         NaN          NaN    0.000000  \n",
       "50%          NaN         NaN          NaN    0.000000  \n",
       "75%          NaN         NaN          NaN    0.000000  \n",
       "max          NaN         NaN          NaN    3.000000  "
      ]
     },
     "execution_count": 4,
     "metadata": {},
     "output_type": "execute_result"
    }
   ],
   "source": [
    "#describing data for more details\n",
    "df.describe(include='all')"
   ]
  },
  {
   "cell_type": "markdown",
   "metadata": {},
   "source": [
    "It seems that we don't have mising values and all values are positive "
   ]
  },
  {
   "cell_type": "code",
   "execution_count": 5,
   "metadata": {},
   "outputs": [
    {
     "data": {
      "text/plain": [
       "Car_Name         0\n",
       "Year             0\n",
       "Selling_Price    0\n",
       "Present_Price    0\n",
       "Kms_Driven       0\n",
       "Fuel_Type        0\n",
       "Seller_Type      0\n",
       "Transmission     0\n",
       "Owner            0\n",
       "dtype: int64"
      ]
     },
     "execution_count": 5,
     "metadata": {},
     "output_type": "execute_result"
    }
   ],
   "source": [
    "# getting the number of missing values\n",
    "df.isnull().sum()"
   ]
  },
  {
   "cell_type": "code",
   "execution_count": 6,
   "metadata": {},
   "outputs": [
    {
     "name": "stdout",
     "output_type": "stream",
     "text": [
      "<class 'pandas.core.frame.DataFrame'>\n",
      "RangeIndex: 301 entries, 0 to 300\n",
      "Data columns (total 9 columns):\n",
      " #   Column         Non-Null Count  Dtype  \n",
      "---  ------         --------------  -----  \n",
      " 0   Car_Name       301 non-null    object \n",
      " 1   Year           301 non-null    int64  \n",
      " 2   Selling_Price  301 non-null    float64\n",
      " 3   Present_Price  301 non-null    float64\n",
      " 4   Kms_Driven     301 non-null    int64  \n",
      " 5   Fuel_Type      301 non-null    object \n",
      " 6   Seller_Type    301 non-null    object \n",
      " 7   Transmission   301 non-null    object \n",
      " 8   Owner          301 non-null    int64  \n",
      "dtypes: float64(2), int64(3), object(4)\n",
      "memory usage: 21.3+ KB\n"
     ]
    }
   ],
   "source": [
    "# knowing the type of the columns\n",
    "df.info()"
   ]
  },
  {
   "cell_type": "code",
   "execution_count": 7,
   "metadata": {},
   "outputs": [
    {
     "data": {
      "text/plain": [
       "Index(['Car_Name', 'Year', 'Selling_Price', 'Present_Price', 'Kms_Driven',\n",
       "       'Fuel_Type', 'Seller_Type', 'Transmission', 'Owner'],\n",
       "      dtype='object')"
      ]
     },
     "execution_count": 7,
     "metadata": {},
     "output_type": "execute_result"
    }
   ],
   "source": [
    "df.columns"
   ]
  },
  {
   "cell_type": "code",
   "execution_count": 8,
   "metadata": {},
   "outputs": [],
   "source": [
    "df.drop(columns='Car_Name',axis='1',inplace=True)"
   ]
  },
  {
   "cell_type": "markdown",
   "metadata": {},
   "source": [
    "## 2.Values and Columns"
   ]
  },
  {
   "cell_type": "code",
   "execution_count": 9,
   "metadata": {},
   "outputs": [
    {
     "name": "stdout",
     "output_type": "stream",
     "text": [
      "Number of unique values for column: Year are (16) and values are [2014 2013 2017 2011 2018 2015 2016 2009 2010 2012 2003 2008 2006 2005\n",
      " 2004 2007],\n",
      "\n",
      "Number of unique values for column: Selling_Price are (156) and values are [ 3.35  4.75  7.25  2.85  4.6   9.25  6.75  6.5   8.75  7.45  6.85  7.5\n",
      "  6.1   2.25  7.75  3.25  2.65  4.9   4.4   2.5   2.9   3.    4.15  6.\n",
      "  1.95  3.1   2.35  4.95  5.5   2.95  4.65  0.35  5.85  2.55  1.25  1.05\n",
      "  5.8  14.9  23.   18.   16.    2.75  3.6   4.5   4.1  19.99  6.95 18.75\n",
      " 23.5  33.   19.75  4.35 14.25  3.95  1.5   5.25 14.5  14.73 12.5   3.49\n",
      " 35.    5.9   3.45  3.8  11.25  3.51  4.   20.75 17.    7.05  9.65  1.75\n",
      "  1.7   1.65  1.45  1.35  1.2   1.15  1.11  1.1   1.    0.95  0.9   0.75\n",
      "  0.8   0.78  0.72  0.65  0.6   0.55  0.52  0.51  0.5   0.48  0.45  0.42\n",
      "  0.4   0.38  0.31  0.3   0.27  0.25  0.2   0.18  0.17  0.16  0.15  0.12\n",
      "  0.1   5.75  5.15  7.9   4.85 11.75  3.15  6.45  3.5   8.25  5.11  2.7\n",
      "  6.15 11.45  3.9   9.1   4.8   2.    5.35  6.25  5.95  5.2   3.75 12.9\n",
      "  5.    5.4   7.2  10.25  8.5   8.4   9.15  6.6   3.65  8.35  6.7   5.3\n",
      " 10.9   8.65  9.7   2.1   8.99  7.4   5.65 10.11  6.4   8.55  9.5  11.5 ],\n",
      "\n",
      "Number of unique values for column: Present_Price are (147) and values are [ 5.59   9.54   9.85   4.15   6.87   9.83   8.12   8.61   8.89   8.92\n",
      "  3.6   10.38   9.94   7.71   7.21  10.79   5.09   7.98   3.95   5.71\n",
      "  8.01   3.46   4.41   4.99   5.87   6.49   5.98   4.89   7.49   9.95\n",
      "  8.06   7.74   7.2    2.28   3.76   7.87   3.98   7.15   2.69  12.04\n",
      "  9.29  30.61  19.77  10.21  15.04   7.27  18.54   6.8   35.96  18.61\n",
      "  7.7   36.23   6.95  23.15  20.45  13.74  20.91   6.76  12.48   8.93\n",
      " 14.68  12.35  22.83  14.89   7.85  25.39  13.46  23.73  92.6    6.05\n",
      " 16.09  13.7   22.78  18.64   1.9    1.82   1.78   1.6    1.47   2.37\n",
      "  3.45   1.5    2.4    1.4    1.26   1.17   1.75   0.95   0.8    0.87\n",
      "  0.84   0.82   0.81   0.74   1.2    0.787  0.99   0.94   0.826  0.55\n",
      "  0.88   0.51   0.52   0.54   0.73   0.83   0.64   0.72   1.05   0.57\n",
      "  0.48   0.58   0.47   0.75   0.65   0.32   6.79   5.7    4.6    4.43\n",
      "  7.13   8.1   14.79  13.6    9.4    7.6    9.9    6.82   5.35   7.\n",
      "  5.97   5.8    8.7   10.     7.5    8.4    5.9   14.    11.8    8.5\n",
      "  7.9    6.4    6.1   13.09  11.6   11.    12.5  ],\n",
      "\n",
      "Number of unique values for column: Kms_Driven are (206) and values are [ 27000  43000   6900   5200  42450   2071  18796  33429  20273  42367\n",
      "   2135  51000  15000  26000  77427  41678  35500  41442  25000   2400\n",
      "  50000  45280  56879  20000  55138  16200  44542  45000  51439  54200\n",
      "  39000  49998  48767 127000  10079  62000  24524  46706  58000  45780\n",
      "  64532  65000  25870  37000 104707  40000 135000  90000  70000  40534\n",
      "  39485  41000  40001  40588  78000  47000   6000  11000  59000  88000\n",
      "  12000  71000  56001  83000  36000  72000 135154  80000  89000  23000\n",
      "  38000 197176 142000  56000  58242  75000  29000   8700  50024   3000\n",
      "   1400   4000   1200   4100  21700  16500  18000   7000  35000  17000\n",
      "  17500  33000  14000   5400   5700  46500  11500   1300   5000   3500\n",
      "    500  11800  23500  16000  16600  32000  19000  24000  31000  13000\n",
      "   8000   4300   8600  14500   1000  42000   5500   6700  13700  38600\n",
      "  30000 213000  60000  21000   1900  22000  55000  49000 500000  53000\n",
      "  92233  28200  53460  28282   3493  12479  34797   3435  21125  35775\n",
      "  43535  22671  31604  20114  36100  12500  45078  38488  77632  61381\n",
      "  36198  22517  24678  57000  52132  15001  12900   4492  15141  11849\n",
      "  68000  60241  23709  32322  35866  34000  35934  56701  31427  48000\n",
      "  54242  53675  49562  40324  36054  29223   5600  40023  16002  40026\n",
      "  21200  19434  18828  69341  69562  27600  61203  30753  24800  21780\n",
      "  40126  14465  50456  63000   9010   9800  15059  28569  44000  10980\n",
      "  33019  60076  33988  87934   9000   5464],\n",
      "\n",
      "Number of unique values for column: Fuel_Type are (3) and values are ['Petrol' 'Diesel' 'CNG'],\n",
      "\n",
      "Number of unique values for column: Seller_Type are (2) and values are ['Dealer' 'Individual'],\n",
      "\n",
      "Number of unique values for column: Transmission are (2) and values are ['Manual' 'Automatic'],\n",
      "\n",
      "Number of unique values for column: Owner are (3) and values are [0 1 3],\n",
      "\n"
     ]
    }
   ],
   "source": [
    "Column_list = ('Year', 'Selling_Price', 'Present_Price', 'Kms_Driven',\n",
    "       'Fuel_Type', 'Seller_Type', 'Transmission', 'Owner')\n",
    "for i in Column_list:\n",
    "    print(f'Number of unique values for column: {i} are ({df[i].nunique()}) and values are {df[i].unique()},\\n')"
   ]
  },
  {
   "cell_type": "markdown",
   "metadata": {},
   "source": [
    "Instead of Year that car has been made, we want to use age of car"
   ]
  },
  {
   "cell_type": "code",
   "execution_count": 10,
   "metadata": {},
   "outputs": [
    {
     "data": {
      "text/plain": [
       "2018"
      ]
     },
     "execution_count": 10,
     "metadata": {},
     "output_type": "execute_result"
    }
   ],
   "source": [
    "df['Year'].max()"
   ]
  },
  {
   "cell_type": "code",
   "execution_count": 11,
   "metadata": {},
   "outputs": [],
   "source": [
    "dfage = 2019 - df.Year # finding the age of the car\n",
    "df.insert(0,'Age',dfage) # inserting values to dataframe"
   ]
  },
  {
   "cell_type": "code",
   "execution_count": 12,
   "metadata": {},
   "outputs": [
    {
     "data": {
      "text/html": [
       "<div>\n",
       "<style scoped>\n",
       "    .dataframe tbody tr th:only-of-type {\n",
       "        vertical-align: middle;\n",
       "    }\n",
       "\n",
       "    .dataframe tbody tr th {\n",
       "        vertical-align: top;\n",
       "    }\n",
       "\n",
       "    .dataframe thead th {\n",
       "        text-align: right;\n",
       "    }\n",
       "</style>\n",
       "<table border=\"1\" class=\"dataframe\">\n",
       "  <thead>\n",
       "    <tr style=\"text-align: right;\">\n",
       "      <th></th>\n",
       "      <th>Age</th>\n",
       "      <th>Selling_Price</th>\n",
       "      <th>Present_Price</th>\n",
       "      <th>Kms_Driven</th>\n",
       "      <th>Fuel_Type</th>\n",
       "      <th>Seller_Type</th>\n",
       "      <th>Transmission</th>\n",
       "      <th>Owner</th>\n",
       "    </tr>\n",
       "  </thead>\n",
       "  <tbody>\n",
       "    <tr>\n",
       "      <th>0</th>\n",
       "      <td>5</td>\n",
       "      <td>3.35</td>\n",
       "      <td>5.59</td>\n",
       "      <td>27000</td>\n",
       "      <td>Petrol</td>\n",
       "      <td>Dealer</td>\n",
       "      <td>Manual</td>\n",
       "      <td>0</td>\n",
       "    </tr>\n",
       "    <tr>\n",
       "      <th>1</th>\n",
       "      <td>6</td>\n",
       "      <td>4.75</td>\n",
       "      <td>9.54</td>\n",
       "      <td>43000</td>\n",
       "      <td>Diesel</td>\n",
       "      <td>Dealer</td>\n",
       "      <td>Manual</td>\n",
       "      <td>0</td>\n",
       "    </tr>\n",
       "    <tr>\n",
       "      <th>2</th>\n",
       "      <td>2</td>\n",
       "      <td>7.25</td>\n",
       "      <td>9.85</td>\n",
       "      <td>6900</td>\n",
       "      <td>Petrol</td>\n",
       "      <td>Dealer</td>\n",
       "      <td>Manual</td>\n",
       "      <td>0</td>\n",
       "    </tr>\n",
       "    <tr>\n",
       "      <th>3</th>\n",
       "      <td>8</td>\n",
       "      <td>2.85</td>\n",
       "      <td>4.15</td>\n",
       "      <td>5200</td>\n",
       "      <td>Petrol</td>\n",
       "      <td>Dealer</td>\n",
       "      <td>Manual</td>\n",
       "      <td>0</td>\n",
       "    </tr>\n",
       "    <tr>\n",
       "      <th>4</th>\n",
       "      <td>5</td>\n",
       "      <td>4.60</td>\n",
       "      <td>6.87</td>\n",
       "      <td>42450</td>\n",
       "      <td>Diesel</td>\n",
       "      <td>Dealer</td>\n",
       "      <td>Manual</td>\n",
       "      <td>0</td>\n",
       "    </tr>\n",
       "    <tr>\n",
       "      <th>...</th>\n",
       "      <td>...</td>\n",
       "      <td>...</td>\n",
       "      <td>...</td>\n",
       "      <td>...</td>\n",
       "      <td>...</td>\n",
       "      <td>...</td>\n",
       "      <td>...</td>\n",
       "      <td>...</td>\n",
       "    </tr>\n",
       "    <tr>\n",
       "      <th>296</th>\n",
       "      <td>3</td>\n",
       "      <td>9.50</td>\n",
       "      <td>11.60</td>\n",
       "      <td>33988</td>\n",
       "      <td>Diesel</td>\n",
       "      <td>Dealer</td>\n",
       "      <td>Manual</td>\n",
       "      <td>0</td>\n",
       "    </tr>\n",
       "    <tr>\n",
       "      <th>297</th>\n",
       "      <td>4</td>\n",
       "      <td>4.00</td>\n",
       "      <td>5.90</td>\n",
       "      <td>60000</td>\n",
       "      <td>Petrol</td>\n",
       "      <td>Dealer</td>\n",
       "      <td>Manual</td>\n",
       "      <td>0</td>\n",
       "    </tr>\n",
       "    <tr>\n",
       "      <th>298</th>\n",
       "      <td>10</td>\n",
       "      <td>3.35</td>\n",
       "      <td>11.00</td>\n",
       "      <td>87934</td>\n",
       "      <td>Petrol</td>\n",
       "      <td>Dealer</td>\n",
       "      <td>Manual</td>\n",
       "      <td>0</td>\n",
       "    </tr>\n",
       "    <tr>\n",
       "      <th>299</th>\n",
       "      <td>2</td>\n",
       "      <td>11.50</td>\n",
       "      <td>12.50</td>\n",
       "      <td>9000</td>\n",
       "      <td>Diesel</td>\n",
       "      <td>Dealer</td>\n",
       "      <td>Manual</td>\n",
       "      <td>0</td>\n",
       "    </tr>\n",
       "    <tr>\n",
       "      <th>300</th>\n",
       "      <td>3</td>\n",
       "      <td>5.30</td>\n",
       "      <td>5.90</td>\n",
       "      <td>5464</td>\n",
       "      <td>Petrol</td>\n",
       "      <td>Dealer</td>\n",
       "      <td>Manual</td>\n",
       "      <td>0</td>\n",
       "    </tr>\n",
       "  </tbody>\n",
       "</table>\n",
       "<p>301 rows × 8 columns</p>\n",
       "</div>"
      ],
      "text/plain": [
       "     Age  Selling_Price  Present_Price  Kms_Driven Fuel_Type Seller_Type  \\\n",
       "0      5           3.35           5.59       27000    Petrol      Dealer   \n",
       "1      6           4.75           9.54       43000    Diesel      Dealer   \n",
       "2      2           7.25           9.85        6900    Petrol      Dealer   \n",
       "3      8           2.85           4.15        5200    Petrol      Dealer   \n",
       "4      5           4.60           6.87       42450    Diesel      Dealer   \n",
       "..   ...            ...            ...         ...       ...         ...   \n",
       "296    3           9.50          11.60       33988    Diesel      Dealer   \n",
       "297    4           4.00           5.90       60000    Petrol      Dealer   \n",
       "298   10           3.35          11.00       87934    Petrol      Dealer   \n",
       "299    2          11.50          12.50        9000    Diesel      Dealer   \n",
       "300    3           5.30           5.90        5464    Petrol      Dealer   \n",
       "\n",
       "    Transmission  Owner  \n",
       "0         Manual      0  \n",
       "1         Manual      0  \n",
       "2         Manual      0  \n",
       "3         Manual      0  \n",
       "4         Manual      0  \n",
       "..           ...    ...  \n",
       "296       Manual      0  \n",
       "297       Manual      0  \n",
       "298       Manual      0  \n",
       "299       Manual      0  \n",
       "300       Manual      0  \n",
       "\n",
       "[301 rows x 8 columns]"
      ]
     },
     "execution_count": 12,
     "metadata": {},
     "output_type": "execute_result"
    }
   ],
   "source": [
    "df.drop(columns='Year',axis=1,inplace=True) # droping the Year column\n",
    "df"
   ]
  },
  {
   "cell_type": "code",
   "execution_count": 13,
   "metadata": {},
   "outputs": [
    {
     "data": {
      "text/html": [
       "<div>\n",
       "<style scoped>\n",
       "    .dataframe tbody tr th:only-of-type {\n",
       "        vertical-align: middle;\n",
       "    }\n",
       "\n",
       "    .dataframe tbody tr th {\n",
       "        vertical-align: top;\n",
       "    }\n",
       "\n",
       "    .dataframe thead th {\n",
       "        text-align: right;\n",
       "    }\n",
       "</style>\n",
       "<table border=\"1\" class=\"dataframe\">\n",
       "  <thead>\n",
       "    <tr style=\"text-align: right;\">\n",
       "      <th></th>\n",
       "      <th>Age</th>\n",
       "      <th>Selling_Price</th>\n",
       "      <th>Present_Price</th>\n",
       "      <th>Kms_Driven</th>\n",
       "      <th>Fuel_Type</th>\n",
       "      <th>Seller_Type</th>\n",
       "      <th>Transmission</th>\n",
       "      <th>Owner</th>\n",
       "    </tr>\n",
       "  </thead>\n",
       "  <tbody>\n",
       "    <tr>\n",
       "      <th>5</th>\n",
       "      <td>1</td>\n",
       "      <td>9.25</td>\n",
       "      <td>9.83</td>\n",
       "      <td>2071</td>\n",
       "      <td>Diesel</td>\n",
       "      <td>Dealer</td>\n",
       "      <td>Manual</td>\n",
       "      <td>0</td>\n",
       "    </tr>\n",
       "    <tr>\n",
       "      <th>64</th>\n",
       "      <td>2</td>\n",
       "      <td>33.00</td>\n",
       "      <td>36.23</td>\n",
       "      <td>6000</td>\n",
       "      <td>Diesel</td>\n",
       "      <td>Dealer</td>\n",
       "      <td>Automatic</td>\n",
       "      <td>0</td>\n",
       "    </tr>\n",
       "    <tr>\n",
       "      <th>128</th>\n",
       "      <td>2</td>\n",
       "      <td>0.80</td>\n",
       "      <td>0.87</td>\n",
       "      <td>3000</td>\n",
       "      <td>Petrol</td>\n",
       "      <td>Individual</td>\n",
       "      <td>Manual</td>\n",
       "      <td>0</td>\n",
       "    </tr>\n",
       "    <tr>\n",
       "      <th>220</th>\n",
       "      <td>2</td>\n",
       "      <td>3.50</td>\n",
       "      <td>4.43</td>\n",
       "      <td>38488</td>\n",
       "      <td>Petrol</td>\n",
       "      <td>Dealer</td>\n",
       "      <td>Manual</td>\n",
       "      <td>0</td>\n",
       "    </tr>\n",
       "    <tr>\n",
       "      <th>126</th>\n",
       "      <td>2</td>\n",
       "      <td>0.90</td>\n",
       "      <td>0.95</td>\n",
       "      <td>1300</td>\n",
       "      <td>Petrol</td>\n",
       "      <td>Individual</td>\n",
       "      <td>Manual</td>\n",
       "      <td>0</td>\n",
       "    </tr>\n",
       "    <tr>\n",
       "      <th>...</th>\n",
       "      <td>...</td>\n",
       "      <td>...</td>\n",
       "      <td>...</td>\n",
       "      <td>...</td>\n",
       "      <td>...</td>\n",
       "      <td>...</td>\n",
       "      <td>...</td>\n",
       "      <td>...</td>\n",
       "    </tr>\n",
       "    <tr>\n",
       "      <th>92</th>\n",
       "      <td>14</td>\n",
       "      <td>3.51</td>\n",
       "      <td>13.70</td>\n",
       "      <td>75000</td>\n",
       "      <td>Petrol</td>\n",
       "      <td>Dealer</td>\n",
       "      <td>Manual</td>\n",
       "      <td>0</td>\n",
       "    </tr>\n",
       "    <tr>\n",
       "      <th>84</th>\n",
       "      <td>14</td>\n",
       "      <td>3.49</td>\n",
       "      <td>13.46</td>\n",
       "      <td>197176</td>\n",
       "      <td>Diesel</td>\n",
       "      <td>Dealer</td>\n",
       "      <td>Manual</td>\n",
       "      <td>0</td>\n",
       "    </tr>\n",
       "    <tr>\n",
       "      <th>77</th>\n",
       "      <td>15</td>\n",
       "      <td>1.50</td>\n",
       "      <td>12.35</td>\n",
       "      <td>135154</td>\n",
       "      <td>Petrol</td>\n",
       "      <td>Dealer</td>\n",
       "      <td>Automatic</td>\n",
       "      <td>0</td>\n",
       "    </tr>\n",
       "    <tr>\n",
       "      <th>37</th>\n",
       "      <td>16</td>\n",
       "      <td>0.35</td>\n",
       "      <td>2.28</td>\n",
       "      <td>127000</td>\n",
       "      <td>Petrol</td>\n",
       "      <td>Individual</td>\n",
       "      <td>Manual</td>\n",
       "      <td>0</td>\n",
       "    </tr>\n",
       "    <tr>\n",
       "      <th>39</th>\n",
       "      <td>16</td>\n",
       "      <td>2.25</td>\n",
       "      <td>7.98</td>\n",
       "      <td>62000</td>\n",
       "      <td>Petrol</td>\n",
       "      <td>Dealer</td>\n",
       "      <td>Manual</td>\n",
       "      <td>0</td>\n",
       "    </tr>\n",
       "  </tbody>\n",
       "</table>\n",
       "<p>301 rows × 8 columns</p>\n",
       "</div>"
      ],
      "text/plain": [
       "     Age  Selling_Price  Present_Price  Kms_Driven Fuel_Type Seller_Type  \\\n",
       "5      1           9.25           9.83        2071    Diesel      Dealer   \n",
       "64     2          33.00          36.23        6000    Diesel      Dealer   \n",
       "128    2           0.80           0.87        3000    Petrol  Individual   \n",
       "220    2           3.50           4.43       38488    Petrol      Dealer   \n",
       "126    2           0.90           0.95        1300    Petrol  Individual   \n",
       "..   ...            ...            ...         ...       ...         ...   \n",
       "92    14           3.51          13.70       75000    Petrol      Dealer   \n",
       "84    14           3.49          13.46      197176    Diesel      Dealer   \n",
       "77    15           1.50          12.35      135154    Petrol      Dealer   \n",
       "37    16           0.35           2.28      127000    Petrol  Individual   \n",
       "39    16           2.25           7.98       62000    Petrol      Dealer   \n",
       "\n",
       "    Transmission  Owner  \n",
       "5         Manual      0  \n",
       "64     Automatic      0  \n",
       "128       Manual      0  \n",
       "220       Manual      0  \n",
       "126       Manual      0  \n",
       "..           ...    ...  \n",
       "92        Manual      0  \n",
       "84        Manual      0  \n",
       "77     Automatic      0  \n",
       "37        Manual      0  \n",
       "39        Manual      0  \n",
       "\n",
       "[301 rows x 8 columns]"
      ]
     },
     "execution_count": 13,
     "metadata": {},
     "output_type": "execute_result"
    }
   ],
   "source": [
    "df.sort_values(by='Age',inplace=True)\n",
    "df"
   ]
  },
  {
   "cell_type": "markdown",
   "metadata": {},
   "source": [
    "Now we have cars from 1 year old to 16 years old"
   ]
  },
  {
   "cell_type": "code",
   "execution_count": 14,
   "metadata": {},
   "outputs": [],
   "source": [
    "from plotly.subplots import make_subplots\n",
    "import plotly.graph_objects as go"
   ]
  },
  {
   "cell_type": "code",
   "execution_count": 15,
   "metadata": {},
   "outputs": [
    {
     "data": {
      "text/plain": [
       "Index(['Age', 'Selling_Price', 'Present_Price', 'Kms_Driven', 'Fuel_Type',\n",
       "       'Seller_Type', 'Transmission', 'Owner'],\n",
       "      dtype='object')"
      ]
     },
     "execution_count": 15,
     "metadata": {},
     "output_type": "execute_result"
    }
   ],
   "source": [
    "df.columns"
   ]
  },
  {
   "cell_type": "code",
   "execution_count": 16,
   "metadata": {},
   "outputs": [
    {
     "data": {
      "application/vnd.plotly.v1+json": {
       "config": {
        "plotlyServerURL": "https://plot.ly"
       },
       "data": [
        {
         "mode": "markers",
         "type": "scatter",
         "x": [
          1,
          2,
          2,
          2,
          2,
          2,
          2,
          2,
          2,
          2,
          2,
          2,
          2,
          2,
          2,
          2,
          2,
          2,
          2,
          2,
          2,
          2,
          2,
          2,
          2,
          2,
          2,
          2,
          2,
          2,
          2,
          2,
          2,
          2,
          2,
          2,
          3,
          3,
          3,
          3,
          3,
          3,
          3,
          3,
          3,
          3,
          3,
          3,
          3,
          3,
          3,
          3,
          3,
          3,
          3,
          3,
          3,
          3,
          3,
          3,
          3,
          3,
          3,
          3,
          3,
          3,
          3,
          3,
          3,
          3,
          3,
          3,
          3,
          3,
          3,
          3,
          3,
          3,
          3,
          3,
          3,
          3,
          3,
          3,
          3,
          3,
          4,
          4,
          4,
          4,
          4,
          4,
          4,
          4,
          4,
          4,
          4,
          4,
          4,
          4,
          4,
          4,
          4,
          4,
          4,
          4,
          4,
          4,
          4,
          4,
          4,
          4,
          4,
          4,
          4,
          4,
          4,
          4,
          4,
          4,
          4,
          4,
          4,
          4,
          4,
          4,
          4,
          4,
          4,
          4,
          4,
          4,
          4,
          4,
          4,
          4,
          4,
          4,
          4,
          4,
          4,
          4,
          4,
          4,
          4,
          4,
          4,
          5,
          5,
          5,
          5,
          5,
          5,
          5,
          5,
          5,
          5,
          5,
          5,
          5,
          5,
          5,
          5,
          5,
          5,
          5,
          5,
          5,
          5,
          5,
          5,
          5,
          5,
          5,
          5,
          5,
          5,
          5,
          5,
          5,
          5,
          5,
          5,
          5,
          5,
          6,
          6,
          6,
          6,
          6,
          6,
          6,
          6,
          6,
          6,
          6,
          6,
          6,
          6,
          6,
          6,
          6,
          6,
          6,
          6,
          6,
          6,
          6,
          6,
          6,
          6,
          6,
          6,
          6,
          6,
          6,
          6,
          6,
          7,
          7,
          7,
          7,
          7,
          7,
          7,
          7,
          7,
          7,
          7,
          7,
          7,
          7,
          7,
          7,
          7,
          7,
          7,
          7,
          7,
          7,
          7,
          8,
          8,
          8,
          8,
          8,
          8,
          8,
          8,
          8,
          8,
          8,
          8,
          8,
          8,
          8,
          8,
          8,
          8,
          8,
          9,
          9,
          9,
          9,
          9,
          9,
          9,
          9,
          9,
          9,
          9,
          9,
          9,
          9,
          9,
          10,
          10,
          10,
          10,
          10,
          10,
          11,
          11,
          11,
          11,
          11,
          11,
          11,
          12,
          12,
          13,
          13,
          13,
          13,
          14,
          14,
          14,
          14,
          15,
          16,
          16
         ],
         "xaxis": "x",
         "y": [
          9.25,
          33,
          0.8,
          3.5,
          0.9,
          18,
          6,
          6.5,
          7.75,
          5.75,
          19.75,
          5.25,
          1.2,
          7.9,
          1.35,
          1.45,
          1.65,
          1.7,
          0.78,
          4.8,
          4.9,
          0.75,
          0.48,
          7.25,
          0.48,
          0.48,
          0.75,
          2.85,
          0.4,
          11.5,
          9.1,
          0.45,
          23,
          0.65,
          9.25,
          17,
          6.25,
          3.1,
          2.9,
          5.25,
          12.9,
          20.75,
          14.25,
          3.15,
          5.3,
          1.75,
          0.45,
          0.45,
          0.5,
          0.51,
          0.6,
          0.6,
          0.6,
          0.35,
          0.72,
          0.75,
          0.3,
          1.05,
          1.05,
          5.25,
          1.15,
          1.2,
          1.2,
          11.25,
          1.15,
          14.73,
          0.45,
          8.99,
          6,
          7.4,
          5.65,
          3,
          5.85,
          10.9,
          10.11,
          8.35,
          2.85,
          6.4,
          10.25,
          7.75,
          6.6,
          7.75,
          9.15,
          8.75,
          5.5,
          9.5,
          6.5,
          4.4,
          6.75,
          8.55,
          2.75,
          6.1,
          7.45,
          0.48,
          1.1,
          1.1,
          4,
          0.18,
          5.75,
          8.4,
          7.45,
          6.85,
          5.4,
          0.4,
          0.75,
          0.55,
          3.25,
          0.65,
          7.25,
          0.4,
          0.6,
          0.38,
          0.6,
          7.5,
          1.11,
          23.5,
          5.15,
          1.15,
          11.45,
          5.5,
          12.5,
          4,
          4.75,
          4.5,
          11.25,
          4.75,
          3.95,
          5.95,
          8.4,
          4.5,
          8.5,
          5.4,
          8.25,
          4,
          5.25,
          23,
          23,
          5.8,
          5.25,
          4.65,
          6.7,
          7.5,
          9.7,
          11.75,
          4.85,
          8.65,
          1.35,
          6,
          7.2,
          6.25,
          0.42,
          5.3,
          4.4,
          6.45,
          0.4,
          4.5,
          3.75,
          3.65,
          0.35,
          3.9,
          8.25,
          3.35,
          4.75,
          4.95,
          11.25,
          18.75,
          7.5,
          6,
          1.35,
          4.75,
          0.65,
          5.5,
          2.5,
          19.99,
          0.45,
          0.6,
          1.15,
          0.55,
          2.55,
          4.6,
          3.95,
          5.5,
          0.5,
          4.9,
          4.1,
          1.1,
          16,
          7.45,
          1.25,
          1.05,
          6.95,
          4.5,
          3.45,
          5.11,
          6.15,
          5.25,
          3.9,
          5,
          4.8,
          5.5,
          5.95,
          7.05,
          2.65,
          4,
          2.9,
          0.65,
          4.75,
          0.5,
          0.2,
          0.6,
          0.3,
          0.27,
          0.25,
          0.42,
          1,
          0.25,
          3.5,
          4.15,
          14.9,
          0.4,
          14.5,
          0.5,
          2,
          5.35,
          5.2,
          3.75,
          0.6,
          3.1,
          5.9,
          3,
          1.25,
          0.95,
          3.1,
          0.2,
          4.95,
          5.85,
          0.45,
          3.1,
          4.5,
          0.3,
          4.5,
          4.35,
          3,
          4.4,
          2.85,
          4.5,
          2.95,
          4.1,
          2.35,
          0.5,
          0.35,
          1.05,
          2.65,
          2.9,
          2.95,
          0.38,
          0.15,
          2.55,
          0.45,
          2.7,
          2.65,
          3.25,
          0.52,
          0.31,
          1.95,
          0.25,
          0.45,
          2.25,
          0.16,
          35,
          3.25,
          9.65,
          5.25,
          9.25,
          4.75,
          3,
          3.35,
          0.9,
          3.6,
          2.25,
          3.8,
          0.25,
          4,
          0.17,
          0.2,
          1.95,
          0.2,
          0.25,
          0.12,
          0.2,
          2.1,
          2.5,
          1.05,
          0.1,
          2.75,
          0.2,
          3.51,
          3.49,
          1.5,
          0.35,
          2.25
         ],
         "yaxis": "y"
        },
        {
         "mode": "markers",
         "type": "scatter",
         "x": [
          9.83,
          36.23,
          0.87,
          4.43,
          0.95,
          19.77,
          6.49,
          8.7,
          9.29,
          7.13,
          23.15,
          5.7,
          1.47,
          8.1,
          1.47,
          1.6,
          1.78,
          1.82,
          0.84,
          5.8,
          5.71,
          0.95,
          0.54,
          9.85,
          0.52,
          0.51,
          0.87,
          3.6,
          0.51,
          12.5,
          9.4,
          0.51,
          25.39,
          0.81,
          9.4,
          18.64,
          7.6,
          4.43,
          4.43,
          7.6,
          13.6,
          25.39,
          20.91,
          4.43,
          5.9,
          1.9,
          0.54,
          0.55,
          0.55,
          0.94,
          0.84,
          0.8,
          0.87,
          0.57,
          0.95,
          0.8,
          0.48,
          1.17,
          1.26,
          5.7,
          1.5,
          1.78,
          1.5,
          13.6,
          1.4,
          14.89,
          0.54,
          11.8,
          8.4,
          8.5,
          7.9,
          3.76,
          7.87,
          13.6,
          13.6,
          9.4,
          3.95,
          8.4,
          13.6,
          10.79,
          7.7,
          10.79,
          13.6,
          8.89,
          5.97,
          11.6,
          8.61,
          5.7,
          8.12,
          13.09,
          4.43,
          7.71,
          10.38,
          0.84,
          1.47,
          1.9,
          5.9,
          0.32,
          7.5,
          13.6,
          8.92,
          10.38,
          6.1,
          0.54,
          0.82,
          0.84,
          5.09,
          0.74,
          10.79,
          0.55,
          0.95,
          0.72,
          0.84,
          9.94,
          1.47,
          35.96,
          5.7,
          1.47,
          14.79,
          5.7,
          13.46,
          5.8,
          7.85,
          7.27,
          13.6,
          7.13,
          6.8,
          9.4,
          13.6,
          7.7,
          13.6,
          6.82,
          9.4,
          7,
          5.7,
          30.61,
          30.61,
          7.71,
          5.9,
          7.2,
          10,
          10,
          13.6,
          14.79,
          5.7,
          13.6,
          2.37,
          7.6,
          9.9,
          13.6,
          0.81,
          6.8,
          7.13,
          9.4,
          0.64,
          6.4,
          6.8,
          7,
          0.52,
          7,
          14,
          5.59,
          6.76,
          7.49,
          16.09,
          35.96,
          12.04,
          9.95,
          3.45,
          6.95,
          1.2,
          8.06,
          3.46,
          35.96,
          0.826,
          0.99,
          2.4,
          0.787,
          3.98,
          6.87,
          6.76,
          8.06,
          0.88,
          8.93,
          6.8,
          1.47,
          30.61,
          18.61,
          1.5,
          1.9,
          18.61,
          6.79,
          6.05,
          9.4,
          9.4,
          9.9,
          5.7,
          9.9,
          9.4,
          14.68,
          9.4,
          18.61,
          4.89,
          4.6,
          4.41,
          0.787,
          9.54,
          0.99,
          0.65,
          1.2,
          0.58,
          0.47,
          0.57,
          0.73,
          1.47,
          0.51,
          5.9,
          5.87,
          30.61,
          0.83,
          30.61,
          0.99,
          4.43,
          9.4,
          9.4,
          6.79,
          0.81,
          6.79,
          13.74,
          5.35,
          2.69,
          1.75,
          4.6,
          0.57,
          9.4,
          18.61,
          0.99,
          5.98,
          9.4,
          0.51,
          9.4,
          13.74,
          4.99,
          8.01,
          4.15,
          12.48,
          7.74,
          10,
          4.89,
          0.826,
          1.05,
          1.5,
          5.71,
          6.79,
          4.6,
          0.787,
          0.57,
          4.43,
          0.95,
          4.6,
          7.98,
          9.9,
          0.94,
          1.05,
          3.95,
          0.52,
          0.95,
          7.5,
          0.51,
          92.6,
          6.79,
          20.45,
          22.83,
          20.45,
          18.54,
          10,
          11,
          1.75,
          15.04,
          7.21,
          18.61,
          0.58,
          22.78,
          0.52,
          0.787,
          7.15,
          0.75,
          0.75,
          0.58,
          0.75,
          7.6,
          23.73,
          4.15,
          0.75,
          10.21,
          0.57,
          13.7,
          13.46,
          12.35,
          2.28,
          7.98
         ],
         "xaxis": "x2",
         "y": [
          9.25,
          33,
          0.8,
          3.5,
          0.9,
          18,
          6,
          6.5,
          7.75,
          5.75,
          19.75,
          5.25,
          1.2,
          7.9,
          1.35,
          1.45,
          1.65,
          1.7,
          0.78,
          4.8,
          4.9,
          0.75,
          0.48,
          7.25,
          0.48,
          0.48,
          0.75,
          2.85,
          0.4,
          11.5,
          9.1,
          0.45,
          23,
          0.65,
          9.25,
          17,
          6.25,
          3.1,
          2.9,
          5.25,
          12.9,
          20.75,
          14.25,
          3.15,
          5.3,
          1.75,
          0.45,
          0.45,
          0.5,
          0.51,
          0.6,
          0.6,
          0.6,
          0.35,
          0.72,
          0.75,
          0.3,
          1.05,
          1.05,
          5.25,
          1.15,
          1.2,
          1.2,
          11.25,
          1.15,
          14.73,
          0.45,
          8.99,
          6,
          7.4,
          5.65,
          3,
          5.85,
          10.9,
          10.11,
          8.35,
          2.85,
          6.4,
          10.25,
          7.75,
          6.6,
          7.75,
          9.15,
          8.75,
          5.5,
          9.5,
          6.5,
          4.4,
          6.75,
          8.55,
          2.75,
          6.1,
          7.45,
          0.48,
          1.1,
          1.1,
          4,
          0.18,
          5.75,
          8.4,
          7.45,
          6.85,
          5.4,
          0.4,
          0.75,
          0.55,
          3.25,
          0.65,
          7.25,
          0.4,
          0.6,
          0.38,
          0.6,
          7.5,
          1.11,
          23.5,
          5.15,
          1.15,
          11.45,
          5.5,
          12.5,
          4,
          4.75,
          4.5,
          11.25,
          4.75,
          3.95,
          5.95,
          8.4,
          4.5,
          8.5,
          5.4,
          8.25,
          4,
          5.25,
          23,
          23,
          5.8,
          5.25,
          4.65,
          6.7,
          7.5,
          9.7,
          11.75,
          4.85,
          8.65,
          1.35,
          6,
          7.2,
          6.25,
          0.42,
          5.3,
          4.4,
          6.45,
          0.4,
          4.5,
          3.75,
          3.65,
          0.35,
          3.9,
          8.25,
          3.35,
          4.75,
          4.95,
          11.25,
          18.75,
          7.5,
          6,
          1.35,
          4.75,
          0.65,
          5.5,
          2.5,
          19.99,
          0.45,
          0.6,
          1.15,
          0.55,
          2.55,
          4.6,
          3.95,
          5.5,
          0.5,
          4.9,
          4.1,
          1.1,
          16,
          7.45,
          1.25,
          1.05,
          6.95,
          4.5,
          3.45,
          5.11,
          6.15,
          5.25,
          3.9,
          5,
          4.8,
          5.5,
          5.95,
          7.05,
          2.65,
          4,
          2.9,
          0.65,
          4.75,
          0.5,
          0.2,
          0.6,
          0.3,
          0.27,
          0.25,
          0.42,
          1,
          0.25,
          3.5,
          4.15,
          14.9,
          0.4,
          14.5,
          0.5,
          2,
          5.35,
          5.2,
          3.75,
          0.6,
          3.1,
          5.9,
          3,
          1.25,
          0.95,
          3.1,
          0.2,
          4.95,
          5.85,
          0.45,
          3.1,
          4.5,
          0.3,
          4.5,
          4.35,
          3,
          4.4,
          2.85,
          4.5,
          2.95,
          4.1,
          2.35,
          0.5,
          0.35,
          1.05,
          2.65,
          2.9,
          2.95,
          0.38,
          0.15,
          2.55,
          0.45,
          2.7,
          2.65,
          3.25,
          0.52,
          0.31,
          1.95,
          0.25,
          0.45,
          2.25,
          0.16,
          35,
          3.25,
          9.65,
          5.25,
          9.25,
          4.75,
          3,
          3.35,
          0.9,
          3.6,
          2.25,
          3.8,
          0.25,
          4,
          0.17,
          0.2,
          1.95,
          0.2,
          0.25,
          0.12,
          0.2,
          2.1,
          2.5,
          1.05,
          0.1,
          2.75,
          0.2,
          3.51,
          3.49,
          1.5,
          0.35,
          2.25
         ],
         "yaxis": "y2"
        },
        {
         "mode": "markers",
         "type": "scatter",
         "x": [
          2071,
          6000,
          3000,
          38488,
          1300,
          15000,
          16200,
          21200,
          37000,
          12479,
          11000,
          20114,
          11000,
          3435,
          4100,
          1200,
          4000,
          1400,
          5000,
          19000,
          2400,
          3500,
          8600,
          6900,
          15000,
          4300,
          11000,
          2135,
          1300,
          9000,
          15141,
          4000,
          15000,
          11800,
          15001,
          8700,
          7000,
          11849,
          12500,
          17000,
          35934,
          29000,
          12000,
          15000,
          5464,
          3000,
          500,
          1000,
          31000,
          24000,
          25000,
          20000,
          15000,
          24000,
          500,
          7000,
          50000,
          6000,
          5700,
          3493,
          8700,
          6000,
          18000,
          22671,
          35000,
          23000,
          14000,
          9010,
          4000,
          15059,
          28569,
          10079,
          24524,
          30753,
          10980,
          19434,
          25000,
          12000,
          49562,
          43000,
          16002,
          43000,
          29223,
          20273,
          5600,
          33988,
          33429,
          28200,
          18796,
          60076,
          28282,
          26000,
          45000,
          23000,
          26000,
          14000,
          60000,
          35000,
          44000,
          34000,
          42367,
          51000,
          31427,
          14000,
          18000,
          58000,
          35500,
          5000,
          41678,
          6700,
          16600,
          38600,
          29000,
          15000,
          17500,
          47000,
          34797,
          17000,
          12900,
          4492,
          38000,
          40023,
          40000,
          40534,
          68000,
          35866,
          36000,
          36000,
          25000,
          40588,
          40324,
          31427,
          61381,
          40026,
          24678,
          40000,
          40000,
          25870,
          14465,
          48767,
          18828,
          27600,
          21780,
          43535,
          21125,
          24800,
          21700,
          77632,
          48000,
          40126,
          42000,
          16500,
          34000,
          45078,
          13700,
          19000,
          33019,
          35000,
          19000,
          36054,
          63000,
          27000,
          40000,
          39000,
          58242,
          78000,
          15000,
          45000,
          16500,
          45000,
          23500,
          45000,
          45280,
          41000,
          23000,
          25000,
          7000,
          15000,
          46706,
          42450,
          71000,
          45780,
          8000,
          83000,
          39485,
          33000,
          135000,
          56001,
          15000,
          5400,
          40001,
          32000,
          47000,
          36198,
          45000,
          54242,
          53000,
          56701,
          60241,
          72000,
          49000,
          45000,
          64532,
          30000,
          56879,
          16000,
          43000,
          45000,
          24000,
          32000,
          30000,
          21000,
          18000,
          12000,
          46500,
          32000,
          9800,
          55138,
          104707,
          5500,
          89000,
          13000,
          23709,
          32322,
          71000,
          35000,
          19000,
          52132,
          56000,
          53675,
          50000,
          11500,
          35775,
          25000,
          60000,
          72000,
          14500,
          51439,
          36000,
          60000,
          36100,
          88000,
          20000,
          50000,
          5200,
          45000,
          49998,
          69341,
          54200,
          6000,
          30000,
          6900,
          43000,
          31604,
          53460,
          75000,
          35000,
          57000,
          24000,
          22517,
          41442,
          38000,
          45000,
          213000,
          44542,
          22000,
          27000,
          61203,
          33000,
          78000,
          58000,
          50024,
          80000,
          59000,
          50000,
          69562,
          87934,
          40000,
          70000,
          77427,
          62000,
          1900,
          89000,
          500000,
          50000,
          58000,
          60000,
          26000,
          53000,
          49000,
          50456,
          142000,
          65000,
          92233,
          90000,
          55000,
          75000,
          197176,
          135154,
          127000,
          62000
         ],
         "xaxis": "x3",
         "y": [
          9.25,
          33,
          0.8,
          3.5,
          0.9,
          18,
          6,
          6.5,
          7.75,
          5.75,
          19.75,
          5.25,
          1.2,
          7.9,
          1.35,
          1.45,
          1.65,
          1.7,
          0.78,
          4.8,
          4.9,
          0.75,
          0.48,
          7.25,
          0.48,
          0.48,
          0.75,
          2.85,
          0.4,
          11.5,
          9.1,
          0.45,
          23,
          0.65,
          9.25,
          17,
          6.25,
          3.1,
          2.9,
          5.25,
          12.9,
          20.75,
          14.25,
          3.15,
          5.3,
          1.75,
          0.45,
          0.45,
          0.5,
          0.51,
          0.6,
          0.6,
          0.6,
          0.35,
          0.72,
          0.75,
          0.3,
          1.05,
          1.05,
          5.25,
          1.15,
          1.2,
          1.2,
          11.25,
          1.15,
          14.73,
          0.45,
          8.99,
          6,
          7.4,
          5.65,
          3,
          5.85,
          10.9,
          10.11,
          8.35,
          2.85,
          6.4,
          10.25,
          7.75,
          6.6,
          7.75,
          9.15,
          8.75,
          5.5,
          9.5,
          6.5,
          4.4,
          6.75,
          8.55,
          2.75,
          6.1,
          7.45,
          0.48,
          1.1,
          1.1,
          4,
          0.18,
          5.75,
          8.4,
          7.45,
          6.85,
          5.4,
          0.4,
          0.75,
          0.55,
          3.25,
          0.65,
          7.25,
          0.4,
          0.6,
          0.38,
          0.6,
          7.5,
          1.11,
          23.5,
          5.15,
          1.15,
          11.45,
          5.5,
          12.5,
          4,
          4.75,
          4.5,
          11.25,
          4.75,
          3.95,
          5.95,
          8.4,
          4.5,
          8.5,
          5.4,
          8.25,
          4,
          5.25,
          23,
          23,
          5.8,
          5.25,
          4.65,
          6.7,
          7.5,
          9.7,
          11.75,
          4.85,
          8.65,
          1.35,
          6,
          7.2,
          6.25,
          0.42,
          5.3,
          4.4,
          6.45,
          0.4,
          4.5,
          3.75,
          3.65,
          0.35,
          3.9,
          8.25,
          3.35,
          4.75,
          4.95,
          11.25,
          18.75,
          7.5,
          6,
          1.35,
          4.75,
          0.65,
          5.5,
          2.5,
          19.99,
          0.45,
          0.6,
          1.15,
          0.55,
          2.55,
          4.6,
          3.95,
          5.5,
          0.5,
          4.9,
          4.1,
          1.1,
          16,
          7.45,
          1.25,
          1.05,
          6.95,
          4.5,
          3.45,
          5.11,
          6.15,
          5.25,
          3.9,
          5,
          4.8,
          5.5,
          5.95,
          7.05,
          2.65,
          4,
          2.9,
          0.65,
          4.75,
          0.5,
          0.2,
          0.6,
          0.3,
          0.27,
          0.25,
          0.42,
          1,
          0.25,
          3.5,
          4.15,
          14.9,
          0.4,
          14.5,
          0.5,
          2,
          5.35,
          5.2,
          3.75,
          0.6,
          3.1,
          5.9,
          3,
          1.25,
          0.95,
          3.1,
          0.2,
          4.95,
          5.85,
          0.45,
          3.1,
          4.5,
          0.3,
          4.5,
          4.35,
          3,
          4.4,
          2.85,
          4.5,
          2.95,
          4.1,
          2.35,
          0.5,
          0.35,
          1.05,
          2.65,
          2.9,
          2.95,
          0.38,
          0.15,
          2.55,
          0.45,
          2.7,
          2.65,
          3.25,
          0.52,
          0.31,
          1.95,
          0.25,
          0.45,
          2.25,
          0.16,
          35,
          3.25,
          9.65,
          5.25,
          9.25,
          4.75,
          3,
          3.35,
          0.9,
          3.6,
          2.25,
          3.8,
          0.25,
          4,
          0.17,
          0.2,
          1.95,
          0.2,
          0.25,
          0.12,
          0.2,
          2.1,
          2.5,
          1.05,
          0.1,
          2.75,
          0.2,
          3.51,
          3.49,
          1.5,
          0.35,
          2.25
         ],
         "yaxis": "y3"
        },
        {
         "mode": "markers",
         "type": "scatter",
         "x": [
          "Diesel",
          "Diesel",
          "Petrol",
          "Petrol",
          "Petrol",
          "Diesel",
          "Petrol",
          "Petrol",
          "Petrol",
          "Petrol",
          "Petrol",
          "Petrol",
          "Petrol",
          "Petrol",
          "Petrol",
          "Petrol",
          "Petrol",
          "Petrol",
          "Petrol",
          "Petrol",
          "Petrol",
          "Petrol",
          "Petrol",
          "Petrol",
          "Petrol",
          "Petrol",
          "Petrol",
          "Petrol",
          "Petrol",
          "Diesel",
          "Petrol",
          "Petrol",
          "Diesel",
          "Petrol",
          "Petrol",
          "Petrol",
          "Petrol",
          "Petrol",
          "Petrol",
          "Petrol",
          "Diesel",
          "Diesel",
          "Petrol",
          "Petrol",
          "Petrol",
          "Petrol",
          "Petrol",
          "Petrol",
          "Petrol",
          "Petrol",
          "Petrol",
          "Petrol",
          "Petrol",
          "Petrol",
          "Petrol",
          "Petrol",
          "Petrol",
          "Petrol",
          "Petrol",
          "Petrol",
          "Petrol",
          "Petrol",
          "Petrol",
          "Petrol",
          "Petrol",
          "Diesel",
          "Petrol",
          "Petrol",
          "Petrol",
          "Petrol",
          "Petrol",
          "Petrol",
          "Petrol",
          "Petrol",
          "Petrol",
          "Diesel",
          "Petrol",
          "Petrol",
          "Petrol",
          "Diesel",
          "Petrol",
          "Diesel",
          "Petrol",
          "Diesel",
          "Petrol",
          "Diesel",
          "Diesel",
          "Petrol",
          "Petrol",
          "Diesel",
          "Petrol",
          "Petrol",
          "Diesel",
          "Petrol",
          "Petrol",
          "Petrol",
          "Petrol",
          "Petrol",
          "Petrol",
          "Petrol",
          "Diesel",
          "Diesel",
          "Petrol",
          "Petrol",
          "Petrol",
          "Petrol",
          "CNG",
          "Petrol",
          "Diesel",
          "Petrol",
          "Petrol",
          "Petrol",
          "Petrol",
          "Petrol",
          "Petrol",
          "Diesel",
          "Petrol",
          "Petrol",
          "Petrol",
          "Petrol",
          "Diesel",
          "Petrol",
          "Diesel",
          "Petrol",
          "Diesel",
          "Petrol",
          "Petrol",
          "Petrol",
          "Petrol",
          "Petrol",
          "Petrol",
          "Petrol",
          "Diesel",
          "Petrol",
          "Petrol",
          "Diesel",
          "Diesel",
          "Petrol",
          "Petrol",
          "Petrol",
          "Petrol",
          "Petrol",
          "Petrol",
          "Diesel",
          "Diesel",
          "Petrol",
          "Petrol",
          "Diesel",
          "Diesel",
          "Petrol",
          "Petrol",
          "Petrol",
          "Petrol",
          "Petrol",
          "Petrol",
          "Petrol",
          "Petrol",
          "Petrol",
          "Petrol",
          "Petrol",
          "Diesel",
          "Petrol",
          "Petrol",
          "Diesel",
          "Diesel",
          "Diesel",
          "Petrol",
          "Diesel",
          "Petrol",
          "Diesel",
          "Petrol",
          "Diesel",
          "Petrol",
          "Diesel",
          "Petrol",
          "Petrol",
          "Petrol",
          "Petrol",
          "Petrol",
          "Diesel",
          "Diesel",
          "Diesel",
          "Petrol",
          "Diesel",
          "Petrol",
          "Petrol",
          "Diesel",
          "Petrol",
          "Petrol",
          "Petrol",
          "Petrol",
          "Petrol",
          "Petrol",
          "Petrol",
          "Diesel",
          "Petrol",
          "Diesel",
          "Petrol",
          "Petrol",
          "Petrol",
          "Diesel",
          "Petrol",
          "Petrol",
          "Petrol",
          "Petrol",
          "Petrol",
          "Diesel",
          "Petrol",
          "Petrol",
          "Petrol",
          "Petrol",
          "Petrol",
          "Petrol",
          "Petrol",
          "Petrol",
          "Petrol",
          "Petrol",
          "Petrol",
          "Diesel",
          "Petrol",
          "Diesel",
          "Petrol",
          "Petrol",
          "Diesel",
          "Diesel",
          "Petrol",
          "Petrol",
          "Diesel",
          "Petrol",
          "Petrol",
          "Petrol",
          "Petrol",
          "Petrol",
          "Petrol",
          "Diesel",
          "Petrol",
          "Petrol",
          "Diesel",
          "Petrol",
          "Petrol",
          "Petrol",
          "Petrol",
          "Petrol",
          "Petrol",
          "Petrol",
          "Diesel",
          "CNG",
          "Petrol",
          "Petrol",
          "Petrol",
          "Petrol",
          "Petrol",
          "Petrol",
          "Petrol",
          "Petrol",
          "Petrol",
          "Petrol",
          "Petrol",
          "Petrol",
          "Petrol",
          "Petrol",
          "Petrol",
          "Petrol",
          "Petrol",
          "Petrol",
          "Petrol",
          "Petrol",
          "Petrol",
          "Petrol",
          "Diesel",
          "Diesel",
          "Diesel",
          "Petrol",
          "Diesel",
          "Petrol",
          "Petrol",
          "Petrol",
          "Petrol",
          "Petrol",
          "Petrol",
          "Petrol",
          "Petrol",
          "Petrol",
          "Petrol",
          "Petrol",
          "Petrol",
          "Petrol",
          "Petrol",
          "Petrol",
          "Petrol",
          "Petrol",
          "Petrol",
          "Petrol",
          "Petrol",
          "Petrol",
          "Petrol",
          "Petrol",
          "Diesel",
          "Petrol",
          "Petrol",
          "Petrol"
         ],
         "xaxis": "x4",
         "y": [
          9.25,
          33,
          0.8,
          3.5,
          0.9,
          18,
          6,
          6.5,
          7.75,
          5.75,
          19.75,
          5.25,
          1.2,
          7.9,
          1.35,
          1.45,
          1.65,
          1.7,
          0.78,
          4.8,
          4.9,
          0.75,
          0.48,
          7.25,
          0.48,
          0.48,
          0.75,
          2.85,
          0.4,
          11.5,
          9.1,
          0.45,
          23,
          0.65,
          9.25,
          17,
          6.25,
          3.1,
          2.9,
          5.25,
          12.9,
          20.75,
          14.25,
          3.15,
          5.3,
          1.75,
          0.45,
          0.45,
          0.5,
          0.51,
          0.6,
          0.6,
          0.6,
          0.35,
          0.72,
          0.75,
          0.3,
          1.05,
          1.05,
          5.25,
          1.15,
          1.2,
          1.2,
          11.25,
          1.15,
          14.73,
          0.45,
          8.99,
          6,
          7.4,
          5.65,
          3,
          5.85,
          10.9,
          10.11,
          8.35,
          2.85,
          6.4,
          10.25,
          7.75,
          6.6,
          7.75,
          9.15,
          8.75,
          5.5,
          9.5,
          6.5,
          4.4,
          6.75,
          8.55,
          2.75,
          6.1,
          7.45,
          0.48,
          1.1,
          1.1,
          4,
          0.18,
          5.75,
          8.4,
          7.45,
          6.85,
          5.4,
          0.4,
          0.75,
          0.55,
          3.25,
          0.65,
          7.25,
          0.4,
          0.6,
          0.38,
          0.6,
          7.5,
          1.11,
          23.5,
          5.15,
          1.15,
          11.45,
          5.5,
          12.5,
          4,
          4.75,
          4.5,
          11.25,
          4.75,
          3.95,
          5.95,
          8.4,
          4.5,
          8.5,
          5.4,
          8.25,
          4,
          5.25,
          23,
          23,
          5.8,
          5.25,
          4.65,
          6.7,
          7.5,
          9.7,
          11.75,
          4.85,
          8.65,
          1.35,
          6,
          7.2,
          6.25,
          0.42,
          5.3,
          4.4,
          6.45,
          0.4,
          4.5,
          3.75,
          3.65,
          0.35,
          3.9,
          8.25,
          3.35,
          4.75,
          4.95,
          11.25,
          18.75,
          7.5,
          6,
          1.35,
          4.75,
          0.65,
          5.5,
          2.5,
          19.99,
          0.45,
          0.6,
          1.15,
          0.55,
          2.55,
          4.6,
          3.95,
          5.5,
          0.5,
          4.9,
          4.1,
          1.1,
          16,
          7.45,
          1.25,
          1.05,
          6.95,
          4.5,
          3.45,
          5.11,
          6.15,
          5.25,
          3.9,
          5,
          4.8,
          5.5,
          5.95,
          7.05,
          2.65,
          4,
          2.9,
          0.65,
          4.75,
          0.5,
          0.2,
          0.6,
          0.3,
          0.27,
          0.25,
          0.42,
          1,
          0.25,
          3.5,
          4.15,
          14.9,
          0.4,
          14.5,
          0.5,
          2,
          5.35,
          5.2,
          3.75,
          0.6,
          3.1,
          5.9,
          3,
          1.25,
          0.95,
          3.1,
          0.2,
          4.95,
          5.85,
          0.45,
          3.1,
          4.5,
          0.3,
          4.5,
          4.35,
          3,
          4.4,
          2.85,
          4.5,
          2.95,
          4.1,
          2.35,
          0.5,
          0.35,
          1.05,
          2.65,
          2.9,
          2.95,
          0.38,
          0.15,
          2.55,
          0.45,
          2.7,
          2.65,
          3.25,
          0.52,
          0.31,
          1.95,
          0.25,
          0.45,
          2.25,
          0.16,
          35,
          3.25,
          9.65,
          5.25,
          9.25,
          4.75,
          3,
          3.35,
          0.9,
          3.6,
          2.25,
          3.8,
          0.25,
          4,
          0.17,
          0.2,
          1.95,
          0.2,
          0.25,
          0.12,
          0.2,
          2.1,
          2.5,
          1.05,
          0.1,
          2.75,
          0.2,
          3.51,
          3.49,
          1.5,
          0.35,
          2.25
         ],
         "yaxis": "y4"
        },
        {
         "mode": "markers",
         "type": "scatter",
         "x": [
          "Dealer",
          "Dealer",
          "Individual",
          "Dealer",
          "Individual",
          "Dealer",
          "Individual",
          "Dealer",
          "Dealer",
          "Dealer",
          "Dealer",
          "Dealer",
          "Individual",
          "Dealer",
          "Individual",
          "Individual",
          "Individual",
          "Individual",
          "Individual",
          "Dealer",
          "Dealer",
          "Individual",
          "Individual",
          "Dealer",
          "Individual",
          "Individual",
          "Individual",
          "Dealer",
          "Individual",
          "Dealer",
          "Dealer",
          "Individual",
          "Dealer",
          "Individual",
          "Dealer",
          "Dealer",
          "Dealer",
          "Dealer",
          "Dealer",
          "Dealer",
          "Dealer",
          "Dealer",
          "Dealer",
          "Dealer",
          "Dealer",
          "Individual",
          "Individual",
          "Individual",
          "Individual",
          "Individual",
          "Individual",
          "Individual",
          "Individual",
          "Individual",
          "Individual",
          "Individual",
          "Individual",
          "Individual",
          "Individual",
          "Dealer",
          "Individual",
          "Individual",
          "Individual",
          "Dealer",
          "Individual",
          "Dealer",
          "Individual",
          "Dealer",
          "Dealer",
          "Dealer",
          "Dealer",
          "Dealer",
          "Dealer",
          "Dealer",
          "Dealer",
          "Dealer",
          "Dealer",
          "Dealer",
          "Dealer",
          "Dealer",
          "Dealer",
          "Dealer",
          "Dealer",
          "Dealer",
          "Dealer",
          "Dealer",
          "Dealer",
          "Dealer",
          "Dealer",
          "Dealer",
          "Dealer",
          "Dealer",
          "Dealer",
          "Individual",
          "Individual",
          "Individual",
          "Dealer",
          "Individual",
          "Dealer",
          "Dealer",
          "Dealer",
          "Dealer",
          "Dealer",
          "Individual",
          "Individual",
          "Individual",
          "Dealer",
          "Individual",
          "Dealer",
          "Individual",
          "Individual",
          "Individual",
          "Individual",
          "Dealer",
          "Individual",
          "Dealer",
          "Dealer",
          "Individual",
          "Dealer",
          "Dealer",
          "Dealer",
          "Dealer",
          "Dealer",
          "Dealer",
          "Dealer",
          "Dealer",
          "Dealer",
          "Dealer",
          "Dealer",
          "Dealer",
          "Dealer",
          "Dealer",
          "Dealer",
          "Dealer",
          "Dealer",
          "Dealer",
          "Dealer",
          "Dealer",
          "Dealer",
          "Dealer",
          "Dealer",
          "Dealer",
          "Dealer",
          "Dealer",
          "Dealer",
          "Dealer",
          "Individual",
          "Dealer",
          "Dealer",
          "Dealer",
          "Individual",
          "Dealer",
          "Dealer",
          "Dealer",
          "Individual",
          "Dealer",
          "Dealer",
          "Dealer",
          "Individual",
          "Dealer",
          "Dealer",
          "Dealer",
          "Dealer",
          "Dealer",
          "Dealer",
          "Dealer",
          "Dealer",
          "Dealer",
          "Individual",
          "Dealer",
          "Individual",
          "Dealer",
          "Dealer",
          "Dealer",
          "Individual",
          "Individual",
          "Individual",
          "Individual",
          "Dealer",
          "Dealer",
          "Dealer",
          "Dealer",
          "Individual",
          "Dealer",
          "Dealer",
          "Individual",
          "Individual",
          "Dealer",
          "Individual",
          "Individual",
          "Dealer",
          "Dealer",
          "Dealer",
          "Dealer",
          "Dealer",
          "Dealer",
          "Dealer",
          "Dealer",
          "Dealer",
          "Dealer",
          "Dealer",
          "Dealer",
          "Dealer",
          "Dealer",
          "Dealer",
          "Individual",
          "Dealer",
          "Individual",
          "Individual",
          "Individual",
          "Individual",
          "Individual",
          "Individual",
          "Individual",
          "Individual",
          "Individual",
          "Dealer",
          "Dealer",
          "Dealer",
          "Individual",
          "Dealer",
          "Individual",
          "Dealer",
          "Dealer",
          "Dealer",
          "Dealer",
          "Individual",
          "Dealer",
          "Dealer",
          "Dealer",
          "Dealer",
          "Individual",
          "Dealer",
          "Individual",
          "Dealer",
          "Dealer",
          "Individual",
          "Dealer",
          "Dealer",
          "Individual",
          "Dealer",
          "Dealer",
          "Dealer",
          "Dealer",
          "Dealer",
          "Dealer",
          "Dealer",
          "Dealer",
          "Dealer",
          "Individual",
          "Individual",
          "Individual",
          "Dealer",
          "Dealer",
          "Dealer",
          "Individual",
          "Individual",
          "Dealer",
          "Individual",
          "Dealer",
          "Dealer",
          "Dealer",
          "Individual",
          "Individual",
          "Dealer",
          "Individual",
          "Individual",
          "Dealer",
          "Individual",
          "Dealer",
          "Dealer",
          "Dealer",
          "Dealer",
          "Dealer",
          "Dealer",
          "Dealer",
          "Dealer",
          "Individual",
          "Dealer",
          "Dealer",
          "Dealer",
          "Individual",
          "Dealer",
          "Individual",
          "Individual",
          "Dealer",
          "Individual",
          "Individual",
          "Individual",
          "Individual",
          "Dealer",
          "Individual",
          "Dealer",
          "Individual",
          "Individual",
          "Individual",
          "Dealer",
          "Dealer",
          "Dealer",
          "Individual",
          "Dealer"
         ],
         "xaxis": "x5",
         "y": [
          9.25,
          33,
          0.8,
          3.5,
          0.9,
          18,
          6,
          6.5,
          7.75,
          5.75,
          19.75,
          5.25,
          1.2,
          7.9,
          1.35,
          1.45,
          1.65,
          1.7,
          0.78,
          4.8,
          4.9,
          0.75,
          0.48,
          7.25,
          0.48,
          0.48,
          0.75,
          2.85,
          0.4,
          11.5,
          9.1,
          0.45,
          23,
          0.65,
          9.25,
          17,
          6.25,
          3.1,
          2.9,
          5.25,
          12.9,
          20.75,
          14.25,
          3.15,
          5.3,
          1.75,
          0.45,
          0.45,
          0.5,
          0.51,
          0.6,
          0.6,
          0.6,
          0.35,
          0.72,
          0.75,
          0.3,
          1.05,
          1.05,
          5.25,
          1.15,
          1.2,
          1.2,
          11.25,
          1.15,
          14.73,
          0.45,
          8.99,
          6,
          7.4,
          5.65,
          3,
          5.85,
          10.9,
          10.11,
          8.35,
          2.85,
          6.4,
          10.25,
          7.75,
          6.6,
          7.75,
          9.15,
          8.75,
          5.5,
          9.5,
          6.5,
          4.4,
          6.75,
          8.55,
          2.75,
          6.1,
          7.45,
          0.48,
          1.1,
          1.1,
          4,
          0.18,
          5.75,
          8.4,
          7.45,
          6.85,
          5.4,
          0.4,
          0.75,
          0.55,
          3.25,
          0.65,
          7.25,
          0.4,
          0.6,
          0.38,
          0.6,
          7.5,
          1.11,
          23.5,
          5.15,
          1.15,
          11.45,
          5.5,
          12.5,
          4,
          4.75,
          4.5,
          11.25,
          4.75,
          3.95,
          5.95,
          8.4,
          4.5,
          8.5,
          5.4,
          8.25,
          4,
          5.25,
          23,
          23,
          5.8,
          5.25,
          4.65,
          6.7,
          7.5,
          9.7,
          11.75,
          4.85,
          8.65,
          1.35,
          6,
          7.2,
          6.25,
          0.42,
          5.3,
          4.4,
          6.45,
          0.4,
          4.5,
          3.75,
          3.65,
          0.35,
          3.9,
          8.25,
          3.35,
          4.75,
          4.95,
          11.25,
          18.75,
          7.5,
          6,
          1.35,
          4.75,
          0.65,
          5.5,
          2.5,
          19.99,
          0.45,
          0.6,
          1.15,
          0.55,
          2.55,
          4.6,
          3.95,
          5.5,
          0.5,
          4.9,
          4.1,
          1.1,
          16,
          7.45,
          1.25,
          1.05,
          6.95,
          4.5,
          3.45,
          5.11,
          6.15,
          5.25,
          3.9,
          5,
          4.8,
          5.5,
          5.95,
          7.05,
          2.65,
          4,
          2.9,
          0.65,
          4.75,
          0.5,
          0.2,
          0.6,
          0.3,
          0.27,
          0.25,
          0.42,
          1,
          0.25,
          3.5,
          4.15,
          14.9,
          0.4,
          14.5,
          0.5,
          2,
          5.35,
          5.2,
          3.75,
          0.6,
          3.1,
          5.9,
          3,
          1.25,
          0.95,
          3.1,
          0.2,
          4.95,
          5.85,
          0.45,
          3.1,
          4.5,
          0.3,
          4.5,
          4.35,
          3,
          4.4,
          2.85,
          4.5,
          2.95,
          4.1,
          2.35,
          0.5,
          0.35,
          1.05,
          2.65,
          2.9,
          2.95,
          0.38,
          0.15,
          2.55,
          0.45,
          2.7,
          2.65,
          3.25,
          0.52,
          0.31,
          1.95,
          0.25,
          0.45,
          2.25,
          0.16,
          35,
          3.25,
          9.65,
          5.25,
          9.25,
          4.75,
          3,
          3.35,
          0.9,
          3.6,
          2.25,
          3.8,
          0.25,
          4,
          0.17,
          0.2,
          1.95,
          0.2,
          0.25,
          0.12,
          0.2,
          2.1,
          2.5,
          1.05,
          0.1,
          2.75,
          0.2,
          3.51,
          3.49,
          1.5,
          0.35,
          2.25
         ],
         "yaxis": "y5"
        },
        {
         "mode": "markers",
         "type": "scatter",
         "x": [
          "Manual",
          "Automatic",
          "Manual",
          "Manual",
          "Manual",
          "Automatic",
          "Manual",
          "Manual",
          "Automatic",
          "Manual",
          "Automatic",
          "Manual",
          "Manual",
          "Manual",
          "Manual",
          "Manual",
          "Manual",
          "Manual",
          "Manual",
          "Manual",
          "Manual",
          "Manual",
          "Manual",
          "Manual",
          "Manual",
          "Automatic",
          "Manual",
          "Manual",
          "Automatic",
          "Manual",
          "Manual",
          "Automatic",
          "Automatic",
          "Manual",
          "Manual",
          "Manual",
          "Manual",
          "Manual",
          "Manual",
          "Manual",
          "Manual",
          "Automatic",
          "Manual",
          "Manual",
          "Manual",
          "Manual",
          "Automatic",
          "Manual",
          "Manual",
          "Manual",
          "Manual",
          "Manual",
          "Manual",
          "Automatic",
          "Manual",
          "Manual",
          "Manual",
          "Manual",
          "Manual",
          "Manual",
          "Manual",
          "Manual",
          "Manual",
          "Manual",
          "Manual",
          "Manual",
          "Manual",
          "Manual",
          "Manual",
          "Automatic",
          "Manual",
          "Manual",
          "Automatic",
          "Automatic",
          "Manual",
          "Manual",
          "Manual",
          "Manual",
          "Manual",
          "Manual",
          "Manual",
          "Manual",
          "Manual",
          "Manual",
          "Manual",
          "Manual",
          "Manual",
          "Manual",
          "Manual",
          "Manual",
          "Manual",
          "Manual",
          "Manual",
          "Manual",
          "Manual",
          "Manual",
          "Manual",
          "Manual",
          "Automatic",
          "Manual",
          "Manual",
          "Manual",
          "Manual",
          "Manual",
          "Manual",
          "Manual",
          "Manual",
          "Manual",
          "Manual",
          "Manual",
          "Manual",
          "Manual",
          "Manual",
          "Automatic",
          "Manual",
          "Automatic",
          "Automatic",
          "Manual",
          "Automatic",
          "Manual",
          "Manual",
          "Manual",
          "Manual",
          "Manual",
          "Manual",
          "Manual",
          "Manual",
          "Manual",
          "Manual",
          "Manual",
          "Manual",
          "Automatic",
          "Manual",
          "Manual",
          "Manual",
          "Automatic",
          "Automatic",
          "Manual",
          "Manual",
          "Manual",
          "Manual",
          "Manual",
          "Manual",
          "Manual",
          "Manual",
          "Manual",
          "Manual",
          "Manual",
          "Manual",
          "Manual",
          "Manual",
          "Manual",
          "Manual",
          "Manual",
          "Manual",
          "Manual",
          "Manual",
          "Manual",
          "Automatic",
          "Manual",
          "Manual",
          "Manual",
          "Manual",
          "Manual",
          "Manual",
          "Automatic",
          "Automatic",
          "Manual",
          "Manual",
          "Manual",
          "Manual",
          "Manual",
          "Manual",
          "Automatic",
          "Manual",
          "Manual",
          "Manual",
          "Manual",
          "Manual",
          "Manual",
          "Manual",
          "Manual",
          "Manual",
          "Manual",
          "Manual",
          "Manual",
          "Automatic",
          "Manual",
          "Manual",
          "Manual",
          "Manual",
          "Automatic",
          "Manual",
          "Automatic",
          "Manual",
          "Manual",
          "Manual",
          "Manual",
          "Manual",
          "Manual",
          "Manual",
          "Manual",
          "Manual",
          "Manual",
          "Manual",
          "Manual",
          "Manual",
          "Manual",
          "Manual",
          "Manual",
          "Manual",
          "Manual",
          "Manual",
          "Manual",
          "Manual",
          "Manual",
          "Manual",
          "Manual",
          "Automatic",
          "Manual",
          "Automatic",
          "Manual",
          "Manual",
          "Manual",
          "Manual",
          "Manual",
          "Manual",
          "Manual",
          "Manual",
          "Manual",
          "Manual",
          "Manual",
          "Manual",
          "Manual",
          "Manual",
          "Manual",
          "Manual",
          "Manual",
          "Manual",
          "Manual",
          "Manual",
          "Manual",
          "Manual",
          "Automatic",
          "Manual",
          "Manual",
          "Manual",
          "Manual",
          "Manual",
          "Manual",
          "Manual",
          "Manual",
          "Manual",
          "Manual",
          "Manual",
          "Manual",
          "Manual",
          "Manual",
          "Manual",
          "Manual",
          "Manual",
          "Manual",
          "Manual",
          "Manual",
          "Manual",
          "Automatic",
          "Manual",
          "Manual",
          "Manual",
          "Manual",
          "Manual",
          "Manual",
          "Automatic",
          "Manual",
          "Manual",
          "Manual",
          "Manual",
          "Manual",
          "Automatic",
          "Manual",
          "Manual",
          "Automatic",
          "Automatic",
          "Automatic",
          "Manual",
          "Manual",
          "Manual",
          "Manual",
          "Manual",
          "Manual",
          "Manual",
          "Automatic",
          "Manual",
          "Manual",
          "Manual",
          "Manual",
          "Manual",
          "Manual",
          "Automatic",
          "Manual",
          "Manual"
         ],
         "xaxis": "x6",
         "y": [
          9.25,
          33,
          0.8,
          3.5,
          0.9,
          18,
          6,
          6.5,
          7.75,
          5.75,
          19.75,
          5.25,
          1.2,
          7.9,
          1.35,
          1.45,
          1.65,
          1.7,
          0.78,
          4.8,
          4.9,
          0.75,
          0.48,
          7.25,
          0.48,
          0.48,
          0.75,
          2.85,
          0.4,
          11.5,
          9.1,
          0.45,
          23,
          0.65,
          9.25,
          17,
          6.25,
          3.1,
          2.9,
          5.25,
          12.9,
          20.75,
          14.25,
          3.15,
          5.3,
          1.75,
          0.45,
          0.45,
          0.5,
          0.51,
          0.6,
          0.6,
          0.6,
          0.35,
          0.72,
          0.75,
          0.3,
          1.05,
          1.05,
          5.25,
          1.15,
          1.2,
          1.2,
          11.25,
          1.15,
          14.73,
          0.45,
          8.99,
          6,
          7.4,
          5.65,
          3,
          5.85,
          10.9,
          10.11,
          8.35,
          2.85,
          6.4,
          10.25,
          7.75,
          6.6,
          7.75,
          9.15,
          8.75,
          5.5,
          9.5,
          6.5,
          4.4,
          6.75,
          8.55,
          2.75,
          6.1,
          7.45,
          0.48,
          1.1,
          1.1,
          4,
          0.18,
          5.75,
          8.4,
          7.45,
          6.85,
          5.4,
          0.4,
          0.75,
          0.55,
          3.25,
          0.65,
          7.25,
          0.4,
          0.6,
          0.38,
          0.6,
          7.5,
          1.11,
          23.5,
          5.15,
          1.15,
          11.45,
          5.5,
          12.5,
          4,
          4.75,
          4.5,
          11.25,
          4.75,
          3.95,
          5.95,
          8.4,
          4.5,
          8.5,
          5.4,
          8.25,
          4,
          5.25,
          23,
          23,
          5.8,
          5.25,
          4.65,
          6.7,
          7.5,
          9.7,
          11.75,
          4.85,
          8.65,
          1.35,
          6,
          7.2,
          6.25,
          0.42,
          5.3,
          4.4,
          6.45,
          0.4,
          4.5,
          3.75,
          3.65,
          0.35,
          3.9,
          8.25,
          3.35,
          4.75,
          4.95,
          11.25,
          18.75,
          7.5,
          6,
          1.35,
          4.75,
          0.65,
          5.5,
          2.5,
          19.99,
          0.45,
          0.6,
          1.15,
          0.55,
          2.55,
          4.6,
          3.95,
          5.5,
          0.5,
          4.9,
          4.1,
          1.1,
          16,
          7.45,
          1.25,
          1.05,
          6.95,
          4.5,
          3.45,
          5.11,
          6.15,
          5.25,
          3.9,
          5,
          4.8,
          5.5,
          5.95,
          7.05,
          2.65,
          4,
          2.9,
          0.65,
          4.75,
          0.5,
          0.2,
          0.6,
          0.3,
          0.27,
          0.25,
          0.42,
          1,
          0.25,
          3.5,
          4.15,
          14.9,
          0.4,
          14.5,
          0.5,
          2,
          5.35,
          5.2,
          3.75,
          0.6,
          3.1,
          5.9,
          3,
          1.25,
          0.95,
          3.1,
          0.2,
          4.95,
          5.85,
          0.45,
          3.1,
          4.5,
          0.3,
          4.5,
          4.35,
          3,
          4.4,
          2.85,
          4.5,
          2.95,
          4.1,
          2.35,
          0.5,
          0.35,
          1.05,
          2.65,
          2.9,
          2.95,
          0.38,
          0.15,
          2.55,
          0.45,
          2.7,
          2.65,
          3.25,
          0.52,
          0.31,
          1.95,
          0.25,
          0.45,
          2.25,
          0.16,
          35,
          3.25,
          9.65,
          5.25,
          9.25,
          4.75,
          3,
          3.35,
          0.9,
          3.6,
          2.25,
          3.8,
          0.25,
          4,
          0.17,
          0.2,
          1.95,
          0.2,
          0.25,
          0.12,
          0.2,
          2.1,
          2.5,
          1.05,
          0.1,
          2.75,
          0.2,
          3.51,
          3.49,
          1.5,
          0.35,
          2.25
         ],
         "yaxis": "y6"
        },
        {
         "mode": "markers",
         "type": "scatter",
         "x": [
          0,
          0,
          0,
          0,
          0,
          0,
          0,
          0,
          0,
          0,
          0,
          0,
          0,
          0,
          0,
          0,
          0,
          0,
          0,
          0,
          0,
          0,
          0,
          0,
          0,
          0,
          0,
          0,
          0,
          0,
          0,
          0,
          0,
          0,
          0,
          0,
          0,
          0,
          0,
          0,
          0,
          0,
          0,
          0,
          0,
          0,
          0,
          0,
          0,
          0,
          0,
          0,
          0,
          0,
          0,
          0,
          0,
          0,
          0,
          1,
          0,
          0,
          0,
          0,
          0,
          0,
          0,
          0,
          0,
          0,
          0,
          0,
          0,
          0,
          0,
          0,
          0,
          0,
          0,
          0,
          0,
          0,
          0,
          0,
          0,
          0,
          0,
          0,
          0,
          0,
          0,
          0,
          0,
          0,
          0,
          0,
          0,
          0,
          0,
          0,
          0,
          0,
          0,
          0,
          0,
          0,
          0,
          0,
          0,
          0,
          0,
          0,
          0,
          0,
          0,
          0,
          0,
          0,
          0,
          0,
          0,
          0,
          0,
          0,
          0,
          1,
          0,
          0,
          0,
          0,
          0,
          0,
          0,
          0,
          0,
          0,
          0,
          0,
          0,
          0,
          0,
          0,
          0,
          0,
          0,
          0,
          0,
          0,
          0,
          0,
          0,
          0,
          0,
          0,
          0,
          0,
          0,
          0,
          0,
          0,
          0,
          0,
          0,
          0,
          0,
          0,
          0,
          0,
          1,
          0,
          0,
          0,
          0,
          0,
          0,
          0,
          0,
          0,
          0,
          0,
          0,
          0,
          0,
          0,
          1,
          0,
          0,
          0,
          0,
          0,
          0,
          0,
          0,
          0,
          0,
          0,
          0,
          0,
          0,
          0,
          0,
          0,
          0,
          0,
          0,
          0,
          0,
          0,
          1,
          0,
          0,
          0,
          0,
          0,
          0,
          0,
          0,
          0,
          0,
          0,
          0,
          0,
          0,
          0,
          0,
          0,
          0,
          0,
          0,
          0,
          0,
          0,
          0,
          1,
          0,
          0,
          0,
          0,
          0,
          0,
          0,
          0,
          0,
          0,
          0,
          0,
          0,
          0,
          0,
          0,
          0,
          0,
          0,
          0,
          0,
          0,
          1,
          0,
          0,
          0,
          0,
          0,
          0,
          0,
          0,
          0,
          0,
          0,
          0,
          0,
          1,
          0,
          0,
          0,
          0,
          0,
          0,
          0,
          0,
          0,
          0,
          0,
          0,
          0,
          0,
          0,
          0,
          1,
          0,
          1,
          0,
          3,
          0,
          0,
          0,
          0,
          0,
          0,
          0,
          0,
          0
         ],
         "xaxis": "x7",
         "y": [
          9.25,
          33,
          0.8,
          3.5,
          0.9,
          18,
          6,
          6.5,
          7.75,
          5.75,
          19.75,
          5.25,
          1.2,
          7.9,
          1.35,
          1.45,
          1.65,
          1.7,
          0.78,
          4.8,
          4.9,
          0.75,
          0.48,
          7.25,
          0.48,
          0.48,
          0.75,
          2.85,
          0.4,
          11.5,
          9.1,
          0.45,
          23,
          0.65,
          9.25,
          17,
          6.25,
          3.1,
          2.9,
          5.25,
          12.9,
          20.75,
          14.25,
          3.15,
          5.3,
          1.75,
          0.45,
          0.45,
          0.5,
          0.51,
          0.6,
          0.6,
          0.6,
          0.35,
          0.72,
          0.75,
          0.3,
          1.05,
          1.05,
          5.25,
          1.15,
          1.2,
          1.2,
          11.25,
          1.15,
          14.73,
          0.45,
          8.99,
          6,
          7.4,
          5.65,
          3,
          5.85,
          10.9,
          10.11,
          8.35,
          2.85,
          6.4,
          10.25,
          7.75,
          6.6,
          7.75,
          9.15,
          8.75,
          5.5,
          9.5,
          6.5,
          4.4,
          6.75,
          8.55,
          2.75,
          6.1,
          7.45,
          0.48,
          1.1,
          1.1,
          4,
          0.18,
          5.75,
          8.4,
          7.45,
          6.85,
          5.4,
          0.4,
          0.75,
          0.55,
          3.25,
          0.65,
          7.25,
          0.4,
          0.6,
          0.38,
          0.6,
          7.5,
          1.11,
          23.5,
          5.15,
          1.15,
          11.45,
          5.5,
          12.5,
          4,
          4.75,
          4.5,
          11.25,
          4.75,
          3.95,
          5.95,
          8.4,
          4.5,
          8.5,
          5.4,
          8.25,
          4,
          5.25,
          23,
          23,
          5.8,
          5.25,
          4.65,
          6.7,
          7.5,
          9.7,
          11.75,
          4.85,
          8.65,
          1.35,
          6,
          7.2,
          6.25,
          0.42,
          5.3,
          4.4,
          6.45,
          0.4,
          4.5,
          3.75,
          3.65,
          0.35,
          3.9,
          8.25,
          3.35,
          4.75,
          4.95,
          11.25,
          18.75,
          7.5,
          6,
          1.35,
          4.75,
          0.65,
          5.5,
          2.5,
          19.99,
          0.45,
          0.6,
          1.15,
          0.55,
          2.55,
          4.6,
          3.95,
          5.5,
          0.5,
          4.9,
          4.1,
          1.1,
          16,
          7.45,
          1.25,
          1.05,
          6.95,
          4.5,
          3.45,
          5.11,
          6.15,
          5.25,
          3.9,
          5,
          4.8,
          5.5,
          5.95,
          7.05,
          2.65,
          4,
          2.9,
          0.65,
          4.75,
          0.5,
          0.2,
          0.6,
          0.3,
          0.27,
          0.25,
          0.42,
          1,
          0.25,
          3.5,
          4.15,
          14.9,
          0.4,
          14.5,
          0.5,
          2,
          5.35,
          5.2,
          3.75,
          0.6,
          3.1,
          5.9,
          3,
          1.25,
          0.95,
          3.1,
          0.2,
          4.95,
          5.85,
          0.45,
          3.1,
          4.5,
          0.3,
          4.5,
          4.35,
          3,
          4.4,
          2.85,
          4.5,
          2.95,
          4.1,
          2.35,
          0.5,
          0.35,
          1.05,
          2.65,
          2.9,
          2.95,
          0.38,
          0.15,
          2.55,
          0.45,
          2.7,
          2.65,
          3.25,
          0.52,
          0.31,
          1.95,
          0.25,
          0.45,
          2.25,
          0.16,
          35,
          3.25,
          9.65,
          5.25,
          9.25,
          4.75,
          3,
          3.35,
          0.9,
          3.6,
          2.25,
          3.8,
          0.25,
          4,
          0.17,
          0.2,
          1.95,
          0.2,
          0.25,
          0.12,
          0.2,
          2.1,
          2.5,
          1.05,
          0.1,
          2.75,
          0.2,
          3.51,
          3.49,
          1.5,
          0.35,
          2.25
         ],
         "yaxis": "y7"
        }
       ],
       "layout": {
        "annotations": [
         {
          "font": {
           "size": 16
          },
          "showarrow": false,
          "text": "Age",
          "x": 0.225,
          "xanchor": "center",
          "xref": "paper",
          "y": 1,
          "yanchor": "bottom",
          "yref": "paper"
         },
         {
          "font": {
           "size": 16
          },
          "showarrow": false,
          "text": "Present_Price",
          "x": 0.775,
          "xanchor": "center",
          "xref": "paper",
          "y": 1,
          "yanchor": "bottom",
          "yref": "paper"
         },
         {
          "font": {
           "size": 16
          },
          "showarrow": false,
          "text": "Kms_Driven",
          "x": 0.225,
          "xanchor": "center",
          "xref": "paper",
          "y": 0.71875,
          "yanchor": "bottom",
          "yref": "paper"
         },
         {
          "font": {
           "size": 16
          },
          "showarrow": false,
          "text": "Fuel_Type",
          "x": 0.775,
          "xanchor": "center",
          "xref": "paper",
          "y": 0.71875,
          "yanchor": "bottom",
          "yref": "paper"
         },
         {
          "font": {
           "size": 16
          },
          "showarrow": false,
          "text": "Seller_Type",
          "x": 0.225,
          "xanchor": "center",
          "xref": "paper",
          "y": 0.4375,
          "yanchor": "bottom",
          "yref": "paper"
         },
         {
          "font": {
           "size": 16
          },
          "showarrow": false,
          "text": "Transmission",
          "x": 0.775,
          "xanchor": "center",
          "xref": "paper",
          "y": 0.4375,
          "yanchor": "bottom",
          "yref": "paper"
         },
         {
          "font": {
           "size": 16
          },
          "showarrow": false,
          "text": "Owner",
          "x": 0.225,
          "xanchor": "center",
          "xref": "paper",
          "y": 0.15625,
          "yanchor": "bottom",
          "yref": "paper"
         }
        ],
        "height": 800,
        "template": {
         "data": {
          "bar": [
           {
            "error_x": {
             "color": "#2a3f5f"
            },
            "error_y": {
             "color": "#2a3f5f"
            },
            "marker": {
             "line": {
              "color": "#E5ECF6",
              "width": 0.5
             },
             "pattern": {
              "fillmode": "overlay",
              "size": 10,
              "solidity": 0.2
             }
            },
            "type": "bar"
           }
          ],
          "barpolar": [
           {
            "marker": {
             "line": {
              "color": "#E5ECF6",
              "width": 0.5
             },
             "pattern": {
              "fillmode": "overlay",
              "size": 10,
              "solidity": 0.2
             }
            },
            "type": "barpolar"
           }
          ],
          "carpet": [
           {
            "aaxis": {
             "endlinecolor": "#2a3f5f",
             "gridcolor": "white",
             "linecolor": "white",
             "minorgridcolor": "white",
             "startlinecolor": "#2a3f5f"
            },
            "baxis": {
             "endlinecolor": "#2a3f5f",
             "gridcolor": "white",
             "linecolor": "white",
             "minorgridcolor": "white",
             "startlinecolor": "#2a3f5f"
            },
            "type": "carpet"
           }
          ],
          "choropleth": [
           {
            "colorbar": {
             "outlinewidth": 0,
             "ticks": ""
            },
            "type": "choropleth"
           }
          ],
          "contour": [
           {
            "colorbar": {
             "outlinewidth": 0,
             "ticks": ""
            },
            "colorscale": [
             [
              0,
              "#0d0887"
             ],
             [
              0.1111111111111111,
              "#46039f"
             ],
             [
              0.2222222222222222,
              "#7201a8"
             ],
             [
              0.3333333333333333,
              "#9c179e"
             ],
             [
              0.4444444444444444,
              "#bd3786"
             ],
             [
              0.5555555555555556,
              "#d8576b"
             ],
             [
              0.6666666666666666,
              "#ed7953"
             ],
             [
              0.7777777777777778,
              "#fb9f3a"
             ],
             [
              0.8888888888888888,
              "#fdca26"
             ],
             [
              1,
              "#f0f921"
             ]
            ],
            "type": "contour"
           }
          ],
          "contourcarpet": [
           {
            "colorbar": {
             "outlinewidth": 0,
             "ticks": ""
            },
            "type": "contourcarpet"
           }
          ],
          "heatmap": [
           {
            "colorbar": {
             "outlinewidth": 0,
             "ticks": ""
            },
            "colorscale": [
             [
              0,
              "#0d0887"
             ],
             [
              0.1111111111111111,
              "#46039f"
             ],
             [
              0.2222222222222222,
              "#7201a8"
             ],
             [
              0.3333333333333333,
              "#9c179e"
             ],
             [
              0.4444444444444444,
              "#bd3786"
             ],
             [
              0.5555555555555556,
              "#d8576b"
             ],
             [
              0.6666666666666666,
              "#ed7953"
             ],
             [
              0.7777777777777778,
              "#fb9f3a"
             ],
             [
              0.8888888888888888,
              "#fdca26"
             ],
             [
              1,
              "#f0f921"
             ]
            ],
            "type": "heatmap"
           }
          ],
          "heatmapgl": [
           {
            "colorbar": {
             "outlinewidth": 0,
             "ticks": ""
            },
            "colorscale": [
             [
              0,
              "#0d0887"
             ],
             [
              0.1111111111111111,
              "#46039f"
             ],
             [
              0.2222222222222222,
              "#7201a8"
             ],
             [
              0.3333333333333333,
              "#9c179e"
             ],
             [
              0.4444444444444444,
              "#bd3786"
             ],
             [
              0.5555555555555556,
              "#d8576b"
             ],
             [
              0.6666666666666666,
              "#ed7953"
             ],
             [
              0.7777777777777778,
              "#fb9f3a"
             ],
             [
              0.8888888888888888,
              "#fdca26"
             ],
             [
              1,
              "#f0f921"
             ]
            ],
            "type": "heatmapgl"
           }
          ],
          "histogram": [
           {
            "marker": {
             "pattern": {
              "fillmode": "overlay",
              "size": 10,
              "solidity": 0.2
             }
            },
            "type": "histogram"
           }
          ],
          "histogram2d": [
           {
            "colorbar": {
             "outlinewidth": 0,
             "ticks": ""
            },
            "colorscale": [
             [
              0,
              "#0d0887"
             ],
             [
              0.1111111111111111,
              "#46039f"
             ],
             [
              0.2222222222222222,
              "#7201a8"
             ],
             [
              0.3333333333333333,
              "#9c179e"
             ],
             [
              0.4444444444444444,
              "#bd3786"
             ],
             [
              0.5555555555555556,
              "#d8576b"
             ],
             [
              0.6666666666666666,
              "#ed7953"
             ],
             [
              0.7777777777777778,
              "#fb9f3a"
             ],
             [
              0.8888888888888888,
              "#fdca26"
             ],
             [
              1,
              "#f0f921"
             ]
            ],
            "type": "histogram2d"
           }
          ],
          "histogram2dcontour": [
           {
            "colorbar": {
             "outlinewidth": 0,
             "ticks": ""
            },
            "colorscale": [
             [
              0,
              "#0d0887"
             ],
             [
              0.1111111111111111,
              "#46039f"
             ],
             [
              0.2222222222222222,
              "#7201a8"
             ],
             [
              0.3333333333333333,
              "#9c179e"
             ],
             [
              0.4444444444444444,
              "#bd3786"
             ],
             [
              0.5555555555555556,
              "#d8576b"
             ],
             [
              0.6666666666666666,
              "#ed7953"
             ],
             [
              0.7777777777777778,
              "#fb9f3a"
             ],
             [
              0.8888888888888888,
              "#fdca26"
             ],
             [
              1,
              "#f0f921"
             ]
            ],
            "type": "histogram2dcontour"
           }
          ],
          "mesh3d": [
           {
            "colorbar": {
             "outlinewidth": 0,
             "ticks": ""
            },
            "type": "mesh3d"
           }
          ],
          "parcoords": [
           {
            "line": {
             "colorbar": {
              "outlinewidth": 0,
              "ticks": ""
             }
            },
            "type": "parcoords"
           }
          ],
          "pie": [
           {
            "automargin": true,
            "type": "pie"
           }
          ],
          "scatter": [
           {
            "fillpattern": {
             "fillmode": "overlay",
             "size": 10,
             "solidity": 0.2
            },
            "type": "scatter"
           }
          ],
          "scatter3d": [
           {
            "line": {
             "colorbar": {
              "outlinewidth": 0,
              "ticks": ""
             }
            },
            "marker": {
             "colorbar": {
              "outlinewidth": 0,
              "ticks": ""
             }
            },
            "type": "scatter3d"
           }
          ],
          "scattercarpet": [
           {
            "marker": {
             "colorbar": {
              "outlinewidth": 0,
              "ticks": ""
             }
            },
            "type": "scattercarpet"
           }
          ],
          "scattergeo": [
           {
            "marker": {
             "colorbar": {
              "outlinewidth": 0,
              "ticks": ""
             }
            },
            "type": "scattergeo"
           }
          ],
          "scattergl": [
           {
            "marker": {
             "colorbar": {
              "outlinewidth": 0,
              "ticks": ""
             }
            },
            "type": "scattergl"
           }
          ],
          "scattermapbox": [
           {
            "marker": {
             "colorbar": {
              "outlinewidth": 0,
              "ticks": ""
             }
            },
            "type": "scattermapbox"
           }
          ],
          "scatterpolar": [
           {
            "marker": {
             "colorbar": {
              "outlinewidth": 0,
              "ticks": ""
             }
            },
            "type": "scatterpolar"
           }
          ],
          "scatterpolargl": [
           {
            "marker": {
             "colorbar": {
              "outlinewidth": 0,
              "ticks": ""
             }
            },
            "type": "scatterpolargl"
           }
          ],
          "scatterternary": [
           {
            "marker": {
             "colorbar": {
              "outlinewidth": 0,
              "ticks": ""
             }
            },
            "type": "scatterternary"
           }
          ],
          "surface": [
           {
            "colorbar": {
             "outlinewidth": 0,
             "ticks": ""
            },
            "colorscale": [
             [
              0,
              "#0d0887"
             ],
             [
              0.1111111111111111,
              "#46039f"
             ],
             [
              0.2222222222222222,
              "#7201a8"
             ],
             [
              0.3333333333333333,
              "#9c179e"
             ],
             [
              0.4444444444444444,
              "#bd3786"
             ],
             [
              0.5555555555555556,
              "#d8576b"
             ],
             [
              0.6666666666666666,
              "#ed7953"
             ],
             [
              0.7777777777777778,
              "#fb9f3a"
             ],
             [
              0.8888888888888888,
              "#fdca26"
             ],
             [
              1,
              "#f0f921"
             ]
            ],
            "type": "surface"
           }
          ],
          "table": [
           {
            "cells": {
             "fill": {
              "color": "#EBF0F8"
             },
             "line": {
              "color": "white"
             }
            },
            "header": {
             "fill": {
              "color": "#C8D4E3"
             },
             "line": {
              "color": "white"
             }
            },
            "type": "table"
           }
          ]
         },
         "layout": {
          "annotationdefaults": {
           "arrowcolor": "#2a3f5f",
           "arrowhead": 0,
           "arrowwidth": 1
          },
          "autotypenumbers": "strict",
          "coloraxis": {
           "colorbar": {
            "outlinewidth": 0,
            "ticks": ""
           }
          },
          "colorscale": {
           "diverging": [
            [
             0,
             "#8e0152"
            ],
            [
             0.1,
             "#c51b7d"
            ],
            [
             0.2,
             "#de77ae"
            ],
            [
             0.3,
             "#f1b6da"
            ],
            [
             0.4,
             "#fde0ef"
            ],
            [
             0.5,
             "#f7f7f7"
            ],
            [
             0.6,
             "#e6f5d0"
            ],
            [
             0.7,
             "#b8e186"
            ],
            [
             0.8,
             "#7fbc41"
            ],
            [
             0.9,
             "#4d9221"
            ],
            [
             1,
             "#276419"
            ]
           ],
           "sequential": [
            [
             0,
             "#0d0887"
            ],
            [
             0.1111111111111111,
             "#46039f"
            ],
            [
             0.2222222222222222,
             "#7201a8"
            ],
            [
             0.3333333333333333,
             "#9c179e"
            ],
            [
             0.4444444444444444,
             "#bd3786"
            ],
            [
             0.5555555555555556,
             "#d8576b"
            ],
            [
             0.6666666666666666,
             "#ed7953"
            ],
            [
             0.7777777777777778,
             "#fb9f3a"
            ],
            [
             0.8888888888888888,
             "#fdca26"
            ],
            [
             1,
             "#f0f921"
            ]
           ],
           "sequentialminus": [
            [
             0,
             "#0d0887"
            ],
            [
             0.1111111111111111,
             "#46039f"
            ],
            [
             0.2222222222222222,
             "#7201a8"
            ],
            [
             0.3333333333333333,
             "#9c179e"
            ],
            [
             0.4444444444444444,
             "#bd3786"
            ],
            [
             0.5555555555555556,
             "#d8576b"
            ],
            [
             0.6666666666666666,
             "#ed7953"
            ],
            [
             0.7777777777777778,
             "#fb9f3a"
            ],
            [
             0.8888888888888888,
             "#fdca26"
            ],
            [
             1,
             "#f0f921"
            ]
           ]
          },
          "colorway": [
           "#636efa",
           "#EF553B",
           "#00cc96",
           "#ab63fa",
           "#FFA15A",
           "#19d3f3",
           "#FF6692",
           "#B6E880",
           "#FF97FF",
           "#FECB52"
          ],
          "font": {
           "color": "#2a3f5f"
          },
          "geo": {
           "bgcolor": "white",
           "lakecolor": "white",
           "landcolor": "#E5ECF6",
           "showlakes": true,
           "showland": true,
           "subunitcolor": "white"
          },
          "hoverlabel": {
           "align": "left"
          },
          "hovermode": "closest",
          "mapbox": {
           "style": "light"
          },
          "paper_bgcolor": "white",
          "plot_bgcolor": "#E5ECF6",
          "polar": {
           "angularaxis": {
            "gridcolor": "white",
            "linecolor": "white",
            "ticks": ""
           },
           "bgcolor": "#E5ECF6",
           "radialaxis": {
            "gridcolor": "white",
            "linecolor": "white",
            "ticks": ""
           }
          },
          "scene": {
           "xaxis": {
            "backgroundcolor": "#E5ECF6",
            "gridcolor": "white",
            "gridwidth": 2,
            "linecolor": "white",
            "showbackground": true,
            "ticks": "",
            "zerolinecolor": "white"
           },
           "yaxis": {
            "backgroundcolor": "#E5ECF6",
            "gridcolor": "white",
            "gridwidth": 2,
            "linecolor": "white",
            "showbackground": true,
            "ticks": "",
            "zerolinecolor": "white"
           },
           "zaxis": {
            "backgroundcolor": "#E5ECF6",
            "gridcolor": "white",
            "gridwidth": 2,
            "linecolor": "white",
            "showbackground": true,
            "ticks": "",
            "zerolinecolor": "white"
           }
          },
          "shapedefaults": {
           "line": {
            "color": "#2a3f5f"
           }
          },
          "ternary": {
           "aaxis": {
            "gridcolor": "white",
            "linecolor": "white",
            "ticks": ""
           },
           "baxis": {
            "gridcolor": "white",
            "linecolor": "white",
            "ticks": ""
           },
           "bgcolor": "#E5ECF6",
           "caxis": {
            "gridcolor": "white",
            "linecolor": "white",
            "ticks": ""
           }
          },
          "title": {
           "x": 0.05
          },
          "xaxis": {
           "automargin": true,
           "gridcolor": "white",
           "linecolor": "white",
           "ticks": "",
           "title": {
            "standoff": 15
           },
           "zerolinecolor": "white",
           "zerolinewidth": 2
          },
          "yaxis": {
           "automargin": true,
           "gridcolor": "white",
           "linecolor": "white",
           "ticks": "",
           "title": {
            "standoff": 15
           },
           "zerolinecolor": "white",
           "zerolinewidth": 2
          }
         }
        },
        "title": {
         "text": "Side By Side Subplots: Featurs by Selling Price"
        },
        "width": 1000,
        "xaxis": {
         "anchor": "y",
         "domain": [
          0,
          0.45
         ]
        },
        "xaxis2": {
         "anchor": "y2",
         "domain": [
          0.55,
          1
         ]
        },
        "xaxis3": {
         "anchor": "y3",
         "domain": [
          0,
          0.45
         ]
        },
        "xaxis4": {
         "anchor": "y4",
         "domain": [
          0.55,
          1
         ]
        },
        "xaxis5": {
         "anchor": "y5",
         "domain": [
          0,
          0.45
         ]
        },
        "xaxis6": {
         "anchor": "y6",
         "domain": [
          0.55,
          1
         ]
        },
        "xaxis7": {
         "anchor": "y7",
         "domain": [
          0,
          0.45
         ]
        },
        "xaxis8": {
         "anchor": "y8",
         "domain": [
          0.55,
          1
         ]
        },
        "yaxis": {
         "anchor": "x",
         "domain": [
          0.84375,
          1
         ]
        },
        "yaxis2": {
         "anchor": "x2",
         "domain": [
          0.84375,
          1
         ]
        },
        "yaxis3": {
         "anchor": "x3",
         "domain": [
          0.5625,
          0.71875
         ]
        },
        "yaxis4": {
         "anchor": "x4",
         "domain": [
          0.5625,
          0.71875
         ]
        },
        "yaxis5": {
         "anchor": "x5",
         "domain": [
          0.28125,
          0.4375
         ]
        },
        "yaxis6": {
         "anchor": "x6",
         "domain": [
          0.28125,
          0.4375
         ]
        },
        "yaxis7": {
         "anchor": "x7",
         "domain": [
          0,
          0.15625
         ]
        },
        "yaxis8": {
         "anchor": "x8",
         "domain": [
          0,
          0.15625
         ]
        }
       }
      }
     },
     "metadata": {},
     "output_type": "display_data"
    }
   ],
   "source": [
    "Column_list = ('Age', 'Present_Price', 'Kms_Driven', 'Fuel_Type', 'Seller_Type', 'Transmission', 'Owner')\n",
    "\n",
    "# Define the number of rows and columns\n",
    "num_rows = 4\n",
    "num_cols = 2\n",
    "\n",
    "fig = make_subplots(rows=num_rows, cols=num_cols, subplot_titles=Column_list)\n",
    "\n",
    "# Loop through each column and add a scatter plot to the corresponding subplot\n",
    "for idx, col in enumerate(Column_list):\n",
    "    row_num = (idx // num_cols) + 1  # Calculate the row number\n",
    "    col_num = (idx % num_cols) + 1   # Calculate the column number\n",
    "\n",
    "    fig.add_trace(\n",
    "        go.Scatter(x=df[col], y=df['Selling_Price'],mode='markers'),\n",
    "        row=row_num, col=col_num\n",
    "    )\n",
    "\n",
    "# Update layout and show the plot\n",
    "fig.update_layout(height=800, width=1000, title_text=\"Side By Side Subplots: Featurs by Selling Price\")\n",
    "fig.show()\n"
   ]
  },
  {
   "cell_type": "markdown",
   "metadata": {},
   "source": [
    "Some values are seem to be Noises but they are just outlier datas, so we are not gonna drop them"
   ]
  },
  {
   "cell_type": "markdown",
   "metadata": {},
   "source": [
    "## 3.Ploting and Analysis"
   ]
  },
  {
   "cell_type": "code",
   "execution_count": 17,
   "metadata": {},
   "outputs": [
    {
     "data": {
      "text/html": [
       "<div>\n",
       "<style scoped>\n",
       "    .dataframe tbody tr th:only-of-type {\n",
       "        vertical-align: middle;\n",
       "    }\n",
       "\n",
       "    .dataframe tbody tr th {\n",
       "        vertical-align: top;\n",
       "    }\n",
       "\n",
       "    .dataframe thead th {\n",
       "        text-align: right;\n",
       "    }\n",
       "</style>\n",
       "<table border=\"1\" class=\"dataframe\">\n",
       "  <thead>\n",
       "    <tr style=\"text-align: right;\">\n",
       "      <th></th>\n",
       "      <th>Age</th>\n",
       "      <th>Selling_Price</th>\n",
       "      <th>Present_Price</th>\n",
       "      <th>Kms_Driven</th>\n",
       "      <th>Fuel_Type</th>\n",
       "      <th>Seller_Type</th>\n",
       "      <th>Transmission</th>\n",
       "      <th>Owner</th>\n",
       "    </tr>\n",
       "  </thead>\n",
       "  <tbody>\n",
       "    <tr>\n",
       "      <th>5</th>\n",
       "      <td>1</td>\n",
       "      <td>9.25</td>\n",
       "      <td>9.83</td>\n",
       "      <td>2071</td>\n",
       "      <td>Diesel</td>\n",
       "      <td>Dealer</td>\n",
       "      <td>Manual</td>\n",
       "      <td>0</td>\n",
       "    </tr>\n",
       "    <tr>\n",
       "      <th>64</th>\n",
       "      <td>2</td>\n",
       "      <td>33.00</td>\n",
       "      <td>36.23</td>\n",
       "      <td>6000</td>\n",
       "      <td>Diesel</td>\n",
       "      <td>Dealer</td>\n",
       "      <td>Automatic</td>\n",
       "      <td>0</td>\n",
       "    </tr>\n",
       "    <tr>\n",
       "      <th>128</th>\n",
       "      <td>2</td>\n",
       "      <td>0.80</td>\n",
       "      <td>0.87</td>\n",
       "      <td>3000</td>\n",
       "      <td>Petrol</td>\n",
       "      <td>Individual</td>\n",
       "      <td>Manual</td>\n",
       "      <td>0</td>\n",
       "    </tr>\n",
       "    <tr>\n",
       "      <th>220</th>\n",
       "      <td>2</td>\n",
       "      <td>3.50</td>\n",
       "      <td>4.43</td>\n",
       "      <td>38488</td>\n",
       "      <td>Petrol</td>\n",
       "      <td>Dealer</td>\n",
       "      <td>Manual</td>\n",
       "      <td>0</td>\n",
       "    </tr>\n",
       "    <tr>\n",
       "      <th>126</th>\n",
       "      <td>2</td>\n",
       "      <td>0.90</td>\n",
       "      <td>0.95</td>\n",
       "      <td>1300</td>\n",
       "      <td>Petrol</td>\n",
       "      <td>Individual</td>\n",
       "      <td>Manual</td>\n",
       "      <td>0</td>\n",
       "    </tr>\n",
       "    <tr>\n",
       "      <th>52</th>\n",
       "      <td>2</td>\n",
       "      <td>18.00</td>\n",
       "      <td>19.77</td>\n",
       "      <td>15000</td>\n",
       "      <td>Diesel</td>\n",
       "      <td>Dealer</td>\n",
       "      <td>Automatic</td>\n",
       "      <td>0</td>\n",
       "    </tr>\n",
       "    <tr>\n",
       "      <th>27</th>\n",
       "      <td>2</td>\n",
       "      <td>6.00</td>\n",
       "      <td>6.49</td>\n",
       "      <td>16200</td>\n",
       "      <td>Petrol</td>\n",
       "      <td>Individual</td>\n",
       "      <td>Manual</td>\n",
       "      <td>0</td>\n",
       "    </tr>\n",
       "    <tr>\n",
       "      <th>265</th>\n",
       "      <td>2</td>\n",
       "      <td>6.50</td>\n",
       "      <td>8.70</td>\n",
       "      <td>21200</td>\n",
       "      <td>Petrol</td>\n",
       "      <td>Dealer</td>\n",
       "      <td>Manual</td>\n",
       "      <td>0</td>\n",
       "    </tr>\n",
       "    <tr>\n",
       "      <th>49</th>\n",
       "      <td>2</td>\n",
       "      <td>7.75</td>\n",
       "      <td>9.29</td>\n",
       "      <td>37000</td>\n",
       "      <td>Petrol</td>\n",
       "      <td>Dealer</td>\n",
       "      <td>Automatic</td>\n",
       "      <td>0</td>\n",
       "    </tr>\n",
       "    <tr>\n",
       "      <th>206</th>\n",
       "      <td>2</td>\n",
       "      <td>5.75</td>\n",
       "      <td>7.13</td>\n",
       "      <td>12479</td>\n",
       "      <td>Petrol</td>\n",
       "      <td>Dealer</td>\n",
       "      <td>Manual</td>\n",
       "      <td>0</td>\n",
       "    </tr>\n",
       "  </tbody>\n",
       "</table>\n",
       "</div>"
      ],
      "text/plain": [
       "     Age  Selling_Price  Present_Price  Kms_Driven Fuel_Type Seller_Type  \\\n",
       "5      1           9.25           9.83        2071    Diesel      Dealer   \n",
       "64     2          33.00          36.23        6000    Diesel      Dealer   \n",
       "128    2           0.80           0.87        3000    Petrol  Individual   \n",
       "220    2           3.50           4.43       38488    Petrol      Dealer   \n",
       "126    2           0.90           0.95        1300    Petrol  Individual   \n",
       "52     2          18.00          19.77       15000    Diesel      Dealer   \n",
       "27     2           6.00           6.49       16200    Petrol  Individual   \n",
       "265    2           6.50           8.70       21200    Petrol      Dealer   \n",
       "49     2           7.75           9.29       37000    Petrol      Dealer   \n",
       "206    2           5.75           7.13       12479    Petrol      Dealer   \n",
       "\n",
       "    Transmission  Owner  \n",
       "5         Manual      0  \n",
       "64     Automatic      0  \n",
       "128       Manual      0  \n",
       "220       Manual      0  \n",
       "126       Manual      0  \n",
       "52     Automatic      0  \n",
       "27        Manual      0  \n",
       "265       Manual      0  \n",
       "49     Automatic      0  \n",
       "206       Manual      0  "
      ]
     },
     "execution_count": 17,
     "metadata": {},
     "output_type": "execute_result"
    }
   ],
   "source": [
    "# more details about first 10 values\n",
    "df.head(10)"
   ]
  },
  {
   "cell_type": "markdown",
   "metadata": {},
   "source": [
    "1. Here cars are newer\n",
    "2. Selling price differse between 0.80 to 33.00\n",
    "3. Present price differse between 0.87 to 36.23\n",
    "4. Car prices has rised since being sold (slling price and present price)\n",
    "5. Dealers have sold cars in more prices than individuals\n",
    "7. Most of the new cars are petrol (7 of 10) and rest are diesel\n",
    "8. All of these cars are first hand\n",
    "9. 2 of the 4 most valued cars are automatic"
   ]
  },
  {
   "cell_type": "code",
   "execution_count": 18,
   "metadata": {},
   "outputs": [
    {
     "data": {
      "text/html": [
       "<div>\n",
       "<style scoped>\n",
       "    .dataframe tbody tr th:only-of-type {\n",
       "        vertical-align: middle;\n",
       "    }\n",
       "\n",
       "    .dataframe tbody tr th {\n",
       "        vertical-align: top;\n",
       "    }\n",
       "\n",
       "    .dataframe thead th {\n",
       "        text-align: right;\n",
       "    }\n",
       "</style>\n",
       "<table border=\"1\" class=\"dataframe\">\n",
       "  <thead>\n",
       "    <tr style=\"text-align: right;\">\n",
       "      <th></th>\n",
       "      <th>Age</th>\n",
       "      <th>Selling_Price</th>\n",
       "      <th>Present_Price</th>\n",
       "      <th>Kms_Driven</th>\n",
       "      <th>Fuel_Type</th>\n",
       "      <th>Seller_Type</th>\n",
       "      <th>Transmission</th>\n",
       "      <th>Owner</th>\n",
       "    </tr>\n",
       "  </thead>\n",
       "  <tbody>\n",
       "    <tr>\n",
       "      <th>85</th>\n",
       "      <td>13</td>\n",
       "      <td>2.50</td>\n",
       "      <td>23.73</td>\n",
       "      <td>142000</td>\n",
       "      <td>Petrol</td>\n",
       "      <td>Individual</td>\n",
       "      <td>Automatic</td>\n",
       "      <td>3</td>\n",
       "    </tr>\n",
       "    <tr>\n",
       "      <th>47</th>\n",
       "      <td>13</td>\n",
       "      <td>1.05</td>\n",
       "      <td>4.15</td>\n",
       "      <td>65000</td>\n",
       "      <td>Petrol</td>\n",
       "      <td>Dealer</td>\n",
       "      <td>Manual</td>\n",
       "      <td>0</td>\n",
       "    </tr>\n",
       "    <tr>\n",
       "      <th>200</th>\n",
       "      <td>13</td>\n",
       "      <td>0.10</td>\n",
       "      <td>0.75</td>\n",
       "      <td>92233</td>\n",
       "      <td>Petrol</td>\n",
       "      <td>Individual</td>\n",
       "      <td>Manual</td>\n",
       "      <td>0</td>\n",
       "    </tr>\n",
       "    <tr>\n",
       "      <th>54</th>\n",
       "      <td>14</td>\n",
       "      <td>2.75</td>\n",
       "      <td>10.21</td>\n",
       "      <td>90000</td>\n",
       "      <td>Petrol</td>\n",
       "      <td>Individual</td>\n",
       "      <td>Manual</td>\n",
       "      <td>0</td>\n",
       "    </tr>\n",
       "    <tr>\n",
       "      <th>189</th>\n",
       "      <td>14</td>\n",
       "      <td>0.20</td>\n",
       "      <td>0.57</td>\n",
       "      <td>55000</td>\n",
       "      <td>Petrol</td>\n",
       "      <td>Individual</td>\n",
       "      <td>Manual</td>\n",
       "      <td>0</td>\n",
       "    </tr>\n",
       "    <tr>\n",
       "      <th>92</th>\n",
       "      <td>14</td>\n",
       "      <td>3.51</td>\n",
       "      <td>13.70</td>\n",
       "      <td>75000</td>\n",
       "      <td>Petrol</td>\n",
       "      <td>Dealer</td>\n",
       "      <td>Manual</td>\n",
       "      <td>0</td>\n",
       "    </tr>\n",
       "    <tr>\n",
       "      <th>84</th>\n",
       "      <td>14</td>\n",
       "      <td>3.49</td>\n",
       "      <td>13.46</td>\n",
       "      <td>197176</td>\n",
       "      <td>Diesel</td>\n",
       "      <td>Dealer</td>\n",
       "      <td>Manual</td>\n",
       "      <td>0</td>\n",
       "    </tr>\n",
       "    <tr>\n",
       "      <th>77</th>\n",
       "      <td>15</td>\n",
       "      <td>1.50</td>\n",
       "      <td>12.35</td>\n",
       "      <td>135154</td>\n",
       "      <td>Petrol</td>\n",
       "      <td>Dealer</td>\n",
       "      <td>Automatic</td>\n",
       "      <td>0</td>\n",
       "    </tr>\n",
       "    <tr>\n",
       "      <th>37</th>\n",
       "      <td>16</td>\n",
       "      <td>0.35</td>\n",
       "      <td>2.28</td>\n",
       "      <td>127000</td>\n",
       "      <td>Petrol</td>\n",
       "      <td>Individual</td>\n",
       "      <td>Manual</td>\n",
       "      <td>0</td>\n",
       "    </tr>\n",
       "    <tr>\n",
       "      <th>39</th>\n",
       "      <td>16</td>\n",
       "      <td>2.25</td>\n",
       "      <td>7.98</td>\n",
       "      <td>62000</td>\n",
       "      <td>Petrol</td>\n",
       "      <td>Dealer</td>\n",
       "      <td>Manual</td>\n",
       "      <td>0</td>\n",
       "    </tr>\n",
       "  </tbody>\n",
       "</table>\n",
       "</div>"
      ],
      "text/plain": [
       "     Age  Selling_Price  Present_Price  Kms_Driven Fuel_Type Seller_Type  \\\n",
       "85    13           2.50          23.73      142000    Petrol  Individual   \n",
       "47    13           1.05           4.15       65000    Petrol      Dealer   \n",
       "200   13           0.10           0.75       92233    Petrol  Individual   \n",
       "54    14           2.75          10.21       90000    Petrol  Individual   \n",
       "189   14           0.20           0.57       55000    Petrol  Individual   \n",
       "92    14           3.51          13.70       75000    Petrol      Dealer   \n",
       "84    14           3.49          13.46      197176    Diesel      Dealer   \n",
       "77    15           1.50          12.35      135154    Petrol      Dealer   \n",
       "37    16           0.35           2.28      127000    Petrol  Individual   \n",
       "39    16           2.25           7.98       62000    Petrol      Dealer   \n",
       "\n",
       "    Transmission  Owner  \n",
       "85     Automatic      3  \n",
       "47        Manual      0  \n",
       "200       Manual      0  \n",
       "54        Manual      0  \n",
       "189       Manual      0  \n",
       "92        Manual      0  \n",
       "84        Manual      0  \n",
       "77     Automatic      0  \n",
       "37        Manual      0  \n",
       "39        Manual      0  "
      ]
     },
     "execution_count": 18,
     "metadata": {},
     "output_type": "execute_result"
    }
   ],
   "source": [
    "# more details about bottom 10 values\n",
    "df.tail(10)"
   ]
  },
  {
   "cell_type": "markdown",
   "metadata": {},
   "source": [
    "1. here cars are older\n",
    "2. selling price differse between 0.10 to 3.51\n",
    "3. present price differse between 0.57 to 23.73\n",
    "4. Car prices has rised since being sold (selling price and present price)\n",
    "5. Dealers and individuals hsa sold equal number of cars.\n",
    "7. most of the cars are petrol (9 of 10) and just one is diesel.\n",
    "8. all of these cars are first hand exept one car that has been owend by 3 people\n",
    "9. 2 of the 3 most valued cars are Manual\t"
   ]
  },
  {
   "cell_type": "code",
   "execution_count": 19,
   "metadata": {},
   "outputs": [],
   "source": [
    "def pplot(XC):\n",
    "    fig2 = px.scatter(df, x=XC, y='Selling_Price',color = 'Present_Price',title=f'Selling Price by {XC}',template=\"plotly_dark\", color_continuous_scale='Picnic') # setting the plot type\n",
    "    fig2.update_traces(marker_size=4)\n",
    "    fig2.show() # showing the plot\n"
   ]
  },
  {
   "cell_type": "code",
   "execution_count": 20,
   "metadata": {},
   "outputs": [
    {
     "data": {
      "application/vnd.plotly.v1+json": {
       "config": {
        "plotlyServerURL": "https://plot.ly"
       },
       "data": [
        {
         "hovertemplate": "Age=%{x}<br>Selling_Price=%{y}<br>Present_Price=%{marker.color}<extra></extra>",
         "legendgroup": "",
         "marker": {
          "color": [
           9.83,
           36.23,
           0.87,
           4.43,
           0.95,
           19.77,
           6.49,
           8.7,
           9.29,
           7.13,
           23.15,
           5.7,
           1.47,
           8.1,
           1.47,
           1.6,
           1.78,
           1.82,
           0.84,
           5.8,
           5.71,
           0.95,
           0.54,
           9.85,
           0.52,
           0.51,
           0.87,
           3.6,
           0.51,
           12.5,
           9.4,
           0.51,
           25.39,
           0.81,
           9.4,
           18.64,
           7.6,
           4.43,
           4.43,
           7.6,
           13.6,
           25.39,
           20.91,
           4.43,
           5.9,
           1.9,
           0.54,
           0.55,
           0.55,
           0.94,
           0.84,
           0.8,
           0.87,
           0.57,
           0.95,
           0.8,
           0.48,
           1.17,
           1.26,
           5.7,
           1.5,
           1.78,
           1.5,
           13.6,
           1.4,
           14.89,
           0.54,
           11.8,
           8.4,
           8.5,
           7.9,
           3.76,
           7.87,
           13.6,
           13.6,
           9.4,
           3.95,
           8.4,
           13.6,
           10.79,
           7.7,
           10.79,
           13.6,
           8.89,
           5.97,
           11.6,
           8.61,
           5.7,
           8.12,
           13.09,
           4.43,
           7.71,
           10.38,
           0.84,
           1.47,
           1.9,
           5.9,
           0.32,
           7.5,
           13.6,
           8.92,
           10.38,
           6.1,
           0.54,
           0.82,
           0.84,
           5.09,
           0.74,
           10.79,
           0.55,
           0.95,
           0.72,
           0.84,
           9.94,
           1.47,
           35.96,
           5.7,
           1.47,
           14.79,
           5.7,
           13.46,
           5.8,
           7.85,
           7.27,
           13.6,
           7.13,
           6.8,
           9.4,
           13.6,
           7.7,
           13.6,
           6.82,
           9.4,
           7,
           5.7,
           30.61,
           30.61,
           7.71,
           5.9,
           7.2,
           10,
           10,
           13.6,
           14.79,
           5.7,
           13.6,
           2.37,
           7.6,
           9.9,
           13.6,
           0.81,
           6.8,
           7.13,
           9.4,
           0.64,
           6.4,
           6.8,
           7,
           0.52,
           7,
           14,
           5.59,
           6.76,
           7.49,
           16.09,
           35.96,
           12.04,
           9.95,
           3.45,
           6.95,
           1.2,
           8.06,
           3.46,
           35.96,
           0.826,
           0.99,
           2.4,
           0.787,
           3.98,
           6.87,
           6.76,
           8.06,
           0.88,
           8.93,
           6.8,
           1.47,
           30.61,
           18.61,
           1.5,
           1.9,
           18.61,
           6.79,
           6.05,
           9.4,
           9.4,
           9.9,
           5.7,
           9.9,
           9.4,
           14.68,
           9.4,
           18.61,
           4.89,
           4.6,
           4.41,
           0.787,
           9.54,
           0.99,
           0.65,
           1.2,
           0.58,
           0.47,
           0.57,
           0.73,
           1.47,
           0.51,
           5.9,
           5.87,
           30.61,
           0.83,
           30.61,
           0.99,
           4.43,
           9.4,
           9.4,
           6.79,
           0.81,
           6.79,
           13.74,
           5.35,
           2.69,
           1.75,
           4.6,
           0.57,
           9.4,
           18.61,
           0.99,
           5.98,
           9.4,
           0.51,
           9.4,
           13.74,
           4.99,
           8.01,
           4.15,
           12.48,
           7.74,
           10,
           4.89,
           0.826,
           1.05,
           1.5,
           5.71,
           6.79,
           4.6,
           0.787,
           0.57,
           4.43,
           0.95,
           4.6,
           7.98,
           9.9,
           0.94,
           1.05,
           3.95,
           0.52,
           0.95,
           7.5,
           0.51,
           92.6,
           6.79,
           20.45,
           22.83,
           20.45,
           18.54,
           10,
           11,
           1.75,
           15.04,
           7.21,
           18.61,
           0.58,
           22.78,
           0.52,
           0.787,
           7.15,
           0.75,
           0.75,
           0.58,
           0.75,
           7.6,
           23.73,
           4.15,
           0.75,
           10.21,
           0.57,
           13.7,
           13.46,
           12.35,
           2.28,
           7.98
          ],
          "coloraxis": "coloraxis",
          "size": 4,
          "symbol": "circle"
         },
         "mode": "markers",
         "name": "",
         "orientation": "v",
         "showlegend": false,
         "type": "scatter",
         "x": [
          1,
          2,
          2,
          2,
          2,
          2,
          2,
          2,
          2,
          2,
          2,
          2,
          2,
          2,
          2,
          2,
          2,
          2,
          2,
          2,
          2,
          2,
          2,
          2,
          2,
          2,
          2,
          2,
          2,
          2,
          2,
          2,
          2,
          2,
          2,
          2,
          3,
          3,
          3,
          3,
          3,
          3,
          3,
          3,
          3,
          3,
          3,
          3,
          3,
          3,
          3,
          3,
          3,
          3,
          3,
          3,
          3,
          3,
          3,
          3,
          3,
          3,
          3,
          3,
          3,
          3,
          3,
          3,
          3,
          3,
          3,
          3,
          3,
          3,
          3,
          3,
          3,
          3,
          3,
          3,
          3,
          3,
          3,
          3,
          3,
          3,
          4,
          4,
          4,
          4,
          4,
          4,
          4,
          4,
          4,
          4,
          4,
          4,
          4,
          4,
          4,
          4,
          4,
          4,
          4,
          4,
          4,
          4,
          4,
          4,
          4,
          4,
          4,
          4,
          4,
          4,
          4,
          4,
          4,
          4,
          4,
          4,
          4,
          4,
          4,
          4,
          4,
          4,
          4,
          4,
          4,
          4,
          4,
          4,
          4,
          4,
          4,
          4,
          4,
          4,
          4,
          4,
          4,
          4,
          4,
          4,
          4,
          5,
          5,
          5,
          5,
          5,
          5,
          5,
          5,
          5,
          5,
          5,
          5,
          5,
          5,
          5,
          5,
          5,
          5,
          5,
          5,
          5,
          5,
          5,
          5,
          5,
          5,
          5,
          5,
          5,
          5,
          5,
          5,
          5,
          5,
          5,
          5,
          5,
          5,
          6,
          6,
          6,
          6,
          6,
          6,
          6,
          6,
          6,
          6,
          6,
          6,
          6,
          6,
          6,
          6,
          6,
          6,
          6,
          6,
          6,
          6,
          6,
          6,
          6,
          6,
          6,
          6,
          6,
          6,
          6,
          6,
          6,
          7,
          7,
          7,
          7,
          7,
          7,
          7,
          7,
          7,
          7,
          7,
          7,
          7,
          7,
          7,
          7,
          7,
          7,
          7,
          7,
          7,
          7,
          7,
          8,
          8,
          8,
          8,
          8,
          8,
          8,
          8,
          8,
          8,
          8,
          8,
          8,
          8,
          8,
          8,
          8,
          8,
          8,
          9,
          9,
          9,
          9,
          9,
          9,
          9,
          9,
          9,
          9,
          9,
          9,
          9,
          9,
          9,
          10,
          10,
          10,
          10,
          10,
          10,
          11,
          11,
          11,
          11,
          11,
          11,
          11,
          12,
          12,
          13,
          13,
          13,
          13,
          14,
          14,
          14,
          14,
          15,
          16,
          16
         ],
         "xaxis": "x",
         "y": [
          9.25,
          33,
          0.8,
          3.5,
          0.9,
          18,
          6,
          6.5,
          7.75,
          5.75,
          19.75,
          5.25,
          1.2,
          7.9,
          1.35,
          1.45,
          1.65,
          1.7,
          0.78,
          4.8,
          4.9,
          0.75,
          0.48,
          7.25,
          0.48,
          0.48,
          0.75,
          2.85,
          0.4,
          11.5,
          9.1,
          0.45,
          23,
          0.65,
          9.25,
          17,
          6.25,
          3.1,
          2.9,
          5.25,
          12.9,
          20.75,
          14.25,
          3.15,
          5.3,
          1.75,
          0.45,
          0.45,
          0.5,
          0.51,
          0.6,
          0.6,
          0.6,
          0.35,
          0.72,
          0.75,
          0.3,
          1.05,
          1.05,
          5.25,
          1.15,
          1.2,
          1.2,
          11.25,
          1.15,
          14.73,
          0.45,
          8.99,
          6,
          7.4,
          5.65,
          3,
          5.85,
          10.9,
          10.11,
          8.35,
          2.85,
          6.4,
          10.25,
          7.75,
          6.6,
          7.75,
          9.15,
          8.75,
          5.5,
          9.5,
          6.5,
          4.4,
          6.75,
          8.55,
          2.75,
          6.1,
          7.45,
          0.48,
          1.1,
          1.1,
          4,
          0.18,
          5.75,
          8.4,
          7.45,
          6.85,
          5.4,
          0.4,
          0.75,
          0.55,
          3.25,
          0.65,
          7.25,
          0.4,
          0.6,
          0.38,
          0.6,
          7.5,
          1.11,
          23.5,
          5.15,
          1.15,
          11.45,
          5.5,
          12.5,
          4,
          4.75,
          4.5,
          11.25,
          4.75,
          3.95,
          5.95,
          8.4,
          4.5,
          8.5,
          5.4,
          8.25,
          4,
          5.25,
          23,
          23,
          5.8,
          5.25,
          4.65,
          6.7,
          7.5,
          9.7,
          11.75,
          4.85,
          8.65,
          1.35,
          6,
          7.2,
          6.25,
          0.42,
          5.3,
          4.4,
          6.45,
          0.4,
          4.5,
          3.75,
          3.65,
          0.35,
          3.9,
          8.25,
          3.35,
          4.75,
          4.95,
          11.25,
          18.75,
          7.5,
          6,
          1.35,
          4.75,
          0.65,
          5.5,
          2.5,
          19.99,
          0.45,
          0.6,
          1.15,
          0.55,
          2.55,
          4.6,
          3.95,
          5.5,
          0.5,
          4.9,
          4.1,
          1.1,
          16,
          7.45,
          1.25,
          1.05,
          6.95,
          4.5,
          3.45,
          5.11,
          6.15,
          5.25,
          3.9,
          5,
          4.8,
          5.5,
          5.95,
          7.05,
          2.65,
          4,
          2.9,
          0.65,
          4.75,
          0.5,
          0.2,
          0.6,
          0.3,
          0.27,
          0.25,
          0.42,
          1,
          0.25,
          3.5,
          4.15,
          14.9,
          0.4,
          14.5,
          0.5,
          2,
          5.35,
          5.2,
          3.75,
          0.6,
          3.1,
          5.9,
          3,
          1.25,
          0.95,
          3.1,
          0.2,
          4.95,
          5.85,
          0.45,
          3.1,
          4.5,
          0.3,
          4.5,
          4.35,
          3,
          4.4,
          2.85,
          4.5,
          2.95,
          4.1,
          2.35,
          0.5,
          0.35,
          1.05,
          2.65,
          2.9,
          2.95,
          0.38,
          0.15,
          2.55,
          0.45,
          2.7,
          2.65,
          3.25,
          0.52,
          0.31,
          1.95,
          0.25,
          0.45,
          2.25,
          0.16,
          35,
          3.25,
          9.65,
          5.25,
          9.25,
          4.75,
          3,
          3.35,
          0.9,
          3.6,
          2.25,
          3.8,
          0.25,
          4,
          0.17,
          0.2,
          1.95,
          0.2,
          0.25,
          0.12,
          0.2,
          2.1,
          2.5,
          1.05,
          0.1,
          2.75,
          0.2,
          3.51,
          3.49,
          1.5,
          0.35,
          2.25
         ],
         "yaxis": "y"
        }
       ],
       "layout": {
        "coloraxis": {
         "colorbar": {
          "title": {
           "text": "Present_Price"
          }
         },
         "colorscale": [
          [
           0,
           "rgb(0,0,255)"
          ],
          [
           0.1,
           "rgb(51,153,255)"
          ],
          [
           0.2,
           "rgb(102,204,255)"
          ],
          [
           0.3,
           "rgb(153,204,255)"
          ],
          [
           0.4,
           "rgb(204,204,255)"
          ],
          [
           0.5,
           "rgb(255,255,255)"
          ],
          [
           0.6,
           "rgb(255,204,255)"
          ],
          [
           0.7,
           "rgb(255,153,255)"
          ],
          [
           0.8,
           "rgb(255,102,204)"
          ],
          [
           0.9,
           "rgb(255,102,102)"
          ],
          [
           1,
           "rgb(255,0,0)"
          ]
         ]
        },
        "legend": {
         "tracegroupgap": 0
        },
        "template": {
         "data": {
          "bar": [
           {
            "error_x": {
             "color": "#f2f5fa"
            },
            "error_y": {
             "color": "#f2f5fa"
            },
            "marker": {
             "line": {
              "color": "rgb(17,17,17)",
              "width": 0.5
             },
             "pattern": {
              "fillmode": "overlay",
              "size": 10,
              "solidity": 0.2
             }
            },
            "type": "bar"
           }
          ],
          "barpolar": [
           {
            "marker": {
             "line": {
              "color": "rgb(17,17,17)",
              "width": 0.5
             },
             "pattern": {
              "fillmode": "overlay",
              "size": 10,
              "solidity": 0.2
             }
            },
            "type": "barpolar"
           }
          ],
          "carpet": [
           {
            "aaxis": {
             "endlinecolor": "#A2B1C6",
             "gridcolor": "#506784",
             "linecolor": "#506784",
             "minorgridcolor": "#506784",
             "startlinecolor": "#A2B1C6"
            },
            "baxis": {
             "endlinecolor": "#A2B1C6",
             "gridcolor": "#506784",
             "linecolor": "#506784",
             "minorgridcolor": "#506784",
             "startlinecolor": "#A2B1C6"
            },
            "type": "carpet"
           }
          ],
          "choropleth": [
           {
            "colorbar": {
             "outlinewidth": 0,
             "ticks": ""
            },
            "type": "choropleth"
           }
          ],
          "contour": [
           {
            "colorbar": {
             "outlinewidth": 0,
             "ticks": ""
            },
            "colorscale": [
             [
              0,
              "#0d0887"
             ],
             [
              0.1111111111111111,
              "#46039f"
             ],
             [
              0.2222222222222222,
              "#7201a8"
             ],
             [
              0.3333333333333333,
              "#9c179e"
             ],
             [
              0.4444444444444444,
              "#bd3786"
             ],
             [
              0.5555555555555556,
              "#d8576b"
             ],
             [
              0.6666666666666666,
              "#ed7953"
             ],
             [
              0.7777777777777778,
              "#fb9f3a"
             ],
             [
              0.8888888888888888,
              "#fdca26"
             ],
             [
              1,
              "#f0f921"
             ]
            ],
            "type": "contour"
           }
          ],
          "contourcarpet": [
           {
            "colorbar": {
             "outlinewidth": 0,
             "ticks": ""
            },
            "type": "contourcarpet"
           }
          ],
          "heatmap": [
           {
            "colorbar": {
             "outlinewidth": 0,
             "ticks": ""
            },
            "colorscale": [
             [
              0,
              "#0d0887"
             ],
             [
              0.1111111111111111,
              "#46039f"
             ],
             [
              0.2222222222222222,
              "#7201a8"
             ],
             [
              0.3333333333333333,
              "#9c179e"
             ],
             [
              0.4444444444444444,
              "#bd3786"
             ],
             [
              0.5555555555555556,
              "#d8576b"
             ],
             [
              0.6666666666666666,
              "#ed7953"
             ],
             [
              0.7777777777777778,
              "#fb9f3a"
             ],
             [
              0.8888888888888888,
              "#fdca26"
             ],
             [
              1,
              "#f0f921"
             ]
            ],
            "type": "heatmap"
           }
          ],
          "heatmapgl": [
           {
            "colorbar": {
             "outlinewidth": 0,
             "ticks": ""
            },
            "colorscale": [
             [
              0,
              "#0d0887"
             ],
             [
              0.1111111111111111,
              "#46039f"
             ],
             [
              0.2222222222222222,
              "#7201a8"
             ],
             [
              0.3333333333333333,
              "#9c179e"
             ],
             [
              0.4444444444444444,
              "#bd3786"
             ],
             [
              0.5555555555555556,
              "#d8576b"
             ],
             [
              0.6666666666666666,
              "#ed7953"
             ],
             [
              0.7777777777777778,
              "#fb9f3a"
             ],
             [
              0.8888888888888888,
              "#fdca26"
             ],
             [
              1,
              "#f0f921"
             ]
            ],
            "type": "heatmapgl"
           }
          ],
          "histogram": [
           {
            "marker": {
             "pattern": {
              "fillmode": "overlay",
              "size": 10,
              "solidity": 0.2
             }
            },
            "type": "histogram"
           }
          ],
          "histogram2d": [
           {
            "colorbar": {
             "outlinewidth": 0,
             "ticks": ""
            },
            "colorscale": [
             [
              0,
              "#0d0887"
             ],
             [
              0.1111111111111111,
              "#46039f"
             ],
             [
              0.2222222222222222,
              "#7201a8"
             ],
             [
              0.3333333333333333,
              "#9c179e"
             ],
             [
              0.4444444444444444,
              "#bd3786"
             ],
             [
              0.5555555555555556,
              "#d8576b"
             ],
             [
              0.6666666666666666,
              "#ed7953"
             ],
             [
              0.7777777777777778,
              "#fb9f3a"
             ],
             [
              0.8888888888888888,
              "#fdca26"
             ],
             [
              1,
              "#f0f921"
             ]
            ],
            "type": "histogram2d"
           }
          ],
          "histogram2dcontour": [
           {
            "colorbar": {
             "outlinewidth": 0,
             "ticks": ""
            },
            "colorscale": [
             [
              0,
              "#0d0887"
             ],
             [
              0.1111111111111111,
              "#46039f"
             ],
             [
              0.2222222222222222,
              "#7201a8"
             ],
             [
              0.3333333333333333,
              "#9c179e"
             ],
             [
              0.4444444444444444,
              "#bd3786"
             ],
             [
              0.5555555555555556,
              "#d8576b"
             ],
             [
              0.6666666666666666,
              "#ed7953"
             ],
             [
              0.7777777777777778,
              "#fb9f3a"
             ],
             [
              0.8888888888888888,
              "#fdca26"
             ],
             [
              1,
              "#f0f921"
             ]
            ],
            "type": "histogram2dcontour"
           }
          ],
          "mesh3d": [
           {
            "colorbar": {
             "outlinewidth": 0,
             "ticks": ""
            },
            "type": "mesh3d"
           }
          ],
          "parcoords": [
           {
            "line": {
             "colorbar": {
              "outlinewidth": 0,
              "ticks": ""
             }
            },
            "type": "parcoords"
           }
          ],
          "pie": [
           {
            "automargin": true,
            "type": "pie"
           }
          ],
          "scatter": [
           {
            "marker": {
             "line": {
              "color": "#283442"
             }
            },
            "type": "scatter"
           }
          ],
          "scatter3d": [
           {
            "line": {
             "colorbar": {
              "outlinewidth": 0,
              "ticks": ""
             }
            },
            "marker": {
             "colorbar": {
              "outlinewidth": 0,
              "ticks": ""
             }
            },
            "type": "scatter3d"
           }
          ],
          "scattercarpet": [
           {
            "marker": {
             "colorbar": {
              "outlinewidth": 0,
              "ticks": ""
             }
            },
            "type": "scattercarpet"
           }
          ],
          "scattergeo": [
           {
            "marker": {
             "colorbar": {
              "outlinewidth": 0,
              "ticks": ""
             }
            },
            "type": "scattergeo"
           }
          ],
          "scattergl": [
           {
            "marker": {
             "line": {
              "color": "#283442"
             }
            },
            "type": "scattergl"
           }
          ],
          "scattermapbox": [
           {
            "marker": {
             "colorbar": {
              "outlinewidth": 0,
              "ticks": ""
             }
            },
            "type": "scattermapbox"
           }
          ],
          "scatterpolar": [
           {
            "marker": {
             "colorbar": {
              "outlinewidth": 0,
              "ticks": ""
             }
            },
            "type": "scatterpolar"
           }
          ],
          "scatterpolargl": [
           {
            "marker": {
             "colorbar": {
              "outlinewidth": 0,
              "ticks": ""
             }
            },
            "type": "scatterpolargl"
           }
          ],
          "scatterternary": [
           {
            "marker": {
             "colorbar": {
              "outlinewidth": 0,
              "ticks": ""
             }
            },
            "type": "scatterternary"
           }
          ],
          "surface": [
           {
            "colorbar": {
             "outlinewidth": 0,
             "ticks": ""
            },
            "colorscale": [
             [
              0,
              "#0d0887"
             ],
             [
              0.1111111111111111,
              "#46039f"
             ],
             [
              0.2222222222222222,
              "#7201a8"
             ],
             [
              0.3333333333333333,
              "#9c179e"
             ],
             [
              0.4444444444444444,
              "#bd3786"
             ],
             [
              0.5555555555555556,
              "#d8576b"
             ],
             [
              0.6666666666666666,
              "#ed7953"
             ],
             [
              0.7777777777777778,
              "#fb9f3a"
             ],
             [
              0.8888888888888888,
              "#fdca26"
             ],
             [
              1,
              "#f0f921"
             ]
            ],
            "type": "surface"
           }
          ],
          "table": [
           {
            "cells": {
             "fill": {
              "color": "#506784"
             },
             "line": {
              "color": "rgb(17,17,17)"
             }
            },
            "header": {
             "fill": {
              "color": "#2a3f5f"
             },
             "line": {
              "color": "rgb(17,17,17)"
             }
            },
            "type": "table"
           }
          ]
         },
         "layout": {
          "annotationdefaults": {
           "arrowcolor": "#f2f5fa",
           "arrowhead": 0,
           "arrowwidth": 1
          },
          "autotypenumbers": "strict",
          "coloraxis": {
           "colorbar": {
            "outlinewidth": 0,
            "ticks": ""
           }
          },
          "colorscale": {
           "diverging": [
            [
             0,
             "#8e0152"
            ],
            [
             0.1,
             "#c51b7d"
            ],
            [
             0.2,
             "#de77ae"
            ],
            [
             0.3,
             "#f1b6da"
            ],
            [
             0.4,
             "#fde0ef"
            ],
            [
             0.5,
             "#f7f7f7"
            ],
            [
             0.6,
             "#e6f5d0"
            ],
            [
             0.7,
             "#b8e186"
            ],
            [
             0.8,
             "#7fbc41"
            ],
            [
             0.9,
             "#4d9221"
            ],
            [
             1,
             "#276419"
            ]
           ],
           "sequential": [
            [
             0,
             "#0d0887"
            ],
            [
             0.1111111111111111,
             "#46039f"
            ],
            [
             0.2222222222222222,
             "#7201a8"
            ],
            [
             0.3333333333333333,
             "#9c179e"
            ],
            [
             0.4444444444444444,
             "#bd3786"
            ],
            [
             0.5555555555555556,
             "#d8576b"
            ],
            [
             0.6666666666666666,
             "#ed7953"
            ],
            [
             0.7777777777777778,
             "#fb9f3a"
            ],
            [
             0.8888888888888888,
             "#fdca26"
            ],
            [
             1,
             "#f0f921"
            ]
           ],
           "sequentialminus": [
            [
             0,
             "#0d0887"
            ],
            [
             0.1111111111111111,
             "#46039f"
            ],
            [
             0.2222222222222222,
             "#7201a8"
            ],
            [
             0.3333333333333333,
             "#9c179e"
            ],
            [
             0.4444444444444444,
             "#bd3786"
            ],
            [
             0.5555555555555556,
             "#d8576b"
            ],
            [
             0.6666666666666666,
             "#ed7953"
            ],
            [
             0.7777777777777778,
             "#fb9f3a"
            ],
            [
             0.8888888888888888,
             "#fdca26"
            ],
            [
             1,
             "#f0f921"
            ]
           ]
          },
          "colorway": [
           "#636efa",
           "#EF553B",
           "#00cc96",
           "#ab63fa",
           "#FFA15A",
           "#19d3f3",
           "#FF6692",
           "#B6E880",
           "#FF97FF",
           "#FECB52"
          ],
          "font": {
           "color": "#f2f5fa"
          },
          "geo": {
           "bgcolor": "rgb(17,17,17)",
           "lakecolor": "rgb(17,17,17)",
           "landcolor": "rgb(17,17,17)",
           "showlakes": true,
           "showland": true,
           "subunitcolor": "#506784"
          },
          "hoverlabel": {
           "align": "left"
          },
          "hovermode": "closest",
          "mapbox": {
           "style": "dark"
          },
          "paper_bgcolor": "rgb(17,17,17)",
          "plot_bgcolor": "rgb(17,17,17)",
          "polar": {
           "angularaxis": {
            "gridcolor": "#506784",
            "linecolor": "#506784",
            "ticks": ""
           },
           "bgcolor": "rgb(17,17,17)",
           "radialaxis": {
            "gridcolor": "#506784",
            "linecolor": "#506784",
            "ticks": ""
           }
          },
          "scene": {
           "xaxis": {
            "backgroundcolor": "rgb(17,17,17)",
            "gridcolor": "#506784",
            "gridwidth": 2,
            "linecolor": "#506784",
            "showbackground": true,
            "ticks": "",
            "zerolinecolor": "#C8D4E3"
           },
           "yaxis": {
            "backgroundcolor": "rgb(17,17,17)",
            "gridcolor": "#506784",
            "gridwidth": 2,
            "linecolor": "#506784",
            "showbackground": true,
            "ticks": "",
            "zerolinecolor": "#C8D4E3"
           },
           "zaxis": {
            "backgroundcolor": "rgb(17,17,17)",
            "gridcolor": "#506784",
            "gridwidth": 2,
            "linecolor": "#506784",
            "showbackground": true,
            "ticks": "",
            "zerolinecolor": "#C8D4E3"
           }
          },
          "shapedefaults": {
           "line": {
            "color": "#f2f5fa"
           }
          },
          "sliderdefaults": {
           "bgcolor": "#C8D4E3",
           "bordercolor": "rgb(17,17,17)",
           "borderwidth": 1,
           "tickwidth": 0
          },
          "ternary": {
           "aaxis": {
            "gridcolor": "#506784",
            "linecolor": "#506784",
            "ticks": ""
           },
           "baxis": {
            "gridcolor": "#506784",
            "linecolor": "#506784",
            "ticks": ""
           },
           "bgcolor": "rgb(17,17,17)",
           "caxis": {
            "gridcolor": "#506784",
            "linecolor": "#506784",
            "ticks": ""
           }
          },
          "title": {
           "x": 0.05
          },
          "updatemenudefaults": {
           "bgcolor": "#506784",
           "borderwidth": 0
          },
          "xaxis": {
           "automargin": true,
           "gridcolor": "#283442",
           "linecolor": "#506784",
           "ticks": "",
           "title": {
            "standoff": 15
           },
           "zerolinecolor": "#283442",
           "zerolinewidth": 2
          },
          "yaxis": {
           "automargin": true,
           "gridcolor": "#283442",
           "linecolor": "#506784",
           "ticks": "",
           "title": {
            "standoff": 15
           },
           "zerolinecolor": "#283442",
           "zerolinewidth": 2
          }
         }
        },
        "title": {
         "text": "Selling Price by Age"
        },
        "xaxis": {
         "anchor": "y",
         "domain": [
          0,
          1
         ],
         "title": {
          "text": "Age"
         }
        },
        "yaxis": {
         "anchor": "x",
         "domain": [
          0,
          1
         ],
         "title": {
          "text": "Selling_Price"
         }
        }
       }
      }
     },
     "metadata": {},
     "output_type": "display_data"
    }
   ],
   "source": [
    "pplot('Age')"
   ]
  },
  {
   "cell_type": "markdown",
   "metadata": {},
   "source": [
    "1. Newer cars price more than old ones\n",
    "2. Newer cars price more when solled in general\n",
    "3. Price of cars has got up since been sold but over all it gets down by time\n",
    "4. Some of the least priced cars are the newer ones!\n",
    "5. Max of selling price is 35 and the Min one has been sold for 0.1\n",
    "6. Most new car is 1 year age and the oldest one is 16 years old\n",
    "7. Selling price mean is 4.66\n",
    "8. All cars after 8 years have been sold for less than mean of selling price\n",
    "9. Mean of Age is 5.37\n",
    "10. Cars befor Mean have a higher Selling and Present price"
   ]
  },
  {
   "cell_type": "code",
   "execution_count": 21,
   "metadata": {},
   "outputs": [
    {
     "data": {
      "text/plain": [
       "0.1"
      ]
     },
     "execution_count": 21,
     "metadata": {},
     "output_type": "execute_result"
    }
   ],
   "source": [
    "df['Selling_Price'].min()"
   ]
  },
  {
   "cell_type": "code",
   "execution_count": 22,
   "metadata": {},
   "outputs": [
    {
     "data": {
      "text/plain": [
       "4.661295681063123"
      ]
     },
     "execution_count": 22,
     "metadata": {},
     "output_type": "execute_result"
    }
   ],
   "source": [
    "df['Selling_Price'].mean()"
   ]
  },
  {
   "cell_type": "code",
   "execution_count": 23,
   "metadata": {},
   "outputs": [
    {
     "data": {
      "text/plain": [
       "5.372093023255814"
      ]
     },
     "execution_count": 23,
     "metadata": {},
     "output_type": "execute_result"
    }
   ],
   "source": [
    "df['Age'].mean()"
   ]
  },
  {
   "cell_type": "code",
   "execution_count": 24,
   "metadata": {},
   "outputs": [
    {
     "data": {
      "application/vnd.plotly.v1+json": {
       "config": {
        "plotlyServerURL": "https://plot.ly"
       },
       "data": [
        {
         "hovertemplate": "Present_Price=%{x}<br>Selling_Price=%{y}<br>Age=%{marker.color}<extra></extra>",
         "legendgroup": "",
         "marker": {
          "color": [
           1,
           2,
           2,
           2,
           2,
           2,
           2,
           2,
           2,
           2,
           2,
           2,
           2,
           2,
           2,
           2,
           2,
           2,
           2,
           2,
           2,
           2,
           2,
           2,
           2,
           2,
           2,
           2,
           2,
           2,
           2,
           2,
           2,
           2,
           2,
           2,
           3,
           3,
           3,
           3,
           3,
           3,
           3,
           3,
           3,
           3,
           3,
           3,
           3,
           3,
           3,
           3,
           3,
           3,
           3,
           3,
           3,
           3,
           3,
           3,
           3,
           3,
           3,
           3,
           3,
           3,
           3,
           3,
           3,
           3,
           3,
           3,
           3,
           3,
           3,
           3,
           3,
           3,
           3,
           3,
           3,
           3,
           3,
           3,
           3,
           3,
           4,
           4,
           4,
           4,
           4,
           4,
           4,
           4,
           4,
           4,
           4,
           4,
           4,
           4,
           4,
           4,
           4,
           4,
           4,
           4,
           4,
           4,
           4,
           4,
           4,
           4,
           4,
           4,
           4,
           4,
           4,
           4,
           4,
           4,
           4,
           4,
           4,
           4,
           4,
           4,
           4,
           4,
           4,
           4,
           4,
           4,
           4,
           4,
           4,
           4,
           4,
           4,
           4,
           4,
           4,
           4,
           4,
           4,
           4,
           4,
           4,
           5,
           5,
           5,
           5,
           5,
           5,
           5,
           5,
           5,
           5,
           5,
           5,
           5,
           5,
           5,
           5,
           5,
           5,
           5,
           5,
           5,
           5,
           5,
           5,
           5,
           5,
           5,
           5,
           5,
           5,
           5,
           5,
           5,
           5,
           5,
           5,
           5,
           5,
           6,
           6,
           6,
           6,
           6,
           6,
           6,
           6,
           6,
           6,
           6,
           6,
           6,
           6,
           6,
           6,
           6,
           6,
           6,
           6,
           6,
           6,
           6,
           6,
           6,
           6,
           6,
           6,
           6,
           6,
           6,
           6,
           6,
           7,
           7,
           7,
           7,
           7,
           7,
           7,
           7,
           7,
           7,
           7,
           7,
           7,
           7,
           7,
           7,
           7,
           7,
           7,
           7,
           7,
           7,
           7,
           8,
           8,
           8,
           8,
           8,
           8,
           8,
           8,
           8,
           8,
           8,
           8,
           8,
           8,
           8,
           8,
           8,
           8,
           8,
           9,
           9,
           9,
           9,
           9,
           9,
           9,
           9,
           9,
           9,
           9,
           9,
           9,
           9,
           9,
           10,
           10,
           10,
           10,
           10,
           10,
           11,
           11,
           11,
           11,
           11,
           11,
           11,
           12,
           12,
           13,
           13,
           13,
           13,
           14,
           14,
           14,
           14,
           15,
           16,
           16
          ],
          "coloraxis": "coloraxis",
          "size": 4,
          "symbol": "circle"
         },
         "mode": "markers",
         "name": "",
         "orientation": "v",
         "showlegend": false,
         "type": "scatter",
         "x": [
          9.83,
          36.23,
          0.87,
          4.43,
          0.95,
          19.77,
          6.49,
          8.7,
          9.29,
          7.13,
          23.15,
          5.7,
          1.47,
          8.1,
          1.47,
          1.6,
          1.78,
          1.82,
          0.84,
          5.8,
          5.71,
          0.95,
          0.54,
          9.85,
          0.52,
          0.51,
          0.87,
          3.6,
          0.51,
          12.5,
          9.4,
          0.51,
          25.39,
          0.81,
          9.4,
          18.64,
          7.6,
          4.43,
          4.43,
          7.6,
          13.6,
          25.39,
          20.91,
          4.43,
          5.9,
          1.9,
          0.54,
          0.55,
          0.55,
          0.94,
          0.84,
          0.8,
          0.87,
          0.57,
          0.95,
          0.8,
          0.48,
          1.17,
          1.26,
          5.7,
          1.5,
          1.78,
          1.5,
          13.6,
          1.4,
          14.89,
          0.54,
          11.8,
          8.4,
          8.5,
          7.9,
          3.76,
          7.87,
          13.6,
          13.6,
          9.4,
          3.95,
          8.4,
          13.6,
          10.79,
          7.7,
          10.79,
          13.6,
          8.89,
          5.97,
          11.6,
          8.61,
          5.7,
          8.12,
          13.09,
          4.43,
          7.71,
          10.38,
          0.84,
          1.47,
          1.9,
          5.9,
          0.32,
          7.5,
          13.6,
          8.92,
          10.38,
          6.1,
          0.54,
          0.82,
          0.84,
          5.09,
          0.74,
          10.79,
          0.55,
          0.95,
          0.72,
          0.84,
          9.94,
          1.47,
          35.96,
          5.7,
          1.47,
          14.79,
          5.7,
          13.46,
          5.8,
          7.85,
          7.27,
          13.6,
          7.13,
          6.8,
          9.4,
          13.6,
          7.7,
          13.6,
          6.82,
          9.4,
          7,
          5.7,
          30.61,
          30.61,
          7.71,
          5.9,
          7.2,
          10,
          10,
          13.6,
          14.79,
          5.7,
          13.6,
          2.37,
          7.6,
          9.9,
          13.6,
          0.81,
          6.8,
          7.13,
          9.4,
          0.64,
          6.4,
          6.8,
          7,
          0.52,
          7,
          14,
          5.59,
          6.76,
          7.49,
          16.09,
          35.96,
          12.04,
          9.95,
          3.45,
          6.95,
          1.2,
          8.06,
          3.46,
          35.96,
          0.826,
          0.99,
          2.4,
          0.787,
          3.98,
          6.87,
          6.76,
          8.06,
          0.88,
          8.93,
          6.8,
          1.47,
          30.61,
          18.61,
          1.5,
          1.9,
          18.61,
          6.79,
          6.05,
          9.4,
          9.4,
          9.9,
          5.7,
          9.9,
          9.4,
          14.68,
          9.4,
          18.61,
          4.89,
          4.6,
          4.41,
          0.787,
          9.54,
          0.99,
          0.65,
          1.2,
          0.58,
          0.47,
          0.57,
          0.73,
          1.47,
          0.51,
          5.9,
          5.87,
          30.61,
          0.83,
          30.61,
          0.99,
          4.43,
          9.4,
          9.4,
          6.79,
          0.81,
          6.79,
          13.74,
          5.35,
          2.69,
          1.75,
          4.6,
          0.57,
          9.4,
          18.61,
          0.99,
          5.98,
          9.4,
          0.51,
          9.4,
          13.74,
          4.99,
          8.01,
          4.15,
          12.48,
          7.74,
          10,
          4.89,
          0.826,
          1.05,
          1.5,
          5.71,
          6.79,
          4.6,
          0.787,
          0.57,
          4.43,
          0.95,
          4.6,
          7.98,
          9.9,
          0.94,
          1.05,
          3.95,
          0.52,
          0.95,
          7.5,
          0.51,
          92.6,
          6.79,
          20.45,
          22.83,
          20.45,
          18.54,
          10,
          11,
          1.75,
          15.04,
          7.21,
          18.61,
          0.58,
          22.78,
          0.52,
          0.787,
          7.15,
          0.75,
          0.75,
          0.58,
          0.75,
          7.6,
          23.73,
          4.15,
          0.75,
          10.21,
          0.57,
          13.7,
          13.46,
          12.35,
          2.28,
          7.98
         ],
         "xaxis": "x",
         "y": [
          9.25,
          33,
          0.8,
          3.5,
          0.9,
          18,
          6,
          6.5,
          7.75,
          5.75,
          19.75,
          5.25,
          1.2,
          7.9,
          1.35,
          1.45,
          1.65,
          1.7,
          0.78,
          4.8,
          4.9,
          0.75,
          0.48,
          7.25,
          0.48,
          0.48,
          0.75,
          2.85,
          0.4,
          11.5,
          9.1,
          0.45,
          23,
          0.65,
          9.25,
          17,
          6.25,
          3.1,
          2.9,
          5.25,
          12.9,
          20.75,
          14.25,
          3.15,
          5.3,
          1.75,
          0.45,
          0.45,
          0.5,
          0.51,
          0.6,
          0.6,
          0.6,
          0.35,
          0.72,
          0.75,
          0.3,
          1.05,
          1.05,
          5.25,
          1.15,
          1.2,
          1.2,
          11.25,
          1.15,
          14.73,
          0.45,
          8.99,
          6,
          7.4,
          5.65,
          3,
          5.85,
          10.9,
          10.11,
          8.35,
          2.85,
          6.4,
          10.25,
          7.75,
          6.6,
          7.75,
          9.15,
          8.75,
          5.5,
          9.5,
          6.5,
          4.4,
          6.75,
          8.55,
          2.75,
          6.1,
          7.45,
          0.48,
          1.1,
          1.1,
          4,
          0.18,
          5.75,
          8.4,
          7.45,
          6.85,
          5.4,
          0.4,
          0.75,
          0.55,
          3.25,
          0.65,
          7.25,
          0.4,
          0.6,
          0.38,
          0.6,
          7.5,
          1.11,
          23.5,
          5.15,
          1.15,
          11.45,
          5.5,
          12.5,
          4,
          4.75,
          4.5,
          11.25,
          4.75,
          3.95,
          5.95,
          8.4,
          4.5,
          8.5,
          5.4,
          8.25,
          4,
          5.25,
          23,
          23,
          5.8,
          5.25,
          4.65,
          6.7,
          7.5,
          9.7,
          11.75,
          4.85,
          8.65,
          1.35,
          6,
          7.2,
          6.25,
          0.42,
          5.3,
          4.4,
          6.45,
          0.4,
          4.5,
          3.75,
          3.65,
          0.35,
          3.9,
          8.25,
          3.35,
          4.75,
          4.95,
          11.25,
          18.75,
          7.5,
          6,
          1.35,
          4.75,
          0.65,
          5.5,
          2.5,
          19.99,
          0.45,
          0.6,
          1.15,
          0.55,
          2.55,
          4.6,
          3.95,
          5.5,
          0.5,
          4.9,
          4.1,
          1.1,
          16,
          7.45,
          1.25,
          1.05,
          6.95,
          4.5,
          3.45,
          5.11,
          6.15,
          5.25,
          3.9,
          5,
          4.8,
          5.5,
          5.95,
          7.05,
          2.65,
          4,
          2.9,
          0.65,
          4.75,
          0.5,
          0.2,
          0.6,
          0.3,
          0.27,
          0.25,
          0.42,
          1,
          0.25,
          3.5,
          4.15,
          14.9,
          0.4,
          14.5,
          0.5,
          2,
          5.35,
          5.2,
          3.75,
          0.6,
          3.1,
          5.9,
          3,
          1.25,
          0.95,
          3.1,
          0.2,
          4.95,
          5.85,
          0.45,
          3.1,
          4.5,
          0.3,
          4.5,
          4.35,
          3,
          4.4,
          2.85,
          4.5,
          2.95,
          4.1,
          2.35,
          0.5,
          0.35,
          1.05,
          2.65,
          2.9,
          2.95,
          0.38,
          0.15,
          2.55,
          0.45,
          2.7,
          2.65,
          3.25,
          0.52,
          0.31,
          1.95,
          0.25,
          0.45,
          2.25,
          0.16,
          35,
          3.25,
          9.65,
          5.25,
          9.25,
          4.75,
          3,
          3.35,
          0.9,
          3.6,
          2.25,
          3.8,
          0.25,
          4,
          0.17,
          0.2,
          1.95,
          0.2,
          0.25,
          0.12,
          0.2,
          2.1,
          2.5,
          1.05,
          0.1,
          2.75,
          0.2,
          3.51,
          3.49,
          1.5,
          0.35,
          2.25
         ],
         "yaxis": "y"
        }
       ],
       "layout": {
        "coloraxis": {
         "colorbar": {
          "title": {
           "text": "Age"
          }
         },
         "colorscale": [
          [
           0,
           "rgb(0,0,255)"
          ],
          [
           0.1,
           "rgb(51,153,255)"
          ],
          [
           0.2,
           "rgb(102,204,255)"
          ],
          [
           0.3,
           "rgb(153,204,255)"
          ],
          [
           0.4,
           "rgb(204,204,255)"
          ],
          [
           0.5,
           "rgb(255,255,255)"
          ],
          [
           0.6,
           "rgb(255,204,255)"
          ],
          [
           0.7,
           "rgb(255,153,255)"
          ],
          [
           0.8,
           "rgb(255,102,204)"
          ],
          [
           0.9,
           "rgb(255,102,102)"
          ],
          [
           1,
           "rgb(255,0,0)"
          ]
         ]
        },
        "legend": {
         "tracegroupgap": 0
        },
        "template": {
         "data": {
          "bar": [
           {
            "error_x": {
             "color": "#f2f5fa"
            },
            "error_y": {
             "color": "#f2f5fa"
            },
            "marker": {
             "line": {
              "color": "rgb(17,17,17)",
              "width": 0.5
             },
             "pattern": {
              "fillmode": "overlay",
              "size": 10,
              "solidity": 0.2
             }
            },
            "type": "bar"
           }
          ],
          "barpolar": [
           {
            "marker": {
             "line": {
              "color": "rgb(17,17,17)",
              "width": 0.5
             },
             "pattern": {
              "fillmode": "overlay",
              "size": 10,
              "solidity": 0.2
             }
            },
            "type": "barpolar"
           }
          ],
          "carpet": [
           {
            "aaxis": {
             "endlinecolor": "#A2B1C6",
             "gridcolor": "#506784",
             "linecolor": "#506784",
             "minorgridcolor": "#506784",
             "startlinecolor": "#A2B1C6"
            },
            "baxis": {
             "endlinecolor": "#A2B1C6",
             "gridcolor": "#506784",
             "linecolor": "#506784",
             "minorgridcolor": "#506784",
             "startlinecolor": "#A2B1C6"
            },
            "type": "carpet"
           }
          ],
          "choropleth": [
           {
            "colorbar": {
             "outlinewidth": 0,
             "ticks": ""
            },
            "type": "choropleth"
           }
          ],
          "contour": [
           {
            "colorbar": {
             "outlinewidth": 0,
             "ticks": ""
            },
            "colorscale": [
             [
              0,
              "#0d0887"
             ],
             [
              0.1111111111111111,
              "#46039f"
             ],
             [
              0.2222222222222222,
              "#7201a8"
             ],
             [
              0.3333333333333333,
              "#9c179e"
             ],
             [
              0.4444444444444444,
              "#bd3786"
             ],
             [
              0.5555555555555556,
              "#d8576b"
             ],
             [
              0.6666666666666666,
              "#ed7953"
             ],
             [
              0.7777777777777778,
              "#fb9f3a"
             ],
             [
              0.8888888888888888,
              "#fdca26"
             ],
             [
              1,
              "#f0f921"
             ]
            ],
            "type": "contour"
           }
          ],
          "contourcarpet": [
           {
            "colorbar": {
             "outlinewidth": 0,
             "ticks": ""
            },
            "type": "contourcarpet"
           }
          ],
          "heatmap": [
           {
            "colorbar": {
             "outlinewidth": 0,
             "ticks": ""
            },
            "colorscale": [
             [
              0,
              "#0d0887"
             ],
             [
              0.1111111111111111,
              "#46039f"
             ],
             [
              0.2222222222222222,
              "#7201a8"
             ],
             [
              0.3333333333333333,
              "#9c179e"
             ],
             [
              0.4444444444444444,
              "#bd3786"
             ],
             [
              0.5555555555555556,
              "#d8576b"
             ],
             [
              0.6666666666666666,
              "#ed7953"
             ],
             [
              0.7777777777777778,
              "#fb9f3a"
             ],
             [
              0.8888888888888888,
              "#fdca26"
             ],
             [
              1,
              "#f0f921"
             ]
            ],
            "type": "heatmap"
           }
          ],
          "heatmapgl": [
           {
            "colorbar": {
             "outlinewidth": 0,
             "ticks": ""
            },
            "colorscale": [
             [
              0,
              "#0d0887"
             ],
             [
              0.1111111111111111,
              "#46039f"
             ],
             [
              0.2222222222222222,
              "#7201a8"
             ],
             [
              0.3333333333333333,
              "#9c179e"
             ],
             [
              0.4444444444444444,
              "#bd3786"
             ],
             [
              0.5555555555555556,
              "#d8576b"
             ],
             [
              0.6666666666666666,
              "#ed7953"
             ],
             [
              0.7777777777777778,
              "#fb9f3a"
             ],
             [
              0.8888888888888888,
              "#fdca26"
             ],
             [
              1,
              "#f0f921"
             ]
            ],
            "type": "heatmapgl"
           }
          ],
          "histogram": [
           {
            "marker": {
             "pattern": {
              "fillmode": "overlay",
              "size": 10,
              "solidity": 0.2
             }
            },
            "type": "histogram"
           }
          ],
          "histogram2d": [
           {
            "colorbar": {
             "outlinewidth": 0,
             "ticks": ""
            },
            "colorscale": [
             [
              0,
              "#0d0887"
             ],
             [
              0.1111111111111111,
              "#46039f"
             ],
             [
              0.2222222222222222,
              "#7201a8"
             ],
             [
              0.3333333333333333,
              "#9c179e"
             ],
             [
              0.4444444444444444,
              "#bd3786"
             ],
             [
              0.5555555555555556,
              "#d8576b"
             ],
             [
              0.6666666666666666,
              "#ed7953"
             ],
             [
              0.7777777777777778,
              "#fb9f3a"
             ],
             [
              0.8888888888888888,
              "#fdca26"
             ],
             [
              1,
              "#f0f921"
             ]
            ],
            "type": "histogram2d"
           }
          ],
          "histogram2dcontour": [
           {
            "colorbar": {
             "outlinewidth": 0,
             "ticks": ""
            },
            "colorscale": [
             [
              0,
              "#0d0887"
             ],
             [
              0.1111111111111111,
              "#46039f"
             ],
             [
              0.2222222222222222,
              "#7201a8"
             ],
             [
              0.3333333333333333,
              "#9c179e"
             ],
             [
              0.4444444444444444,
              "#bd3786"
             ],
             [
              0.5555555555555556,
              "#d8576b"
             ],
             [
              0.6666666666666666,
              "#ed7953"
             ],
             [
              0.7777777777777778,
              "#fb9f3a"
             ],
             [
              0.8888888888888888,
              "#fdca26"
             ],
             [
              1,
              "#f0f921"
             ]
            ],
            "type": "histogram2dcontour"
           }
          ],
          "mesh3d": [
           {
            "colorbar": {
             "outlinewidth": 0,
             "ticks": ""
            },
            "type": "mesh3d"
           }
          ],
          "parcoords": [
           {
            "line": {
             "colorbar": {
              "outlinewidth": 0,
              "ticks": ""
             }
            },
            "type": "parcoords"
           }
          ],
          "pie": [
           {
            "automargin": true,
            "type": "pie"
           }
          ],
          "scatter": [
           {
            "marker": {
             "line": {
              "color": "#283442"
             }
            },
            "type": "scatter"
           }
          ],
          "scatter3d": [
           {
            "line": {
             "colorbar": {
              "outlinewidth": 0,
              "ticks": ""
             }
            },
            "marker": {
             "colorbar": {
              "outlinewidth": 0,
              "ticks": ""
             }
            },
            "type": "scatter3d"
           }
          ],
          "scattercarpet": [
           {
            "marker": {
             "colorbar": {
              "outlinewidth": 0,
              "ticks": ""
             }
            },
            "type": "scattercarpet"
           }
          ],
          "scattergeo": [
           {
            "marker": {
             "colorbar": {
              "outlinewidth": 0,
              "ticks": ""
             }
            },
            "type": "scattergeo"
           }
          ],
          "scattergl": [
           {
            "marker": {
             "line": {
              "color": "#283442"
             }
            },
            "type": "scattergl"
           }
          ],
          "scattermapbox": [
           {
            "marker": {
             "colorbar": {
              "outlinewidth": 0,
              "ticks": ""
             }
            },
            "type": "scattermapbox"
           }
          ],
          "scatterpolar": [
           {
            "marker": {
             "colorbar": {
              "outlinewidth": 0,
              "ticks": ""
             }
            },
            "type": "scatterpolar"
           }
          ],
          "scatterpolargl": [
           {
            "marker": {
             "colorbar": {
              "outlinewidth": 0,
              "ticks": ""
             }
            },
            "type": "scatterpolargl"
           }
          ],
          "scatterternary": [
           {
            "marker": {
             "colorbar": {
              "outlinewidth": 0,
              "ticks": ""
             }
            },
            "type": "scatterternary"
           }
          ],
          "surface": [
           {
            "colorbar": {
             "outlinewidth": 0,
             "ticks": ""
            },
            "colorscale": [
             [
              0,
              "#0d0887"
             ],
             [
              0.1111111111111111,
              "#46039f"
             ],
             [
              0.2222222222222222,
              "#7201a8"
             ],
             [
              0.3333333333333333,
              "#9c179e"
             ],
             [
              0.4444444444444444,
              "#bd3786"
             ],
             [
              0.5555555555555556,
              "#d8576b"
             ],
             [
              0.6666666666666666,
              "#ed7953"
             ],
             [
              0.7777777777777778,
              "#fb9f3a"
             ],
             [
              0.8888888888888888,
              "#fdca26"
             ],
             [
              1,
              "#f0f921"
             ]
            ],
            "type": "surface"
           }
          ],
          "table": [
           {
            "cells": {
             "fill": {
              "color": "#506784"
             },
             "line": {
              "color": "rgb(17,17,17)"
             }
            },
            "header": {
             "fill": {
              "color": "#2a3f5f"
             },
             "line": {
              "color": "rgb(17,17,17)"
             }
            },
            "type": "table"
           }
          ]
         },
         "layout": {
          "annotationdefaults": {
           "arrowcolor": "#f2f5fa",
           "arrowhead": 0,
           "arrowwidth": 1
          },
          "autotypenumbers": "strict",
          "coloraxis": {
           "colorbar": {
            "outlinewidth": 0,
            "ticks": ""
           }
          },
          "colorscale": {
           "diverging": [
            [
             0,
             "#8e0152"
            ],
            [
             0.1,
             "#c51b7d"
            ],
            [
             0.2,
             "#de77ae"
            ],
            [
             0.3,
             "#f1b6da"
            ],
            [
             0.4,
             "#fde0ef"
            ],
            [
             0.5,
             "#f7f7f7"
            ],
            [
             0.6,
             "#e6f5d0"
            ],
            [
             0.7,
             "#b8e186"
            ],
            [
             0.8,
             "#7fbc41"
            ],
            [
             0.9,
             "#4d9221"
            ],
            [
             1,
             "#276419"
            ]
           ],
           "sequential": [
            [
             0,
             "#0d0887"
            ],
            [
             0.1111111111111111,
             "#46039f"
            ],
            [
             0.2222222222222222,
             "#7201a8"
            ],
            [
             0.3333333333333333,
             "#9c179e"
            ],
            [
             0.4444444444444444,
             "#bd3786"
            ],
            [
             0.5555555555555556,
             "#d8576b"
            ],
            [
             0.6666666666666666,
             "#ed7953"
            ],
            [
             0.7777777777777778,
             "#fb9f3a"
            ],
            [
             0.8888888888888888,
             "#fdca26"
            ],
            [
             1,
             "#f0f921"
            ]
           ],
           "sequentialminus": [
            [
             0,
             "#0d0887"
            ],
            [
             0.1111111111111111,
             "#46039f"
            ],
            [
             0.2222222222222222,
             "#7201a8"
            ],
            [
             0.3333333333333333,
             "#9c179e"
            ],
            [
             0.4444444444444444,
             "#bd3786"
            ],
            [
             0.5555555555555556,
             "#d8576b"
            ],
            [
             0.6666666666666666,
             "#ed7953"
            ],
            [
             0.7777777777777778,
             "#fb9f3a"
            ],
            [
             0.8888888888888888,
             "#fdca26"
            ],
            [
             1,
             "#f0f921"
            ]
           ]
          },
          "colorway": [
           "#636efa",
           "#EF553B",
           "#00cc96",
           "#ab63fa",
           "#FFA15A",
           "#19d3f3",
           "#FF6692",
           "#B6E880",
           "#FF97FF",
           "#FECB52"
          ],
          "font": {
           "color": "#f2f5fa"
          },
          "geo": {
           "bgcolor": "rgb(17,17,17)",
           "lakecolor": "rgb(17,17,17)",
           "landcolor": "rgb(17,17,17)",
           "showlakes": true,
           "showland": true,
           "subunitcolor": "#506784"
          },
          "hoverlabel": {
           "align": "left"
          },
          "hovermode": "closest",
          "mapbox": {
           "style": "dark"
          },
          "paper_bgcolor": "rgb(17,17,17)",
          "plot_bgcolor": "rgb(17,17,17)",
          "polar": {
           "angularaxis": {
            "gridcolor": "#506784",
            "linecolor": "#506784",
            "ticks": ""
           },
           "bgcolor": "rgb(17,17,17)",
           "radialaxis": {
            "gridcolor": "#506784",
            "linecolor": "#506784",
            "ticks": ""
           }
          },
          "scene": {
           "xaxis": {
            "backgroundcolor": "rgb(17,17,17)",
            "gridcolor": "#506784",
            "gridwidth": 2,
            "linecolor": "#506784",
            "showbackground": true,
            "ticks": "",
            "zerolinecolor": "#C8D4E3"
           },
           "yaxis": {
            "backgroundcolor": "rgb(17,17,17)",
            "gridcolor": "#506784",
            "gridwidth": 2,
            "linecolor": "#506784",
            "showbackground": true,
            "ticks": "",
            "zerolinecolor": "#C8D4E3"
           },
           "zaxis": {
            "backgroundcolor": "rgb(17,17,17)",
            "gridcolor": "#506784",
            "gridwidth": 2,
            "linecolor": "#506784",
            "showbackground": true,
            "ticks": "",
            "zerolinecolor": "#C8D4E3"
           }
          },
          "shapedefaults": {
           "line": {
            "color": "#f2f5fa"
           }
          },
          "sliderdefaults": {
           "bgcolor": "#C8D4E3",
           "bordercolor": "rgb(17,17,17)",
           "borderwidth": 1,
           "tickwidth": 0
          },
          "ternary": {
           "aaxis": {
            "gridcolor": "#506784",
            "linecolor": "#506784",
            "ticks": ""
           },
           "baxis": {
            "gridcolor": "#506784",
            "linecolor": "#506784",
            "ticks": ""
           },
           "bgcolor": "rgb(17,17,17)",
           "caxis": {
            "gridcolor": "#506784",
            "linecolor": "#506784",
            "ticks": ""
           }
          },
          "title": {
           "x": 0.05
          },
          "updatemenudefaults": {
           "bgcolor": "#506784",
           "borderwidth": 0
          },
          "xaxis": {
           "automargin": true,
           "gridcolor": "#283442",
           "linecolor": "#506784",
           "ticks": "",
           "title": {
            "standoff": 15
           },
           "zerolinecolor": "#283442",
           "zerolinewidth": 2
          },
          "yaxis": {
           "automargin": true,
           "gridcolor": "#283442",
           "linecolor": "#506784",
           "ticks": "",
           "title": {
            "standoff": 15
           },
           "zerolinecolor": "#283442",
           "zerolinewidth": 2
          }
         }
        },
        "title": {
         "text": "Selling Price by Present_Price"
        },
        "xaxis": {
         "anchor": "y",
         "domain": [
          0,
          1
         ],
         "title": {
          "text": "Present_Price"
         }
        },
        "yaxis": {
         "anchor": "x",
         "domain": [
          0,
          1
         ],
         "title": {
          "text": "Selling_Price"
         }
        }
       }
      }
     },
     "metadata": {},
     "output_type": "display_data"
    }
   ],
   "source": [
    "fig3 = px.scatter(df, x='Present_Price', y='Selling_Price',color = 'Age',title=f'Selling Price by Present_Price',template=\"plotly_dark\", color_continuous_scale='Picnic') # setting the plot type\n",
    "fig3.update_traces(marker_size=4)\n",
    "fig3.show() # showing the plot"
   ]
  },
  {
   "cell_type": "markdown",
   "metadata": {},
   "source": [
    "1. Both charts are bullish, higher Selling price == Higher Present price\n",
    "2. Present price max is 92.6 and min is 0.32\n",
    "3. Present price mean is 7.62\n",
    "4. Most of cars are placed below Present price mean\n",
    "5. Most of cars are placed below Selling price mean\n",
    "6. Cars with most value aged between 3 and 6"
   ]
  },
  {
   "cell_type": "code",
   "execution_count": 25,
   "metadata": {},
   "outputs": [
    {
     "data": {
      "text/plain": [
       "0.32"
      ]
     },
     "execution_count": 25,
     "metadata": {},
     "output_type": "execute_result"
    }
   ],
   "source": [
    "df['Present_Price'].min()"
   ]
  },
  {
   "cell_type": "code",
   "execution_count": 26,
   "metadata": {},
   "outputs": [
    {
     "data": {
      "text/plain": [
       "7.628471760797343"
      ]
     },
     "execution_count": 26,
     "metadata": {},
     "output_type": "execute_result"
    }
   ],
   "source": [
    "df['Present_Price'].mean()"
   ]
  },
  {
   "cell_type": "code",
   "execution_count": 27,
   "metadata": {},
   "outputs": [
    {
     "data": {
      "application/vnd.plotly.v1+json": {
       "config": {
        "plotlyServerURL": "https://plot.ly"
       },
       "data": [
        {
         "hovertemplate": "Kms_Driven=%{x}<br>Selling_Price=%{y}<br>Present_Price=%{marker.color}<extra></extra>",
         "legendgroup": "",
         "marker": {
          "color": [
           9.83,
           36.23,
           0.87,
           4.43,
           0.95,
           19.77,
           6.49,
           8.7,
           9.29,
           7.13,
           23.15,
           5.7,
           1.47,
           8.1,
           1.47,
           1.6,
           1.78,
           1.82,
           0.84,
           5.8,
           5.71,
           0.95,
           0.54,
           9.85,
           0.52,
           0.51,
           0.87,
           3.6,
           0.51,
           12.5,
           9.4,
           0.51,
           25.39,
           0.81,
           9.4,
           18.64,
           7.6,
           4.43,
           4.43,
           7.6,
           13.6,
           25.39,
           20.91,
           4.43,
           5.9,
           1.9,
           0.54,
           0.55,
           0.55,
           0.94,
           0.84,
           0.8,
           0.87,
           0.57,
           0.95,
           0.8,
           0.48,
           1.17,
           1.26,
           5.7,
           1.5,
           1.78,
           1.5,
           13.6,
           1.4,
           14.89,
           0.54,
           11.8,
           8.4,
           8.5,
           7.9,
           3.76,
           7.87,
           13.6,
           13.6,
           9.4,
           3.95,
           8.4,
           13.6,
           10.79,
           7.7,
           10.79,
           13.6,
           8.89,
           5.97,
           11.6,
           8.61,
           5.7,
           8.12,
           13.09,
           4.43,
           7.71,
           10.38,
           0.84,
           1.47,
           1.9,
           5.9,
           0.32,
           7.5,
           13.6,
           8.92,
           10.38,
           6.1,
           0.54,
           0.82,
           0.84,
           5.09,
           0.74,
           10.79,
           0.55,
           0.95,
           0.72,
           0.84,
           9.94,
           1.47,
           35.96,
           5.7,
           1.47,
           14.79,
           5.7,
           13.46,
           5.8,
           7.85,
           7.27,
           13.6,
           7.13,
           6.8,
           9.4,
           13.6,
           7.7,
           13.6,
           6.82,
           9.4,
           7,
           5.7,
           30.61,
           30.61,
           7.71,
           5.9,
           7.2,
           10,
           10,
           13.6,
           14.79,
           5.7,
           13.6,
           2.37,
           7.6,
           9.9,
           13.6,
           0.81,
           6.8,
           7.13,
           9.4,
           0.64,
           6.4,
           6.8,
           7,
           0.52,
           7,
           14,
           5.59,
           6.76,
           7.49,
           16.09,
           35.96,
           12.04,
           9.95,
           3.45,
           6.95,
           1.2,
           8.06,
           3.46,
           35.96,
           0.826,
           0.99,
           2.4,
           0.787,
           3.98,
           6.87,
           6.76,
           8.06,
           0.88,
           8.93,
           6.8,
           1.47,
           30.61,
           18.61,
           1.5,
           1.9,
           18.61,
           6.79,
           6.05,
           9.4,
           9.4,
           9.9,
           5.7,
           9.9,
           9.4,
           14.68,
           9.4,
           18.61,
           4.89,
           4.6,
           4.41,
           0.787,
           9.54,
           0.99,
           0.65,
           1.2,
           0.58,
           0.47,
           0.57,
           0.73,
           1.47,
           0.51,
           5.9,
           5.87,
           30.61,
           0.83,
           30.61,
           0.99,
           4.43,
           9.4,
           9.4,
           6.79,
           0.81,
           6.79,
           13.74,
           5.35,
           2.69,
           1.75,
           4.6,
           0.57,
           9.4,
           18.61,
           0.99,
           5.98,
           9.4,
           0.51,
           9.4,
           13.74,
           4.99,
           8.01,
           4.15,
           12.48,
           7.74,
           10,
           4.89,
           0.826,
           1.05,
           1.5,
           5.71,
           6.79,
           4.6,
           0.787,
           0.57,
           4.43,
           0.95,
           4.6,
           7.98,
           9.9,
           0.94,
           1.05,
           3.95,
           0.52,
           0.95,
           7.5,
           0.51,
           92.6,
           6.79,
           20.45,
           22.83,
           20.45,
           18.54,
           10,
           11,
           1.75,
           15.04,
           7.21,
           18.61,
           0.58,
           22.78,
           0.52,
           0.787,
           7.15,
           0.75,
           0.75,
           0.58,
           0.75,
           7.6,
           23.73,
           4.15,
           0.75,
           10.21,
           0.57,
           13.7,
           13.46,
           12.35,
           2.28,
           7.98
          ],
          "coloraxis": "coloraxis",
          "size": 4,
          "symbol": "circle"
         },
         "mode": "markers",
         "name": "",
         "orientation": "v",
         "showlegend": false,
         "type": "scatter",
         "x": [
          2071,
          6000,
          3000,
          38488,
          1300,
          15000,
          16200,
          21200,
          37000,
          12479,
          11000,
          20114,
          11000,
          3435,
          4100,
          1200,
          4000,
          1400,
          5000,
          19000,
          2400,
          3500,
          8600,
          6900,
          15000,
          4300,
          11000,
          2135,
          1300,
          9000,
          15141,
          4000,
          15000,
          11800,
          15001,
          8700,
          7000,
          11849,
          12500,
          17000,
          35934,
          29000,
          12000,
          15000,
          5464,
          3000,
          500,
          1000,
          31000,
          24000,
          25000,
          20000,
          15000,
          24000,
          500,
          7000,
          50000,
          6000,
          5700,
          3493,
          8700,
          6000,
          18000,
          22671,
          35000,
          23000,
          14000,
          9010,
          4000,
          15059,
          28569,
          10079,
          24524,
          30753,
          10980,
          19434,
          25000,
          12000,
          49562,
          43000,
          16002,
          43000,
          29223,
          20273,
          5600,
          33988,
          33429,
          28200,
          18796,
          60076,
          28282,
          26000,
          45000,
          23000,
          26000,
          14000,
          60000,
          35000,
          44000,
          34000,
          42367,
          51000,
          31427,
          14000,
          18000,
          58000,
          35500,
          5000,
          41678,
          6700,
          16600,
          38600,
          29000,
          15000,
          17500,
          47000,
          34797,
          17000,
          12900,
          4492,
          38000,
          40023,
          40000,
          40534,
          68000,
          35866,
          36000,
          36000,
          25000,
          40588,
          40324,
          31427,
          61381,
          40026,
          24678,
          40000,
          40000,
          25870,
          14465,
          48767,
          18828,
          27600,
          21780,
          43535,
          21125,
          24800,
          21700,
          77632,
          48000,
          40126,
          42000,
          16500,
          34000,
          45078,
          13700,
          19000,
          33019,
          35000,
          19000,
          36054,
          63000,
          27000,
          40000,
          39000,
          58242,
          78000,
          15000,
          45000,
          16500,
          45000,
          23500,
          45000,
          45280,
          41000,
          23000,
          25000,
          7000,
          15000,
          46706,
          42450,
          71000,
          45780,
          8000,
          83000,
          39485,
          33000,
          135000,
          56001,
          15000,
          5400,
          40001,
          32000,
          47000,
          36198,
          45000,
          54242,
          53000,
          56701,
          60241,
          72000,
          49000,
          45000,
          64532,
          30000,
          56879,
          16000,
          43000,
          45000,
          24000,
          32000,
          30000,
          21000,
          18000,
          12000,
          46500,
          32000,
          9800,
          55138,
          104707,
          5500,
          89000,
          13000,
          23709,
          32322,
          71000,
          35000,
          19000,
          52132,
          56000,
          53675,
          50000,
          11500,
          35775,
          25000,
          60000,
          72000,
          14500,
          51439,
          36000,
          60000,
          36100,
          88000,
          20000,
          50000,
          5200,
          45000,
          49998,
          69341,
          54200,
          6000,
          30000,
          6900,
          43000,
          31604,
          53460,
          75000,
          35000,
          57000,
          24000,
          22517,
          41442,
          38000,
          45000,
          213000,
          44542,
          22000,
          27000,
          61203,
          33000,
          78000,
          58000,
          50024,
          80000,
          59000,
          50000,
          69562,
          87934,
          40000,
          70000,
          77427,
          62000,
          1900,
          89000,
          500000,
          50000,
          58000,
          60000,
          26000,
          53000,
          49000,
          50456,
          142000,
          65000,
          92233,
          90000,
          55000,
          75000,
          197176,
          135154,
          127000,
          62000
         ],
         "xaxis": "x",
         "y": [
          9.25,
          33,
          0.8,
          3.5,
          0.9,
          18,
          6,
          6.5,
          7.75,
          5.75,
          19.75,
          5.25,
          1.2,
          7.9,
          1.35,
          1.45,
          1.65,
          1.7,
          0.78,
          4.8,
          4.9,
          0.75,
          0.48,
          7.25,
          0.48,
          0.48,
          0.75,
          2.85,
          0.4,
          11.5,
          9.1,
          0.45,
          23,
          0.65,
          9.25,
          17,
          6.25,
          3.1,
          2.9,
          5.25,
          12.9,
          20.75,
          14.25,
          3.15,
          5.3,
          1.75,
          0.45,
          0.45,
          0.5,
          0.51,
          0.6,
          0.6,
          0.6,
          0.35,
          0.72,
          0.75,
          0.3,
          1.05,
          1.05,
          5.25,
          1.15,
          1.2,
          1.2,
          11.25,
          1.15,
          14.73,
          0.45,
          8.99,
          6,
          7.4,
          5.65,
          3,
          5.85,
          10.9,
          10.11,
          8.35,
          2.85,
          6.4,
          10.25,
          7.75,
          6.6,
          7.75,
          9.15,
          8.75,
          5.5,
          9.5,
          6.5,
          4.4,
          6.75,
          8.55,
          2.75,
          6.1,
          7.45,
          0.48,
          1.1,
          1.1,
          4,
          0.18,
          5.75,
          8.4,
          7.45,
          6.85,
          5.4,
          0.4,
          0.75,
          0.55,
          3.25,
          0.65,
          7.25,
          0.4,
          0.6,
          0.38,
          0.6,
          7.5,
          1.11,
          23.5,
          5.15,
          1.15,
          11.45,
          5.5,
          12.5,
          4,
          4.75,
          4.5,
          11.25,
          4.75,
          3.95,
          5.95,
          8.4,
          4.5,
          8.5,
          5.4,
          8.25,
          4,
          5.25,
          23,
          23,
          5.8,
          5.25,
          4.65,
          6.7,
          7.5,
          9.7,
          11.75,
          4.85,
          8.65,
          1.35,
          6,
          7.2,
          6.25,
          0.42,
          5.3,
          4.4,
          6.45,
          0.4,
          4.5,
          3.75,
          3.65,
          0.35,
          3.9,
          8.25,
          3.35,
          4.75,
          4.95,
          11.25,
          18.75,
          7.5,
          6,
          1.35,
          4.75,
          0.65,
          5.5,
          2.5,
          19.99,
          0.45,
          0.6,
          1.15,
          0.55,
          2.55,
          4.6,
          3.95,
          5.5,
          0.5,
          4.9,
          4.1,
          1.1,
          16,
          7.45,
          1.25,
          1.05,
          6.95,
          4.5,
          3.45,
          5.11,
          6.15,
          5.25,
          3.9,
          5,
          4.8,
          5.5,
          5.95,
          7.05,
          2.65,
          4,
          2.9,
          0.65,
          4.75,
          0.5,
          0.2,
          0.6,
          0.3,
          0.27,
          0.25,
          0.42,
          1,
          0.25,
          3.5,
          4.15,
          14.9,
          0.4,
          14.5,
          0.5,
          2,
          5.35,
          5.2,
          3.75,
          0.6,
          3.1,
          5.9,
          3,
          1.25,
          0.95,
          3.1,
          0.2,
          4.95,
          5.85,
          0.45,
          3.1,
          4.5,
          0.3,
          4.5,
          4.35,
          3,
          4.4,
          2.85,
          4.5,
          2.95,
          4.1,
          2.35,
          0.5,
          0.35,
          1.05,
          2.65,
          2.9,
          2.95,
          0.38,
          0.15,
          2.55,
          0.45,
          2.7,
          2.65,
          3.25,
          0.52,
          0.31,
          1.95,
          0.25,
          0.45,
          2.25,
          0.16,
          35,
          3.25,
          9.65,
          5.25,
          9.25,
          4.75,
          3,
          3.35,
          0.9,
          3.6,
          2.25,
          3.8,
          0.25,
          4,
          0.17,
          0.2,
          1.95,
          0.2,
          0.25,
          0.12,
          0.2,
          2.1,
          2.5,
          1.05,
          0.1,
          2.75,
          0.2,
          3.51,
          3.49,
          1.5,
          0.35,
          2.25
         ],
         "yaxis": "y"
        }
       ],
       "layout": {
        "coloraxis": {
         "colorbar": {
          "title": {
           "text": "Present_Price"
          }
         },
         "colorscale": [
          [
           0,
           "rgb(0,0,255)"
          ],
          [
           0.1,
           "rgb(51,153,255)"
          ],
          [
           0.2,
           "rgb(102,204,255)"
          ],
          [
           0.3,
           "rgb(153,204,255)"
          ],
          [
           0.4,
           "rgb(204,204,255)"
          ],
          [
           0.5,
           "rgb(255,255,255)"
          ],
          [
           0.6,
           "rgb(255,204,255)"
          ],
          [
           0.7,
           "rgb(255,153,255)"
          ],
          [
           0.8,
           "rgb(255,102,204)"
          ],
          [
           0.9,
           "rgb(255,102,102)"
          ],
          [
           1,
           "rgb(255,0,0)"
          ]
         ]
        },
        "legend": {
         "tracegroupgap": 0
        },
        "template": {
         "data": {
          "bar": [
           {
            "error_x": {
             "color": "#f2f5fa"
            },
            "error_y": {
             "color": "#f2f5fa"
            },
            "marker": {
             "line": {
              "color": "rgb(17,17,17)",
              "width": 0.5
             },
             "pattern": {
              "fillmode": "overlay",
              "size": 10,
              "solidity": 0.2
             }
            },
            "type": "bar"
           }
          ],
          "barpolar": [
           {
            "marker": {
             "line": {
              "color": "rgb(17,17,17)",
              "width": 0.5
             },
             "pattern": {
              "fillmode": "overlay",
              "size": 10,
              "solidity": 0.2
             }
            },
            "type": "barpolar"
           }
          ],
          "carpet": [
           {
            "aaxis": {
             "endlinecolor": "#A2B1C6",
             "gridcolor": "#506784",
             "linecolor": "#506784",
             "minorgridcolor": "#506784",
             "startlinecolor": "#A2B1C6"
            },
            "baxis": {
             "endlinecolor": "#A2B1C6",
             "gridcolor": "#506784",
             "linecolor": "#506784",
             "minorgridcolor": "#506784",
             "startlinecolor": "#A2B1C6"
            },
            "type": "carpet"
           }
          ],
          "choropleth": [
           {
            "colorbar": {
             "outlinewidth": 0,
             "ticks": ""
            },
            "type": "choropleth"
           }
          ],
          "contour": [
           {
            "colorbar": {
             "outlinewidth": 0,
             "ticks": ""
            },
            "colorscale": [
             [
              0,
              "#0d0887"
             ],
             [
              0.1111111111111111,
              "#46039f"
             ],
             [
              0.2222222222222222,
              "#7201a8"
             ],
             [
              0.3333333333333333,
              "#9c179e"
             ],
             [
              0.4444444444444444,
              "#bd3786"
             ],
             [
              0.5555555555555556,
              "#d8576b"
             ],
             [
              0.6666666666666666,
              "#ed7953"
             ],
             [
              0.7777777777777778,
              "#fb9f3a"
             ],
             [
              0.8888888888888888,
              "#fdca26"
             ],
             [
              1,
              "#f0f921"
             ]
            ],
            "type": "contour"
           }
          ],
          "contourcarpet": [
           {
            "colorbar": {
             "outlinewidth": 0,
             "ticks": ""
            },
            "type": "contourcarpet"
           }
          ],
          "heatmap": [
           {
            "colorbar": {
             "outlinewidth": 0,
             "ticks": ""
            },
            "colorscale": [
             [
              0,
              "#0d0887"
             ],
             [
              0.1111111111111111,
              "#46039f"
             ],
             [
              0.2222222222222222,
              "#7201a8"
             ],
             [
              0.3333333333333333,
              "#9c179e"
             ],
             [
              0.4444444444444444,
              "#bd3786"
             ],
             [
              0.5555555555555556,
              "#d8576b"
             ],
             [
              0.6666666666666666,
              "#ed7953"
             ],
             [
              0.7777777777777778,
              "#fb9f3a"
             ],
             [
              0.8888888888888888,
              "#fdca26"
             ],
             [
              1,
              "#f0f921"
             ]
            ],
            "type": "heatmap"
           }
          ],
          "heatmapgl": [
           {
            "colorbar": {
             "outlinewidth": 0,
             "ticks": ""
            },
            "colorscale": [
             [
              0,
              "#0d0887"
             ],
             [
              0.1111111111111111,
              "#46039f"
             ],
             [
              0.2222222222222222,
              "#7201a8"
             ],
             [
              0.3333333333333333,
              "#9c179e"
             ],
             [
              0.4444444444444444,
              "#bd3786"
             ],
             [
              0.5555555555555556,
              "#d8576b"
             ],
             [
              0.6666666666666666,
              "#ed7953"
             ],
             [
              0.7777777777777778,
              "#fb9f3a"
             ],
             [
              0.8888888888888888,
              "#fdca26"
             ],
             [
              1,
              "#f0f921"
             ]
            ],
            "type": "heatmapgl"
           }
          ],
          "histogram": [
           {
            "marker": {
             "pattern": {
              "fillmode": "overlay",
              "size": 10,
              "solidity": 0.2
             }
            },
            "type": "histogram"
           }
          ],
          "histogram2d": [
           {
            "colorbar": {
             "outlinewidth": 0,
             "ticks": ""
            },
            "colorscale": [
             [
              0,
              "#0d0887"
             ],
             [
              0.1111111111111111,
              "#46039f"
             ],
             [
              0.2222222222222222,
              "#7201a8"
             ],
             [
              0.3333333333333333,
              "#9c179e"
             ],
             [
              0.4444444444444444,
              "#bd3786"
             ],
             [
              0.5555555555555556,
              "#d8576b"
             ],
             [
              0.6666666666666666,
              "#ed7953"
             ],
             [
              0.7777777777777778,
              "#fb9f3a"
             ],
             [
              0.8888888888888888,
              "#fdca26"
             ],
             [
              1,
              "#f0f921"
             ]
            ],
            "type": "histogram2d"
           }
          ],
          "histogram2dcontour": [
           {
            "colorbar": {
             "outlinewidth": 0,
             "ticks": ""
            },
            "colorscale": [
             [
              0,
              "#0d0887"
             ],
             [
              0.1111111111111111,
              "#46039f"
             ],
             [
              0.2222222222222222,
              "#7201a8"
             ],
             [
              0.3333333333333333,
              "#9c179e"
             ],
             [
              0.4444444444444444,
              "#bd3786"
             ],
             [
              0.5555555555555556,
              "#d8576b"
             ],
             [
              0.6666666666666666,
              "#ed7953"
             ],
             [
              0.7777777777777778,
              "#fb9f3a"
             ],
             [
              0.8888888888888888,
              "#fdca26"
             ],
             [
              1,
              "#f0f921"
             ]
            ],
            "type": "histogram2dcontour"
           }
          ],
          "mesh3d": [
           {
            "colorbar": {
             "outlinewidth": 0,
             "ticks": ""
            },
            "type": "mesh3d"
           }
          ],
          "parcoords": [
           {
            "line": {
             "colorbar": {
              "outlinewidth": 0,
              "ticks": ""
             }
            },
            "type": "parcoords"
           }
          ],
          "pie": [
           {
            "automargin": true,
            "type": "pie"
           }
          ],
          "scatter": [
           {
            "marker": {
             "line": {
              "color": "#283442"
             }
            },
            "type": "scatter"
           }
          ],
          "scatter3d": [
           {
            "line": {
             "colorbar": {
              "outlinewidth": 0,
              "ticks": ""
             }
            },
            "marker": {
             "colorbar": {
              "outlinewidth": 0,
              "ticks": ""
             }
            },
            "type": "scatter3d"
           }
          ],
          "scattercarpet": [
           {
            "marker": {
             "colorbar": {
              "outlinewidth": 0,
              "ticks": ""
             }
            },
            "type": "scattercarpet"
           }
          ],
          "scattergeo": [
           {
            "marker": {
             "colorbar": {
              "outlinewidth": 0,
              "ticks": ""
             }
            },
            "type": "scattergeo"
           }
          ],
          "scattergl": [
           {
            "marker": {
             "line": {
              "color": "#283442"
             }
            },
            "type": "scattergl"
           }
          ],
          "scattermapbox": [
           {
            "marker": {
             "colorbar": {
              "outlinewidth": 0,
              "ticks": ""
             }
            },
            "type": "scattermapbox"
           }
          ],
          "scatterpolar": [
           {
            "marker": {
             "colorbar": {
              "outlinewidth": 0,
              "ticks": ""
             }
            },
            "type": "scatterpolar"
           }
          ],
          "scatterpolargl": [
           {
            "marker": {
             "colorbar": {
              "outlinewidth": 0,
              "ticks": ""
             }
            },
            "type": "scatterpolargl"
           }
          ],
          "scatterternary": [
           {
            "marker": {
             "colorbar": {
              "outlinewidth": 0,
              "ticks": ""
             }
            },
            "type": "scatterternary"
           }
          ],
          "surface": [
           {
            "colorbar": {
             "outlinewidth": 0,
             "ticks": ""
            },
            "colorscale": [
             [
              0,
              "#0d0887"
             ],
             [
              0.1111111111111111,
              "#46039f"
             ],
             [
              0.2222222222222222,
              "#7201a8"
             ],
             [
              0.3333333333333333,
              "#9c179e"
             ],
             [
              0.4444444444444444,
              "#bd3786"
             ],
             [
              0.5555555555555556,
              "#d8576b"
             ],
             [
              0.6666666666666666,
              "#ed7953"
             ],
             [
              0.7777777777777778,
              "#fb9f3a"
             ],
             [
              0.8888888888888888,
              "#fdca26"
             ],
             [
              1,
              "#f0f921"
             ]
            ],
            "type": "surface"
           }
          ],
          "table": [
           {
            "cells": {
             "fill": {
              "color": "#506784"
             },
             "line": {
              "color": "rgb(17,17,17)"
             }
            },
            "header": {
             "fill": {
              "color": "#2a3f5f"
             },
             "line": {
              "color": "rgb(17,17,17)"
             }
            },
            "type": "table"
           }
          ]
         },
         "layout": {
          "annotationdefaults": {
           "arrowcolor": "#f2f5fa",
           "arrowhead": 0,
           "arrowwidth": 1
          },
          "autotypenumbers": "strict",
          "coloraxis": {
           "colorbar": {
            "outlinewidth": 0,
            "ticks": ""
           }
          },
          "colorscale": {
           "diverging": [
            [
             0,
             "#8e0152"
            ],
            [
             0.1,
             "#c51b7d"
            ],
            [
             0.2,
             "#de77ae"
            ],
            [
             0.3,
             "#f1b6da"
            ],
            [
             0.4,
             "#fde0ef"
            ],
            [
             0.5,
             "#f7f7f7"
            ],
            [
             0.6,
             "#e6f5d0"
            ],
            [
             0.7,
             "#b8e186"
            ],
            [
             0.8,
             "#7fbc41"
            ],
            [
             0.9,
             "#4d9221"
            ],
            [
             1,
             "#276419"
            ]
           ],
           "sequential": [
            [
             0,
             "#0d0887"
            ],
            [
             0.1111111111111111,
             "#46039f"
            ],
            [
             0.2222222222222222,
             "#7201a8"
            ],
            [
             0.3333333333333333,
             "#9c179e"
            ],
            [
             0.4444444444444444,
             "#bd3786"
            ],
            [
             0.5555555555555556,
             "#d8576b"
            ],
            [
             0.6666666666666666,
             "#ed7953"
            ],
            [
             0.7777777777777778,
             "#fb9f3a"
            ],
            [
             0.8888888888888888,
             "#fdca26"
            ],
            [
             1,
             "#f0f921"
            ]
           ],
           "sequentialminus": [
            [
             0,
             "#0d0887"
            ],
            [
             0.1111111111111111,
             "#46039f"
            ],
            [
             0.2222222222222222,
             "#7201a8"
            ],
            [
             0.3333333333333333,
             "#9c179e"
            ],
            [
             0.4444444444444444,
             "#bd3786"
            ],
            [
             0.5555555555555556,
             "#d8576b"
            ],
            [
             0.6666666666666666,
             "#ed7953"
            ],
            [
             0.7777777777777778,
             "#fb9f3a"
            ],
            [
             0.8888888888888888,
             "#fdca26"
            ],
            [
             1,
             "#f0f921"
            ]
           ]
          },
          "colorway": [
           "#636efa",
           "#EF553B",
           "#00cc96",
           "#ab63fa",
           "#FFA15A",
           "#19d3f3",
           "#FF6692",
           "#B6E880",
           "#FF97FF",
           "#FECB52"
          ],
          "font": {
           "color": "#f2f5fa"
          },
          "geo": {
           "bgcolor": "rgb(17,17,17)",
           "lakecolor": "rgb(17,17,17)",
           "landcolor": "rgb(17,17,17)",
           "showlakes": true,
           "showland": true,
           "subunitcolor": "#506784"
          },
          "hoverlabel": {
           "align": "left"
          },
          "hovermode": "closest",
          "mapbox": {
           "style": "dark"
          },
          "paper_bgcolor": "rgb(17,17,17)",
          "plot_bgcolor": "rgb(17,17,17)",
          "polar": {
           "angularaxis": {
            "gridcolor": "#506784",
            "linecolor": "#506784",
            "ticks": ""
           },
           "bgcolor": "rgb(17,17,17)",
           "radialaxis": {
            "gridcolor": "#506784",
            "linecolor": "#506784",
            "ticks": ""
           }
          },
          "scene": {
           "xaxis": {
            "backgroundcolor": "rgb(17,17,17)",
            "gridcolor": "#506784",
            "gridwidth": 2,
            "linecolor": "#506784",
            "showbackground": true,
            "ticks": "",
            "zerolinecolor": "#C8D4E3"
           },
           "yaxis": {
            "backgroundcolor": "rgb(17,17,17)",
            "gridcolor": "#506784",
            "gridwidth": 2,
            "linecolor": "#506784",
            "showbackground": true,
            "ticks": "",
            "zerolinecolor": "#C8D4E3"
           },
           "zaxis": {
            "backgroundcolor": "rgb(17,17,17)",
            "gridcolor": "#506784",
            "gridwidth": 2,
            "linecolor": "#506784",
            "showbackground": true,
            "ticks": "",
            "zerolinecolor": "#C8D4E3"
           }
          },
          "shapedefaults": {
           "line": {
            "color": "#f2f5fa"
           }
          },
          "sliderdefaults": {
           "bgcolor": "#C8D4E3",
           "bordercolor": "rgb(17,17,17)",
           "borderwidth": 1,
           "tickwidth": 0
          },
          "ternary": {
           "aaxis": {
            "gridcolor": "#506784",
            "linecolor": "#506784",
            "ticks": ""
           },
           "baxis": {
            "gridcolor": "#506784",
            "linecolor": "#506784",
            "ticks": ""
           },
           "bgcolor": "rgb(17,17,17)",
           "caxis": {
            "gridcolor": "#506784",
            "linecolor": "#506784",
            "ticks": ""
           }
          },
          "title": {
           "x": 0.05
          },
          "updatemenudefaults": {
           "bgcolor": "#506784",
           "borderwidth": 0
          },
          "xaxis": {
           "automargin": true,
           "gridcolor": "#283442",
           "linecolor": "#506784",
           "ticks": "",
           "title": {
            "standoff": 15
           },
           "zerolinecolor": "#283442",
           "zerolinewidth": 2
          },
          "yaxis": {
           "automargin": true,
           "gridcolor": "#283442",
           "linecolor": "#506784",
           "ticks": "",
           "title": {
            "standoff": 15
           },
           "zerolinecolor": "#283442",
           "zerolinewidth": 2
          }
         }
        },
        "title": {
         "text": "Selling Price by Kms_Driven"
        },
        "xaxis": {
         "anchor": "y",
         "domain": [
          0,
          1
         ],
         "title": {
          "text": "Kms_Driven"
         }
        },
        "yaxis": {
         "anchor": "x",
         "domain": [
          0,
          1
         ],
         "title": {
          "text": "Selling_Price"
         }
        }
       }
      }
     },
     "metadata": {},
     "output_type": "display_data"
    }
   ],
   "source": [
    "pplot('Kms_Driven')"
   ]
  },
  {
   "cell_type": "markdown",
   "metadata": {},
   "source": [
    "1. Cars with less value have been driven less\n",
    "2. Most of cars have been driven less than 50,000 kms\n",
    "3. Some of the highest values have been driven more than 70,000kms and 100,000kms\n",
    "4. Most drived car has traveld 500,000 kms and has a selling price of 0.17\n",
    "5. Lessn drived car has traveld 500kms\n",
    "6. Mean of kms driven is 36,947.20\n",
    "7. Best Sold price car has been driven 78,000kms\n",
    "8. Worsed Sold price car hasz been driven 92,233kms"
   ]
  },
  {
   "cell_type": "code",
   "execution_count": 28,
   "metadata": {},
   "outputs": [
    {
     "data": {
      "text/plain": [
       "36947.20598006644"
      ]
     },
     "execution_count": 28,
     "metadata": {},
     "output_type": "execute_result"
    }
   ],
   "source": [
    "df['Kms_Driven'].mean()"
   ]
  },
  {
   "cell_type": "code",
   "execution_count": 29,
   "metadata": {},
   "outputs": [
    {
     "data": {
      "application/vnd.plotly.v1+json": {
       "config": {
        "plotlyServerURL": "https://plot.ly"
       },
       "data": [
        {
         "hovertemplate": "Fuel_Type=%{x}<br>Selling_Price=%{y}<br>Present_Price=%{marker.color}<extra></extra>",
         "legendgroup": "",
         "marker": {
          "color": [
           9.83,
           36.23,
           0.87,
           4.43,
           0.95,
           19.77,
           6.49,
           8.7,
           9.29,
           7.13,
           23.15,
           5.7,
           1.47,
           8.1,
           1.47,
           1.6,
           1.78,
           1.82,
           0.84,
           5.8,
           5.71,
           0.95,
           0.54,
           9.85,
           0.52,
           0.51,
           0.87,
           3.6,
           0.51,
           12.5,
           9.4,
           0.51,
           25.39,
           0.81,
           9.4,
           18.64,
           7.6,
           4.43,
           4.43,
           7.6,
           13.6,
           25.39,
           20.91,
           4.43,
           5.9,
           1.9,
           0.54,
           0.55,
           0.55,
           0.94,
           0.84,
           0.8,
           0.87,
           0.57,
           0.95,
           0.8,
           0.48,
           1.17,
           1.26,
           5.7,
           1.5,
           1.78,
           1.5,
           13.6,
           1.4,
           14.89,
           0.54,
           11.8,
           8.4,
           8.5,
           7.9,
           3.76,
           7.87,
           13.6,
           13.6,
           9.4,
           3.95,
           8.4,
           13.6,
           10.79,
           7.7,
           10.79,
           13.6,
           8.89,
           5.97,
           11.6,
           8.61,
           5.7,
           8.12,
           13.09,
           4.43,
           7.71,
           10.38,
           0.84,
           1.47,
           1.9,
           5.9,
           0.32,
           7.5,
           13.6,
           8.92,
           10.38,
           6.1,
           0.54,
           0.82,
           0.84,
           5.09,
           0.74,
           10.79,
           0.55,
           0.95,
           0.72,
           0.84,
           9.94,
           1.47,
           35.96,
           5.7,
           1.47,
           14.79,
           5.7,
           13.46,
           5.8,
           7.85,
           7.27,
           13.6,
           7.13,
           6.8,
           9.4,
           13.6,
           7.7,
           13.6,
           6.82,
           9.4,
           7,
           5.7,
           30.61,
           30.61,
           7.71,
           5.9,
           7.2,
           10,
           10,
           13.6,
           14.79,
           5.7,
           13.6,
           2.37,
           7.6,
           9.9,
           13.6,
           0.81,
           6.8,
           7.13,
           9.4,
           0.64,
           6.4,
           6.8,
           7,
           0.52,
           7,
           14,
           5.59,
           6.76,
           7.49,
           16.09,
           35.96,
           12.04,
           9.95,
           3.45,
           6.95,
           1.2,
           8.06,
           3.46,
           35.96,
           0.826,
           0.99,
           2.4,
           0.787,
           3.98,
           6.87,
           6.76,
           8.06,
           0.88,
           8.93,
           6.8,
           1.47,
           30.61,
           18.61,
           1.5,
           1.9,
           18.61,
           6.79,
           6.05,
           9.4,
           9.4,
           9.9,
           5.7,
           9.9,
           9.4,
           14.68,
           9.4,
           18.61,
           4.89,
           4.6,
           4.41,
           0.787,
           9.54,
           0.99,
           0.65,
           1.2,
           0.58,
           0.47,
           0.57,
           0.73,
           1.47,
           0.51,
           5.9,
           5.87,
           30.61,
           0.83,
           30.61,
           0.99,
           4.43,
           9.4,
           9.4,
           6.79,
           0.81,
           6.79,
           13.74,
           5.35,
           2.69,
           1.75,
           4.6,
           0.57,
           9.4,
           18.61,
           0.99,
           5.98,
           9.4,
           0.51,
           9.4,
           13.74,
           4.99,
           8.01,
           4.15,
           12.48,
           7.74,
           10,
           4.89,
           0.826,
           1.05,
           1.5,
           5.71,
           6.79,
           4.6,
           0.787,
           0.57,
           4.43,
           0.95,
           4.6,
           7.98,
           9.9,
           0.94,
           1.05,
           3.95,
           0.52,
           0.95,
           7.5,
           0.51,
           92.6,
           6.79,
           20.45,
           22.83,
           20.45,
           18.54,
           10,
           11,
           1.75,
           15.04,
           7.21,
           18.61,
           0.58,
           22.78,
           0.52,
           0.787,
           7.15,
           0.75,
           0.75,
           0.58,
           0.75,
           7.6,
           23.73,
           4.15,
           0.75,
           10.21,
           0.57,
           13.7,
           13.46,
           12.35,
           2.28,
           7.98
          ],
          "coloraxis": "coloraxis",
          "size": 4,
          "symbol": "circle"
         },
         "mode": "markers",
         "name": "",
         "orientation": "v",
         "showlegend": false,
         "type": "scatter",
         "x": [
          "Diesel",
          "Diesel",
          "Petrol",
          "Petrol",
          "Petrol",
          "Diesel",
          "Petrol",
          "Petrol",
          "Petrol",
          "Petrol",
          "Petrol",
          "Petrol",
          "Petrol",
          "Petrol",
          "Petrol",
          "Petrol",
          "Petrol",
          "Petrol",
          "Petrol",
          "Petrol",
          "Petrol",
          "Petrol",
          "Petrol",
          "Petrol",
          "Petrol",
          "Petrol",
          "Petrol",
          "Petrol",
          "Petrol",
          "Diesel",
          "Petrol",
          "Petrol",
          "Diesel",
          "Petrol",
          "Petrol",
          "Petrol",
          "Petrol",
          "Petrol",
          "Petrol",
          "Petrol",
          "Diesel",
          "Diesel",
          "Petrol",
          "Petrol",
          "Petrol",
          "Petrol",
          "Petrol",
          "Petrol",
          "Petrol",
          "Petrol",
          "Petrol",
          "Petrol",
          "Petrol",
          "Petrol",
          "Petrol",
          "Petrol",
          "Petrol",
          "Petrol",
          "Petrol",
          "Petrol",
          "Petrol",
          "Petrol",
          "Petrol",
          "Petrol",
          "Petrol",
          "Diesel",
          "Petrol",
          "Petrol",
          "Petrol",
          "Petrol",
          "Petrol",
          "Petrol",
          "Petrol",
          "Petrol",
          "Petrol",
          "Diesel",
          "Petrol",
          "Petrol",
          "Petrol",
          "Diesel",
          "Petrol",
          "Diesel",
          "Petrol",
          "Diesel",
          "Petrol",
          "Diesel",
          "Diesel",
          "Petrol",
          "Petrol",
          "Diesel",
          "Petrol",
          "Petrol",
          "Diesel",
          "Petrol",
          "Petrol",
          "Petrol",
          "Petrol",
          "Petrol",
          "Petrol",
          "Petrol",
          "Diesel",
          "Diesel",
          "Petrol",
          "Petrol",
          "Petrol",
          "Petrol",
          "CNG",
          "Petrol",
          "Diesel",
          "Petrol",
          "Petrol",
          "Petrol",
          "Petrol",
          "Petrol",
          "Petrol",
          "Diesel",
          "Petrol",
          "Petrol",
          "Petrol",
          "Petrol",
          "Diesel",
          "Petrol",
          "Diesel",
          "Petrol",
          "Diesel",
          "Petrol",
          "Petrol",
          "Petrol",
          "Petrol",
          "Petrol",
          "Petrol",
          "Petrol",
          "Diesel",
          "Petrol",
          "Petrol",
          "Diesel",
          "Diesel",
          "Petrol",
          "Petrol",
          "Petrol",
          "Petrol",
          "Petrol",
          "Petrol",
          "Diesel",
          "Diesel",
          "Petrol",
          "Petrol",
          "Diesel",
          "Diesel",
          "Petrol",
          "Petrol",
          "Petrol",
          "Petrol",
          "Petrol",
          "Petrol",
          "Petrol",
          "Petrol",
          "Petrol",
          "Petrol",
          "Petrol",
          "Diesel",
          "Petrol",
          "Petrol",
          "Diesel",
          "Diesel",
          "Diesel",
          "Petrol",
          "Diesel",
          "Petrol",
          "Diesel",
          "Petrol",
          "Diesel",
          "Petrol",
          "Diesel",
          "Petrol",
          "Petrol",
          "Petrol",
          "Petrol",
          "Petrol",
          "Diesel",
          "Diesel",
          "Diesel",
          "Petrol",
          "Diesel",
          "Petrol",
          "Petrol",
          "Diesel",
          "Petrol",
          "Petrol",
          "Petrol",
          "Petrol",
          "Petrol",
          "Petrol",
          "Petrol",
          "Diesel",
          "Petrol",
          "Diesel",
          "Petrol",
          "Petrol",
          "Petrol",
          "Diesel",
          "Petrol",
          "Petrol",
          "Petrol",
          "Petrol",
          "Petrol",
          "Diesel",
          "Petrol",
          "Petrol",
          "Petrol",
          "Petrol",
          "Petrol",
          "Petrol",
          "Petrol",
          "Petrol",
          "Petrol",
          "Petrol",
          "Petrol",
          "Diesel",
          "Petrol",
          "Diesel",
          "Petrol",
          "Petrol",
          "Diesel",
          "Diesel",
          "Petrol",
          "Petrol",
          "Diesel",
          "Petrol",
          "Petrol",
          "Petrol",
          "Petrol",
          "Petrol",
          "Petrol",
          "Diesel",
          "Petrol",
          "Petrol",
          "Diesel",
          "Petrol",
          "Petrol",
          "Petrol",
          "Petrol",
          "Petrol",
          "Petrol",
          "Petrol",
          "Diesel",
          "CNG",
          "Petrol",
          "Petrol",
          "Petrol",
          "Petrol",
          "Petrol",
          "Petrol",
          "Petrol",
          "Petrol",
          "Petrol",
          "Petrol",
          "Petrol",
          "Petrol",
          "Petrol",
          "Petrol",
          "Petrol",
          "Petrol",
          "Petrol",
          "Petrol",
          "Petrol",
          "Petrol",
          "Petrol",
          "Petrol",
          "Diesel",
          "Diesel",
          "Diesel",
          "Petrol",
          "Diesel",
          "Petrol",
          "Petrol",
          "Petrol",
          "Petrol",
          "Petrol",
          "Petrol",
          "Petrol",
          "Petrol",
          "Petrol",
          "Petrol",
          "Petrol",
          "Petrol",
          "Petrol",
          "Petrol",
          "Petrol",
          "Petrol",
          "Petrol",
          "Petrol",
          "Petrol",
          "Petrol",
          "Petrol",
          "Petrol",
          "Petrol",
          "Diesel",
          "Petrol",
          "Petrol",
          "Petrol"
         ],
         "xaxis": "x",
         "y": [
          9.25,
          33,
          0.8,
          3.5,
          0.9,
          18,
          6,
          6.5,
          7.75,
          5.75,
          19.75,
          5.25,
          1.2,
          7.9,
          1.35,
          1.45,
          1.65,
          1.7,
          0.78,
          4.8,
          4.9,
          0.75,
          0.48,
          7.25,
          0.48,
          0.48,
          0.75,
          2.85,
          0.4,
          11.5,
          9.1,
          0.45,
          23,
          0.65,
          9.25,
          17,
          6.25,
          3.1,
          2.9,
          5.25,
          12.9,
          20.75,
          14.25,
          3.15,
          5.3,
          1.75,
          0.45,
          0.45,
          0.5,
          0.51,
          0.6,
          0.6,
          0.6,
          0.35,
          0.72,
          0.75,
          0.3,
          1.05,
          1.05,
          5.25,
          1.15,
          1.2,
          1.2,
          11.25,
          1.15,
          14.73,
          0.45,
          8.99,
          6,
          7.4,
          5.65,
          3,
          5.85,
          10.9,
          10.11,
          8.35,
          2.85,
          6.4,
          10.25,
          7.75,
          6.6,
          7.75,
          9.15,
          8.75,
          5.5,
          9.5,
          6.5,
          4.4,
          6.75,
          8.55,
          2.75,
          6.1,
          7.45,
          0.48,
          1.1,
          1.1,
          4,
          0.18,
          5.75,
          8.4,
          7.45,
          6.85,
          5.4,
          0.4,
          0.75,
          0.55,
          3.25,
          0.65,
          7.25,
          0.4,
          0.6,
          0.38,
          0.6,
          7.5,
          1.11,
          23.5,
          5.15,
          1.15,
          11.45,
          5.5,
          12.5,
          4,
          4.75,
          4.5,
          11.25,
          4.75,
          3.95,
          5.95,
          8.4,
          4.5,
          8.5,
          5.4,
          8.25,
          4,
          5.25,
          23,
          23,
          5.8,
          5.25,
          4.65,
          6.7,
          7.5,
          9.7,
          11.75,
          4.85,
          8.65,
          1.35,
          6,
          7.2,
          6.25,
          0.42,
          5.3,
          4.4,
          6.45,
          0.4,
          4.5,
          3.75,
          3.65,
          0.35,
          3.9,
          8.25,
          3.35,
          4.75,
          4.95,
          11.25,
          18.75,
          7.5,
          6,
          1.35,
          4.75,
          0.65,
          5.5,
          2.5,
          19.99,
          0.45,
          0.6,
          1.15,
          0.55,
          2.55,
          4.6,
          3.95,
          5.5,
          0.5,
          4.9,
          4.1,
          1.1,
          16,
          7.45,
          1.25,
          1.05,
          6.95,
          4.5,
          3.45,
          5.11,
          6.15,
          5.25,
          3.9,
          5,
          4.8,
          5.5,
          5.95,
          7.05,
          2.65,
          4,
          2.9,
          0.65,
          4.75,
          0.5,
          0.2,
          0.6,
          0.3,
          0.27,
          0.25,
          0.42,
          1,
          0.25,
          3.5,
          4.15,
          14.9,
          0.4,
          14.5,
          0.5,
          2,
          5.35,
          5.2,
          3.75,
          0.6,
          3.1,
          5.9,
          3,
          1.25,
          0.95,
          3.1,
          0.2,
          4.95,
          5.85,
          0.45,
          3.1,
          4.5,
          0.3,
          4.5,
          4.35,
          3,
          4.4,
          2.85,
          4.5,
          2.95,
          4.1,
          2.35,
          0.5,
          0.35,
          1.05,
          2.65,
          2.9,
          2.95,
          0.38,
          0.15,
          2.55,
          0.45,
          2.7,
          2.65,
          3.25,
          0.52,
          0.31,
          1.95,
          0.25,
          0.45,
          2.25,
          0.16,
          35,
          3.25,
          9.65,
          5.25,
          9.25,
          4.75,
          3,
          3.35,
          0.9,
          3.6,
          2.25,
          3.8,
          0.25,
          4,
          0.17,
          0.2,
          1.95,
          0.2,
          0.25,
          0.12,
          0.2,
          2.1,
          2.5,
          1.05,
          0.1,
          2.75,
          0.2,
          3.51,
          3.49,
          1.5,
          0.35,
          2.25
         ],
         "yaxis": "y"
        }
       ],
       "layout": {
        "coloraxis": {
         "colorbar": {
          "title": {
           "text": "Present_Price"
          }
         },
         "colorscale": [
          [
           0,
           "rgb(0,0,255)"
          ],
          [
           0.1,
           "rgb(51,153,255)"
          ],
          [
           0.2,
           "rgb(102,204,255)"
          ],
          [
           0.3,
           "rgb(153,204,255)"
          ],
          [
           0.4,
           "rgb(204,204,255)"
          ],
          [
           0.5,
           "rgb(255,255,255)"
          ],
          [
           0.6,
           "rgb(255,204,255)"
          ],
          [
           0.7,
           "rgb(255,153,255)"
          ],
          [
           0.8,
           "rgb(255,102,204)"
          ],
          [
           0.9,
           "rgb(255,102,102)"
          ],
          [
           1,
           "rgb(255,0,0)"
          ]
         ]
        },
        "legend": {
         "tracegroupgap": 0
        },
        "template": {
         "data": {
          "bar": [
           {
            "error_x": {
             "color": "#f2f5fa"
            },
            "error_y": {
             "color": "#f2f5fa"
            },
            "marker": {
             "line": {
              "color": "rgb(17,17,17)",
              "width": 0.5
             },
             "pattern": {
              "fillmode": "overlay",
              "size": 10,
              "solidity": 0.2
             }
            },
            "type": "bar"
           }
          ],
          "barpolar": [
           {
            "marker": {
             "line": {
              "color": "rgb(17,17,17)",
              "width": 0.5
             },
             "pattern": {
              "fillmode": "overlay",
              "size": 10,
              "solidity": 0.2
             }
            },
            "type": "barpolar"
           }
          ],
          "carpet": [
           {
            "aaxis": {
             "endlinecolor": "#A2B1C6",
             "gridcolor": "#506784",
             "linecolor": "#506784",
             "minorgridcolor": "#506784",
             "startlinecolor": "#A2B1C6"
            },
            "baxis": {
             "endlinecolor": "#A2B1C6",
             "gridcolor": "#506784",
             "linecolor": "#506784",
             "minorgridcolor": "#506784",
             "startlinecolor": "#A2B1C6"
            },
            "type": "carpet"
           }
          ],
          "choropleth": [
           {
            "colorbar": {
             "outlinewidth": 0,
             "ticks": ""
            },
            "type": "choropleth"
           }
          ],
          "contour": [
           {
            "colorbar": {
             "outlinewidth": 0,
             "ticks": ""
            },
            "colorscale": [
             [
              0,
              "#0d0887"
             ],
             [
              0.1111111111111111,
              "#46039f"
             ],
             [
              0.2222222222222222,
              "#7201a8"
             ],
             [
              0.3333333333333333,
              "#9c179e"
             ],
             [
              0.4444444444444444,
              "#bd3786"
             ],
             [
              0.5555555555555556,
              "#d8576b"
             ],
             [
              0.6666666666666666,
              "#ed7953"
             ],
             [
              0.7777777777777778,
              "#fb9f3a"
             ],
             [
              0.8888888888888888,
              "#fdca26"
             ],
             [
              1,
              "#f0f921"
             ]
            ],
            "type": "contour"
           }
          ],
          "contourcarpet": [
           {
            "colorbar": {
             "outlinewidth": 0,
             "ticks": ""
            },
            "type": "contourcarpet"
           }
          ],
          "heatmap": [
           {
            "colorbar": {
             "outlinewidth": 0,
             "ticks": ""
            },
            "colorscale": [
             [
              0,
              "#0d0887"
             ],
             [
              0.1111111111111111,
              "#46039f"
             ],
             [
              0.2222222222222222,
              "#7201a8"
             ],
             [
              0.3333333333333333,
              "#9c179e"
             ],
             [
              0.4444444444444444,
              "#bd3786"
             ],
             [
              0.5555555555555556,
              "#d8576b"
             ],
             [
              0.6666666666666666,
              "#ed7953"
             ],
             [
              0.7777777777777778,
              "#fb9f3a"
             ],
             [
              0.8888888888888888,
              "#fdca26"
             ],
             [
              1,
              "#f0f921"
             ]
            ],
            "type": "heatmap"
           }
          ],
          "heatmapgl": [
           {
            "colorbar": {
             "outlinewidth": 0,
             "ticks": ""
            },
            "colorscale": [
             [
              0,
              "#0d0887"
             ],
             [
              0.1111111111111111,
              "#46039f"
             ],
             [
              0.2222222222222222,
              "#7201a8"
             ],
             [
              0.3333333333333333,
              "#9c179e"
             ],
             [
              0.4444444444444444,
              "#bd3786"
             ],
             [
              0.5555555555555556,
              "#d8576b"
             ],
             [
              0.6666666666666666,
              "#ed7953"
             ],
             [
              0.7777777777777778,
              "#fb9f3a"
             ],
             [
              0.8888888888888888,
              "#fdca26"
             ],
             [
              1,
              "#f0f921"
             ]
            ],
            "type": "heatmapgl"
           }
          ],
          "histogram": [
           {
            "marker": {
             "pattern": {
              "fillmode": "overlay",
              "size": 10,
              "solidity": 0.2
             }
            },
            "type": "histogram"
           }
          ],
          "histogram2d": [
           {
            "colorbar": {
             "outlinewidth": 0,
             "ticks": ""
            },
            "colorscale": [
             [
              0,
              "#0d0887"
             ],
             [
              0.1111111111111111,
              "#46039f"
             ],
             [
              0.2222222222222222,
              "#7201a8"
             ],
             [
              0.3333333333333333,
              "#9c179e"
             ],
             [
              0.4444444444444444,
              "#bd3786"
             ],
             [
              0.5555555555555556,
              "#d8576b"
             ],
             [
              0.6666666666666666,
              "#ed7953"
             ],
             [
              0.7777777777777778,
              "#fb9f3a"
             ],
             [
              0.8888888888888888,
              "#fdca26"
             ],
             [
              1,
              "#f0f921"
             ]
            ],
            "type": "histogram2d"
           }
          ],
          "histogram2dcontour": [
           {
            "colorbar": {
             "outlinewidth": 0,
             "ticks": ""
            },
            "colorscale": [
             [
              0,
              "#0d0887"
             ],
             [
              0.1111111111111111,
              "#46039f"
             ],
             [
              0.2222222222222222,
              "#7201a8"
             ],
             [
              0.3333333333333333,
              "#9c179e"
             ],
             [
              0.4444444444444444,
              "#bd3786"
             ],
             [
              0.5555555555555556,
              "#d8576b"
             ],
             [
              0.6666666666666666,
              "#ed7953"
             ],
             [
              0.7777777777777778,
              "#fb9f3a"
             ],
             [
              0.8888888888888888,
              "#fdca26"
             ],
             [
              1,
              "#f0f921"
             ]
            ],
            "type": "histogram2dcontour"
           }
          ],
          "mesh3d": [
           {
            "colorbar": {
             "outlinewidth": 0,
             "ticks": ""
            },
            "type": "mesh3d"
           }
          ],
          "parcoords": [
           {
            "line": {
             "colorbar": {
              "outlinewidth": 0,
              "ticks": ""
             }
            },
            "type": "parcoords"
           }
          ],
          "pie": [
           {
            "automargin": true,
            "type": "pie"
           }
          ],
          "scatter": [
           {
            "marker": {
             "line": {
              "color": "#283442"
             }
            },
            "type": "scatter"
           }
          ],
          "scatter3d": [
           {
            "line": {
             "colorbar": {
              "outlinewidth": 0,
              "ticks": ""
             }
            },
            "marker": {
             "colorbar": {
              "outlinewidth": 0,
              "ticks": ""
             }
            },
            "type": "scatter3d"
           }
          ],
          "scattercarpet": [
           {
            "marker": {
             "colorbar": {
              "outlinewidth": 0,
              "ticks": ""
             }
            },
            "type": "scattercarpet"
           }
          ],
          "scattergeo": [
           {
            "marker": {
             "colorbar": {
              "outlinewidth": 0,
              "ticks": ""
             }
            },
            "type": "scattergeo"
           }
          ],
          "scattergl": [
           {
            "marker": {
             "line": {
              "color": "#283442"
             }
            },
            "type": "scattergl"
           }
          ],
          "scattermapbox": [
           {
            "marker": {
             "colorbar": {
              "outlinewidth": 0,
              "ticks": ""
             }
            },
            "type": "scattermapbox"
           }
          ],
          "scatterpolar": [
           {
            "marker": {
             "colorbar": {
              "outlinewidth": 0,
              "ticks": ""
             }
            },
            "type": "scatterpolar"
           }
          ],
          "scatterpolargl": [
           {
            "marker": {
             "colorbar": {
              "outlinewidth": 0,
              "ticks": ""
             }
            },
            "type": "scatterpolargl"
           }
          ],
          "scatterternary": [
           {
            "marker": {
             "colorbar": {
              "outlinewidth": 0,
              "ticks": ""
             }
            },
            "type": "scatterternary"
           }
          ],
          "surface": [
           {
            "colorbar": {
             "outlinewidth": 0,
             "ticks": ""
            },
            "colorscale": [
             [
              0,
              "#0d0887"
             ],
             [
              0.1111111111111111,
              "#46039f"
             ],
             [
              0.2222222222222222,
              "#7201a8"
             ],
             [
              0.3333333333333333,
              "#9c179e"
             ],
             [
              0.4444444444444444,
              "#bd3786"
             ],
             [
              0.5555555555555556,
              "#d8576b"
             ],
             [
              0.6666666666666666,
              "#ed7953"
             ],
             [
              0.7777777777777778,
              "#fb9f3a"
             ],
             [
              0.8888888888888888,
              "#fdca26"
             ],
             [
              1,
              "#f0f921"
             ]
            ],
            "type": "surface"
           }
          ],
          "table": [
           {
            "cells": {
             "fill": {
              "color": "#506784"
             },
             "line": {
              "color": "rgb(17,17,17)"
             }
            },
            "header": {
             "fill": {
              "color": "#2a3f5f"
             },
             "line": {
              "color": "rgb(17,17,17)"
             }
            },
            "type": "table"
           }
          ]
         },
         "layout": {
          "annotationdefaults": {
           "arrowcolor": "#f2f5fa",
           "arrowhead": 0,
           "arrowwidth": 1
          },
          "autotypenumbers": "strict",
          "coloraxis": {
           "colorbar": {
            "outlinewidth": 0,
            "ticks": ""
           }
          },
          "colorscale": {
           "diverging": [
            [
             0,
             "#8e0152"
            ],
            [
             0.1,
             "#c51b7d"
            ],
            [
             0.2,
             "#de77ae"
            ],
            [
             0.3,
             "#f1b6da"
            ],
            [
             0.4,
             "#fde0ef"
            ],
            [
             0.5,
             "#f7f7f7"
            ],
            [
             0.6,
             "#e6f5d0"
            ],
            [
             0.7,
             "#b8e186"
            ],
            [
             0.8,
             "#7fbc41"
            ],
            [
             0.9,
             "#4d9221"
            ],
            [
             1,
             "#276419"
            ]
           ],
           "sequential": [
            [
             0,
             "#0d0887"
            ],
            [
             0.1111111111111111,
             "#46039f"
            ],
            [
             0.2222222222222222,
             "#7201a8"
            ],
            [
             0.3333333333333333,
             "#9c179e"
            ],
            [
             0.4444444444444444,
             "#bd3786"
            ],
            [
             0.5555555555555556,
             "#d8576b"
            ],
            [
             0.6666666666666666,
             "#ed7953"
            ],
            [
             0.7777777777777778,
             "#fb9f3a"
            ],
            [
             0.8888888888888888,
             "#fdca26"
            ],
            [
             1,
             "#f0f921"
            ]
           ],
           "sequentialminus": [
            [
             0,
             "#0d0887"
            ],
            [
             0.1111111111111111,
             "#46039f"
            ],
            [
             0.2222222222222222,
             "#7201a8"
            ],
            [
             0.3333333333333333,
             "#9c179e"
            ],
            [
             0.4444444444444444,
             "#bd3786"
            ],
            [
             0.5555555555555556,
             "#d8576b"
            ],
            [
             0.6666666666666666,
             "#ed7953"
            ],
            [
             0.7777777777777778,
             "#fb9f3a"
            ],
            [
             0.8888888888888888,
             "#fdca26"
            ],
            [
             1,
             "#f0f921"
            ]
           ]
          },
          "colorway": [
           "#636efa",
           "#EF553B",
           "#00cc96",
           "#ab63fa",
           "#FFA15A",
           "#19d3f3",
           "#FF6692",
           "#B6E880",
           "#FF97FF",
           "#FECB52"
          ],
          "font": {
           "color": "#f2f5fa"
          },
          "geo": {
           "bgcolor": "rgb(17,17,17)",
           "lakecolor": "rgb(17,17,17)",
           "landcolor": "rgb(17,17,17)",
           "showlakes": true,
           "showland": true,
           "subunitcolor": "#506784"
          },
          "hoverlabel": {
           "align": "left"
          },
          "hovermode": "closest",
          "mapbox": {
           "style": "dark"
          },
          "paper_bgcolor": "rgb(17,17,17)",
          "plot_bgcolor": "rgb(17,17,17)",
          "polar": {
           "angularaxis": {
            "gridcolor": "#506784",
            "linecolor": "#506784",
            "ticks": ""
           },
           "bgcolor": "rgb(17,17,17)",
           "radialaxis": {
            "gridcolor": "#506784",
            "linecolor": "#506784",
            "ticks": ""
           }
          },
          "scene": {
           "xaxis": {
            "backgroundcolor": "rgb(17,17,17)",
            "gridcolor": "#506784",
            "gridwidth": 2,
            "linecolor": "#506784",
            "showbackground": true,
            "ticks": "",
            "zerolinecolor": "#C8D4E3"
           },
           "yaxis": {
            "backgroundcolor": "rgb(17,17,17)",
            "gridcolor": "#506784",
            "gridwidth": 2,
            "linecolor": "#506784",
            "showbackground": true,
            "ticks": "",
            "zerolinecolor": "#C8D4E3"
           },
           "zaxis": {
            "backgroundcolor": "rgb(17,17,17)",
            "gridcolor": "#506784",
            "gridwidth": 2,
            "linecolor": "#506784",
            "showbackground": true,
            "ticks": "",
            "zerolinecolor": "#C8D4E3"
           }
          },
          "shapedefaults": {
           "line": {
            "color": "#f2f5fa"
           }
          },
          "sliderdefaults": {
           "bgcolor": "#C8D4E3",
           "bordercolor": "rgb(17,17,17)",
           "borderwidth": 1,
           "tickwidth": 0
          },
          "ternary": {
           "aaxis": {
            "gridcolor": "#506784",
            "linecolor": "#506784",
            "ticks": ""
           },
           "baxis": {
            "gridcolor": "#506784",
            "linecolor": "#506784",
            "ticks": ""
           },
           "bgcolor": "rgb(17,17,17)",
           "caxis": {
            "gridcolor": "#506784",
            "linecolor": "#506784",
            "ticks": ""
           }
          },
          "title": {
           "x": 0.05
          },
          "updatemenudefaults": {
           "bgcolor": "#506784",
           "borderwidth": 0
          },
          "xaxis": {
           "automargin": true,
           "gridcolor": "#283442",
           "linecolor": "#506784",
           "ticks": "",
           "title": {
            "standoff": 15
           },
           "zerolinecolor": "#283442",
           "zerolinewidth": 2
          },
          "yaxis": {
           "automargin": true,
           "gridcolor": "#283442",
           "linecolor": "#506784",
           "ticks": "",
           "title": {
            "standoff": 15
           },
           "zerolinecolor": "#283442",
           "zerolinewidth": 2
          }
         }
        },
        "title": {
         "text": "Selling Price by Fuel_Type"
        },
        "xaxis": {
         "anchor": "y",
         "domain": [
          0,
          1
         ],
         "title": {
          "text": "Fuel_Type"
         }
        },
        "yaxis": {
         "anchor": "x",
         "domain": [
          0,
          1
         ],
         "title": {
          "text": "Selling_Price"
         }
        }
       }
      }
     },
     "metadata": {},
     "output_type": "display_data"
    }
   ],
   "source": [
    "pplot('Fuel_Type')"
   ]
  },
  {
   "cell_type": "markdown",
   "metadata": {},
   "source": [
    "1. Most cars run with Petrol(239) and just (2) of them use CNG and Diesel with (60) places secend\n",
    "2. Diesel cars sell with a higher price\n",
    "3. Diesel crs maintain thire price better\n",
    "3. Starting price for Diesel cars is 3.1 to 35\n",
    "4. Starting price for Diesel cars is 0.1 to 19.76\n",
    "5. Starting price for CNG cars is 2.95 to 3.25"
   ]
  },
  {
   "cell_type": "code",
   "execution_count": 30,
   "metadata": {},
   "outputs": [
    {
     "data": {
      "text/plain": [
       "239"
      ]
     },
     "execution_count": 30,
     "metadata": {},
     "output_type": "execute_result"
    }
   ],
   "source": [
    "df[df['Fuel_Type']== 'Petrol'].value_counts().sum()"
   ]
  },
  {
   "cell_type": "code",
   "execution_count": 31,
   "metadata": {},
   "outputs": [
    {
     "data": {
      "text/plain": [
       "60"
      ]
     },
     "execution_count": 31,
     "metadata": {},
     "output_type": "execute_result"
    }
   ],
   "source": [
    "df[df['Fuel_Type']== 'Diesel'].value_counts().sum()"
   ]
  },
  {
   "cell_type": "code",
   "execution_count": 32,
   "metadata": {},
   "outputs": [
    {
     "data": {
      "text/plain": [
       "2"
      ]
     },
     "execution_count": 32,
     "metadata": {},
     "output_type": "execute_result"
    }
   ],
   "source": [
    "df[df['Fuel_Type']== 'CNG'].value_counts().sum()"
   ]
  },
  {
   "cell_type": "code",
   "execution_count": 33,
   "metadata": {},
   "outputs": [
    {
     "data": {
      "application/vnd.plotly.v1+json": {
       "config": {
        "plotlyServerURL": "https://plot.ly"
       },
       "data": [
        {
         "hovertemplate": "Seller_Type=%{x}<br>Selling_Price=%{y}<br>Present_Price=%{marker.color}<extra></extra>",
         "legendgroup": "",
         "marker": {
          "color": [
           9.83,
           36.23,
           0.87,
           4.43,
           0.95,
           19.77,
           6.49,
           8.7,
           9.29,
           7.13,
           23.15,
           5.7,
           1.47,
           8.1,
           1.47,
           1.6,
           1.78,
           1.82,
           0.84,
           5.8,
           5.71,
           0.95,
           0.54,
           9.85,
           0.52,
           0.51,
           0.87,
           3.6,
           0.51,
           12.5,
           9.4,
           0.51,
           25.39,
           0.81,
           9.4,
           18.64,
           7.6,
           4.43,
           4.43,
           7.6,
           13.6,
           25.39,
           20.91,
           4.43,
           5.9,
           1.9,
           0.54,
           0.55,
           0.55,
           0.94,
           0.84,
           0.8,
           0.87,
           0.57,
           0.95,
           0.8,
           0.48,
           1.17,
           1.26,
           5.7,
           1.5,
           1.78,
           1.5,
           13.6,
           1.4,
           14.89,
           0.54,
           11.8,
           8.4,
           8.5,
           7.9,
           3.76,
           7.87,
           13.6,
           13.6,
           9.4,
           3.95,
           8.4,
           13.6,
           10.79,
           7.7,
           10.79,
           13.6,
           8.89,
           5.97,
           11.6,
           8.61,
           5.7,
           8.12,
           13.09,
           4.43,
           7.71,
           10.38,
           0.84,
           1.47,
           1.9,
           5.9,
           0.32,
           7.5,
           13.6,
           8.92,
           10.38,
           6.1,
           0.54,
           0.82,
           0.84,
           5.09,
           0.74,
           10.79,
           0.55,
           0.95,
           0.72,
           0.84,
           9.94,
           1.47,
           35.96,
           5.7,
           1.47,
           14.79,
           5.7,
           13.46,
           5.8,
           7.85,
           7.27,
           13.6,
           7.13,
           6.8,
           9.4,
           13.6,
           7.7,
           13.6,
           6.82,
           9.4,
           7,
           5.7,
           30.61,
           30.61,
           7.71,
           5.9,
           7.2,
           10,
           10,
           13.6,
           14.79,
           5.7,
           13.6,
           2.37,
           7.6,
           9.9,
           13.6,
           0.81,
           6.8,
           7.13,
           9.4,
           0.64,
           6.4,
           6.8,
           7,
           0.52,
           7,
           14,
           5.59,
           6.76,
           7.49,
           16.09,
           35.96,
           12.04,
           9.95,
           3.45,
           6.95,
           1.2,
           8.06,
           3.46,
           35.96,
           0.826,
           0.99,
           2.4,
           0.787,
           3.98,
           6.87,
           6.76,
           8.06,
           0.88,
           8.93,
           6.8,
           1.47,
           30.61,
           18.61,
           1.5,
           1.9,
           18.61,
           6.79,
           6.05,
           9.4,
           9.4,
           9.9,
           5.7,
           9.9,
           9.4,
           14.68,
           9.4,
           18.61,
           4.89,
           4.6,
           4.41,
           0.787,
           9.54,
           0.99,
           0.65,
           1.2,
           0.58,
           0.47,
           0.57,
           0.73,
           1.47,
           0.51,
           5.9,
           5.87,
           30.61,
           0.83,
           30.61,
           0.99,
           4.43,
           9.4,
           9.4,
           6.79,
           0.81,
           6.79,
           13.74,
           5.35,
           2.69,
           1.75,
           4.6,
           0.57,
           9.4,
           18.61,
           0.99,
           5.98,
           9.4,
           0.51,
           9.4,
           13.74,
           4.99,
           8.01,
           4.15,
           12.48,
           7.74,
           10,
           4.89,
           0.826,
           1.05,
           1.5,
           5.71,
           6.79,
           4.6,
           0.787,
           0.57,
           4.43,
           0.95,
           4.6,
           7.98,
           9.9,
           0.94,
           1.05,
           3.95,
           0.52,
           0.95,
           7.5,
           0.51,
           92.6,
           6.79,
           20.45,
           22.83,
           20.45,
           18.54,
           10,
           11,
           1.75,
           15.04,
           7.21,
           18.61,
           0.58,
           22.78,
           0.52,
           0.787,
           7.15,
           0.75,
           0.75,
           0.58,
           0.75,
           7.6,
           23.73,
           4.15,
           0.75,
           10.21,
           0.57,
           13.7,
           13.46,
           12.35,
           2.28,
           7.98
          ],
          "coloraxis": "coloraxis",
          "size": 4,
          "symbol": "circle"
         },
         "mode": "markers",
         "name": "",
         "orientation": "v",
         "showlegend": false,
         "type": "scatter",
         "x": [
          "Dealer",
          "Dealer",
          "Individual",
          "Dealer",
          "Individual",
          "Dealer",
          "Individual",
          "Dealer",
          "Dealer",
          "Dealer",
          "Dealer",
          "Dealer",
          "Individual",
          "Dealer",
          "Individual",
          "Individual",
          "Individual",
          "Individual",
          "Individual",
          "Dealer",
          "Dealer",
          "Individual",
          "Individual",
          "Dealer",
          "Individual",
          "Individual",
          "Individual",
          "Dealer",
          "Individual",
          "Dealer",
          "Dealer",
          "Individual",
          "Dealer",
          "Individual",
          "Dealer",
          "Dealer",
          "Dealer",
          "Dealer",
          "Dealer",
          "Dealer",
          "Dealer",
          "Dealer",
          "Dealer",
          "Dealer",
          "Dealer",
          "Individual",
          "Individual",
          "Individual",
          "Individual",
          "Individual",
          "Individual",
          "Individual",
          "Individual",
          "Individual",
          "Individual",
          "Individual",
          "Individual",
          "Individual",
          "Individual",
          "Dealer",
          "Individual",
          "Individual",
          "Individual",
          "Dealer",
          "Individual",
          "Dealer",
          "Individual",
          "Dealer",
          "Dealer",
          "Dealer",
          "Dealer",
          "Dealer",
          "Dealer",
          "Dealer",
          "Dealer",
          "Dealer",
          "Dealer",
          "Dealer",
          "Dealer",
          "Dealer",
          "Dealer",
          "Dealer",
          "Dealer",
          "Dealer",
          "Dealer",
          "Dealer",
          "Dealer",
          "Dealer",
          "Dealer",
          "Dealer",
          "Dealer",
          "Dealer",
          "Dealer",
          "Individual",
          "Individual",
          "Individual",
          "Dealer",
          "Individual",
          "Dealer",
          "Dealer",
          "Dealer",
          "Dealer",
          "Dealer",
          "Individual",
          "Individual",
          "Individual",
          "Dealer",
          "Individual",
          "Dealer",
          "Individual",
          "Individual",
          "Individual",
          "Individual",
          "Dealer",
          "Individual",
          "Dealer",
          "Dealer",
          "Individual",
          "Dealer",
          "Dealer",
          "Dealer",
          "Dealer",
          "Dealer",
          "Dealer",
          "Dealer",
          "Dealer",
          "Dealer",
          "Dealer",
          "Dealer",
          "Dealer",
          "Dealer",
          "Dealer",
          "Dealer",
          "Dealer",
          "Dealer",
          "Dealer",
          "Dealer",
          "Dealer",
          "Dealer",
          "Dealer",
          "Dealer",
          "Dealer",
          "Dealer",
          "Dealer",
          "Dealer",
          "Dealer",
          "Individual",
          "Dealer",
          "Dealer",
          "Dealer",
          "Individual",
          "Dealer",
          "Dealer",
          "Dealer",
          "Individual",
          "Dealer",
          "Dealer",
          "Dealer",
          "Individual",
          "Dealer",
          "Dealer",
          "Dealer",
          "Dealer",
          "Dealer",
          "Dealer",
          "Dealer",
          "Dealer",
          "Dealer",
          "Individual",
          "Dealer",
          "Individual",
          "Dealer",
          "Dealer",
          "Dealer",
          "Individual",
          "Individual",
          "Individual",
          "Individual",
          "Dealer",
          "Dealer",
          "Dealer",
          "Dealer",
          "Individual",
          "Dealer",
          "Dealer",
          "Individual",
          "Individual",
          "Dealer",
          "Individual",
          "Individual",
          "Dealer",
          "Dealer",
          "Dealer",
          "Dealer",
          "Dealer",
          "Dealer",
          "Dealer",
          "Dealer",
          "Dealer",
          "Dealer",
          "Dealer",
          "Dealer",
          "Dealer",
          "Dealer",
          "Dealer",
          "Individual",
          "Dealer",
          "Individual",
          "Individual",
          "Individual",
          "Individual",
          "Individual",
          "Individual",
          "Individual",
          "Individual",
          "Individual",
          "Dealer",
          "Dealer",
          "Dealer",
          "Individual",
          "Dealer",
          "Individual",
          "Dealer",
          "Dealer",
          "Dealer",
          "Dealer",
          "Individual",
          "Dealer",
          "Dealer",
          "Dealer",
          "Dealer",
          "Individual",
          "Dealer",
          "Individual",
          "Dealer",
          "Dealer",
          "Individual",
          "Dealer",
          "Dealer",
          "Individual",
          "Dealer",
          "Dealer",
          "Dealer",
          "Dealer",
          "Dealer",
          "Dealer",
          "Dealer",
          "Dealer",
          "Dealer",
          "Individual",
          "Individual",
          "Individual",
          "Dealer",
          "Dealer",
          "Dealer",
          "Individual",
          "Individual",
          "Dealer",
          "Individual",
          "Dealer",
          "Dealer",
          "Dealer",
          "Individual",
          "Individual",
          "Dealer",
          "Individual",
          "Individual",
          "Dealer",
          "Individual",
          "Dealer",
          "Dealer",
          "Dealer",
          "Dealer",
          "Dealer",
          "Dealer",
          "Dealer",
          "Dealer",
          "Individual",
          "Dealer",
          "Dealer",
          "Dealer",
          "Individual",
          "Dealer",
          "Individual",
          "Individual",
          "Dealer",
          "Individual",
          "Individual",
          "Individual",
          "Individual",
          "Dealer",
          "Individual",
          "Dealer",
          "Individual",
          "Individual",
          "Individual",
          "Dealer",
          "Dealer",
          "Dealer",
          "Individual",
          "Dealer"
         ],
         "xaxis": "x",
         "y": [
          9.25,
          33,
          0.8,
          3.5,
          0.9,
          18,
          6,
          6.5,
          7.75,
          5.75,
          19.75,
          5.25,
          1.2,
          7.9,
          1.35,
          1.45,
          1.65,
          1.7,
          0.78,
          4.8,
          4.9,
          0.75,
          0.48,
          7.25,
          0.48,
          0.48,
          0.75,
          2.85,
          0.4,
          11.5,
          9.1,
          0.45,
          23,
          0.65,
          9.25,
          17,
          6.25,
          3.1,
          2.9,
          5.25,
          12.9,
          20.75,
          14.25,
          3.15,
          5.3,
          1.75,
          0.45,
          0.45,
          0.5,
          0.51,
          0.6,
          0.6,
          0.6,
          0.35,
          0.72,
          0.75,
          0.3,
          1.05,
          1.05,
          5.25,
          1.15,
          1.2,
          1.2,
          11.25,
          1.15,
          14.73,
          0.45,
          8.99,
          6,
          7.4,
          5.65,
          3,
          5.85,
          10.9,
          10.11,
          8.35,
          2.85,
          6.4,
          10.25,
          7.75,
          6.6,
          7.75,
          9.15,
          8.75,
          5.5,
          9.5,
          6.5,
          4.4,
          6.75,
          8.55,
          2.75,
          6.1,
          7.45,
          0.48,
          1.1,
          1.1,
          4,
          0.18,
          5.75,
          8.4,
          7.45,
          6.85,
          5.4,
          0.4,
          0.75,
          0.55,
          3.25,
          0.65,
          7.25,
          0.4,
          0.6,
          0.38,
          0.6,
          7.5,
          1.11,
          23.5,
          5.15,
          1.15,
          11.45,
          5.5,
          12.5,
          4,
          4.75,
          4.5,
          11.25,
          4.75,
          3.95,
          5.95,
          8.4,
          4.5,
          8.5,
          5.4,
          8.25,
          4,
          5.25,
          23,
          23,
          5.8,
          5.25,
          4.65,
          6.7,
          7.5,
          9.7,
          11.75,
          4.85,
          8.65,
          1.35,
          6,
          7.2,
          6.25,
          0.42,
          5.3,
          4.4,
          6.45,
          0.4,
          4.5,
          3.75,
          3.65,
          0.35,
          3.9,
          8.25,
          3.35,
          4.75,
          4.95,
          11.25,
          18.75,
          7.5,
          6,
          1.35,
          4.75,
          0.65,
          5.5,
          2.5,
          19.99,
          0.45,
          0.6,
          1.15,
          0.55,
          2.55,
          4.6,
          3.95,
          5.5,
          0.5,
          4.9,
          4.1,
          1.1,
          16,
          7.45,
          1.25,
          1.05,
          6.95,
          4.5,
          3.45,
          5.11,
          6.15,
          5.25,
          3.9,
          5,
          4.8,
          5.5,
          5.95,
          7.05,
          2.65,
          4,
          2.9,
          0.65,
          4.75,
          0.5,
          0.2,
          0.6,
          0.3,
          0.27,
          0.25,
          0.42,
          1,
          0.25,
          3.5,
          4.15,
          14.9,
          0.4,
          14.5,
          0.5,
          2,
          5.35,
          5.2,
          3.75,
          0.6,
          3.1,
          5.9,
          3,
          1.25,
          0.95,
          3.1,
          0.2,
          4.95,
          5.85,
          0.45,
          3.1,
          4.5,
          0.3,
          4.5,
          4.35,
          3,
          4.4,
          2.85,
          4.5,
          2.95,
          4.1,
          2.35,
          0.5,
          0.35,
          1.05,
          2.65,
          2.9,
          2.95,
          0.38,
          0.15,
          2.55,
          0.45,
          2.7,
          2.65,
          3.25,
          0.52,
          0.31,
          1.95,
          0.25,
          0.45,
          2.25,
          0.16,
          35,
          3.25,
          9.65,
          5.25,
          9.25,
          4.75,
          3,
          3.35,
          0.9,
          3.6,
          2.25,
          3.8,
          0.25,
          4,
          0.17,
          0.2,
          1.95,
          0.2,
          0.25,
          0.12,
          0.2,
          2.1,
          2.5,
          1.05,
          0.1,
          2.75,
          0.2,
          3.51,
          3.49,
          1.5,
          0.35,
          2.25
         ],
         "yaxis": "y"
        }
       ],
       "layout": {
        "coloraxis": {
         "colorbar": {
          "title": {
           "text": "Present_Price"
          }
         },
         "colorscale": [
          [
           0,
           "rgb(0,0,255)"
          ],
          [
           0.1,
           "rgb(51,153,255)"
          ],
          [
           0.2,
           "rgb(102,204,255)"
          ],
          [
           0.3,
           "rgb(153,204,255)"
          ],
          [
           0.4,
           "rgb(204,204,255)"
          ],
          [
           0.5,
           "rgb(255,255,255)"
          ],
          [
           0.6,
           "rgb(255,204,255)"
          ],
          [
           0.7,
           "rgb(255,153,255)"
          ],
          [
           0.8,
           "rgb(255,102,204)"
          ],
          [
           0.9,
           "rgb(255,102,102)"
          ],
          [
           1,
           "rgb(255,0,0)"
          ]
         ]
        },
        "legend": {
         "tracegroupgap": 0
        },
        "template": {
         "data": {
          "bar": [
           {
            "error_x": {
             "color": "#f2f5fa"
            },
            "error_y": {
             "color": "#f2f5fa"
            },
            "marker": {
             "line": {
              "color": "rgb(17,17,17)",
              "width": 0.5
             },
             "pattern": {
              "fillmode": "overlay",
              "size": 10,
              "solidity": 0.2
             }
            },
            "type": "bar"
           }
          ],
          "barpolar": [
           {
            "marker": {
             "line": {
              "color": "rgb(17,17,17)",
              "width": 0.5
             },
             "pattern": {
              "fillmode": "overlay",
              "size": 10,
              "solidity": 0.2
             }
            },
            "type": "barpolar"
           }
          ],
          "carpet": [
           {
            "aaxis": {
             "endlinecolor": "#A2B1C6",
             "gridcolor": "#506784",
             "linecolor": "#506784",
             "minorgridcolor": "#506784",
             "startlinecolor": "#A2B1C6"
            },
            "baxis": {
             "endlinecolor": "#A2B1C6",
             "gridcolor": "#506784",
             "linecolor": "#506784",
             "minorgridcolor": "#506784",
             "startlinecolor": "#A2B1C6"
            },
            "type": "carpet"
           }
          ],
          "choropleth": [
           {
            "colorbar": {
             "outlinewidth": 0,
             "ticks": ""
            },
            "type": "choropleth"
           }
          ],
          "contour": [
           {
            "colorbar": {
             "outlinewidth": 0,
             "ticks": ""
            },
            "colorscale": [
             [
              0,
              "#0d0887"
             ],
             [
              0.1111111111111111,
              "#46039f"
             ],
             [
              0.2222222222222222,
              "#7201a8"
             ],
             [
              0.3333333333333333,
              "#9c179e"
             ],
             [
              0.4444444444444444,
              "#bd3786"
             ],
             [
              0.5555555555555556,
              "#d8576b"
             ],
             [
              0.6666666666666666,
              "#ed7953"
             ],
             [
              0.7777777777777778,
              "#fb9f3a"
             ],
             [
              0.8888888888888888,
              "#fdca26"
             ],
             [
              1,
              "#f0f921"
             ]
            ],
            "type": "contour"
           }
          ],
          "contourcarpet": [
           {
            "colorbar": {
             "outlinewidth": 0,
             "ticks": ""
            },
            "type": "contourcarpet"
           }
          ],
          "heatmap": [
           {
            "colorbar": {
             "outlinewidth": 0,
             "ticks": ""
            },
            "colorscale": [
             [
              0,
              "#0d0887"
             ],
             [
              0.1111111111111111,
              "#46039f"
             ],
             [
              0.2222222222222222,
              "#7201a8"
             ],
             [
              0.3333333333333333,
              "#9c179e"
             ],
             [
              0.4444444444444444,
              "#bd3786"
             ],
             [
              0.5555555555555556,
              "#d8576b"
             ],
             [
              0.6666666666666666,
              "#ed7953"
             ],
             [
              0.7777777777777778,
              "#fb9f3a"
             ],
             [
              0.8888888888888888,
              "#fdca26"
             ],
             [
              1,
              "#f0f921"
             ]
            ],
            "type": "heatmap"
           }
          ],
          "heatmapgl": [
           {
            "colorbar": {
             "outlinewidth": 0,
             "ticks": ""
            },
            "colorscale": [
             [
              0,
              "#0d0887"
             ],
             [
              0.1111111111111111,
              "#46039f"
             ],
             [
              0.2222222222222222,
              "#7201a8"
             ],
             [
              0.3333333333333333,
              "#9c179e"
             ],
             [
              0.4444444444444444,
              "#bd3786"
             ],
             [
              0.5555555555555556,
              "#d8576b"
             ],
             [
              0.6666666666666666,
              "#ed7953"
             ],
             [
              0.7777777777777778,
              "#fb9f3a"
             ],
             [
              0.8888888888888888,
              "#fdca26"
             ],
             [
              1,
              "#f0f921"
             ]
            ],
            "type": "heatmapgl"
           }
          ],
          "histogram": [
           {
            "marker": {
             "pattern": {
              "fillmode": "overlay",
              "size": 10,
              "solidity": 0.2
             }
            },
            "type": "histogram"
           }
          ],
          "histogram2d": [
           {
            "colorbar": {
             "outlinewidth": 0,
             "ticks": ""
            },
            "colorscale": [
             [
              0,
              "#0d0887"
             ],
             [
              0.1111111111111111,
              "#46039f"
             ],
             [
              0.2222222222222222,
              "#7201a8"
             ],
             [
              0.3333333333333333,
              "#9c179e"
             ],
             [
              0.4444444444444444,
              "#bd3786"
             ],
             [
              0.5555555555555556,
              "#d8576b"
             ],
             [
              0.6666666666666666,
              "#ed7953"
             ],
             [
              0.7777777777777778,
              "#fb9f3a"
             ],
             [
              0.8888888888888888,
              "#fdca26"
             ],
             [
              1,
              "#f0f921"
             ]
            ],
            "type": "histogram2d"
           }
          ],
          "histogram2dcontour": [
           {
            "colorbar": {
             "outlinewidth": 0,
             "ticks": ""
            },
            "colorscale": [
             [
              0,
              "#0d0887"
             ],
             [
              0.1111111111111111,
              "#46039f"
             ],
             [
              0.2222222222222222,
              "#7201a8"
             ],
             [
              0.3333333333333333,
              "#9c179e"
             ],
             [
              0.4444444444444444,
              "#bd3786"
             ],
             [
              0.5555555555555556,
              "#d8576b"
             ],
             [
              0.6666666666666666,
              "#ed7953"
             ],
             [
              0.7777777777777778,
              "#fb9f3a"
             ],
             [
              0.8888888888888888,
              "#fdca26"
             ],
             [
              1,
              "#f0f921"
             ]
            ],
            "type": "histogram2dcontour"
           }
          ],
          "mesh3d": [
           {
            "colorbar": {
             "outlinewidth": 0,
             "ticks": ""
            },
            "type": "mesh3d"
           }
          ],
          "parcoords": [
           {
            "line": {
             "colorbar": {
              "outlinewidth": 0,
              "ticks": ""
             }
            },
            "type": "parcoords"
           }
          ],
          "pie": [
           {
            "automargin": true,
            "type": "pie"
           }
          ],
          "scatter": [
           {
            "marker": {
             "line": {
              "color": "#283442"
             }
            },
            "type": "scatter"
           }
          ],
          "scatter3d": [
           {
            "line": {
             "colorbar": {
              "outlinewidth": 0,
              "ticks": ""
             }
            },
            "marker": {
             "colorbar": {
              "outlinewidth": 0,
              "ticks": ""
             }
            },
            "type": "scatter3d"
           }
          ],
          "scattercarpet": [
           {
            "marker": {
             "colorbar": {
              "outlinewidth": 0,
              "ticks": ""
             }
            },
            "type": "scattercarpet"
           }
          ],
          "scattergeo": [
           {
            "marker": {
             "colorbar": {
              "outlinewidth": 0,
              "ticks": ""
             }
            },
            "type": "scattergeo"
           }
          ],
          "scattergl": [
           {
            "marker": {
             "line": {
              "color": "#283442"
             }
            },
            "type": "scattergl"
           }
          ],
          "scattermapbox": [
           {
            "marker": {
             "colorbar": {
              "outlinewidth": 0,
              "ticks": ""
             }
            },
            "type": "scattermapbox"
           }
          ],
          "scatterpolar": [
           {
            "marker": {
             "colorbar": {
              "outlinewidth": 0,
              "ticks": ""
             }
            },
            "type": "scatterpolar"
           }
          ],
          "scatterpolargl": [
           {
            "marker": {
             "colorbar": {
              "outlinewidth": 0,
              "ticks": ""
             }
            },
            "type": "scatterpolargl"
           }
          ],
          "scatterternary": [
           {
            "marker": {
             "colorbar": {
              "outlinewidth": 0,
              "ticks": ""
             }
            },
            "type": "scatterternary"
           }
          ],
          "surface": [
           {
            "colorbar": {
             "outlinewidth": 0,
             "ticks": ""
            },
            "colorscale": [
             [
              0,
              "#0d0887"
             ],
             [
              0.1111111111111111,
              "#46039f"
             ],
             [
              0.2222222222222222,
              "#7201a8"
             ],
             [
              0.3333333333333333,
              "#9c179e"
             ],
             [
              0.4444444444444444,
              "#bd3786"
             ],
             [
              0.5555555555555556,
              "#d8576b"
             ],
             [
              0.6666666666666666,
              "#ed7953"
             ],
             [
              0.7777777777777778,
              "#fb9f3a"
             ],
             [
              0.8888888888888888,
              "#fdca26"
             ],
             [
              1,
              "#f0f921"
             ]
            ],
            "type": "surface"
           }
          ],
          "table": [
           {
            "cells": {
             "fill": {
              "color": "#506784"
             },
             "line": {
              "color": "rgb(17,17,17)"
             }
            },
            "header": {
             "fill": {
              "color": "#2a3f5f"
             },
             "line": {
              "color": "rgb(17,17,17)"
             }
            },
            "type": "table"
           }
          ]
         },
         "layout": {
          "annotationdefaults": {
           "arrowcolor": "#f2f5fa",
           "arrowhead": 0,
           "arrowwidth": 1
          },
          "autotypenumbers": "strict",
          "coloraxis": {
           "colorbar": {
            "outlinewidth": 0,
            "ticks": ""
           }
          },
          "colorscale": {
           "diverging": [
            [
             0,
             "#8e0152"
            ],
            [
             0.1,
             "#c51b7d"
            ],
            [
             0.2,
             "#de77ae"
            ],
            [
             0.3,
             "#f1b6da"
            ],
            [
             0.4,
             "#fde0ef"
            ],
            [
             0.5,
             "#f7f7f7"
            ],
            [
             0.6,
             "#e6f5d0"
            ],
            [
             0.7,
             "#b8e186"
            ],
            [
             0.8,
             "#7fbc41"
            ],
            [
             0.9,
             "#4d9221"
            ],
            [
             1,
             "#276419"
            ]
           ],
           "sequential": [
            [
             0,
             "#0d0887"
            ],
            [
             0.1111111111111111,
             "#46039f"
            ],
            [
             0.2222222222222222,
             "#7201a8"
            ],
            [
             0.3333333333333333,
             "#9c179e"
            ],
            [
             0.4444444444444444,
             "#bd3786"
            ],
            [
             0.5555555555555556,
             "#d8576b"
            ],
            [
             0.6666666666666666,
             "#ed7953"
            ],
            [
             0.7777777777777778,
             "#fb9f3a"
            ],
            [
             0.8888888888888888,
             "#fdca26"
            ],
            [
             1,
             "#f0f921"
            ]
           ],
           "sequentialminus": [
            [
             0,
             "#0d0887"
            ],
            [
             0.1111111111111111,
             "#46039f"
            ],
            [
             0.2222222222222222,
             "#7201a8"
            ],
            [
             0.3333333333333333,
             "#9c179e"
            ],
            [
             0.4444444444444444,
             "#bd3786"
            ],
            [
             0.5555555555555556,
             "#d8576b"
            ],
            [
             0.6666666666666666,
             "#ed7953"
            ],
            [
             0.7777777777777778,
             "#fb9f3a"
            ],
            [
             0.8888888888888888,
             "#fdca26"
            ],
            [
             1,
             "#f0f921"
            ]
           ]
          },
          "colorway": [
           "#636efa",
           "#EF553B",
           "#00cc96",
           "#ab63fa",
           "#FFA15A",
           "#19d3f3",
           "#FF6692",
           "#B6E880",
           "#FF97FF",
           "#FECB52"
          ],
          "font": {
           "color": "#f2f5fa"
          },
          "geo": {
           "bgcolor": "rgb(17,17,17)",
           "lakecolor": "rgb(17,17,17)",
           "landcolor": "rgb(17,17,17)",
           "showlakes": true,
           "showland": true,
           "subunitcolor": "#506784"
          },
          "hoverlabel": {
           "align": "left"
          },
          "hovermode": "closest",
          "mapbox": {
           "style": "dark"
          },
          "paper_bgcolor": "rgb(17,17,17)",
          "plot_bgcolor": "rgb(17,17,17)",
          "polar": {
           "angularaxis": {
            "gridcolor": "#506784",
            "linecolor": "#506784",
            "ticks": ""
           },
           "bgcolor": "rgb(17,17,17)",
           "radialaxis": {
            "gridcolor": "#506784",
            "linecolor": "#506784",
            "ticks": ""
           }
          },
          "scene": {
           "xaxis": {
            "backgroundcolor": "rgb(17,17,17)",
            "gridcolor": "#506784",
            "gridwidth": 2,
            "linecolor": "#506784",
            "showbackground": true,
            "ticks": "",
            "zerolinecolor": "#C8D4E3"
           },
           "yaxis": {
            "backgroundcolor": "rgb(17,17,17)",
            "gridcolor": "#506784",
            "gridwidth": 2,
            "linecolor": "#506784",
            "showbackground": true,
            "ticks": "",
            "zerolinecolor": "#C8D4E3"
           },
           "zaxis": {
            "backgroundcolor": "rgb(17,17,17)",
            "gridcolor": "#506784",
            "gridwidth": 2,
            "linecolor": "#506784",
            "showbackground": true,
            "ticks": "",
            "zerolinecolor": "#C8D4E3"
           }
          },
          "shapedefaults": {
           "line": {
            "color": "#f2f5fa"
           }
          },
          "sliderdefaults": {
           "bgcolor": "#C8D4E3",
           "bordercolor": "rgb(17,17,17)",
           "borderwidth": 1,
           "tickwidth": 0
          },
          "ternary": {
           "aaxis": {
            "gridcolor": "#506784",
            "linecolor": "#506784",
            "ticks": ""
           },
           "baxis": {
            "gridcolor": "#506784",
            "linecolor": "#506784",
            "ticks": ""
           },
           "bgcolor": "rgb(17,17,17)",
           "caxis": {
            "gridcolor": "#506784",
            "linecolor": "#506784",
            "ticks": ""
           }
          },
          "title": {
           "x": 0.05
          },
          "updatemenudefaults": {
           "bgcolor": "#506784",
           "borderwidth": 0
          },
          "xaxis": {
           "automargin": true,
           "gridcolor": "#283442",
           "linecolor": "#506784",
           "ticks": "",
           "title": {
            "standoff": 15
           },
           "zerolinecolor": "#283442",
           "zerolinewidth": 2
          },
          "yaxis": {
           "automargin": true,
           "gridcolor": "#283442",
           "linecolor": "#506784",
           "ticks": "",
           "title": {
            "standoff": 15
           },
           "zerolinecolor": "#283442",
           "zerolinewidth": 2
          }
         }
        },
        "title": {
         "text": "Selling Price by Seller_Type"
        },
        "xaxis": {
         "anchor": "y",
         "domain": [
          0,
          1
         ],
         "title": {
          "text": "Seller_Type"
         }
        },
        "yaxis": {
         "anchor": "x",
         "domain": [
          0,
          1
         ],
         "title": {
          "text": "Selling_Price"
         }
        }
       }
      }
     },
     "metadata": {},
     "output_type": "display_data"
    }
   ],
   "source": [
    "pplot('Seller_Type')"
   ]
  },
  {
   "cell_type": "markdown",
   "metadata": {},
   "source": [
    "1. Dealers have sold more cars (195) than Individuals (106)\n",
    "2. Dealers have sold cars in more price range\n",
    "3. Dealers have sold more expensive cars\n",
    "4. Dealers have sold more new cars than individuals"
   ]
  },
  {
   "cell_type": "code",
   "execution_count": 34,
   "metadata": {},
   "outputs": [
    {
     "data": {
      "text/plain": [
       "106"
      ]
     },
     "execution_count": 34,
     "metadata": {},
     "output_type": "execute_result"
    }
   ],
   "source": [
    "df[df['Seller_Type']== 'Individual'].value_counts().sum()"
   ]
  },
  {
   "cell_type": "code",
   "execution_count": 35,
   "metadata": {},
   "outputs": [
    {
     "data": {
      "text/plain": [
       "195"
      ]
     },
     "execution_count": 35,
     "metadata": {},
     "output_type": "execute_result"
    }
   ],
   "source": [
    "df[df['Seller_Type']== 'Dealer'].value_counts().sum()"
   ]
  },
  {
   "cell_type": "code",
   "execution_count": 36,
   "metadata": {},
   "outputs": [
    {
     "data": {
      "application/vnd.plotly.v1+json": {
       "config": {
        "plotlyServerURL": "https://plot.ly"
       },
       "data": [
        {
         "hovertemplate": "Transmission=%{x}<br>Selling_Price=%{y}<br>Present_Price=%{marker.color}<extra></extra>",
         "legendgroup": "",
         "marker": {
          "color": [
           9.83,
           36.23,
           0.87,
           4.43,
           0.95,
           19.77,
           6.49,
           8.7,
           9.29,
           7.13,
           23.15,
           5.7,
           1.47,
           8.1,
           1.47,
           1.6,
           1.78,
           1.82,
           0.84,
           5.8,
           5.71,
           0.95,
           0.54,
           9.85,
           0.52,
           0.51,
           0.87,
           3.6,
           0.51,
           12.5,
           9.4,
           0.51,
           25.39,
           0.81,
           9.4,
           18.64,
           7.6,
           4.43,
           4.43,
           7.6,
           13.6,
           25.39,
           20.91,
           4.43,
           5.9,
           1.9,
           0.54,
           0.55,
           0.55,
           0.94,
           0.84,
           0.8,
           0.87,
           0.57,
           0.95,
           0.8,
           0.48,
           1.17,
           1.26,
           5.7,
           1.5,
           1.78,
           1.5,
           13.6,
           1.4,
           14.89,
           0.54,
           11.8,
           8.4,
           8.5,
           7.9,
           3.76,
           7.87,
           13.6,
           13.6,
           9.4,
           3.95,
           8.4,
           13.6,
           10.79,
           7.7,
           10.79,
           13.6,
           8.89,
           5.97,
           11.6,
           8.61,
           5.7,
           8.12,
           13.09,
           4.43,
           7.71,
           10.38,
           0.84,
           1.47,
           1.9,
           5.9,
           0.32,
           7.5,
           13.6,
           8.92,
           10.38,
           6.1,
           0.54,
           0.82,
           0.84,
           5.09,
           0.74,
           10.79,
           0.55,
           0.95,
           0.72,
           0.84,
           9.94,
           1.47,
           35.96,
           5.7,
           1.47,
           14.79,
           5.7,
           13.46,
           5.8,
           7.85,
           7.27,
           13.6,
           7.13,
           6.8,
           9.4,
           13.6,
           7.7,
           13.6,
           6.82,
           9.4,
           7,
           5.7,
           30.61,
           30.61,
           7.71,
           5.9,
           7.2,
           10,
           10,
           13.6,
           14.79,
           5.7,
           13.6,
           2.37,
           7.6,
           9.9,
           13.6,
           0.81,
           6.8,
           7.13,
           9.4,
           0.64,
           6.4,
           6.8,
           7,
           0.52,
           7,
           14,
           5.59,
           6.76,
           7.49,
           16.09,
           35.96,
           12.04,
           9.95,
           3.45,
           6.95,
           1.2,
           8.06,
           3.46,
           35.96,
           0.826,
           0.99,
           2.4,
           0.787,
           3.98,
           6.87,
           6.76,
           8.06,
           0.88,
           8.93,
           6.8,
           1.47,
           30.61,
           18.61,
           1.5,
           1.9,
           18.61,
           6.79,
           6.05,
           9.4,
           9.4,
           9.9,
           5.7,
           9.9,
           9.4,
           14.68,
           9.4,
           18.61,
           4.89,
           4.6,
           4.41,
           0.787,
           9.54,
           0.99,
           0.65,
           1.2,
           0.58,
           0.47,
           0.57,
           0.73,
           1.47,
           0.51,
           5.9,
           5.87,
           30.61,
           0.83,
           30.61,
           0.99,
           4.43,
           9.4,
           9.4,
           6.79,
           0.81,
           6.79,
           13.74,
           5.35,
           2.69,
           1.75,
           4.6,
           0.57,
           9.4,
           18.61,
           0.99,
           5.98,
           9.4,
           0.51,
           9.4,
           13.74,
           4.99,
           8.01,
           4.15,
           12.48,
           7.74,
           10,
           4.89,
           0.826,
           1.05,
           1.5,
           5.71,
           6.79,
           4.6,
           0.787,
           0.57,
           4.43,
           0.95,
           4.6,
           7.98,
           9.9,
           0.94,
           1.05,
           3.95,
           0.52,
           0.95,
           7.5,
           0.51,
           92.6,
           6.79,
           20.45,
           22.83,
           20.45,
           18.54,
           10,
           11,
           1.75,
           15.04,
           7.21,
           18.61,
           0.58,
           22.78,
           0.52,
           0.787,
           7.15,
           0.75,
           0.75,
           0.58,
           0.75,
           7.6,
           23.73,
           4.15,
           0.75,
           10.21,
           0.57,
           13.7,
           13.46,
           12.35,
           2.28,
           7.98
          ],
          "coloraxis": "coloraxis",
          "size": 4,
          "symbol": "circle"
         },
         "mode": "markers",
         "name": "",
         "orientation": "v",
         "showlegend": false,
         "type": "scatter",
         "x": [
          "Manual",
          "Automatic",
          "Manual",
          "Manual",
          "Manual",
          "Automatic",
          "Manual",
          "Manual",
          "Automatic",
          "Manual",
          "Automatic",
          "Manual",
          "Manual",
          "Manual",
          "Manual",
          "Manual",
          "Manual",
          "Manual",
          "Manual",
          "Manual",
          "Manual",
          "Manual",
          "Manual",
          "Manual",
          "Manual",
          "Automatic",
          "Manual",
          "Manual",
          "Automatic",
          "Manual",
          "Manual",
          "Automatic",
          "Automatic",
          "Manual",
          "Manual",
          "Manual",
          "Manual",
          "Manual",
          "Manual",
          "Manual",
          "Manual",
          "Automatic",
          "Manual",
          "Manual",
          "Manual",
          "Manual",
          "Automatic",
          "Manual",
          "Manual",
          "Manual",
          "Manual",
          "Manual",
          "Manual",
          "Automatic",
          "Manual",
          "Manual",
          "Manual",
          "Manual",
          "Manual",
          "Manual",
          "Manual",
          "Manual",
          "Manual",
          "Manual",
          "Manual",
          "Manual",
          "Manual",
          "Manual",
          "Manual",
          "Automatic",
          "Manual",
          "Manual",
          "Automatic",
          "Automatic",
          "Manual",
          "Manual",
          "Manual",
          "Manual",
          "Manual",
          "Manual",
          "Manual",
          "Manual",
          "Manual",
          "Manual",
          "Manual",
          "Manual",
          "Manual",
          "Manual",
          "Manual",
          "Manual",
          "Manual",
          "Manual",
          "Manual",
          "Manual",
          "Manual",
          "Manual",
          "Manual",
          "Manual",
          "Automatic",
          "Manual",
          "Manual",
          "Manual",
          "Manual",
          "Manual",
          "Manual",
          "Manual",
          "Manual",
          "Manual",
          "Manual",
          "Manual",
          "Manual",
          "Manual",
          "Manual",
          "Automatic",
          "Manual",
          "Automatic",
          "Automatic",
          "Manual",
          "Automatic",
          "Manual",
          "Manual",
          "Manual",
          "Manual",
          "Manual",
          "Manual",
          "Manual",
          "Manual",
          "Manual",
          "Manual",
          "Manual",
          "Manual",
          "Automatic",
          "Manual",
          "Manual",
          "Manual",
          "Automatic",
          "Automatic",
          "Manual",
          "Manual",
          "Manual",
          "Manual",
          "Manual",
          "Manual",
          "Manual",
          "Manual",
          "Manual",
          "Manual",
          "Manual",
          "Manual",
          "Manual",
          "Manual",
          "Manual",
          "Manual",
          "Manual",
          "Manual",
          "Manual",
          "Manual",
          "Manual",
          "Automatic",
          "Manual",
          "Manual",
          "Manual",
          "Manual",
          "Manual",
          "Manual",
          "Automatic",
          "Automatic",
          "Manual",
          "Manual",
          "Manual",
          "Manual",
          "Manual",
          "Manual",
          "Automatic",
          "Manual",
          "Manual",
          "Manual",
          "Manual",
          "Manual",
          "Manual",
          "Manual",
          "Manual",
          "Manual",
          "Manual",
          "Manual",
          "Manual",
          "Automatic",
          "Manual",
          "Manual",
          "Manual",
          "Manual",
          "Automatic",
          "Manual",
          "Automatic",
          "Manual",
          "Manual",
          "Manual",
          "Manual",
          "Manual",
          "Manual",
          "Manual",
          "Manual",
          "Manual",
          "Manual",
          "Manual",
          "Manual",
          "Manual",
          "Manual",
          "Manual",
          "Manual",
          "Manual",
          "Manual",
          "Manual",
          "Manual",
          "Manual",
          "Manual",
          "Manual",
          "Manual",
          "Automatic",
          "Manual",
          "Automatic",
          "Manual",
          "Manual",
          "Manual",
          "Manual",
          "Manual",
          "Manual",
          "Manual",
          "Manual",
          "Manual",
          "Manual",
          "Manual",
          "Manual",
          "Manual",
          "Manual",
          "Manual",
          "Manual",
          "Manual",
          "Manual",
          "Manual",
          "Manual",
          "Manual",
          "Manual",
          "Automatic",
          "Manual",
          "Manual",
          "Manual",
          "Manual",
          "Manual",
          "Manual",
          "Manual",
          "Manual",
          "Manual",
          "Manual",
          "Manual",
          "Manual",
          "Manual",
          "Manual",
          "Manual",
          "Manual",
          "Manual",
          "Manual",
          "Manual",
          "Manual",
          "Manual",
          "Automatic",
          "Manual",
          "Manual",
          "Manual",
          "Manual",
          "Manual",
          "Manual",
          "Automatic",
          "Manual",
          "Manual",
          "Manual",
          "Manual",
          "Manual",
          "Automatic",
          "Manual",
          "Manual",
          "Automatic",
          "Automatic",
          "Automatic",
          "Manual",
          "Manual",
          "Manual",
          "Manual",
          "Manual",
          "Manual",
          "Manual",
          "Automatic",
          "Manual",
          "Manual",
          "Manual",
          "Manual",
          "Manual",
          "Manual",
          "Automatic",
          "Manual",
          "Manual"
         ],
         "xaxis": "x",
         "y": [
          9.25,
          33,
          0.8,
          3.5,
          0.9,
          18,
          6,
          6.5,
          7.75,
          5.75,
          19.75,
          5.25,
          1.2,
          7.9,
          1.35,
          1.45,
          1.65,
          1.7,
          0.78,
          4.8,
          4.9,
          0.75,
          0.48,
          7.25,
          0.48,
          0.48,
          0.75,
          2.85,
          0.4,
          11.5,
          9.1,
          0.45,
          23,
          0.65,
          9.25,
          17,
          6.25,
          3.1,
          2.9,
          5.25,
          12.9,
          20.75,
          14.25,
          3.15,
          5.3,
          1.75,
          0.45,
          0.45,
          0.5,
          0.51,
          0.6,
          0.6,
          0.6,
          0.35,
          0.72,
          0.75,
          0.3,
          1.05,
          1.05,
          5.25,
          1.15,
          1.2,
          1.2,
          11.25,
          1.15,
          14.73,
          0.45,
          8.99,
          6,
          7.4,
          5.65,
          3,
          5.85,
          10.9,
          10.11,
          8.35,
          2.85,
          6.4,
          10.25,
          7.75,
          6.6,
          7.75,
          9.15,
          8.75,
          5.5,
          9.5,
          6.5,
          4.4,
          6.75,
          8.55,
          2.75,
          6.1,
          7.45,
          0.48,
          1.1,
          1.1,
          4,
          0.18,
          5.75,
          8.4,
          7.45,
          6.85,
          5.4,
          0.4,
          0.75,
          0.55,
          3.25,
          0.65,
          7.25,
          0.4,
          0.6,
          0.38,
          0.6,
          7.5,
          1.11,
          23.5,
          5.15,
          1.15,
          11.45,
          5.5,
          12.5,
          4,
          4.75,
          4.5,
          11.25,
          4.75,
          3.95,
          5.95,
          8.4,
          4.5,
          8.5,
          5.4,
          8.25,
          4,
          5.25,
          23,
          23,
          5.8,
          5.25,
          4.65,
          6.7,
          7.5,
          9.7,
          11.75,
          4.85,
          8.65,
          1.35,
          6,
          7.2,
          6.25,
          0.42,
          5.3,
          4.4,
          6.45,
          0.4,
          4.5,
          3.75,
          3.65,
          0.35,
          3.9,
          8.25,
          3.35,
          4.75,
          4.95,
          11.25,
          18.75,
          7.5,
          6,
          1.35,
          4.75,
          0.65,
          5.5,
          2.5,
          19.99,
          0.45,
          0.6,
          1.15,
          0.55,
          2.55,
          4.6,
          3.95,
          5.5,
          0.5,
          4.9,
          4.1,
          1.1,
          16,
          7.45,
          1.25,
          1.05,
          6.95,
          4.5,
          3.45,
          5.11,
          6.15,
          5.25,
          3.9,
          5,
          4.8,
          5.5,
          5.95,
          7.05,
          2.65,
          4,
          2.9,
          0.65,
          4.75,
          0.5,
          0.2,
          0.6,
          0.3,
          0.27,
          0.25,
          0.42,
          1,
          0.25,
          3.5,
          4.15,
          14.9,
          0.4,
          14.5,
          0.5,
          2,
          5.35,
          5.2,
          3.75,
          0.6,
          3.1,
          5.9,
          3,
          1.25,
          0.95,
          3.1,
          0.2,
          4.95,
          5.85,
          0.45,
          3.1,
          4.5,
          0.3,
          4.5,
          4.35,
          3,
          4.4,
          2.85,
          4.5,
          2.95,
          4.1,
          2.35,
          0.5,
          0.35,
          1.05,
          2.65,
          2.9,
          2.95,
          0.38,
          0.15,
          2.55,
          0.45,
          2.7,
          2.65,
          3.25,
          0.52,
          0.31,
          1.95,
          0.25,
          0.45,
          2.25,
          0.16,
          35,
          3.25,
          9.65,
          5.25,
          9.25,
          4.75,
          3,
          3.35,
          0.9,
          3.6,
          2.25,
          3.8,
          0.25,
          4,
          0.17,
          0.2,
          1.95,
          0.2,
          0.25,
          0.12,
          0.2,
          2.1,
          2.5,
          1.05,
          0.1,
          2.75,
          0.2,
          3.51,
          3.49,
          1.5,
          0.35,
          2.25
         ],
         "yaxis": "y"
        }
       ],
       "layout": {
        "coloraxis": {
         "colorbar": {
          "title": {
           "text": "Present_Price"
          }
         },
         "colorscale": [
          [
           0,
           "rgb(0,0,255)"
          ],
          [
           0.1,
           "rgb(51,153,255)"
          ],
          [
           0.2,
           "rgb(102,204,255)"
          ],
          [
           0.3,
           "rgb(153,204,255)"
          ],
          [
           0.4,
           "rgb(204,204,255)"
          ],
          [
           0.5,
           "rgb(255,255,255)"
          ],
          [
           0.6,
           "rgb(255,204,255)"
          ],
          [
           0.7,
           "rgb(255,153,255)"
          ],
          [
           0.8,
           "rgb(255,102,204)"
          ],
          [
           0.9,
           "rgb(255,102,102)"
          ],
          [
           1,
           "rgb(255,0,0)"
          ]
         ]
        },
        "legend": {
         "tracegroupgap": 0
        },
        "template": {
         "data": {
          "bar": [
           {
            "error_x": {
             "color": "#f2f5fa"
            },
            "error_y": {
             "color": "#f2f5fa"
            },
            "marker": {
             "line": {
              "color": "rgb(17,17,17)",
              "width": 0.5
             },
             "pattern": {
              "fillmode": "overlay",
              "size": 10,
              "solidity": 0.2
             }
            },
            "type": "bar"
           }
          ],
          "barpolar": [
           {
            "marker": {
             "line": {
              "color": "rgb(17,17,17)",
              "width": 0.5
             },
             "pattern": {
              "fillmode": "overlay",
              "size": 10,
              "solidity": 0.2
             }
            },
            "type": "barpolar"
           }
          ],
          "carpet": [
           {
            "aaxis": {
             "endlinecolor": "#A2B1C6",
             "gridcolor": "#506784",
             "linecolor": "#506784",
             "minorgridcolor": "#506784",
             "startlinecolor": "#A2B1C6"
            },
            "baxis": {
             "endlinecolor": "#A2B1C6",
             "gridcolor": "#506784",
             "linecolor": "#506784",
             "minorgridcolor": "#506784",
             "startlinecolor": "#A2B1C6"
            },
            "type": "carpet"
           }
          ],
          "choropleth": [
           {
            "colorbar": {
             "outlinewidth": 0,
             "ticks": ""
            },
            "type": "choropleth"
           }
          ],
          "contour": [
           {
            "colorbar": {
             "outlinewidth": 0,
             "ticks": ""
            },
            "colorscale": [
             [
              0,
              "#0d0887"
             ],
             [
              0.1111111111111111,
              "#46039f"
             ],
             [
              0.2222222222222222,
              "#7201a8"
             ],
             [
              0.3333333333333333,
              "#9c179e"
             ],
             [
              0.4444444444444444,
              "#bd3786"
             ],
             [
              0.5555555555555556,
              "#d8576b"
             ],
             [
              0.6666666666666666,
              "#ed7953"
             ],
             [
              0.7777777777777778,
              "#fb9f3a"
             ],
             [
              0.8888888888888888,
              "#fdca26"
             ],
             [
              1,
              "#f0f921"
             ]
            ],
            "type": "contour"
           }
          ],
          "contourcarpet": [
           {
            "colorbar": {
             "outlinewidth": 0,
             "ticks": ""
            },
            "type": "contourcarpet"
           }
          ],
          "heatmap": [
           {
            "colorbar": {
             "outlinewidth": 0,
             "ticks": ""
            },
            "colorscale": [
             [
              0,
              "#0d0887"
             ],
             [
              0.1111111111111111,
              "#46039f"
             ],
             [
              0.2222222222222222,
              "#7201a8"
             ],
             [
              0.3333333333333333,
              "#9c179e"
             ],
             [
              0.4444444444444444,
              "#bd3786"
             ],
             [
              0.5555555555555556,
              "#d8576b"
             ],
             [
              0.6666666666666666,
              "#ed7953"
             ],
             [
              0.7777777777777778,
              "#fb9f3a"
             ],
             [
              0.8888888888888888,
              "#fdca26"
             ],
             [
              1,
              "#f0f921"
             ]
            ],
            "type": "heatmap"
           }
          ],
          "heatmapgl": [
           {
            "colorbar": {
             "outlinewidth": 0,
             "ticks": ""
            },
            "colorscale": [
             [
              0,
              "#0d0887"
             ],
             [
              0.1111111111111111,
              "#46039f"
             ],
             [
              0.2222222222222222,
              "#7201a8"
             ],
             [
              0.3333333333333333,
              "#9c179e"
             ],
             [
              0.4444444444444444,
              "#bd3786"
             ],
             [
              0.5555555555555556,
              "#d8576b"
             ],
             [
              0.6666666666666666,
              "#ed7953"
             ],
             [
              0.7777777777777778,
              "#fb9f3a"
             ],
             [
              0.8888888888888888,
              "#fdca26"
             ],
             [
              1,
              "#f0f921"
             ]
            ],
            "type": "heatmapgl"
           }
          ],
          "histogram": [
           {
            "marker": {
             "pattern": {
              "fillmode": "overlay",
              "size": 10,
              "solidity": 0.2
             }
            },
            "type": "histogram"
           }
          ],
          "histogram2d": [
           {
            "colorbar": {
             "outlinewidth": 0,
             "ticks": ""
            },
            "colorscale": [
             [
              0,
              "#0d0887"
             ],
             [
              0.1111111111111111,
              "#46039f"
             ],
             [
              0.2222222222222222,
              "#7201a8"
             ],
             [
              0.3333333333333333,
              "#9c179e"
             ],
             [
              0.4444444444444444,
              "#bd3786"
             ],
             [
              0.5555555555555556,
              "#d8576b"
             ],
             [
              0.6666666666666666,
              "#ed7953"
             ],
             [
              0.7777777777777778,
              "#fb9f3a"
             ],
             [
              0.8888888888888888,
              "#fdca26"
             ],
             [
              1,
              "#f0f921"
             ]
            ],
            "type": "histogram2d"
           }
          ],
          "histogram2dcontour": [
           {
            "colorbar": {
             "outlinewidth": 0,
             "ticks": ""
            },
            "colorscale": [
             [
              0,
              "#0d0887"
             ],
             [
              0.1111111111111111,
              "#46039f"
             ],
             [
              0.2222222222222222,
              "#7201a8"
             ],
             [
              0.3333333333333333,
              "#9c179e"
             ],
             [
              0.4444444444444444,
              "#bd3786"
             ],
             [
              0.5555555555555556,
              "#d8576b"
             ],
             [
              0.6666666666666666,
              "#ed7953"
             ],
             [
              0.7777777777777778,
              "#fb9f3a"
             ],
             [
              0.8888888888888888,
              "#fdca26"
             ],
             [
              1,
              "#f0f921"
             ]
            ],
            "type": "histogram2dcontour"
           }
          ],
          "mesh3d": [
           {
            "colorbar": {
             "outlinewidth": 0,
             "ticks": ""
            },
            "type": "mesh3d"
           }
          ],
          "parcoords": [
           {
            "line": {
             "colorbar": {
              "outlinewidth": 0,
              "ticks": ""
             }
            },
            "type": "parcoords"
           }
          ],
          "pie": [
           {
            "automargin": true,
            "type": "pie"
           }
          ],
          "scatter": [
           {
            "marker": {
             "line": {
              "color": "#283442"
             }
            },
            "type": "scatter"
           }
          ],
          "scatter3d": [
           {
            "line": {
             "colorbar": {
              "outlinewidth": 0,
              "ticks": ""
             }
            },
            "marker": {
             "colorbar": {
              "outlinewidth": 0,
              "ticks": ""
             }
            },
            "type": "scatter3d"
           }
          ],
          "scattercarpet": [
           {
            "marker": {
             "colorbar": {
              "outlinewidth": 0,
              "ticks": ""
             }
            },
            "type": "scattercarpet"
           }
          ],
          "scattergeo": [
           {
            "marker": {
             "colorbar": {
              "outlinewidth": 0,
              "ticks": ""
             }
            },
            "type": "scattergeo"
           }
          ],
          "scattergl": [
           {
            "marker": {
             "line": {
              "color": "#283442"
             }
            },
            "type": "scattergl"
           }
          ],
          "scattermapbox": [
           {
            "marker": {
             "colorbar": {
              "outlinewidth": 0,
              "ticks": ""
             }
            },
            "type": "scattermapbox"
           }
          ],
          "scatterpolar": [
           {
            "marker": {
             "colorbar": {
              "outlinewidth": 0,
              "ticks": ""
             }
            },
            "type": "scatterpolar"
           }
          ],
          "scatterpolargl": [
           {
            "marker": {
             "colorbar": {
              "outlinewidth": 0,
              "ticks": ""
             }
            },
            "type": "scatterpolargl"
           }
          ],
          "scatterternary": [
           {
            "marker": {
             "colorbar": {
              "outlinewidth": 0,
              "ticks": ""
             }
            },
            "type": "scatterternary"
           }
          ],
          "surface": [
           {
            "colorbar": {
             "outlinewidth": 0,
             "ticks": ""
            },
            "colorscale": [
             [
              0,
              "#0d0887"
             ],
             [
              0.1111111111111111,
              "#46039f"
             ],
             [
              0.2222222222222222,
              "#7201a8"
             ],
             [
              0.3333333333333333,
              "#9c179e"
             ],
             [
              0.4444444444444444,
              "#bd3786"
             ],
             [
              0.5555555555555556,
              "#d8576b"
             ],
             [
              0.6666666666666666,
              "#ed7953"
             ],
             [
              0.7777777777777778,
              "#fb9f3a"
             ],
             [
              0.8888888888888888,
              "#fdca26"
             ],
             [
              1,
              "#f0f921"
             ]
            ],
            "type": "surface"
           }
          ],
          "table": [
           {
            "cells": {
             "fill": {
              "color": "#506784"
             },
             "line": {
              "color": "rgb(17,17,17)"
             }
            },
            "header": {
             "fill": {
              "color": "#2a3f5f"
             },
             "line": {
              "color": "rgb(17,17,17)"
             }
            },
            "type": "table"
           }
          ]
         },
         "layout": {
          "annotationdefaults": {
           "arrowcolor": "#f2f5fa",
           "arrowhead": 0,
           "arrowwidth": 1
          },
          "autotypenumbers": "strict",
          "coloraxis": {
           "colorbar": {
            "outlinewidth": 0,
            "ticks": ""
           }
          },
          "colorscale": {
           "diverging": [
            [
             0,
             "#8e0152"
            ],
            [
             0.1,
             "#c51b7d"
            ],
            [
             0.2,
             "#de77ae"
            ],
            [
             0.3,
             "#f1b6da"
            ],
            [
             0.4,
             "#fde0ef"
            ],
            [
             0.5,
             "#f7f7f7"
            ],
            [
             0.6,
             "#e6f5d0"
            ],
            [
             0.7,
             "#b8e186"
            ],
            [
             0.8,
             "#7fbc41"
            ],
            [
             0.9,
             "#4d9221"
            ],
            [
             1,
             "#276419"
            ]
           ],
           "sequential": [
            [
             0,
             "#0d0887"
            ],
            [
             0.1111111111111111,
             "#46039f"
            ],
            [
             0.2222222222222222,
             "#7201a8"
            ],
            [
             0.3333333333333333,
             "#9c179e"
            ],
            [
             0.4444444444444444,
             "#bd3786"
            ],
            [
             0.5555555555555556,
             "#d8576b"
            ],
            [
             0.6666666666666666,
             "#ed7953"
            ],
            [
             0.7777777777777778,
             "#fb9f3a"
            ],
            [
             0.8888888888888888,
             "#fdca26"
            ],
            [
             1,
             "#f0f921"
            ]
           ],
           "sequentialminus": [
            [
             0,
             "#0d0887"
            ],
            [
             0.1111111111111111,
             "#46039f"
            ],
            [
             0.2222222222222222,
             "#7201a8"
            ],
            [
             0.3333333333333333,
             "#9c179e"
            ],
            [
             0.4444444444444444,
             "#bd3786"
            ],
            [
             0.5555555555555556,
             "#d8576b"
            ],
            [
             0.6666666666666666,
             "#ed7953"
            ],
            [
             0.7777777777777778,
             "#fb9f3a"
            ],
            [
             0.8888888888888888,
             "#fdca26"
            ],
            [
             1,
             "#f0f921"
            ]
           ]
          },
          "colorway": [
           "#636efa",
           "#EF553B",
           "#00cc96",
           "#ab63fa",
           "#FFA15A",
           "#19d3f3",
           "#FF6692",
           "#B6E880",
           "#FF97FF",
           "#FECB52"
          ],
          "font": {
           "color": "#f2f5fa"
          },
          "geo": {
           "bgcolor": "rgb(17,17,17)",
           "lakecolor": "rgb(17,17,17)",
           "landcolor": "rgb(17,17,17)",
           "showlakes": true,
           "showland": true,
           "subunitcolor": "#506784"
          },
          "hoverlabel": {
           "align": "left"
          },
          "hovermode": "closest",
          "mapbox": {
           "style": "dark"
          },
          "paper_bgcolor": "rgb(17,17,17)",
          "plot_bgcolor": "rgb(17,17,17)",
          "polar": {
           "angularaxis": {
            "gridcolor": "#506784",
            "linecolor": "#506784",
            "ticks": ""
           },
           "bgcolor": "rgb(17,17,17)",
           "radialaxis": {
            "gridcolor": "#506784",
            "linecolor": "#506784",
            "ticks": ""
           }
          },
          "scene": {
           "xaxis": {
            "backgroundcolor": "rgb(17,17,17)",
            "gridcolor": "#506784",
            "gridwidth": 2,
            "linecolor": "#506784",
            "showbackground": true,
            "ticks": "",
            "zerolinecolor": "#C8D4E3"
           },
           "yaxis": {
            "backgroundcolor": "rgb(17,17,17)",
            "gridcolor": "#506784",
            "gridwidth": 2,
            "linecolor": "#506784",
            "showbackground": true,
            "ticks": "",
            "zerolinecolor": "#C8D4E3"
           },
           "zaxis": {
            "backgroundcolor": "rgb(17,17,17)",
            "gridcolor": "#506784",
            "gridwidth": 2,
            "linecolor": "#506784",
            "showbackground": true,
            "ticks": "",
            "zerolinecolor": "#C8D4E3"
           }
          },
          "shapedefaults": {
           "line": {
            "color": "#f2f5fa"
           }
          },
          "sliderdefaults": {
           "bgcolor": "#C8D4E3",
           "bordercolor": "rgb(17,17,17)",
           "borderwidth": 1,
           "tickwidth": 0
          },
          "ternary": {
           "aaxis": {
            "gridcolor": "#506784",
            "linecolor": "#506784",
            "ticks": ""
           },
           "baxis": {
            "gridcolor": "#506784",
            "linecolor": "#506784",
            "ticks": ""
           },
           "bgcolor": "rgb(17,17,17)",
           "caxis": {
            "gridcolor": "#506784",
            "linecolor": "#506784",
            "ticks": ""
           }
          },
          "title": {
           "x": 0.05
          },
          "updatemenudefaults": {
           "bgcolor": "#506784",
           "borderwidth": 0
          },
          "xaxis": {
           "automargin": true,
           "gridcolor": "#283442",
           "linecolor": "#506784",
           "ticks": "",
           "title": {
            "standoff": 15
           },
           "zerolinecolor": "#283442",
           "zerolinewidth": 2
          },
          "yaxis": {
           "automargin": true,
           "gridcolor": "#283442",
           "linecolor": "#506784",
           "ticks": "",
           "title": {
            "standoff": 15
           },
           "zerolinecolor": "#283442",
           "zerolinewidth": 2
          }
         }
        },
        "title": {
         "text": "Selling Price by Transmission"
        },
        "xaxis": {
         "anchor": "y",
         "domain": [
          0,
          1
         ],
         "title": {
          "text": "Transmission"
         }
        },
        "yaxis": {
         "anchor": "x",
         "domain": [
          0,
          1
         ],
         "title": {
          "text": "Selling_Price"
         }
        }
       }
      }
     },
     "metadata": {},
     "output_type": "display_data"
    }
   ],
   "source": [
    "pplot('Transmission')"
   ]
  },
  {
   "cell_type": "markdown",
   "metadata": {},
   "source": [
    "1. There are more cars with manual Transmisson (261) than auto cars (40)\n",
    "2. Auto cars have wider range of price but the highest one is a Manual car\n",
    "3. Auto section has a better New/Old ratio\n",
    "4. Age is more important for pricing in manual than auto"
   ]
  },
  {
   "cell_type": "code",
   "execution_count": 37,
   "metadata": {},
   "outputs": [
    {
     "data": {
      "text/plain": [
       "40"
      ]
     },
     "execution_count": 37,
     "metadata": {},
     "output_type": "execute_result"
    }
   ],
   "source": [
    "df[df['Transmission']== 'Automatic'].value_counts().sum()"
   ]
  },
  {
   "cell_type": "code",
   "execution_count": 38,
   "metadata": {},
   "outputs": [
    {
     "data": {
      "text/plain": [
       "261"
      ]
     },
     "execution_count": 38,
     "metadata": {},
     "output_type": "execute_result"
    }
   ],
   "source": [
    "df[df['Transmission']== 'Manual'].value_counts().sum()"
   ]
  },
  {
   "cell_type": "code",
   "execution_count": 39,
   "metadata": {},
   "outputs": [
    {
     "data": {
      "application/vnd.plotly.v1+json": {
       "config": {
        "plotlyServerURL": "https://plot.ly"
       },
       "data": [
        {
         "hovertemplate": "Owner=%{x}<br>Selling_Price=%{y}<br>Present_Price=%{marker.color}<extra></extra>",
         "legendgroup": "",
         "marker": {
          "color": [
           9.83,
           36.23,
           0.87,
           4.43,
           0.95,
           19.77,
           6.49,
           8.7,
           9.29,
           7.13,
           23.15,
           5.7,
           1.47,
           8.1,
           1.47,
           1.6,
           1.78,
           1.82,
           0.84,
           5.8,
           5.71,
           0.95,
           0.54,
           9.85,
           0.52,
           0.51,
           0.87,
           3.6,
           0.51,
           12.5,
           9.4,
           0.51,
           25.39,
           0.81,
           9.4,
           18.64,
           7.6,
           4.43,
           4.43,
           7.6,
           13.6,
           25.39,
           20.91,
           4.43,
           5.9,
           1.9,
           0.54,
           0.55,
           0.55,
           0.94,
           0.84,
           0.8,
           0.87,
           0.57,
           0.95,
           0.8,
           0.48,
           1.17,
           1.26,
           5.7,
           1.5,
           1.78,
           1.5,
           13.6,
           1.4,
           14.89,
           0.54,
           11.8,
           8.4,
           8.5,
           7.9,
           3.76,
           7.87,
           13.6,
           13.6,
           9.4,
           3.95,
           8.4,
           13.6,
           10.79,
           7.7,
           10.79,
           13.6,
           8.89,
           5.97,
           11.6,
           8.61,
           5.7,
           8.12,
           13.09,
           4.43,
           7.71,
           10.38,
           0.84,
           1.47,
           1.9,
           5.9,
           0.32,
           7.5,
           13.6,
           8.92,
           10.38,
           6.1,
           0.54,
           0.82,
           0.84,
           5.09,
           0.74,
           10.79,
           0.55,
           0.95,
           0.72,
           0.84,
           9.94,
           1.47,
           35.96,
           5.7,
           1.47,
           14.79,
           5.7,
           13.46,
           5.8,
           7.85,
           7.27,
           13.6,
           7.13,
           6.8,
           9.4,
           13.6,
           7.7,
           13.6,
           6.82,
           9.4,
           7,
           5.7,
           30.61,
           30.61,
           7.71,
           5.9,
           7.2,
           10,
           10,
           13.6,
           14.79,
           5.7,
           13.6,
           2.37,
           7.6,
           9.9,
           13.6,
           0.81,
           6.8,
           7.13,
           9.4,
           0.64,
           6.4,
           6.8,
           7,
           0.52,
           7,
           14,
           5.59,
           6.76,
           7.49,
           16.09,
           35.96,
           12.04,
           9.95,
           3.45,
           6.95,
           1.2,
           8.06,
           3.46,
           35.96,
           0.826,
           0.99,
           2.4,
           0.787,
           3.98,
           6.87,
           6.76,
           8.06,
           0.88,
           8.93,
           6.8,
           1.47,
           30.61,
           18.61,
           1.5,
           1.9,
           18.61,
           6.79,
           6.05,
           9.4,
           9.4,
           9.9,
           5.7,
           9.9,
           9.4,
           14.68,
           9.4,
           18.61,
           4.89,
           4.6,
           4.41,
           0.787,
           9.54,
           0.99,
           0.65,
           1.2,
           0.58,
           0.47,
           0.57,
           0.73,
           1.47,
           0.51,
           5.9,
           5.87,
           30.61,
           0.83,
           30.61,
           0.99,
           4.43,
           9.4,
           9.4,
           6.79,
           0.81,
           6.79,
           13.74,
           5.35,
           2.69,
           1.75,
           4.6,
           0.57,
           9.4,
           18.61,
           0.99,
           5.98,
           9.4,
           0.51,
           9.4,
           13.74,
           4.99,
           8.01,
           4.15,
           12.48,
           7.74,
           10,
           4.89,
           0.826,
           1.05,
           1.5,
           5.71,
           6.79,
           4.6,
           0.787,
           0.57,
           4.43,
           0.95,
           4.6,
           7.98,
           9.9,
           0.94,
           1.05,
           3.95,
           0.52,
           0.95,
           7.5,
           0.51,
           92.6,
           6.79,
           20.45,
           22.83,
           20.45,
           18.54,
           10,
           11,
           1.75,
           15.04,
           7.21,
           18.61,
           0.58,
           22.78,
           0.52,
           0.787,
           7.15,
           0.75,
           0.75,
           0.58,
           0.75,
           7.6,
           23.73,
           4.15,
           0.75,
           10.21,
           0.57,
           13.7,
           13.46,
           12.35,
           2.28,
           7.98
          ],
          "coloraxis": "coloraxis",
          "size": 4,
          "symbol": "circle"
         },
         "mode": "markers",
         "name": "",
         "orientation": "v",
         "showlegend": false,
         "type": "scatter",
         "x": [
          0,
          0,
          0,
          0,
          0,
          0,
          0,
          0,
          0,
          0,
          0,
          0,
          0,
          0,
          0,
          0,
          0,
          0,
          0,
          0,
          0,
          0,
          0,
          0,
          0,
          0,
          0,
          0,
          0,
          0,
          0,
          0,
          0,
          0,
          0,
          0,
          0,
          0,
          0,
          0,
          0,
          0,
          0,
          0,
          0,
          0,
          0,
          0,
          0,
          0,
          0,
          0,
          0,
          0,
          0,
          0,
          0,
          0,
          0,
          1,
          0,
          0,
          0,
          0,
          0,
          0,
          0,
          0,
          0,
          0,
          0,
          0,
          0,
          0,
          0,
          0,
          0,
          0,
          0,
          0,
          0,
          0,
          0,
          0,
          0,
          0,
          0,
          0,
          0,
          0,
          0,
          0,
          0,
          0,
          0,
          0,
          0,
          0,
          0,
          0,
          0,
          0,
          0,
          0,
          0,
          0,
          0,
          0,
          0,
          0,
          0,
          0,
          0,
          0,
          0,
          0,
          0,
          0,
          0,
          0,
          0,
          0,
          0,
          0,
          0,
          1,
          0,
          0,
          0,
          0,
          0,
          0,
          0,
          0,
          0,
          0,
          0,
          0,
          0,
          0,
          0,
          0,
          0,
          0,
          0,
          0,
          0,
          0,
          0,
          0,
          0,
          0,
          0,
          0,
          0,
          0,
          0,
          0,
          0,
          0,
          0,
          0,
          0,
          0,
          0,
          0,
          0,
          0,
          1,
          0,
          0,
          0,
          0,
          0,
          0,
          0,
          0,
          0,
          0,
          0,
          0,
          0,
          0,
          0,
          1,
          0,
          0,
          0,
          0,
          0,
          0,
          0,
          0,
          0,
          0,
          0,
          0,
          0,
          0,
          0,
          0,
          0,
          0,
          0,
          0,
          0,
          0,
          0,
          1,
          0,
          0,
          0,
          0,
          0,
          0,
          0,
          0,
          0,
          0,
          0,
          0,
          0,
          0,
          0,
          0,
          0,
          0,
          0,
          0,
          0,
          0,
          0,
          0,
          1,
          0,
          0,
          0,
          0,
          0,
          0,
          0,
          0,
          0,
          0,
          0,
          0,
          0,
          0,
          0,
          0,
          0,
          0,
          0,
          0,
          0,
          0,
          1,
          0,
          0,
          0,
          0,
          0,
          0,
          0,
          0,
          0,
          0,
          0,
          0,
          0,
          1,
          0,
          0,
          0,
          0,
          0,
          0,
          0,
          0,
          0,
          0,
          0,
          0,
          0,
          0,
          0,
          0,
          1,
          0,
          1,
          0,
          3,
          0,
          0,
          0,
          0,
          0,
          0,
          0,
          0,
          0
         ],
         "xaxis": "x",
         "y": [
          9.25,
          33,
          0.8,
          3.5,
          0.9,
          18,
          6,
          6.5,
          7.75,
          5.75,
          19.75,
          5.25,
          1.2,
          7.9,
          1.35,
          1.45,
          1.65,
          1.7,
          0.78,
          4.8,
          4.9,
          0.75,
          0.48,
          7.25,
          0.48,
          0.48,
          0.75,
          2.85,
          0.4,
          11.5,
          9.1,
          0.45,
          23,
          0.65,
          9.25,
          17,
          6.25,
          3.1,
          2.9,
          5.25,
          12.9,
          20.75,
          14.25,
          3.15,
          5.3,
          1.75,
          0.45,
          0.45,
          0.5,
          0.51,
          0.6,
          0.6,
          0.6,
          0.35,
          0.72,
          0.75,
          0.3,
          1.05,
          1.05,
          5.25,
          1.15,
          1.2,
          1.2,
          11.25,
          1.15,
          14.73,
          0.45,
          8.99,
          6,
          7.4,
          5.65,
          3,
          5.85,
          10.9,
          10.11,
          8.35,
          2.85,
          6.4,
          10.25,
          7.75,
          6.6,
          7.75,
          9.15,
          8.75,
          5.5,
          9.5,
          6.5,
          4.4,
          6.75,
          8.55,
          2.75,
          6.1,
          7.45,
          0.48,
          1.1,
          1.1,
          4,
          0.18,
          5.75,
          8.4,
          7.45,
          6.85,
          5.4,
          0.4,
          0.75,
          0.55,
          3.25,
          0.65,
          7.25,
          0.4,
          0.6,
          0.38,
          0.6,
          7.5,
          1.11,
          23.5,
          5.15,
          1.15,
          11.45,
          5.5,
          12.5,
          4,
          4.75,
          4.5,
          11.25,
          4.75,
          3.95,
          5.95,
          8.4,
          4.5,
          8.5,
          5.4,
          8.25,
          4,
          5.25,
          23,
          23,
          5.8,
          5.25,
          4.65,
          6.7,
          7.5,
          9.7,
          11.75,
          4.85,
          8.65,
          1.35,
          6,
          7.2,
          6.25,
          0.42,
          5.3,
          4.4,
          6.45,
          0.4,
          4.5,
          3.75,
          3.65,
          0.35,
          3.9,
          8.25,
          3.35,
          4.75,
          4.95,
          11.25,
          18.75,
          7.5,
          6,
          1.35,
          4.75,
          0.65,
          5.5,
          2.5,
          19.99,
          0.45,
          0.6,
          1.15,
          0.55,
          2.55,
          4.6,
          3.95,
          5.5,
          0.5,
          4.9,
          4.1,
          1.1,
          16,
          7.45,
          1.25,
          1.05,
          6.95,
          4.5,
          3.45,
          5.11,
          6.15,
          5.25,
          3.9,
          5,
          4.8,
          5.5,
          5.95,
          7.05,
          2.65,
          4,
          2.9,
          0.65,
          4.75,
          0.5,
          0.2,
          0.6,
          0.3,
          0.27,
          0.25,
          0.42,
          1,
          0.25,
          3.5,
          4.15,
          14.9,
          0.4,
          14.5,
          0.5,
          2,
          5.35,
          5.2,
          3.75,
          0.6,
          3.1,
          5.9,
          3,
          1.25,
          0.95,
          3.1,
          0.2,
          4.95,
          5.85,
          0.45,
          3.1,
          4.5,
          0.3,
          4.5,
          4.35,
          3,
          4.4,
          2.85,
          4.5,
          2.95,
          4.1,
          2.35,
          0.5,
          0.35,
          1.05,
          2.65,
          2.9,
          2.95,
          0.38,
          0.15,
          2.55,
          0.45,
          2.7,
          2.65,
          3.25,
          0.52,
          0.31,
          1.95,
          0.25,
          0.45,
          2.25,
          0.16,
          35,
          3.25,
          9.65,
          5.25,
          9.25,
          4.75,
          3,
          3.35,
          0.9,
          3.6,
          2.25,
          3.8,
          0.25,
          4,
          0.17,
          0.2,
          1.95,
          0.2,
          0.25,
          0.12,
          0.2,
          2.1,
          2.5,
          1.05,
          0.1,
          2.75,
          0.2,
          3.51,
          3.49,
          1.5,
          0.35,
          2.25
         ],
         "yaxis": "y"
        }
       ],
       "layout": {
        "coloraxis": {
         "colorbar": {
          "title": {
           "text": "Present_Price"
          }
         },
         "colorscale": [
          [
           0,
           "rgb(0,0,255)"
          ],
          [
           0.1,
           "rgb(51,153,255)"
          ],
          [
           0.2,
           "rgb(102,204,255)"
          ],
          [
           0.3,
           "rgb(153,204,255)"
          ],
          [
           0.4,
           "rgb(204,204,255)"
          ],
          [
           0.5,
           "rgb(255,255,255)"
          ],
          [
           0.6,
           "rgb(255,204,255)"
          ],
          [
           0.7,
           "rgb(255,153,255)"
          ],
          [
           0.8,
           "rgb(255,102,204)"
          ],
          [
           0.9,
           "rgb(255,102,102)"
          ],
          [
           1,
           "rgb(255,0,0)"
          ]
         ]
        },
        "legend": {
         "tracegroupgap": 0
        },
        "template": {
         "data": {
          "bar": [
           {
            "error_x": {
             "color": "#f2f5fa"
            },
            "error_y": {
             "color": "#f2f5fa"
            },
            "marker": {
             "line": {
              "color": "rgb(17,17,17)",
              "width": 0.5
             },
             "pattern": {
              "fillmode": "overlay",
              "size": 10,
              "solidity": 0.2
             }
            },
            "type": "bar"
           }
          ],
          "barpolar": [
           {
            "marker": {
             "line": {
              "color": "rgb(17,17,17)",
              "width": 0.5
             },
             "pattern": {
              "fillmode": "overlay",
              "size": 10,
              "solidity": 0.2
             }
            },
            "type": "barpolar"
           }
          ],
          "carpet": [
           {
            "aaxis": {
             "endlinecolor": "#A2B1C6",
             "gridcolor": "#506784",
             "linecolor": "#506784",
             "minorgridcolor": "#506784",
             "startlinecolor": "#A2B1C6"
            },
            "baxis": {
             "endlinecolor": "#A2B1C6",
             "gridcolor": "#506784",
             "linecolor": "#506784",
             "minorgridcolor": "#506784",
             "startlinecolor": "#A2B1C6"
            },
            "type": "carpet"
           }
          ],
          "choropleth": [
           {
            "colorbar": {
             "outlinewidth": 0,
             "ticks": ""
            },
            "type": "choropleth"
           }
          ],
          "contour": [
           {
            "colorbar": {
             "outlinewidth": 0,
             "ticks": ""
            },
            "colorscale": [
             [
              0,
              "#0d0887"
             ],
             [
              0.1111111111111111,
              "#46039f"
             ],
             [
              0.2222222222222222,
              "#7201a8"
             ],
             [
              0.3333333333333333,
              "#9c179e"
             ],
             [
              0.4444444444444444,
              "#bd3786"
             ],
             [
              0.5555555555555556,
              "#d8576b"
             ],
             [
              0.6666666666666666,
              "#ed7953"
             ],
             [
              0.7777777777777778,
              "#fb9f3a"
             ],
             [
              0.8888888888888888,
              "#fdca26"
             ],
             [
              1,
              "#f0f921"
             ]
            ],
            "type": "contour"
           }
          ],
          "contourcarpet": [
           {
            "colorbar": {
             "outlinewidth": 0,
             "ticks": ""
            },
            "type": "contourcarpet"
           }
          ],
          "heatmap": [
           {
            "colorbar": {
             "outlinewidth": 0,
             "ticks": ""
            },
            "colorscale": [
             [
              0,
              "#0d0887"
             ],
             [
              0.1111111111111111,
              "#46039f"
             ],
             [
              0.2222222222222222,
              "#7201a8"
             ],
             [
              0.3333333333333333,
              "#9c179e"
             ],
             [
              0.4444444444444444,
              "#bd3786"
             ],
             [
              0.5555555555555556,
              "#d8576b"
             ],
             [
              0.6666666666666666,
              "#ed7953"
             ],
             [
              0.7777777777777778,
              "#fb9f3a"
             ],
             [
              0.8888888888888888,
              "#fdca26"
             ],
             [
              1,
              "#f0f921"
             ]
            ],
            "type": "heatmap"
           }
          ],
          "heatmapgl": [
           {
            "colorbar": {
             "outlinewidth": 0,
             "ticks": ""
            },
            "colorscale": [
             [
              0,
              "#0d0887"
             ],
             [
              0.1111111111111111,
              "#46039f"
             ],
             [
              0.2222222222222222,
              "#7201a8"
             ],
             [
              0.3333333333333333,
              "#9c179e"
             ],
             [
              0.4444444444444444,
              "#bd3786"
             ],
             [
              0.5555555555555556,
              "#d8576b"
             ],
             [
              0.6666666666666666,
              "#ed7953"
             ],
             [
              0.7777777777777778,
              "#fb9f3a"
             ],
             [
              0.8888888888888888,
              "#fdca26"
             ],
             [
              1,
              "#f0f921"
             ]
            ],
            "type": "heatmapgl"
           }
          ],
          "histogram": [
           {
            "marker": {
             "pattern": {
              "fillmode": "overlay",
              "size": 10,
              "solidity": 0.2
             }
            },
            "type": "histogram"
           }
          ],
          "histogram2d": [
           {
            "colorbar": {
             "outlinewidth": 0,
             "ticks": ""
            },
            "colorscale": [
             [
              0,
              "#0d0887"
             ],
             [
              0.1111111111111111,
              "#46039f"
             ],
             [
              0.2222222222222222,
              "#7201a8"
             ],
             [
              0.3333333333333333,
              "#9c179e"
             ],
             [
              0.4444444444444444,
              "#bd3786"
             ],
             [
              0.5555555555555556,
              "#d8576b"
             ],
             [
              0.6666666666666666,
              "#ed7953"
             ],
             [
              0.7777777777777778,
              "#fb9f3a"
             ],
             [
              0.8888888888888888,
              "#fdca26"
             ],
             [
              1,
              "#f0f921"
             ]
            ],
            "type": "histogram2d"
           }
          ],
          "histogram2dcontour": [
           {
            "colorbar": {
             "outlinewidth": 0,
             "ticks": ""
            },
            "colorscale": [
             [
              0,
              "#0d0887"
             ],
             [
              0.1111111111111111,
              "#46039f"
             ],
             [
              0.2222222222222222,
              "#7201a8"
             ],
             [
              0.3333333333333333,
              "#9c179e"
             ],
             [
              0.4444444444444444,
              "#bd3786"
             ],
             [
              0.5555555555555556,
              "#d8576b"
             ],
             [
              0.6666666666666666,
              "#ed7953"
             ],
             [
              0.7777777777777778,
              "#fb9f3a"
             ],
             [
              0.8888888888888888,
              "#fdca26"
             ],
             [
              1,
              "#f0f921"
             ]
            ],
            "type": "histogram2dcontour"
           }
          ],
          "mesh3d": [
           {
            "colorbar": {
             "outlinewidth": 0,
             "ticks": ""
            },
            "type": "mesh3d"
           }
          ],
          "parcoords": [
           {
            "line": {
             "colorbar": {
              "outlinewidth": 0,
              "ticks": ""
             }
            },
            "type": "parcoords"
           }
          ],
          "pie": [
           {
            "automargin": true,
            "type": "pie"
           }
          ],
          "scatter": [
           {
            "marker": {
             "line": {
              "color": "#283442"
             }
            },
            "type": "scatter"
           }
          ],
          "scatter3d": [
           {
            "line": {
             "colorbar": {
              "outlinewidth": 0,
              "ticks": ""
             }
            },
            "marker": {
             "colorbar": {
              "outlinewidth": 0,
              "ticks": ""
             }
            },
            "type": "scatter3d"
           }
          ],
          "scattercarpet": [
           {
            "marker": {
             "colorbar": {
              "outlinewidth": 0,
              "ticks": ""
             }
            },
            "type": "scattercarpet"
           }
          ],
          "scattergeo": [
           {
            "marker": {
             "colorbar": {
              "outlinewidth": 0,
              "ticks": ""
             }
            },
            "type": "scattergeo"
           }
          ],
          "scattergl": [
           {
            "marker": {
             "line": {
              "color": "#283442"
             }
            },
            "type": "scattergl"
           }
          ],
          "scattermapbox": [
           {
            "marker": {
             "colorbar": {
              "outlinewidth": 0,
              "ticks": ""
             }
            },
            "type": "scattermapbox"
           }
          ],
          "scatterpolar": [
           {
            "marker": {
             "colorbar": {
              "outlinewidth": 0,
              "ticks": ""
             }
            },
            "type": "scatterpolar"
           }
          ],
          "scatterpolargl": [
           {
            "marker": {
             "colorbar": {
              "outlinewidth": 0,
              "ticks": ""
             }
            },
            "type": "scatterpolargl"
           }
          ],
          "scatterternary": [
           {
            "marker": {
             "colorbar": {
              "outlinewidth": 0,
              "ticks": ""
             }
            },
            "type": "scatterternary"
           }
          ],
          "surface": [
           {
            "colorbar": {
             "outlinewidth": 0,
             "ticks": ""
            },
            "colorscale": [
             [
              0,
              "#0d0887"
             ],
             [
              0.1111111111111111,
              "#46039f"
             ],
             [
              0.2222222222222222,
              "#7201a8"
             ],
             [
              0.3333333333333333,
              "#9c179e"
             ],
             [
              0.4444444444444444,
              "#bd3786"
             ],
             [
              0.5555555555555556,
              "#d8576b"
             ],
             [
              0.6666666666666666,
              "#ed7953"
             ],
             [
              0.7777777777777778,
              "#fb9f3a"
             ],
             [
              0.8888888888888888,
              "#fdca26"
             ],
             [
              1,
              "#f0f921"
             ]
            ],
            "type": "surface"
           }
          ],
          "table": [
           {
            "cells": {
             "fill": {
              "color": "#506784"
             },
             "line": {
              "color": "rgb(17,17,17)"
             }
            },
            "header": {
             "fill": {
              "color": "#2a3f5f"
             },
             "line": {
              "color": "rgb(17,17,17)"
             }
            },
            "type": "table"
           }
          ]
         },
         "layout": {
          "annotationdefaults": {
           "arrowcolor": "#f2f5fa",
           "arrowhead": 0,
           "arrowwidth": 1
          },
          "autotypenumbers": "strict",
          "coloraxis": {
           "colorbar": {
            "outlinewidth": 0,
            "ticks": ""
           }
          },
          "colorscale": {
           "diverging": [
            [
             0,
             "#8e0152"
            ],
            [
             0.1,
             "#c51b7d"
            ],
            [
             0.2,
             "#de77ae"
            ],
            [
             0.3,
             "#f1b6da"
            ],
            [
             0.4,
             "#fde0ef"
            ],
            [
             0.5,
             "#f7f7f7"
            ],
            [
             0.6,
             "#e6f5d0"
            ],
            [
             0.7,
             "#b8e186"
            ],
            [
             0.8,
             "#7fbc41"
            ],
            [
             0.9,
             "#4d9221"
            ],
            [
             1,
             "#276419"
            ]
           ],
           "sequential": [
            [
             0,
             "#0d0887"
            ],
            [
             0.1111111111111111,
             "#46039f"
            ],
            [
             0.2222222222222222,
             "#7201a8"
            ],
            [
             0.3333333333333333,
             "#9c179e"
            ],
            [
             0.4444444444444444,
             "#bd3786"
            ],
            [
             0.5555555555555556,
             "#d8576b"
            ],
            [
             0.6666666666666666,
             "#ed7953"
            ],
            [
             0.7777777777777778,
             "#fb9f3a"
            ],
            [
             0.8888888888888888,
             "#fdca26"
            ],
            [
             1,
             "#f0f921"
            ]
           ],
           "sequentialminus": [
            [
             0,
             "#0d0887"
            ],
            [
             0.1111111111111111,
             "#46039f"
            ],
            [
             0.2222222222222222,
             "#7201a8"
            ],
            [
             0.3333333333333333,
             "#9c179e"
            ],
            [
             0.4444444444444444,
             "#bd3786"
            ],
            [
             0.5555555555555556,
             "#d8576b"
            ],
            [
             0.6666666666666666,
             "#ed7953"
            ],
            [
             0.7777777777777778,
             "#fb9f3a"
            ],
            [
             0.8888888888888888,
             "#fdca26"
            ],
            [
             1,
             "#f0f921"
            ]
           ]
          },
          "colorway": [
           "#636efa",
           "#EF553B",
           "#00cc96",
           "#ab63fa",
           "#FFA15A",
           "#19d3f3",
           "#FF6692",
           "#B6E880",
           "#FF97FF",
           "#FECB52"
          ],
          "font": {
           "color": "#f2f5fa"
          },
          "geo": {
           "bgcolor": "rgb(17,17,17)",
           "lakecolor": "rgb(17,17,17)",
           "landcolor": "rgb(17,17,17)",
           "showlakes": true,
           "showland": true,
           "subunitcolor": "#506784"
          },
          "hoverlabel": {
           "align": "left"
          },
          "hovermode": "closest",
          "mapbox": {
           "style": "dark"
          },
          "paper_bgcolor": "rgb(17,17,17)",
          "plot_bgcolor": "rgb(17,17,17)",
          "polar": {
           "angularaxis": {
            "gridcolor": "#506784",
            "linecolor": "#506784",
            "ticks": ""
           },
           "bgcolor": "rgb(17,17,17)",
           "radialaxis": {
            "gridcolor": "#506784",
            "linecolor": "#506784",
            "ticks": ""
           }
          },
          "scene": {
           "xaxis": {
            "backgroundcolor": "rgb(17,17,17)",
            "gridcolor": "#506784",
            "gridwidth": 2,
            "linecolor": "#506784",
            "showbackground": true,
            "ticks": "",
            "zerolinecolor": "#C8D4E3"
           },
           "yaxis": {
            "backgroundcolor": "rgb(17,17,17)",
            "gridcolor": "#506784",
            "gridwidth": 2,
            "linecolor": "#506784",
            "showbackground": true,
            "ticks": "",
            "zerolinecolor": "#C8D4E3"
           },
           "zaxis": {
            "backgroundcolor": "rgb(17,17,17)",
            "gridcolor": "#506784",
            "gridwidth": 2,
            "linecolor": "#506784",
            "showbackground": true,
            "ticks": "",
            "zerolinecolor": "#C8D4E3"
           }
          },
          "shapedefaults": {
           "line": {
            "color": "#f2f5fa"
           }
          },
          "sliderdefaults": {
           "bgcolor": "#C8D4E3",
           "bordercolor": "rgb(17,17,17)",
           "borderwidth": 1,
           "tickwidth": 0
          },
          "ternary": {
           "aaxis": {
            "gridcolor": "#506784",
            "linecolor": "#506784",
            "ticks": ""
           },
           "baxis": {
            "gridcolor": "#506784",
            "linecolor": "#506784",
            "ticks": ""
           },
           "bgcolor": "rgb(17,17,17)",
           "caxis": {
            "gridcolor": "#506784",
            "linecolor": "#506784",
            "ticks": ""
           }
          },
          "title": {
           "x": 0.05
          },
          "updatemenudefaults": {
           "bgcolor": "#506784",
           "borderwidth": 0
          },
          "xaxis": {
           "automargin": true,
           "gridcolor": "#283442",
           "linecolor": "#506784",
           "ticks": "",
           "title": {
            "standoff": 15
           },
           "zerolinecolor": "#283442",
           "zerolinewidth": 2
          },
          "yaxis": {
           "automargin": true,
           "gridcolor": "#283442",
           "linecolor": "#506784",
           "ticks": "",
           "title": {
            "standoff": 15
           },
           "zerolinecolor": "#283442",
           "zerolinewidth": 2
          }
         }
        },
        "title": {
         "text": "Selling Price by Owner"
        },
        "xaxis": {
         "anchor": "y",
         "domain": [
          0,
          1
         ],
         "title": {
          "text": "Owner"
         }
        },
        "yaxis": {
         "anchor": "x",
         "domain": [
          0,
          1
         ],
         "title": {
          "text": "Selling_Price"
         }
        }
       }
      }
     },
     "metadata": {},
     "output_type": "display_data"
    }
   ],
   "source": [
    "pplot('Owner')"
   ]
  },
  {
   "cell_type": "markdown",
   "metadata": {},
   "source": [
    "1. Most cars just had one owner\n",
    "2. Just one car had 3 owner\n",
    "3. Owner count seems to be important in price of car\n",
    "4. More new cars are owned by just one owner"
   ]
  },
  {
   "cell_type": "code",
   "execution_count": null,
   "metadata": {},
   "outputs": [],
   "source": []
  },
  {
   "cell_type": "markdown",
   "metadata": {},
   "source": [
    "## 4.Model"
   ]
  },
  {
   "cell_type": "markdown",
   "metadata": {},
   "source": [
    "Becasuse we are creating a Regression model we have to change string values to numeric values"
   ]
  },
  {
   "cell_type": "code",
   "execution_count": 40,
   "metadata": {},
   "outputs": [
    {
     "data": {
      "text/html": [
       "<div>\n",
       "<style scoped>\n",
       "    .dataframe tbody tr th:only-of-type {\n",
       "        vertical-align: middle;\n",
       "    }\n",
       "\n",
       "    .dataframe tbody tr th {\n",
       "        vertical-align: top;\n",
       "    }\n",
       "\n",
       "    .dataframe thead th {\n",
       "        text-align: right;\n",
       "    }\n",
       "</style>\n",
       "<table border=\"1\" class=\"dataframe\">\n",
       "  <thead>\n",
       "    <tr style=\"text-align: right;\">\n",
       "      <th></th>\n",
       "      <th>Age</th>\n",
       "      <th>Selling_Price</th>\n",
       "      <th>Present_Price</th>\n",
       "      <th>Kms_Driven</th>\n",
       "      <th>Fuel_Type</th>\n",
       "      <th>Seller_Type</th>\n",
       "      <th>Transmission</th>\n",
       "      <th>Owner</th>\n",
       "    </tr>\n",
       "  </thead>\n",
       "  <tbody>\n",
       "    <tr>\n",
       "      <th>5</th>\n",
       "      <td>1</td>\n",
       "      <td>9.25</td>\n",
       "      <td>9.83</td>\n",
       "      <td>2071</td>\n",
       "      <td>2</td>\n",
       "      <td>2</td>\n",
       "      <td>2</td>\n",
       "      <td>0</td>\n",
       "    </tr>\n",
       "    <tr>\n",
       "      <th>64</th>\n",
       "      <td>2</td>\n",
       "      <td>33.00</td>\n",
       "      <td>36.23</td>\n",
       "      <td>6000</td>\n",
       "      <td>2</td>\n",
       "      <td>2</td>\n",
       "      <td>3</td>\n",
       "      <td>0</td>\n",
       "    </tr>\n",
       "    <tr>\n",
       "      <th>128</th>\n",
       "      <td>2</td>\n",
       "      <td>0.80</td>\n",
       "      <td>0.87</td>\n",
       "      <td>3000</td>\n",
       "      <td>3</td>\n",
       "      <td>3</td>\n",
       "      <td>2</td>\n",
       "      <td>0</td>\n",
       "    </tr>\n",
       "    <tr>\n",
       "      <th>220</th>\n",
       "      <td>2</td>\n",
       "      <td>3.50</td>\n",
       "      <td>4.43</td>\n",
       "      <td>38488</td>\n",
       "      <td>3</td>\n",
       "      <td>2</td>\n",
       "      <td>2</td>\n",
       "      <td>0</td>\n",
       "    </tr>\n",
       "    <tr>\n",
       "      <th>126</th>\n",
       "      <td>2</td>\n",
       "      <td>0.90</td>\n",
       "      <td>0.95</td>\n",
       "      <td>1300</td>\n",
       "      <td>3</td>\n",
       "      <td>3</td>\n",
       "      <td>2</td>\n",
       "      <td>0</td>\n",
       "    </tr>\n",
       "    <tr>\n",
       "      <th>...</th>\n",
       "      <td>...</td>\n",
       "      <td>...</td>\n",
       "      <td>...</td>\n",
       "      <td>...</td>\n",
       "      <td>...</td>\n",
       "      <td>...</td>\n",
       "      <td>...</td>\n",
       "      <td>...</td>\n",
       "    </tr>\n",
       "    <tr>\n",
       "      <th>92</th>\n",
       "      <td>14</td>\n",
       "      <td>3.51</td>\n",
       "      <td>13.70</td>\n",
       "      <td>75000</td>\n",
       "      <td>3</td>\n",
       "      <td>2</td>\n",
       "      <td>2</td>\n",
       "      <td>0</td>\n",
       "    </tr>\n",
       "    <tr>\n",
       "      <th>84</th>\n",
       "      <td>14</td>\n",
       "      <td>3.49</td>\n",
       "      <td>13.46</td>\n",
       "      <td>197176</td>\n",
       "      <td>2</td>\n",
       "      <td>2</td>\n",
       "      <td>2</td>\n",
       "      <td>0</td>\n",
       "    </tr>\n",
       "    <tr>\n",
       "      <th>77</th>\n",
       "      <td>15</td>\n",
       "      <td>1.50</td>\n",
       "      <td>12.35</td>\n",
       "      <td>135154</td>\n",
       "      <td>3</td>\n",
       "      <td>2</td>\n",
       "      <td>3</td>\n",
       "      <td>0</td>\n",
       "    </tr>\n",
       "    <tr>\n",
       "      <th>37</th>\n",
       "      <td>16</td>\n",
       "      <td>0.35</td>\n",
       "      <td>2.28</td>\n",
       "      <td>127000</td>\n",
       "      <td>3</td>\n",
       "      <td>3</td>\n",
       "      <td>2</td>\n",
       "      <td>0</td>\n",
       "    </tr>\n",
       "    <tr>\n",
       "      <th>39</th>\n",
       "      <td>16</td>\n",
       "      <td>2.25</td>\n",
       "      <td>7.98</td>\n",
       "      <td>62000</td>\n",
       "      <td>3</td>\n",
       "      <td>2</td>\n",
       "      <td>2</td>\n",
       "      <td>0</td>\n",
       "    </tr>\n",
       "  </tbody>\n",
       "</table>\n",
       "<p>301 rows × 8 columns</p>\n",
       "</div>"
      ],
      "text/plain": [
       "     Age  Selling_Price  Present_Price  Kms_Driven  Fuel_Type  Seller_Type  \\\n",
       "5      1           9.25           9.83        2071          2            2   \n",
       "64     2          33.00          36.23        6000          2            2   \n",
       "128    2           0.80           0.87        3000          3            3   \n",
       "220    2           3.50           4.43       38488          3            2   \n",
       "126    2           0.90           0.95        1300          3            3   \n",
       "..   ...            ...            ...         ...        ...          ...   \n",
       "92    14           3.51          13.70       75000          3            2   \n",
       "84    14           3.49          13.46      197176          2            2   \n",
       "77    15           1.50          12.35      135154          3            2   \n",
       "37    16           0.35           2.28      127000          3            3   \n",
       "39    16           2.25           7.98       62000          3            2   \n",
       "\n",
       "     Transmission  Owner  \n",
       "5               2      0  \n",
       "64              3      0  \n",
       "128             2      0  \n",
       "220             2      0  \n",
       "126             2      0  \n",
       "..            ...    ...  \n",
       "92              2      0  \n",
       "84              2      0  \n",
       "77              3      0  \n",
       "37              2      0  \n",
       "39              2      0  \n",
       "\n",
       "[301 rows x 8 columns]"
      ]
     },
     "execution_count": 40,
     "metadata": {},
     "output_type": "execute_result"
    }
   ],
   "source": [
    "df3 = df # creating a new data frame\n",
    "df3['Fuel_Type'] = df3['Fuel_Type'].replace({'Diesel':2,'Petrol':3,'CNG':4}) # converting to numeric\n",
    "df3['Seller_Type'] = df3['Seller_Type'].replace({'Dealer':2,'Individual':3}) # converting to numeric\n",
    "df3['Transmission'] = df3['Transmission'].replace({'Manual':2,'Automatic':3}) # converting to numeric\n",
    "df3"
   ]
  },
  {
   "cell_type": "code",
   "execution_count": 41,
   "metadata": {},
   "outputs": [
    {
     "name": "stdout",
     "output_type": "stream",
     "text": [
      "<class 'pandas.core.frame.DataFrame'>\n",
      "Index: 301 entries, 5 to 39\n",
      "Data columns (total 8 columns):\n",
      " #   Column         Non-Null Count  Dtype  \n",
      "---  ------         --------------  -----  \n",
      " 0   Age            301 non-null    int64  \n",
      " 1   Selling_Price  301 non-null    float64\n",
      " 2   Present_Price  301 non-null    float64\n",
      " 3   Kms_Driven     301 non-null    int64  \n",
      " 4   Fuel_Type      301 non-null    int64  \n",
      " 5   Seller_Type    301 non-null    int64  \n",
      " 6   Transmission   301 non-null    int64  \n",
      " 7   Owner          301 non-null    int64  \n",
      "dtypes: float64(2), int64(6)\n",
      "memory usage: 21.2 KB\n"
     ]
    }
   ],
   "source": [
    "# data type and missing values\n",
    "df3.info()"
   ]
  },
  {
   "cell_type": "code",
   "execution_count": 42,
   "metadata": {},
   "outputs": [
    {
     "data": {
      "text/plain": [
       "Index(['Age', 'Selling_Price', 'Present_Price', 'Kms_Driven', 'Fuel_Type',\n",
       "       'Seller_Type', 'Transmission', 'Owner'],\n",
       "      dtype='object')"
      ]
     },
     "execution_count": 42,
     "metadata": {},
     "output_type": "execute_result"
    }
   ],
   "source": [
    "df3.columns"
   ]
  },
  {
   "cell_type": "markdown",
   "metadata": {},
   "source": [
    "Normalizing dataframe"
   ]
  },
  {
   "cell_type": "code",
   "execution_count": 45,
   "metadata": {},
   "outputs": [],
   "source": [
    "Scaler = MinMaxScaler(feature_range=(0,1))\n",
    "norm1 = Scaler.fit_transform(df3)\n",
    "df_norm = pd.DataFrame(norm1, columns=['Age', 'Selling_Price', 'Present_Price', 'Kms_Driven', 'Fuel_Type',\n",
    "       'Seller_Type', 'Transmission', 'Owner'])"
   ]
  },
  {
   "cell_type": "code",
   "execution_count": 46,
   "metadata": {},
   "outputs": [
    {
     "data": {
      "text/html": [
       "<div>\n",
       "<style scoped>\n",
       "    .dataframe tbody tr th:only-of-type {\n",
       "        vertical-align: middle;\n",
       "    }\n",
       "\n",
       "    .dataframe tbody tr th {\n",
       "        vertical-align: top;\n",
       "    }\n",
       "\n",
       "    .dataframe thead th {\n",
       "        text-align: right;\n",
       "    }\n",
       "</style>\n",
       "<table border=\"1\" class=\"dataframe\">\n",
       "  <thead>\n",
       "    <tr style=\"text-align: right;\">\n",
       "      <th></th>\n",
       "      <th>Age</th>\n",
       "      <th>Selling_Price</th>\n",
       "      <th>Present_Price</th>\n",
       "      <th>Kms_Driven</th>\n",
       "      <th>Fuel_Type</th>\n",
       "      <th>Seller_Type</th>\n",
       "      <th>Transmission</th>\n",
       "      <th>Owner</th>\n",
       "    </tr>\n",
       "  </thead>\n",
       "  <tbody>\n",
       "    <tr>\n",
       "      <th>0</th>\n",
       "      <td>0.000000</td>\n",
       "      <td>0.262178</td>\n",
       "      <td>0.103056</td>\n",
       "      <td>0.003145</td>\n",
       "      <td>0.0</td>\n",
       "      <td>0.0</td>\n",
       "      <td>0.0</td>\n",
       "      <td>0.0</td>\n",
       "    </tr>\n",
       "    <tr>\n",
       "      <th>1</th>\n",
       "      <td>0.066667</td>\n",
       "      <td>0.942693</td>\n",
       "      <td>0.389142</td>\n",
       "      <td>0.011011</td>\n",
       "      <td>0.0</td>\n",
       "      <td>0.0</td>\n",
       "      <td>1.0</td>\n",
       "      <td>0.0</td>\n",
       "    </tr>\n",
       "    <tr>\n",
       "      <th>2</th>\n",
       "      <td>0.066667</td>\n",
       "      <td>0.020057</td>\n",
       "      <td>0.005960</td>\n",
       "      <td>0.005005</td>\n",
       "      <td>0.5</td>\n",
       "      <td>1.0</td>\n",
       "      <td>0.0</td>\n",
       "      <td>0.0</td>\n",
       "    </tr>\n",
       "    <tr>\n",
       "      <th>3</th>\n",
       "      <td>0.066667</td>\n",
       "      <td>0.097421</td>\n",
       "      <td>0.044538</td>\n",
       "      <td>0.076052</td>\n",
       "      <td>0.5</td>\n",
       "      <td>0.0</td>\n",
       "      <td>0.0</td>\n",
       "      <td>0.0</td>\n",
       "    </tr>\n",
       "    <tr>\n",
       "      <th>4</th>\n",
       "      <td>0.066667</td>\n",
       "      <td>0.022923</td>\n",
       "      <td>0.006827</td>\n",
       "      <td>0.001602</td>\n",
       "      <td>0.5</td>\n",
       "      <td>1.0</td>\n",
       "      <td>0.0</td>\n",
       "      <td>0.0</td>\n",
       "    </tr>\n",
       "    <tr>\n",
       "      <th>...</th>\n",
       "      <td>...</td>\n",
       "      <td>...</td>\n",
       "      <td>...</td>\n",
       "      <td>...</td>\n",
       "      <td>...</td>\n",
       "      <td>...</td>\n",
       "      <td>...</td>\n",
       "      <td>...</td>\n",
       "    </tr>\n",
       "    <tr>\n",
       "      <th>296</th>\n",
       "      <td>0.866667</td>\n",
       "      <td>0.097708</td>\n",
       "      <td>0.144993</td>\n",
       "      <td>0.149149</td>\n",
       "      <td>0.5</td>\n",
       "      <td>0.0</td>\n",
       "      <td>0.0</td>\n",
       "      <td>0.0</td>\n",
       "    </tr>\n",
       "    <tr>\n",
       "      <th>297</th>\n",
       "      <td>0.866667</td>\n",
       "      <td>0.097135</td>\n",
       "      <td>0.142393</td>\n",
       "      <td>0.393746</td>\n",
       "      <td>0.0</td>\n",
       "      <td>0.0</td>\n",
       "      <td>0.0</td>\n",
       "      <td>0.0</td>\n",
       "    </tr>\n",
       "    <tr>\n",
       "      <th>298</th>\n",
       "      <td>0.933333</td>\n",
       "      <td>0.040115</td>\n",
       "      <td>0.130364</td>\n",
       "      <td>0.269578</td>\n",
       "      <td>0.5</td>\n",
       "      <td>0.0</td>\n",
       "      <td>1.0</td>\n",
       "      <td>0.0</td>\n",
       "    </tr>\n",
       "    <tr>\n",
       "      <th>299</th>\n",
       "      <td>1.000000</td>\n",
       "      <td>0.007163</td>\n",
       "      <td>0.021240</td>\n",
       "      <td>0.253253</td>\n",
       "      <td>0.5</td>\n",
       "      <td>1.0</td>\n",
       "      <td>0.0</td>\n",
       "      <td>0.0</td>\n",
       "    </tr>\n",
       "    <tr>\n",
       "      <th>300</th>\n",
       "      <td>1.000000</td>\n",
       "      <td>0.061605</td>\n",
       "      <td>0.083008</td>\n",
       "      <td>0.123123</td>\n",
       "      <td>0.5</td>\n",
       "      <td>0.0</td>\n",
       "      <td>0.0</td>\n",
       "      <td>0.0</td>\n",
       "    </tr>\n",
       "  </tbody>\n",
       "</table>\n",
       "<p>301 rows × 8 columns</p>\n",
       "</div>"
      ],
      "text/plain": [
       "          Age  Selling_Price  Present_Price  Kms_Driven  Fuel_Type  \\\n",
       "0    0.000000       0.262178       0.103056    0.003145        0.0   \n",
       "1    0.066667       0.942693       0.389142    0.011011        0.0   \n",
       "2    0.066667       0.020057       0.005960    0.005005        0.5   \n",
       "3    0.066667       0.097421       0.044538    0.076052        0.5   \n",
       "4    0.066667       0.022923       0.006827    0.001602        0.5   \n",
       "..        ...            ...            ...         ...        ...   \n",
       "296  0.866667       0.097708       0.144993    0.149149        0.5   \n",
       "297  0.866667       0.097135       0.142393    0.393746        0.0   \n",
       "298  0.933333       0.040115       0.130364    0.269578        0.5   \n",
       "299  1.000000       0.007163       0.021240    0.253253        0.5   \n",
       "300  1.000000       0.061605       0.083008    0.123123        0.5   \n",
       "\n",
       "     Seller_Type  Transmission  Owner  \n",
       "0            0.0           0.0    0.0  \n",
       "1            0.0           1.0    0.0  \n",
       "2            1.0           0.0    0.0  \n",
       "3            0.0           0.0    0.0  \n",
       "4            1.0           0.0    0.0  \n",
       "..           ...           ...    ...  \n",
       "296          0.0           0.0    0.0  \n",
       "297          0.0           0.0    0.0  \n",
       "298          0.0           1.0    0.0  \n",
       "299          1.0           0.0    0.0  \n",
       "300          0.0           0.0    0.0  \n",
       "\n",
       "[301 rows x 8 columns]"
      ]
     },
     "execution_count": 46,
     "metadata": {},
     "output_type": "execute_result"
    }
   ],
   "source": [
    "df_norm"
   ]
  },
  {
   "cell_type": "code",
   "execution_count": 47,
   "metadata": {},
   "outputs": [],
   "source": [
    "#setting the x and y for model\n",
    "x = pd.DataFrame(df_norm,columns=['Age','Present_Price', 'Kms_Driven', 'Fuel_Type',\n",
    "       'Seller_Type', 'Transmission', 'Owner' ])\n",
    "y = df3['Selling_Price'].values.reshape(-1,1)"
   ]
  },
  {
   "cell_type": "code",
   "execution_count": 48,
   "metadata": {},
   "outputs": [],
   "source": [
    "# setting the train and test values\n",
    "x_train, x_test, y_train, y_test = train_test_split(x,y,test_size=0.2,random_state=0)"
   ]
  },
  {
   "cell_type": "code",
   "execution_count": 49,
   "metadata": {},
   "outputs": [],
   "source": [
    "# choosing the model\n",
    "model = LinearRegression()"
   ]
  },
  {
   "cell_type": "code",
   "execution_count": 50,
   "metadata": {},
   "outputs": [
    {
     "data": {
      "text/html": [
       "<style>#sk-container-id-1 {color: black;}#sk-container-id-1 pre{padding: 0;}#sk-container-id-1 div.sk-toggleable {background-color: white;}#sk-container-id-1 label.sk-toggleable__label {cursor: pointer;display: block;width: 100%;margin-bottom: 0;padding: 0.3em;box-sizing: border-box;text-align: center;}#sk-container-id-1 label.sk-toggleable__label-arrow:before {content: \"▸\";float: left;margin-right: 0.25em;color: #696969;}#sk-container-id-1 label.sk-toggleable__label-arrow:hover:before {color: black;}#sk-container-id-1 div.sk-estimator:hover label.sk-toggleable__label-arrow:before {color: black;}#sk-container-id-1 div.sk-toggleable__content {max-height: 0;max-width: 0;overflow: hidden;text-align: left;background-color: #f0f8ff;}#sk-container-id-1 div.sk-toggleable__content pre {margin: 0.2em;color: black;border-radius: 0.25em;background-color: #f0f8ff;}#sk-container-id-1 input.sk-toggleable__control:checked~div.sk-toggleable__content {max-height: 200px;max-width: 100%;overflow: auto;}#sk-container-id-1 input.sk-toggleable__control:checked~label.sk-toggleable__label-arrow:before {content: \"▾\";}#sk-container-id-1 div.sk-estimator input.sk-toggleable__control:checked~label.sk-toggleable__label {background-color: #d4ebff;}#sk-container-id-1 div.sk-label input.sk-toggleable__control:checked~label.sk-toggleable__label {background-color: #d4ebff;}#sk-container-id-1 input.sk-hidden--visually {border: 0;clip: rect(1px 1px 1px 1px);clip: rect(1px, 1px, 1px, 1px);height: 1px;margin: -1px;overflow: hidden;padding: 0;position: absolute;width: 1px;}#sk-container-id-1 div.sk-estimator {font-family: monospace;background-color: #f0f8ff;border: 1px dotted black;border-radius: 0.25em;box-sizing: border-box;margin-bottom: 0.5em;}#sk-container-id-1 div.sk-estimator:hover {background-color: #d4ebff;}#sk-container-id-1 div.sk-parallel-item::after {content: \"\";width: 100%;border-bottom: 1px solid gray;flex-grow: 1;}#sk-container-id-1 div.sk-label:hover label.sk-toggleable__label {background-color: #d4ebff;}#sk-container-id-1 div.sk-serial::before {content: \"\";position: absolute;border-left: 1px solid gray;box-sizing: border-box;top: 0;bottom: 0;left: 50%;z-index: 0;}#sk-container-id-1 div.sk-serial {display: flex;flex-direction: column;align-items: center;background-color: white;padding-right: 0.2em;padding-left: 0.2em;position: relative;}#sk-container-id-1 div.sk-item {position: relative;z-index: 1;}#sk-container-id-1 div.sk-parallel {display: flex;align-items: stretch;justify-content: center;background-color: white;position: relative;}#sk-container-id-1 div.sk-item::before, #sk-container-id-1 div.sk-parallel-item::before {content: \"\";position: absolute;border-left: 1px solid gray;box-sizing: border-box;top: 0;bottom: 0;left: 50%;z-index: -1;}#sk-container-id-1 div.sk-parallel-item {display: flex;flex-direction: column;z-index: 1;position: relative;background-color: white;}#sk-container-id-1 div.sk-parallel-item:first-child::after {align-self: flex-end;width: 50%;}#sk-container-id-1 div.sk-parallel-item:last-child::after {align-self: flex-start;width: 50%;}#sk-container-id-1 div.sk-parallel-item:only-child::after {width: 0;}#sk-container-id-1 div.sk-dashed-wrapped {border: 1px dashed gray;margin: 0 0.4em 0.5em 0.4em;box-sizing: border-box;padding-bottom: 0.4em;background-color: white;}#sk-container-id-1 div.sk-label label {font-family: monospace;font-weight: bold;display: inline-block;line-height: 1.2em;}#sk-container-id-1 div.sk-label-container {text-align: center;}#sk-container-id-1 div.sk-container {/* jupyter's `normalize.less` sets `[hidden] { display: none; }` but bootstrap.min.css set `[hidden] { display: none !important; }` so we also need the `!important` here to be able to override the default hidden behavior on the sphinx rendered scikit-learn.org. See: https://github.com/scikit-learn/scikit-learn/issues/21755 */display: inline-block !important;position: relative;}#sk-container-id-1 div.sk-text-repr-fallback {display: none;}</style><div id=\"sk-container-id-1\" class=\"sk-top-container\"><div class=\"sk-text-repr-fallback\"><pre>LinearRegression()</pre><b>In a Jupyter environment, please rerun this cell to show the HTML representation or trust the notebook. <br />On GitHub, the HTML representation is unable to render, please try loading this page with nbviewer.org.</b></div><div class=\"sk-container\" hidden><div class=\"sk-item\"><div class=\"sk-estimator sk-toggleable\"><input class=\"sk-toggleable__control sk-hidden--visually\" id=\"sk-estimator-id-1\" type=\"checkbox\" checked><label for=\"sk-estimator-id-1\" class=\"sk-toggleable__label sk-toggleable__label-arrow\">LinearRegression</label><div class=\"sk-toggleable__content\"><pre>LinearRegression()</pre></div></div></div></div></div>"
      ],
      "text/plain": [
       "LinearRegression()"
      ]
     },
     "execution_count": 50,
     "metadata": {},
     "output_type": "execute_result"
    }
   ],
   "source": [
    "# training the model\n",
    "model.fit(x_train,y_train)"
   ]
  },
  {
   "cell_type": "code",
   "execution_count": 51,
   "metadata": {},
   "outputs": [],
   "source": [
    "# settin the predection values\n",
    "y_pred = model.predict(x_test)"
   ]
  },
  {
   "cell_type": "code",
   "execution_count": 52,
   "metadata": {},
   "outputs": [
    {
     "name": "stdout",
     "output_type": "stream",
     "text": [
      "0.8604228341385417\n"
     ]
    }
   ],
   "source": [
    "result = model.score(x_test,y_test)\n",
    "print(result)"
   ]
  },
  {
   "cell_type": "code",
   "execution_count": 53,
   "metadata": {},
   "outputs": [
    {
     "name": "stdout",
     "output_type": "stream",
     "text": [
      "Mean Absolut Error:  1.1326137667706697\n",
      "Mean Suared Error:  2.4859479613401985\n",
      "Root Mean Squared Error:  1.5766889234532595\n",
      "R2 Score:  0.8604228341385417\n"
     ]
    }
   ],
   "source": [
    "print(\"Mean Absolut Error: \", metrics.mean_absolute_error(y_test,y_pred))\n",
    "print(\"Mean Suared Error: \", metrics.mean_squared_error(y_test,y_pred))\n",
    "print(\"Root Mean Squared Error: \", np.sqrt(metrics.mean_squared_error(y_test,y_pred)))\n",
    "print(\"R2 Score: \", metrics.r2_score(y_test,y_pred))"
   ]
  },
  {
   "cell_type": "markdown",
   "metadata": {},
   "source": [
    "### Improving model"
   ]
  },
  {
   "cell_type": "code",
   "execution_count": 54,
   "metadata": {},
   "outputs": [],
   "source": [
    "model_new = LinearRegression()"
   ]
  },
  {
   "cell_type": "markdown",
   "metadata": {},
   "source": [
    "using kfold and cross validation"
   ]
  },
  {
   "cell_type": "code",
   "execution_count": 55,
   "metadata": {},
   "outputs": [
    {
     "name": "stdout",
     "output_type": "stream",
     "text": [
      "[ 0.82867668  0.8541822   0.83300456  0.95437113  0.88731956  0.9528129\n",
      "  0.87846075  0.89489722  0.76455446 -1.10359991]\n",
      "0.6744679563703119\n"
     ]
    }
   ],
   "source": [
    "kfold_validation = KFold(10)\n",
    "results = cross_val_score(model_new,x,y.ravel(),cv=kfold_validation,n_jobs=1)\n",
    "print(results)\n",
    "print(np.mean(results))"
   ]
  },
  {
   "cell_type": "code",
   "execution_count": 56,
   "metadata": {},
   "outputs": [
    {
     "data": {
      "text/plain": [
       "30.1"
      ]
     },
     "execution_count": 56,
     "metadata": {},
     "output_type": "execute_result"
    }
   ],
   "source": [
    "len(df3)/10"
   ]
  },
  {
   "cell_type": "code",
   "execution_count": 57,
   "metadata": {},
   "outputs": [
    {
     "data": {
      "text/html": [
       "<div>\n",
       "<style scoped>\n",
       "    .dataframe tbody tr th:only-of-type {\n",
       "        vertical-align: middle;\n",
       "    }\n",
       "\n",
       "    .dataframe tbody tr th {\n",
       "        vertical-align: top;\n",
       "    }\n",
       "\n",
       "    .dataframe thead th {\n",
       "        text-align: right;\n",
       "    }\n",
       "</style>\n",
       "<table border=\"1\" class=\"dataframe\">\n",
       "  <thead>\n",
       "    <tr style=\"text-align: right;\">\n",
       "      <th></th>\n",
       "      <th>Age</th>\n",
       "      <th>Selling_Price</th>\n",
       "      <th>Present_Price</th>\n",
       "      <th>Kms_Driven</th>\n",
       "      <th>Fuel_Type</th>\n",
       "      <th>Seller_Type</th>\n",
       "      <th>Transmission</th>\n",
       "      <th>Owner</th>\n",
       "    </tr>\n",
       "  </thead>\n",
       "  <tbody>\n",
       "    <tr>\n",
       "      <th>0</th>\n",
       "      <td>0.000000</td>\n",
       "      <td>0.262178</td>\n",
       "      <td>0.103056</td>\n",
       "      <td>0.003145</td>\n",
       "      <td>0.0</td>\n",
       "      <td>0.0</td>\n",
       "      <td>0.0</td>\n",
       "      <td>0.0</td>\n",
       "    </tr>\n",
       "    <tr>\n",
       "      <th>1</th>\n",
       "      <td>0.066667</td>\n",
       "      <td>0.942693</td>\n",
       "      <td>0.389142</td>\n",
       "      <td>0.011011</td>\n",
       "      <td>0.0</td>\n",
       "      <td>0.0</td>\n",
       "      <td>1.0</td>\n",
       "      <td>0.0</td>\n",
       "    </tr>\n",
       "    <tr>\n",
       "      <th>2</th>\n",
       "      <td>0.066667</td>\n",
       "      <td>0.020057</td>\n",
       "      <td>0.005960</td>\n",
       "      <td>0.005005</td>\n",
       "      <td>0.5</td>\n",
       "      <td>1.0</td>\n",
       "      <td>0.0</td>\n",
       "      <td>0.0</td>\n",
       "    </tr>\n",
       "    <tr>\n",
       "      <th>3</th>\n",
       "      <td>0.066667</td>\n",
       "      <td>0.097421</td>\n",
       "      <td>0.044538</td>\n",
       "      <td>0.076052</td>\n",
       "      <td>0.5</td>\n",
       "      <td>0.0</td>\n",
       "      <td>0.0</td>\n",
       "      <td>0.0</td>\n",
       "    </tr>\n",
       "    <tr>\n",
       "      <th>4</th>\n",
       "      <td>0.066667</td>\n",
       "      <td>0.022923</td>\n",
       "      <td>0.006827</td>\n",
       "      <td>0.001602</td>\n",
       "      <td>0.5</td>\n",
       "      <td>1.0</td>\n",
       "      <td>0.0</td>\n",
       "      <td>0.0</td>\n",
       "    </tr>\n",
       "    <tr>\n",
       "      <th>...</th>\n",
       "      <td>...</td>\n",
       "      <td>...</td>\n",
       "      <td>...</td>\n",
       "      <td>...</td>\n",
       "      <td>...</td>\n",
       "      <td>...</td>\n",
       "      <td>...</td>\n",
       "      <td>...</td>\n",
       "    </tr>\n",
       "    <tr>\n",
       "      <th>265</th>\n",
       "      <td>0.533333</td>\n",
       "      <td>0.004298</td>\n",
       "      <td>0.002167</td>\n",
       "      <td>0.043043</td>\n",
       "      <td>0.5</td>\n",
       "      <td>1.0</td>\n",
       "      <td>1.0</td>\n",
       "      <td>0.0</td>\n",
       "    </tr>\n",
       "    <tr>\n",
       "      <th>266</th>\n",
       "      <td>0.533333</td>\n",
       "      <td>0.010029</td>\n",
       "      <td>0.006827</td>\n",
       "      <td>0.053053</td>\n",
       "      <td>0.5</td>\n",
       "      <td>1.0</td>\n",
       "      <td>0.0</td>\n",
       "      <td>0.0</td>\n",
       "    </tr>\n",
       "    <tr>\n",
       "      <th>267</th>\n",
       "      <td>0.533333</td>\n",
       "      <td>0.061605</td>\n",
       "      <td>0.077807</td>\n",
       "      <td>0.121528</td>\n",
       "      <td>0.5</td>\n",
       "      <td>0.0</td>\n",
       "      <td>0.0</td>\n",
       "      <td>0.0</td>\n",
       "    </tr>\n",
       "    <tr>\n",
       "      <th>268</th>\n",
       "      <td>0.533333</td>\n",
       "      <td>0.001719</td>\n",
       "      <td>0.002059</td>\n",
       "      <td>0.065065</td>\n",
       "      <td>0.5</td>\n",
       "      <td>1.0</td>\n",
       "      <td>0.0</td>\n",
       "      <td>0.0</td>\n",
       "    </tr>\n",
       "    <tr>\n",
       "      <th>269</th>\n",
       "      <td>0.533333</td>\n",
       "      <td>1.000000</td>\n",
       "      <td>1.000000</td>\n",
       "      <td>0.155155</td>\n",
       "      <td>0.0</td>\n",
       "      <td>0.0</td>\n",
       "      <td>0.0</td>\n",
       "      <td>0.0</td>\n",
       "    </tr>\n",
       "  </tbody>\n",
       "</table>\n",
       "<p>270 rows × 8 columns</p>\n",
       "</div>"
      ],
      "text/plain": [
       "          Age  Selling_Price  Present_Price  Kms_Driven  Fuel_Type  \\\n",
       "0    0.000000       0.262178       0.103056    0.003145        0.0   \n",
       "1    0.066667       0.942693       0.389142    0.011011        0.0   \n",
       "2    0.066667       0.020057       0.005960    0.005005        0.5   \n",
       "3    0.066667       0.097421       0.044538    0.076052        0.5   \n",
       "4    0.066667       0.022923       0.006827    0.001602        0.5   \n",
       "..        ...            ...            ...         ...        ...   \n",
       "265  0.533333       0.004298       0.002167    0.043043        0.5   \n",
       "266  0.533333       0.010029       0.006827    0.053053        0.5   \n",
       "267  0.533333       0.061605       0.077807    0.121528        0.5   \n",
       "268  0.533333       0.001719       0.002059    0.065065        0.5   \n",
       "269  0.533333       1.000000       1.000000    0.155155        0.0   \n",
       "\n",
       "     Seller_Type  Transmission  Owner  \n",
       "0            0.0           0.0    0.0  \n",
       "1            0.0           1.0    0.0  \n",
       "2            1.0           0.0    0.0  \n",
       "3            0.0           0.0    0.0  \n",
       "4            1.0           0.0    0.0  \n",
       "..           ...           ...    ...  \n",
       "265          1.0           1.0    0.0  \n",
       "266          1.0           0.0    0.0  \n",
       "267          0.0           0.0    0.0  \n",
       "268          1.0           0.0    0.0  \n",
       "269          0.0           0.0    0.0  \n",
       "\n",
       "[270 rows x 8 columns]"
      ]
     },
     "execution_count": 57,
     "metadata": {},
     "output_type": "execute_result"
    }
   ],
   "source": [
    "df_norm1 = df_norm[df_norm.index< 270]\n",
    "df_norm1.reset_index(drop=True,inplace=True)\n",
    "df_norm1"
   ]
  },
  {
   "cell_type": "code",
   "execution_count": 58,
   "metadata": {},
   "outputs": [
    {
     "data": {
      "text/html": [
       "<style>#sk-container-id-2 {color: black;}#sk-container-id-2 pre{padding: 0;}#sk-container-id-2 div.sk-toggleable {background-color: white;}#sk-container-id-2 label.sk-toggleable__label {cursor: pointer;display: block;width: 100%;margin-bottom: 0;padding: 0.3em;box-sizing: border-box;text-align: center;}#sk-container-id-2 label.sk-toggleable__label-arrow:before {content: \"▸\";float: left;margin-right: 0.25em;color: #696969;}#sk-container-id-2 label.sk-toggleable__label-arrow:hover:before {color: black;}#sk-container-id-2 div.sk-estimator:hover label.sk-toggleable__label-arrow:before {color: black;}#sk-container-id-2 div.sk-toggleable__content {max-height: 0;max-width: 0;overflow: hidden;text-align: left;background-color: #f0f8ff;}#sk-container-id-2 div.sk-toggleable__content pre {margin: 0.2em;color: black;border-radius: 0.25em;background-color: #f0f8ff;}#sk-container-id-2 input.sk-toggleable__control:checked~div.sk-toggleable__content {max-height: 200px;max-width: 100%;overflow: auto;}#sk-container-id-2 input.sk-toggleable__control:checked~label.sk-toggleable__label-arrow:before {content: \"▾\";}#sk-container-id-2 div.sk-estimator input.sk-toggleable__control:checked~label.sk-toggleable__label {background-color: #d4ebff;}#sk-container-id-2 div.sk-label input.sk-toggleable__control:checked~label.sk-toggleable__label {background-color: #d4ebff;}#sk-container-id-2 input.sk-hidden--visually {border: 0;clip: rect(1px 1px 1px 1px);clip: rect(1px, 1px, 1px, 1px);height: 1px;margin: -1px;overflow: hidden;padding: 0;position: absolute;width: 1px;}#sk-container-id-2 div.sk-estimator {font-family: monospace;background-color: #f0f8ff;border: 1px dotted black;border-radius: 0.25em;box-sizing: border-box;margin-bottom: 0.5em;}#sk-container-id-2 div.sk-estimator:hover {background-color: #d4ebff;}#sk-container-id-2 div.sk-parallel-item::after {content: \"\";width: 100%;border-bottom: 1px solid gray;flex-grow: 1;}#sk-container-id-2 div.sk-label:hover label.sk-toggleable__label {background-color: #d4ebff;}#sk-container-id-2 div.sk-serial::before {content: \"\";position: absolute;border-left: 1px solid gray;box-sizing: border-box;top: 0;bottom: 0;left: 50%;z-index: 0;}#sk-container-id-2 div.sk-serial {display: flex;flex-direction: column;align-items: center;background-color: white;padding-right: 0.2em;padding-left: 0.2em;position: relative;}#sk-container-id-2 div.sk-item {position: relative;z-index: 1;}#sk-container-id-2 div.sk-parallel {display: flex;align-items: stretch;justify-content: center;background-color: white;position: relative;}#sk-container-id-2 div.sk-item::before, #sk-container-id-2 div.sk-parallel-item::before {content: \"\";position: absolute;border-left: 1px solid gray;box-sizing: border-box;top: 0;bottom: 0;left: 50%;z-index: -1;}#sk-container-id-2 div.sk-parallel-item {display: flex;flex-direction: column;z-index: 1;position: relative;background-color: white;}#sk-container-id-2 div.sk-parallel-item:first-child::after {align-self: flex-end;width: 50%;}#sk-container-id-2 div.sk-parallel-item:last-child::after {align-self: flex-start;width: 50%;}#sk-container-id-2 div.sk-parallel-item:only-child::after {width: 0;}#sk-container-id-2 div.sk-dashed-wrapped {border: 1px dashed gray;margin: 0 0.4em 0.5em 0.4em;box-sizing: border-box;padding-bottom: 0.4em;background-color: white;}#sk-container-id-2 div.sk-label label {font-family: monospace;font-weight: bold;display: inline-block;line-height: 1.2em;}#sk-container-id-2 div.sk-label-container {text-align: center;}#sk-container-id-2 div.sk-container {/* jupyter's `normalize.less` sets `[hidden] { display: none; }` but bootstrap.min.css set `[hidden] { display: none !important; }` so we also need the `!important` here to be able to override the default hidden behavior on the sphinx rendered scikit-learn.org. See: https://github.com/scikit-learn/scikit-learn/issues/21755 */display: inline-block !important;position: relative;}#sk-container-id-2 div.sk-text-repr-fallback {display: none;}</style><div id=\"sk-container-id-2\" class=\"sk-top-container\"><div class=\"sk-text-repr-fallback\"><pre>LinearRegression()</pre><b>In a Jupyter environment, please rerun this cell to show the HTML representation or trust the notebook. <br />On GitHub, the HTML representation is unable to render, please try loading this page with nbviewer.org.</b></div><div class=\"sk-container\" hidden><div class=\"sk-item\"><div class=\"sk-estimator sk-toggleable\"><input class=\"sk-toggleable__control sk-hidden--visually\" id=\"sk-estimator-id-2\" type=\"checkbox\" checked><label for=\"sk-estimator-id-2\" class=\"sk-toggleable__label sk-toggleable__label-arrow\">LinearRegression</label><div class=\"sk-toggleable__content\"><pre>LinearRegression()</pre></div></div></div></div></div>"
      ],
      "text/plain": [
       "LinearRegression()"
      ]
     },
     "execution_count": 58,
     "metadata": {},
     "output_type": "execute_result"
    }
   ],
   "source": [
    "#setting the x and y for model\n",
    "xn = pd.DataFrame(df_norm1,columns=['Age','Present_Price', 'Kms_Driven', 'Fuel_Type',\n",
    "       'Seller_Type', 'Transmission', 'Owner' ])\n",
    "yn = df_norm1['Selling_Price'].values.reshape(-1,1)\n",
    "# setting the train and test values\n",
    "x_trainn, x_testn, y_trainn, y_testn = train_test_split(xn,yn,test_size=0.2,random_state=0)\n",
    "# choosing the model\n",
    "modeln = LinearRegression()\n",
    "# training the model\n",
    "modeln.fit(x_trainn,y_trainn)"
   ]
  },
  {
   "cell_type": "code",
   "execution_count": 59,
   "metadata": {},
   "outputs": [],
   "source": [
    "# settin the predection values\n",
    "y_predn = modeln.predict(x_testn)"
   ]
  },
  {
   "cell_type": "code",
   "execution_count": 60,
   "metadata": {},
   "outputs": [
    {
     "name": "stdout",
     "output_type": "stream",
     "text": [
      "Mean Absolut Error:  0.027971961776134775\n",
      "Mean Suared Error:  0.0013834173065942017\n",
      "Root Mean Squared Error:  0.037194318203110026\n",
      "R2 Score:  0.9183319883197173\n"
     ]
    }
   ],
   "source": [
    "print(\"Mean Absolut Error: \", metrics.mean_absolute_error(y_testn,y_predn))\n",
    "print(\"Mean Suared Error: \", metrics.mean_squared_error(y_testn,y_predn))\n",
    "print(\"Root Mean Squared Error: \", np.sqrt(metrics.mean_squared_error(y_testn,y_predn)))\n",
    "print(\"R2 Score: \", metrics.r2_score(y_testn,y_predn))"
   ]
  },
  {
   "cell_type": "markdown",
   "metadata": {},
   "source": [
    "5% improvment"
   ]
  },
  {
   "cell_type": "code",
   "execution_count": 61,
   "metadata": {},
   "outputs": [
    {
     "name": "stdout",
     "output_type": "stream",
     "text": [
      "intercept:  [0.15382867]\n",
      "model coefs:  [[-0.19434168  1.20315129 -0.22000618 -0.08923517 -0.05053681  0.04720216\n",
      "   0.0115668 ]]\n"
     ]
    }
   ],
   "source": [
    "print('intercept: ',modeln.intercept_)\n",
    "print('model coefs: ', modeln.coef_)"
   ]
  },
  {
   "cell_type": "markdown",
   "metadata": {},
   "source": [
    "Adding dimentions to featuers"
   ]
  },
  {
   "cell_type": "code",
   "execution_count": 62,
   "metadata": {},
   "outputs": [],
   "source": [
    "def check(Dimension,Testsize):\n",
    "    r2 = 0.9183319883197173\n",
    "    for column in xn:\n",
    "        new_col_name = column + str(Dimension)\n",
    "        new_col_val = xn[column]**Dimension\n",
    "        xn.insert(0,new_col_name,new_col_val)\n",
    "        x_tr, x_te, y_tr, y_te = train_test_split(xn,yn,test_size=Testsize,random_state=0)\n",
    "        new_model = LinearRegression()\n",
    "        new_model.fit(x_tr,y_tr)\n",
    "        y_pr = new_model.predict(x_te)\n",
    "        r2_new = metrics.r2_score(y_te, y_pr)\n",
    "        if r2_new < r2:\n",
    "            xn.drop([new_col_name],axis=1,inplace=True)\n",
    "        else:\n",
    "            r2 = r2_new\n",
    "    print(\"r2 s :\", r2)"
   ]
  },
  {
   "cell_type": "code",
   "execution_count": 63,
   "metadata": {},
   "outputs": [
    {
     "name": "stdout",
     "output_type": "stream",
     "text": [
      "r2 s : 0.923308993484282\n"
     ]
    }
   ],
   "source": [
    "check(2,0.2)"
   ]
  },
  {
   "cell_type": "code",
   "execution_count": 64,
   "metadata": {},
   "outputs": [
    {
     "name": "stdout",
     "output_type": "stream",
     "text": [
      "r2 s : 0.9310825810929142\n"
     ]
    }
   ],
   "source": [
    "check(3,0.2)"
   ]
  },
  {
   "cell_type": "code",
   "execution_count": 65,
   "metadata": {},
   "outputs": [
    {
     "name": "stdout",
     "output_type": "stream",
     "text": [
      "r2 s : 0.9312791242296944\n"
     ]
    }
   ],
   "source": [
    "check(4,0.2)"
   ]
  },
  {
   "cell_type": "markdown",
   "metadata": {},
   "source": [
    "2% improvment"
   ]
  },
  {
   "cell_type": "code",
   "execution_count": 66,
   "metadata": {},
   "outputs": [
    {
     "data": {
      "text/html": [
       "<div>\n",
       "<style scoped>\n",
       "    .dataframe tbody tr th:only-of-type {\n",
       "        vertical-align: middle;\n",
       "    }\n",
       "\n",
       "    .dataframe tbody tr th {\n",
       "        vertical-align: top;\n",
       "    }\n",
       "\n",
       "    .dataframe thead th {\n",
       "        text-align: right;\n",
       "    }\n",
       "</style>\n",
       "<table border=\"1\" class=\"dataframe\">\n",
       "  <thead>\n",
       "    <tr style=\"text-align: right;\">\n",
       "      <th></th>\n",
       "      <th>Seller_Type4</th>\n",
       "      <th>Fuel_Type234</th>\n",
       "      <th>Seller_Type34</th>\n",
       "      <th>Owner34</th>\n",
       "      <th>Owner3</th>\n",
       "      <th>Seller_Type3</th>\n",
       "      <th>Fuel_Type3</th>\n",
       "      <th>Present_Price3</th>\n",
       "      <th>Present_Price23</th>\n",
       "      <th>Fuel_Type23</th>\n",
       "      <th>Fuel_Type2</th>\n",
       "      <th>Present_Price2</th>\n",
       "      <th>Age</th>\n",
       "      <th>Present_Price</th>\n",
       "      <th>Kms_Driven</th>\n",
       "      <th>Fuel_Type</th>\n",
       "      <th>Seller_Type</th>\n",
       "      <th>Transmission</th>\n",
       "      <th>Owner</th>\n",
       "    </tr>\n",
       "  </thead>\n",
       "  <tbody>\n",
       "    <tr>\n",
       "      <th>0</th>\n",
       "      <td>0.0</td>\n",
       "      <td>0.000000e+00</td>\n",
       "      <td>0.0</td>\n",
       "      <td>0.0</td>\n",
       "      <td>0.0</td>\n",
       "      <td>0.0</td>\n",
       "      <td>0.000</td>\n",
       "      <td>1.094508e-03</td>\n",
       "      <td>1.197947e-06</td>\n",
       "      <td>0.000000</td>\n",
       "      <td>0.00</td>\n",
       "      <td>0.010621</td>\n",
       "      <td>0.000000</td>\n",
       "      <td>0.103056</td>\n",
       "      <td>0.003145</td>\n",
       "      <td>0.0</td>\n",
       "      <td>0.0</td>\n",
       "      <td>0.0</td>\n",
       "      <td>0.0</td>\n",
       "    </tr>\n",
       "    <tr>\n",
       "      <th>1</th>\n",
       "      <td>0.0</td>\n",
       "      <td>0.000000e+00</td>\n",
       "      <td>0.0</td>\n",
       "      <td>0.0</td>\n",
       "      <td>0.0</td>\n",
       "      <td>0.0</td>\n",
       "      <td>0.000</td>\n",
       "      <td>5.892824e-02</td>\n",
       "      <td>3.472537e-03</td>\n",
       "      <td>0.000000</td>\n",
       "      <td>0.00</td>\n",
       "      <td>0.151431</td>\n",
       "      <td>0.066667</td>\n",
       "      <td>0.389142</td>\n",
       "      <td>0.011011</td>\n",
       "      <td>0.0</td>\n",
       "      <td>0.0</td>\n",
       "      <td>1.0</td>\n",
       "      <td>0.0</td>\n",
       "    </tr>\n",
       "    <tr>\n",
       "      <th>2</th>\n",
       "      <td>1.0</td>\n",
       "      <td>5.960464e-08</td>\n",
       "      <td>1.0</td>\n",
       "      <td>0.0</td>\n",
       "      <td>0.0</td>\n",
       "      <td>1.0</td>\n",
       "      <td>0.125</td>\n",
       "      <td>2.117217e-07</td>\n",
       "      <td>4.482607e-14</td>\n",
       "      <td>0.015625</td>\n",
       "      <td>0.25</td>\n",
       "      <td>0.000036</td>\n",
       "      <td>0.066667</td>\n",
       "      <td>0.005960</td>\n",
       "      <td>0.005005</td>\n",
       "      <td>0.5</td>\n",
       "      <td>1.0</td>\n",
       "      <td>0.0</td>\n",
       "      <td>0.0</td>\n",
       "    </tr>\n",
       "    <tr>\n",
       "      <th>3</th>\n",
       "      <td>0.0</td>\n",
       "      <td>5.960464e-08</td>\n",
       "      <td>0.0</td>\n",
       "      <td>0.0</td>\n",
       "      <td>0.0</td>\n",
       "      <td>0.0</td>\n",
       "      <td>0.125</td>\n",
       "      <td>8.834922e-05</td>\n",
       "      <td>7.805584e-09</td>\n",
       "      <td>0.015625</td>\n",
       "      <td>0.25</td>\n",
       "      <td>0.001984</td>\n",
       "      <td>0.066667</td>\n",
       "      <td>0.044538</td>\n",
       "      <td>0.076052</td>\n",
       "      <td>0.5</td>\n",
       "      <td>0.0</td>\n",
       "      <td>0.0</td>\n",
       "      <td>0.0</td>\n",
       "    </tr>\n",
       "    <tr>\n",
       "      <th>4</th>\n",
       "      <td>1.0</td>\n",
       "      <td>5.960464e-08</td>\n",
       "      <td>1.0</td>\n",
       "      <td>0.0</td>\n",
       "      <td>0.0</td>\n",
       "      <td>1.0</td>\n",
       "      <td>0.125</td>\n",
       "      <td>3.181991e-07</td>\n",
       "      <td>1.012506e-13</td>\n",
       "      <td>0.015625</td>\n",
       "      <td>0.25</td>\n",
       "      <td>0.000047</td>\n",
       "      <td>0.066667</td>\n",
       "      <td>0.006827</td>\n",
       "      <td>0.001602</td>\n",
       "      <td>0.5</td>\n",
       "      <td>1.0</td>\n",
       "      <td>0.0</td>\n",
       "      <td>0.0</td>\n",
       "    </tr>\n",
       "    <tr>\n",
       "      <th>...</th>\n",
       "      <td>...</td>\n",
       "      <td>...</td>\n",
       "      <td>...</td>\n",
       "      <td>...</td>\n",
       "      <td>...</td>\n",
       "      <td>...</td>\n",
       "      <td>...</td>\n",
       "      <td>...</td>\n",
       "      <td>...</td>\n",
       "      <td>...</td>\n",
       "      <td>...</td>\n",
       "      <td>...</td>\n",
       "      <td>...</td>\n",
       "      <td>...</td>\n",
       "      <td>...</td>\n",
       "      <td>...</td>\n",
       "      <td>...</td>\n",
       "      <td>...</td>\n",
       "      <td>...</td>\n",
       "    </tr>\n",
       "    <tr>\n",
       "      <th>265</th>\n",
       "      <td>1.0</td>\n",
       "      <td>5.960464e-08</td>\n",
       "      <td>1.0</td>\n",
       "      <td>0.0</td>\n",
       "      <td>0.0</td>\n",
       "      <td>1.0</td>\n",
       "      <td>0.125</td>\n",
       "      <td>1.018046e-08</td>\n",
       "      <td>1.036417e-16</td>\n",
       "      <td>0.015625</td>\n",
       "      <td>0.25</td>\n",
       "      <td>0.000005</td>\n",
       "      <td>0.533333</td>\n",
       "      <td>0.002167</td>\n",
       "      <td>0.043043</td>\n",
       "      <td>0.5</td>\n",
       "      <td>1.0</td>\n",
       "      <td>1.0</td>\n",
       "      <td>0.0</td>\n",
       "    </tr>\n",
       "    <tr>\n",
       "      <th>266</th>\n",
       "      <td>1.0</td>\n",
       "      <td>5.960464e-08</td>\n",
       "      <td>1.0</td>\n",
       "      <td>0.0</td>\n",
       "      <td>0.0</td>\n",
       "      <td>1.0</td>\n",
       "      <td>0.125</td>\n",
       "      <td>3.181991e-07</td>\n",
       "      <td>1.012506e-13</td>\n",
       "      <td>0.015625</td>\n",
       "      <td>0.25</td>\n",
       "      <td>0.000047</td>\n",
       "      <td>0.533333</td>\n",
       "      <td>0.006827</td>\n",
       "      <td>0.053053</td>\n",
       "      <td>0.5</td>\n",
       "      <td>1.0</td>\n",
       "      <td>0.0</td>\n",
       "      <td>0.0</td>\n",
       "    </tr>\n",
       "    <tr>\n",
       "      <th>267</th>\n",
       "      <td>0.0</td>\n",
       "      <td>5.960464e-08</td>\n",
       "      <td>0.0</td>\n",
       "      <td>0.0</td>\n",
       "      <td>0.0</td>\n",
       "      <td>0.0</td>\n",
       "      <td>0.125</td>\n",
       "      <td>4.710322e-04</td>\n",
       "      <td>2.218713e-07</td>\n",
       "      <td>0.015625</td>\n",
       "      <td>0.25</td>\n",
       "      <td>0.006054</td>\n",
       "      <td>0.533333</td>\n",
       "      <td>0.077807</td>\n",
       "      <td>0.121528</td>\n",
       "      <td>0.5</td>\n",
       "      <td>0.0</td>\n",
       "      <td>0.0</td>\n",
       "      <td>0.0</td>\n",
       "    </tr>\n",
       "    <tr>\n",
       "      <th>268</th>\n",
       "      <td>1.0</td>\n",
       "      <td>5.960464e-08</td>\n",
       "      <td>1.0</td>\n",
       "      <td>0.0</td>\n",
       "      <td>0.0</td>\n",
       "      <td>1.0</td>\n",
       "      <td>0.125</td>\n",
       "      <td>8.728468e-09</td>\n",
       "      <td>7.618616e-17</td>\n",
       "      <td>0.015625</td>\n",
       "      <td>0.25</td>\n",
       "      <td>0.000004</td>\n",
       "      <td>0.533333</td>\n",
       "      <td>0.002059</td>\n",
       "      <td>0.065065</td>\n",
       "      <td>0.5</td>\n",
       "      <td>1.0</td>\n",
       "      <td>0.0</td>\n",
       "      <td>0.0</td>\n",
       "    </tr>\n",
       "    <tr>\n",
       "      <th>269</th>\n",
       "      <td>0.0</td>\n",
       "      <td>0.000000e+00</td>\n",
       "      <td>0.0</td>\n",
       "      <td>0.0</td>\n",
       "      <td>0.0</td>\n",
       "      <td>0.0</td>\n",
       "      <td>0.000</td>\n",
       "      <td>1.000000e+00</td>\n",
       "      <td>1.000000e+00</td>\n",
       "      <td>0.000000</td>\n",
       "      <td>0.00</td>\n",
       "      <td>1.000000</td>\n",
       "      <td>0.533333</td>\n",
       "      <td>1.000000</td>\n",
       "      <td>0.155155</td>\n",
       "      <td>0.0</td>\n",
       "      <td>0.0</td>\n",
       "      <td>0.0</td>\n",
       "      <td>0.0</td>\n",
       "    </tr>\n",
       "  </tbody>\n",
       "</table>\n",
       "<p>270 rows × 19 columns</p>\n",
       "</div>"
      ],
      "text/plain": [
       "     Seller_Type4  Fuel_Type234  Seller_Type34  Owner34  Owner3  Seller_Type3  \\\n",
       "0             0.0  0.000000e+00            0.0      0.0     0.0           0.0   \n",
       "1             0.0  0.000000e+00            0.0      0.0     0.0           0.0   \n",
       "2             1.0  5.960464e-08            1.0      0.0     0.0           1.0   \n",
       "3             0.0  5.960464e-08            0.0      0.0     0.0           0.0   \n",
       "4             1.0  5.960464e-08            1.0      0.0     0.0           1.0   \n",
       "..            ...           ...            ...      ...     ...           ...   \n",
       "265           1.0  5.960464e-08            1.0      0.0     0.0           1.0   \n",
       "266           1.0  5.960464e-08            1.0      0.0     0.0           1.0   \n",
       "267           0.0  5.960464e-08            0.0      0.0     0.0           0.0   \n",
       "268           1.0  5.960464e-08            1.0      0.0     0.0           1.0   \n",
       "269           0.0  0.000000e+00            0.0      0.0     0.0           0.0   \n",
       "\n",
       "     Fuel_Type3  Present_Price3  Present_Price23  Fuel_Type23  Fuel_Type2  \\\n",
       "0         0.000    1.094508e-03     1.197947e-06     0.000000        0.00   \n",
       "1         0.000    5.892824e-02     3.472537e-03     0.000000        0.00   \n",
       "2         0.125    2.117217e-07     4.482607e-14     0.015625        0.25   \n",
       "3         0.125    8.834922e-05     7.805584e-09     0.015625        0.25   \n",
       "4         0.125    3.181991e-07     1.012506e-13     0.015625        0.25   \n",
       "..          ...             ...              ...          ...         ...   \n",
       "265       0.125    1.018046e-08     1.036417e-16     0.015625        0.25   \n",
       "266       0.125    3.181991e-07     1.012506e-13     0.015625        0.25   \n",
       "267       0.125    4.710322e-04     2.218713e-07     0.015625        0.25   \n",
       "268       0.125    8.728468e-09     7.618616e-17     0.015625        0.25   \n",
       "269       0.000    1.000000e+00     1.000000e+00     0.000000        0.00   \n",
       "\n",
       "     Present_Price2       Age  Present_Price  Kms_Driven  Fuel_Type  \\\n",
       "0          0.010621  0.000000       0.103056    0.003145        0.0   \n",
       "1          0.151431  0.066667       0.389142    0.011011        0.0   \n",
       "2          0.000036  0.066667       0.005960    0.005005        0.5   \n",
       "3          0.001984  0.066667       0.044538    0.076052        0.5   \n",
       "4          0.000047  0.066667       0.006827    0.001602        0.5   \n",
       "..              ...       ...            ...         ...        ...   \n",
       "265        0.000005  0.533333       0.002167    0.043043        0.5   \n",
       "266        0.000047  0.533333       0.006827    0.053053        0.5   \n",
       "267        0.006054  0.533333       0.077807    0.121528        0.5   \n",
       "268        0.000004  0.533333       0.002059    0.065065        0.5   \n",
       "269        1.000000  0.533333       1.000000    0.155155        0.0   \n",
       "\n",
       "     Seller_Type  Transmission  Owner  \n",
       "0            0.0           0.0    0.0  \n",
       "1            0.0           1.0    0.0  \n",
       "2            1.0           0.0    0.0  \n",
       "3            0.0           0.0    0.0  \n",
       "4            1.0           0.0    0.0  \n",
       "..           ...           ...    ...  \n",
       "265          1.0           1.0    0.0  \n",
       "266          1.0           0.0    0.0  \n",
       "267          0.0           0.0    0.0  \n",
       "268          1.0           0.0    0.0  \n",
       "269          0.0           0.0    0.0  \n",
       "\n",
       "[270 rows x 19 columns]"
      ]
     },
     "execution_count": 66,
     "metadata": {},
     "output_type": "execute_result"
    }
   ],
   "source": [
    "xn"
   ]
  },
  {
   "cell_type": "markdown",
   "metadata": {},
   "source": [
    "Multiplying columns together"
   ]
  },
  {
   "cell_type": "code",
   "execution_count": 67,
   "metadata": {},
   "outputs": [],
   "source": [
    "pres_kms = xn['Present_Price']*xn['Kms_Driven']\n",
    "pres_fuel= xn['Present_Price']*xn['Fuel_Type']\n",
    "pres_fuel2= xn['Present_Price']*xn['Fuel_Type2']\n",
    "pres2_kms = xn['Present_Price2']*xn['Kms_Driven']\n",
    "pres2_fuel= xn['Present_Price2']*xn['Fuel_Type']\n",
    "pres2_fuel2= xn['Present_Price2']*xn['Fuel_Type2']"
   ]
  },
  {
   "cell_type": "code",
   "execution_count": 68,
   "metadata": {},
   "outputs": [],
   "source": [
    "xnn = xn"
   ]
  },
  {
   "cell_type": "code",
   "execution_count": 69,
   "metadata": {},
   "outputs": [],
   "source": [
    "xnn.insert(0,\"pres_kms\",pres_kms)\n",
    "xnn.insert(0,\"pres_fuel\",pres_fuel)\n",
    "xnn.insert(0,\"pres_fuel2\",pres_fuel2)\n",
    "xnn.insert(0,\"pres2_kms\",pres2_kms)\n",
    "xnn.insert(0,\"pres2_fuel\",pres2_fuel)\n",
    "xnn.insert(0,\"pres2_fuel2\",pres2_fuel2)"
   ]
  },
  {
   "cell_type": "code",
   "execution_count": 70,
   "metadata": {},
   "outputs": [
    {
     "name": "stdout",
     "output_type": "stream",
     "text": [
      "Mean Absolut Error:  0.018586148220115152\n",
      "Mean Suared Error:  0.000703214844132\n",
      "Root Mean Squared Error:  0.02651819835758078\n",
      "R2 Score:  0.9584867430596874\n"
     ]
    }
   ],
   "source": [
    "X_train, X_test, Y_train, Y_test = train_test_split(xnn,yn,test_size=0.2,random_state=0)\n",
    "Model = LinearRegression()\n",
    "Model.fit(X_train,Y_train)\n",
    "Y_pred = Model.predict(X_test)\n",
    "r2 = metrics.r2_score(Y_test,Y_pred)\n",
    "print(\"Mean Absolut Error: \", metrics.mean_absolute_error(Y_test,Y_pred))\n",
    "print(\"Mean Suared Error: \", metrics.mean_squared_error(Y_test,Y_pred))\n",
    "print(\"Root Mean Squared Error: \", np.sqrt(metrics.mean_squared_error(Y_test,Y_pred)))\n",
    "print(\"R2 Score: \", r2)"
   ]
  },
  {
   "cell_type": "markdown",
   "metadata": {},
   "source": [
    "2% improvment"
   ]
  },
  {
   "cell_type": "code",
   "execution_count": 71,
   "metadata": {},
   "outputs": [
    {
     "data": {
      "text/plain": [
       "Index(['pres2_fuel2', 'pres2_fuel', 'pres2_kms', 'pres_fuel2', 'pres_fuel',\n",
       "       'pres_kms', 'Seller_Type4', 'Fuel_Type234', 'Seller_Type34', 'Owner34',\n",
       "       'Owner3', 'Seller_Type3', 'Fuel_Type3', 'Present_Price3',\n",
       "       'Present_Price23', 'Fuel_Type23', 'Fuel_Type2', 'Present_Price2', 'Age',\n",
       "       'Present_Price', 'Kms_Driven', 'Fuel_Type', 'Seller_Type',\n",
       "       'Transmission', 'Owner'],\n",
       "      dtype='object')"
      ]
     },
     "execution_count": 71,
     "metadata": {},
     "output_type": "execute_result"
    }
   ],
   "source": [
    "xnn.columns"
   ]
  },
  {
   "cell_type": "code",
   "execution_count": 72,
   "metadata": {},
   "outputs": [
    {
     "data": {
      "text/html": [
       "<div>\n",
       "<style scoped>\n",
       "    .dataframe tbody tr th:only-of-type {\n",
       "        vertical-align: middle;\n",
       "    }\n",
       "\n",
       "    .dataframe tbody tr th {\n",
       "        vertical-align: top;\n",
       "    }\n",
       "\n",
       "    .dataframe thead th {\n",
       "        text-align: right;\n",
       "    }\n",
       "</style>\n",
       "<table border=\"1\" class=\"dataframe\">\n",
       "  <thead>\n",
       "    <tr style=\"text-align: right;\">\n",
       "      <th></th>\n",
       "      <th>pres2_fuel2</th>\n",
       "      <th>pres2_fuel</th>\n",
       "      <th>pres2_kms</th>\n",
       "      <th>pres_fuel2</th>\n",
       "      <th>pres_fuel</th>\n",
       "      <th>pres_kms</th>\n",
       "      <th>Seller_Type4</th>\n",
       "      <th>Fuel_Type234</th>\n",
       "      <th>Seller_Type34</th>\n",
       "      <th>Owner34</th>\n",
       "      <th>...</th>\n",
       "      <th>Fuel_Type23</th>\n",
       "      <th>Fuel_Type2</th>\n",
       "      <th>Present_Price2</th>\n",
       "      <th>Age</th>\n",
       "      <th>Present_Price</th>\n",
       "      <th>Kms_Driven</th>\n",
       "      <th>Fuel_Type</th>\n",
       "      <th>Seller_Type</th>\n",
       "      <th>Transmission</th>\n",
       "      <th>Owner</th>\n",
       "    </tr>\n",
       "  </thead>\n",
       "  <tbody>\n",
       "    <tr>\n",
       "      <th>0</th>\n",
       "      <td>0.0</td>\n",
       "      <td>0.0</td>\n",
       "      <td>0.000033</td>\n",
       "      <td>0.0</td>\n",
       "      <td>0.0</td>\n",
       "      <td>0.000324</td>\n",
       "      <td>0.0</td>\n",
       "      <td>0.0</td>\n",
       "      <td>0.0</td>\n",
       "      <td>0.0</td>\n",
       "      <td>...</td>\n",
       "      <td>0.0</td>\n",
       "      <td>0.0</td>\n",
       "      <td>0.010621</td>\n",
       "      <td>0.0</td>\n",
       "      <td>0.103056</td>\n",
       "      <td>0.003145</td>\n",
       "      <td>0.0</td>\n",
       "      <td>0.0</td>\n",
       "      <td>0.0</td>\n",
       "      <td>0.0</td>\n",
       "    </tr>\n",
       "  </tbody>\n",
       "</table>\n",
       "<p>1 rows × 25 columns</p>\n",
       "</div>"
      ],
      "text/plain": [
       "   pres2_fuel2  pres2_fuel  pres2_kms  pres_fuel2  pres_fuel  pres_kms  \\\n",
       "0          0.0         0.0   0.000033         0.0        0.0  0.000324   \n",
       "\n",
       "   Seller_Type4  Fuel_Type234  Seller_Type34  Owner34  ...  Fuel_Type23  \\\n",
       "0           0.0           0.0            0.0      0.0  ...          0.0   \n",
       "\n",
       "   Fuel_Type2  Present_Price2  Age  Present_Price  Kms_Driven  Fuel_Type  \\\n",
       "0         0.0        0.010621  0.0       0.103056    0.003145        0.0   \n",
       "\n",
       "   Seller_Type  Transmission  Owner  \n",
       "0          0.0           0.0    0.0  \n",
       "\n",
       "[1 rows x 25 columns]"
      ]
     },
     "execution_count": 72,
     "metadata": {},
     "output_type": "execute_result"
    }
   ],
   "source": [
    "xnn.head(1)"
   ]
  },
  {
   "cell_type": "code",
   "execution_count": 73,
   "metadata": {},
   "outputs": [],
   "source": [
    "pres_kmsn = xnn['Present_Price2']*xnn['pres_kms']\n",
    "pres_fueln= xnn['Present_Price2']*xnn['pres_fuel']\n",
    "pres_fuel2n= xnn['Present_Price2']*xnn['pres_fuel2']\n",
    "pres2_kmsn = xnn['Present_Price23']*xnn['pres2_kms']\n",
    "pres2_fueln= xnn['Present_Price23']*xnn['pres2_fuel']\n",
    "pres2_fuel2n= xnn['Present_Price23']*xnn['pres2_fuel2']"
   ]
  },
  {
   "cell_type": "code",
   "execution_count": 74,
   "metadata": {},
   "outputs": [],
   "source": [
    "xnnn = xnn"
   ]
  },
  {
   "cell_type": "code",
   "execution_count": 75,
   "metadata": {},
   "outputs": [],
   "source": [
    "xnnn.insert(0,\"pres_kmsn\",pres_kmsn)\n",
    "xnnn.insert(0,\"pres_fueln\",pres_fueln)\n",
    "xnnn.insert(0,\"pres_fuel2n\",pres_fuel2n)\n",
    "xnnn.insert(0,\"pres2_kmsn\",pres2_kmsn)\n",
    "xnnn.insert(0,\"pres2_fueln\",pres2_fueln)\n",
    "xnnn.insert(0,\"pres2_fuel2n\",pres2_fuel2n)"
   ]
  },
  {
   "cell_type": "code",
   "execution_count": 76,
   "metadata": {},
   "outputs": [
    {
     "name": "stdout",
     "output_type": "stream",
     "text": [
      "Mean Absolut Error:  0.01956216611058778\n",
      "Mean Suared Error:  0.0006965267952166077\n",
      "Root Mean Squared Error:  0.026391794088629284\n",
      "R2 Score:  0.9588815622182573\n"
     ]
    }
   ],
   "source": [
    "X_train, X_test, Y_train, Y_test = train_test_split(xnnn,yn,test_size=0.2,random_state=0)\n",
    "Model = LinearRegression()\n",
    "Model.fit(X_train,Y_train)\n",
    "Y_pred = Model.predict(X_test)\n",
    "r2 = metrics.r2_score(Y_test,Y_pred)\n",
    "print(\"Mean Absolut Error: \", metrics.mean_absolute_error(Y_test,Y_pred))\n",
    "print(\"Mean Suared Error: \", metrics.mean_squared_error(Y_test,Y_pred))\n",
    "print(\"Root Mean Squared Error: \", np.sqrt(metrics.mean_squared_error(Y_test,Y_pred)))\n",
    "print(\"R2 Score: \", r2)"
   ]
  },
  {
   "cell_type": "markdown",
   "metadata": {},
   "source": [
    "we have improved og model with 86% score to 95.8 % score, about 10% improvment!"
   ]
  },
  {
   "cell_type": "code",
   "execution_count": null,
   "metadata": {},
   "outputs": [],
   "source": []
  }
 ],
 "metadata": {
  "kernelspec": {
   "display_name": "Python 3",
   "language": "python",
   "name": "python3"
  },
  "language_info": {
   "codemirror_mode": {
    "name": "ipython",
    "version": 3
   },
   "file_extension": ".py",
   "mimetype": "text/x-python",
   "name": "python",
   "nbconvert_exporter": "python",
   "pygments_lexer": "ipython3",
   "version": "3.11.4"
  }
 },
 "nbformat": 4,
 "nbformat_minor": 2
}
